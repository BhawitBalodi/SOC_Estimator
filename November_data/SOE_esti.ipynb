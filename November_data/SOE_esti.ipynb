{
 "cells": [
  {
   "cell_type": "code",
   "execution_count": 1,
   "id": "eb3b8658",
   "metadata": {},
   "outputs": [],
   "source": [
    "import numpy as np\n",
    "import pandas as pd\n",
    "import seaborn as sns\n",
    "import matplotlib.pyplot as plt\n",
    "import os"
   ]
  },
  {
   "cell_type": "code",
   "execution_count": 2,
   "id": "c5627c71",
   "metadata": {},
   "outputs": [],
   "source": [
    "data = pd.read_csv('C:/bhawit_SOE/data_1.csv')"
   ]
  },
  {
   "cell_type": "code",
   "execution_count": 3,
   "id": "c8fb0162",
   "metadata": {},
   "outputs": [
    {
     "data": {
      "text/html": [
       "<div>\n",
       "<style scoped>\n",
       "    .dataframe tbody tr th:only-of-type {\n",
       "        vertical-align: middle;\n",
       "    }\n",
       "\n",
       "    .dataframe tbody tr th {\n",
       "        vertical-align: top;\n",
       "    }\n",
       "\n",
       "    .dataframe thead th {\n",
       "        text-align: right;\n",
       "    }\n",
       "</style>\n",
       "<table border=\"1\" class=\"dataframe\">\n",
       "  <thead>\n",
       "    <tr style=\"text-align: right;\">\n",
       "      <th></th>\n",
       "      <th>Time</th>\n",
       "      <th>Potential</th>\n",
       "      <th>Current</th>\n",
       "      <th>Energy</th>\n",
       "    </tr>\n",
       "  </thead>\n",
       "  <tbody>\n",
       "    <tr>\n",
       "      <th>0</th>\n",
       "      <td>0.4</td>\n",
       "      <td>3.97</td>\n",
       "      <td>0.400</td>\n",
       "      <td>6.543850</td>\n",
       "    </tr>\n",
       "    <tr>\n",
       "      <th>1</th>\n",
       "      <td>1.0</td>\n",
       "      <td>3.97</td>\n",
       "      <td>1.250</td>\n",
       "      <td>6.539924</td>\n",
       "    </tr>\n",
       "    <tr>\n",
       "      <th>2</th>\n",
       "      <td>2.0</td>\n",
       "      <td>3.98</td>\n",
       "      <td>1.250</td>\n",
       "      <td>6.557691</td>\n",
       "    </tr>\n",
       "    <tr>\n",
       "      <th>3</th>\n",
       "      <td>3.0</td>\n",
       "      <td>3.98</td>\n",
       "      <td>1.250</td>\n",
       "      <td>6.559173</td>\n",
       "    </tr>\n",
       "    <tr>\n",
       "      <th>4</th>\n",
       "      <td>4.0</td>\n",
       "      <td>3.98</td>\n",
       "      <td>1.250</td>\n",
       "      <td>6.560477</td>\n",
       "    </tr>\n",
       "    <tr>\n",
       "      <th>...</th>\n",
       "      <td>...</td>\n",
       "      <td>...</td>\n",
       "      <td>...</td>\n",
       "      <td>...</td>\n",
       "    </tr>\n",
       "    <tr>\n",
       "      <th>1048567</th>\n",
       "      <td>1048567.0</td>\n",
       "      <td>4.20</td>\n",
       "      <td>0.828</td>\n",
       "      <td>9.800000</td>\n",
       "    </tr>\n",
       "    <tr>\n",
       "      <th>1048568</th>\n",
       "      <td>1048568.0</td>\n",
       "      <td>4.20</td>\n",
       "      <td>0.827</td>\n",
       "      <td>9.800000</td>\n",
       "    </tr>\n",
       "    <tr>\n",
       "      <th>1048569</th>\n",
       "      <td>1048569.0</td>\n",
       "      <td>4.20</td>\n",
       "      <td>0.826</td>\n",
       "      <td>9.800000</td>\n",
       "    </tr>\n",
       "    <tr>\n",
       "      <th>1048570</th>\n",
       "      <td>1048570.0</td>\n",
       "      <td>4.20</td>\n",
       "      <td>0.826</td>\n",
       "      <td>9.800000</td>\n",
       "    </tr>\n",
       "    <tr>\n",
       "      <th>1048571</th>\n",
       "      <td>1048571.0</td>\n",
       "      <td>4.20</td>\n",
       "      <td>0.825</td>\n",
       "      <td>9.800000</td>\n",
       "    </tr>\n",
       "  </tbody>\n",
       "</table>\n",
       "<p>1048572 rows × 4 columns</p>\n",
       "</div>"
      ],
      "text/plain": [
       "              Time  Potential  Current    Energy\n",
       "0              0.4       3.97    0.400  6.543850\n",
       "1              1.0       3.97    1.250  6.539924\n",
       "2              2.0       3.98    1.250  6.557691\n",
       "3              3.0       3.98    1.250  6.559173\n",
       "4              4.0       3.98    1.250  6.560477\n",
       "...            ...        ...      ...       ...\n",
       "1048567  1048567.0       4.20    0.828  9.800000\n",
       "1048568  1048568.0       4.20    0.827  9.800000\n",
       "1048569  1048569.0       4.20    0.826  9.800000\n",
       "1048570  1048570.0       4.20    0.826  9.800000\n",
       "1048571  1048571.0       4.20    0.825  9.800000\n",
       "\n",
       "[1048572 rows x 4 columns]"
      ]
     },
     "execution_count": 3,
     "metadata": {},
     "output_type": "execute_result"
    }
   ],
   "source": [
    "data"
   ]
  },
  {
   "cell_type": "code",
   "execution_count": 4,
   "id": "d44d4858",
   "metadata": {},
   "outputs": [
    {
     "data": {
      "text/html": [
       "<div>\n",
       "<style scoped>\n",
       "    .dataframe tbody tr th:only-of-type {\n",
       "        vertical-align: middle;\n",
       "    }\n",
       "\n",
       "    .dataframe tbody tr th {\n",
       "        vertical-align: top;\n",
       "    }\n",
       "\n",
       "    .dataframe thead th {\n",
       "        text-align: right;\n",
       "    }\n",
       "</style>\n",
       "<table border=\"1\" class=\"dataframe\">\n",
       "  <thead>\n",
       "    <tr style=\"text-align: right;\">\n",
       "      <th></th>\n",
       "      <th>Time</th>\n",
       "      <th>Potential</th>\n",
       "      <th>Current</th>\n",
       "      <th>Energy</th>\n",
       "    </tr>\n",
       "  </thead>\n",
       "  <tbody>\n",
       "    <tr>\n",
       "      <th>count</th>\n",
       "      <td>1.048572e+06</td>\n",
       "      <td>1.048572e+06</td>\n",
       "      <td>1.048572e+06</td>\n",
       "      <td>1.048572e+06</td>\n",
       "    </tr>\n",
       "    <tr>\n",
       "      <th>mean</th>\n",
       "      <td>5.242855e+05</td>\n",
       "      <td>3.814223e+00</td>\n",
       "      <td>1.833261e-03</td>\n",
       "      <td>5.996555e+00</td>\n",
       "    </tr>\n",
       "    <tr>\n",
       "      <th>std</th>\n",
       "      <td>3.026968e+05</td>\n",
       "      <td>3.940242e-01</td>\n",
       "      <td>1.285114e+00</td>\n",
       "      <td>3.943820e+00</td>\n",
       "    </tr>\n",
       "    <tr>\n",
       "      <th>min</th>\n",
       "      <td>4.000000e-01</td>\n",
       "      <td>2.750000e+00</td>\n",
       "      <td>-2.500000e+00</td>\n",
       "      <td>0.000000e+00</td>\n",
       "    </tr>\n",
       "    <tr>\n",
       "      <th>25%</th>\n",
       "      <td>2.621428e+05</td>\n",
       "      <td>3.400000e+00</td>\n",
       "      <td>0.000000e+00</td>\n",
       "      <td>2.038056e+00</td>\n",
       "    </tr>\n",
       "    <tr>\n",
       "      <th>50%</th>\n",
       "      <td>5.242855e+05</td>\n",
       "      <td>3.890000e+00</td>\n",
       "      <td>7.400000e-02</td>\n",
       "      <td>6.408889e+00</td>\n",
       "    </tr>\n",
       "    <tr>\n",
       "      <th>75%</th>\n",
       "      <td>7.864282e+05</td>\n",
       "      <td>4.190000e+00</td>\n",
       "      <td>1.250000e+00</td>\n",
       "      <td>1.010333e+01</td>\n",
       "    </tr>\n",
       "    <tr>\n",
       "      <th>max</th>\n",
       "      <td>1.048571e+06</td>\n",
       "      <td>4.200000e+00</td>\n",
       "      <td>1.270000e+00</td>\n",
       "      <td>1.099000e+01</td>\n",
       "    </tr>\n",
       "  </tbody>\n",
       "</table>\n",
       "</div>"
      ],
      "text/plain": [
       "               Time     Potential       Current        Energy\n",
       "count  1.048572e+06  1.048572e+06  1.048572e+06  1.048572e+06\n",
       "mean   5.242855e+05  3.814223e+00  1.833261e-03  5.996555e+00\n",
       "std    3.026968e+05  3.940242e-01  1.285114e+00  3.943820e+00\n",
       "min    4.000000e-01  2.750000e+00 -2.500000e+00  0.000000e+00\n",
       "25%    2.621428e+05  3.400000e+00  0.000000e+00  2.038056e+00\n",
       "50%    5.242855e+05  3.890000e+00  7.400000e-02  6.408889e+00\n",
       "75%    7.864282e+05  4.190000e+00  1.250000e+00  1.010333e+01\n",
       "max    1.048571e+06  4.200000e+00  1.270000e+00  1.099000e+01"
      ]
     },
     "execution_count": 4,
     "metadata": {},
     "output_type": "execute_result"
    }
   ],
   "source": [
    "data.describe()"
   ]
  },
  {
   "cell_type": "code",
   "execution_count": 5,
   "id": "5964cb43",
   "metadata": {},
   "outputs": [
    {
     "data": {
      "text/plain": [
       "Time         0\n",
       "Potential    0\n",
       "Current      0\n",
       "Energy       0\n",
       "dtype: int64"
      ]
     },
     "execution_count": 5,
     "metadata": {},
     "output_type": "execute_result"
    }
   ],
   "source": [
    "data.isnull().sum()"
   ]
  },
  {
   "cell_type": "markdown",
   "id": "e87c1050",
   "metadata": {},
   "source": [
    "# Data Modeling"
   ]
  },
  {
   "cell_type": "code",
   "execution_count": 6,
   "id": "f4a16f47",
   "metadata": {},
   "outputs": [],
   "source": [
    "from sklearn import preprocessing\n",
    "from sklearn.preprocessing import MinMaxScaler\n",
    "scaler = MinMaxScaler()\n",
    "\n",
    "numericals = ['Time','Potential','Current'] # Not Normalizing the Y(target Variable) - which is SOC\n",
    "data[numericals] = scaler.fit_transform(data[numericals])"
   ]
  },
  {
   "cell_type": "code",
   "execution_count": 7,
   "id": "59910ab3",
   "metadata": {},
   "outputs": [
    {
     "data": {
      "text/html": [
       "<div>\n",
       "<style scoped>\n",
       "    .dataframe tbody tr th:only-of-type {\n",
       "        vertical-align: middle;\n",
       "    }\n",
       "\n",
       "    .dataframe tbody tr th {\n",
       "        vertical-align: top;\n",
       "    }\n",
       "\n",
       "    .dataframe thead th {\n",
       "        text-align: right;\n",
       "    }\n",
       "</style>\n",
       "<table border=\"1\" class=\"dataframe\">\n",
       "  <thead>\n",
       "    <tr style=\"text-align: right;\">\n",
       "      <th></th>\n",
       "      <th>Time</th>\n",
       "      <th>Potential</th>\n",
       "      <th>Current</th>\n",
       "      <th>Energy</th>\n",
       "    </tr>\n",
       "  </thead>\n",
       "  <tbody>\n",
       "    <tr>\n",
       "      <th>0</th>\n",
       "      <td>0.000000e+00</td>\n",
       "      <td>0.841379</td>\n",
       "      <td>0.769231</td>\n",
       "      <td>6.543850</td>\n",
       "    </tr>\n",
       "    <tr>\n",
       "      <th>1</th>\n",
       "      <td>5.722075e-07</td>\n",
       "      <td>0.841379</td>\n",
       "      <td>0.994695</td>\n",
       "      <td>6.539924</td>\n",
       "    </tr>\n",
       "    <tr>\n",
       "      <th>2</th>\n",
       "      <td>1.525887e-06</td>\n",
       "      <td>0.848276</td>\n",
       "      <td>0.994695</td>\n",
       "      <td>6.557691</td>\n",
       "    </tr>\n",
       "    <tr>\n",
       "      <th>3</th>\n",
       "      <td>2.479566e-06</td>\n",
       "      <td>0.848276</td>\n",
       "      <td>0.994695</td>\n",
       "      <td>6.559173</td>\n",
       "    </tr>\n",
       "    <tr>\n",
       "      <th>4</th>\n",
       "      <td>3.433245e-06</td>\n",
       "      <td>0.848276</td>\n",
       "      <td>0.994695</td>\n",
       "      <td>6.560477</td>\n",
       "    </tr>\n",
       "  </tbody>\n",
       "</table>\n",
       "</div>"
      ],
      "text/plain": [
       "           Time  Potential   Current    Energy\n",
       "0  0.000000e+00   0.841379  0.769231  6.543850\n",
       "1  5.722075e-07   0.841379  0.994695  6.539924\n",
       "2  1.525887e-06   0.848276  0.994695  6.557691\n",
       "3  2.479566e-06   0.848276  0.994695  6.559173\n",
       "4  3.433245e-06   0.848276  0.994695  6.560477"
      ]
     },
     "execution_count": 7,
     "metadata": {},
     "output_type": "execute_result"
    }
   ],
   "source": [
    "data.head()\n"
   ]
  },
  {
   "cell_type": "code",
   "execution_count": 8,
   "id": "2268efd5",
   "metadata": {},
   "outputs": [],
   "source": [
    "Y = data.pop('Energy')\n",
    "X = data"
   ]
  },
  {
   "cell_type": "code",
   "execution_count": 9,
   "id": "10e12db7",
   "metadata": {},
   "outputs": [],
   "source": [
    "from sklearn.model_selection import train_test_split\n",
    "X_train, X_test, Y_train, Y_test = train_test_split(X,Y,test_size = 0.2)"
   ]
  },
  {
   "cell_type": "code",
   "execution_count": 10,
   "id": "9316216c",
   "metadata": {},
   "outputs": [
    {
     "data": {
      "text/plain": [
       "((838857, 3), (209715, 3), (838857,), (209715,))"
      ]
     },
     "execution_count": 10,
     "metadata": {},
     "output_type": "execute_result"
    }
   ],
   "source": [
    "X_train.shape , X_test.shape , Y_train.shape , Y_test.shape"
   ]
  },
  {
   "cell_type": "code",
   "execution_count": 11,
   "id": "a9a080d7",
   "metadata": {},
   "outputs": [
    {
     "data": {
      "text/html": [
       "<div>\n",
       "<style scoped>\n",
       "    .dataframe tbody tr th:only-of-type {\n",
       "        vertical-align: middle;\n",
       "    }\n",
       "\n",
       "    .dataframe tbody tr th {\n",
       "        vertical-align: top;\n",
       "    }\n",
       "\n",
       "    .dataframe thead th {\n",
       "        text-align: right;\n",
       "    }\n",
       "</style>\n",
       "<table border=\"1\" class=\"dataframe\">\n",
       "  <thead>\n",
       "    <tr style=\"text-align: right;\">\n",
       "      <th></th>\n",
       "      <th>Time</th>\n",
       "      <th>Potential</th>\n",
       "      <th>Current</th>\n",
       "    </tr>\n",
       "  </thead>\n",
       "  <tbody>\n",
       "    <tr>\n",
       "      <th>162596</th>\n",
       "      <td>0.155064</td>\n",
       "      <td>0.524138</td>\n",
       "      <td>0.000000</td>\n",
       "    </tr>\n",
       "    <tr>\n",
       "      <th>1016218</th>\n",
       "      <td>0.969146</td>\n",
       "      <td>0.993103</td>\n",
       "      <td>0.663130</td>\n",
       "    </tr>\n",
       "    <tr>\n",
       "      <th>301414</th>\n",
       "      <td>0.287452</td>\n",
       "      <td>0.586207</td>\n",
       "      <td>0.994695</td>\n",
       "    </tr>\n",
       "    <tr>\n",
       "      <th>313953</th>\n",
       "      <td>0.299410</td>\n",
       "      <td>0.993103</td>\n",
       "      <td>0.663130</td>\n",
       "    </tr>\n",
       "    <tr>\n",
       "      <th>796902</th>\n",
       "      <td>0.759989</td>\n",
       "      <td>0.682759</td>\n",
       "      <td>0.994695</td>\n",
       "    </tr>\n",
       "  </tbody>\n",
       "</table>\n",
       "</div>"
      ],
      "text/plain": [
       "             Time  Potential   Current\n",
       "162596   0.155064   0.524138  0.000000\n",
       "1016218  0.969146   0.993103  0.663130\n",
       "301414   0.287452   0.586207  0.994695\n",
       "313953   0.299410   0.993103  0.663130\n",
       "796902   0.759989   0.682759  0.994695"
      ]
     },
     "execution_count": 11,
     "metadata": {},
     "output_type": "execute_result"
    }
   ],
   "source": [
    "X_train.head()"
   ]
  },
  {
   "cell_type": "code",
   "execution_count": 12,
   "id": "153cb88f",
   "metadata": {},
   "outputs": [],
   "source": [
    "def plot_his(history):\n",
    "  plt.plot(history.history['loss'])\n",
    "  plt.plot(history.history['val_loss'])\n",
    "  plt.title('model loss')\n",
    "  plt.ylabel('Loss')\n",
    "  plt.xlabel('Epoch')\n",
    "  plt.legend(['Train', 'Test'], loc='upper left')\n",
    "  plt.show()"
   ]
  },
  {
   "cell_type": "code",
   "execution_count": 13,
   "id": "577b2d66",
   "metadata": {},
   "outputs": [],
   "source": [
    "from tensorflow.keras.callbacks import EarlyStopping\n",
    "callback = EarlyStopping(\n",
    "    monitor = 'val_loss' ,\n",
    "    min_delta = 0.00001,\n",
    "    patience = 15,\n",
    "    verbose = 1,\n",
    "    mode = 'auto',\n",
    "    baseline = None,\n",
    "    restore_best_weights = False\n",
    ")"
   ]
  },
  {
   "cell_type": "markdown",
   "id": "67c232e1",
   "metadata": {},
   "source": [
    "# AIC"
   ]
  },
  {
   "cell_type": "code",
   "execution_count": 14,
   "id": "0bf4c60d",
   "metadata": {},
   "outputs": [],
   "source": [
    "import tensorflow as tf\n",
    "from scipy.stats import norm\n",
    "\n",
    "# Train your model using TensorFlow\n",
    "def AIC_value(model,Y_pred,Y_test):\n",
    "\n",
    "    Y_test = np.asarray(Y_test).astype('float32').reshape((-1,1))\n",
    "    Y_pred_1 = np.asarray(Y_pred).astype('float32').reshape((-1,1))\n",
    "\n",
    "\n",
    "    # Calculate the negative log-likelihood of the model's parameters based on the training data\n",
    "    nll = tf.reduce_mean(tf.nn.sigmoid_cross_entropy_with_logits(labels=Y_test, logits=Y_pred_1))\n",
    "\n",
    "    # Calculate the number of parameters in the model\n",
    "    num_params = model.count_params()\n",
    "\n",
    "    # Calculate the AIC value for the model\n",
    "    aic = 2 * num_params - 2 * nll\n",
    "\n",
    "    # Print the AIC value\n",
    "    print(\"AIC: \", aic.numpy())"
   ]
  },
  {
   "cell_type": "code",
   "execution_count": 15,
   "id": "d0f0b4ab",
   "metadata": {},
   "outputs": [],
   "source": [
    "# pip install tensorflow_addons"
   ]
  },
  {
   "cell_type": "code",
   "execution_count": 16,
   "id": "3a6b94fa",
   "metadata": {},
   "outputs": [
    {
     "name": "stderr",
     "output_type": "stream",
     "text": [
      "C:\\Users\\91987\\anaconda3\\lib\\site-packages\\tensorflow_addons\\utils\\tfa_eol_msg.py:23: UserWarning: \n",
      "\n",
      "TensorFlow Addons (TFA) has ended development and introduction of new features.\n",
      "TFA has entered a minimal maintenance and release mode until a planned end of life in May 2024.\n",
      "Please modify downstream libraries to take dependencies from other repositories in our TensorFlow community (e.g. Keras, Keras-CV, and Keras-NLP). \n",
      "\n",
      "For more information see: https://github.com/tensorflow/addons/issues/2807 \n",
      "\n",
      "  warnings.warn(\n"
     ]
    }
   ],
   "source": [
    "import tensorflow_addons as tfa"
   ]
  },
  {
   "cell_type": "code",
   "execution_count": null,
   "id": "582dcbe9",
   "metadata": {},
   "outputs": [],
   "source": []
  },
  {
   "cell_type": "code",
   "execution_count": null,
   "id": "ae0985f2",
   "metadata": {},
   "outputs": [],
   "source": []
  },
  {
   "cell_type": "code",
   "execution_count": null,
   "id": "eca055a0",
   "metadata": {},
   "outputs": [],
   "source": []
  },
  {
   "cell_type": "code",
   "execution_count": null,
   "id": "d1c66f4c",
   "metadata": {},
   "outputs": [],
   "source": []
  },
  {
   "cell_type": "code",
   "execution_count": null,
   "id": "f15f4dd2",
   "metadata": {},
   "outputs": [],
   "source": []
  },
  {
   "cell_type": "code",
   "execution_count": null,
   "id": "69768ef4",
   "metadata": {},
   "outputs": [],
   "source": []
  },
  {
   "cell_type": "code",
   "execution_count": null,
   "id": "e0e804db",
   "metadata": {},
   "outputs": [],
   "source": []
  },
  {
   "cell_type": "code",
   "execution_count": null,
   "id": "0b2df39f",
   "metadata": {},
   "outputs": [],
   "source": []
  },
  {
   "cell_type": "code",
   "execution_count": null,
   "id": "4624f4ea",
   "metadata": {},
   "outputs": [],
   "source": []
  },
  {
   "cell_type": "code",
   "execution_count": null,
   "id": "cd3c7c27",
   "metadata": {},
   "outputs": [],
   "source": []
  },
  {
   "cell_type": "code",
   "execution_count": 17,
   "id": "8ec3d19f",
   "metadata": {},
   "outputs": [
    {
     "name": "stdout",
     "output_type": "stream",
     "text": [
      "Epoch 1/100\n",
      "26215/26215 [==============================] - 78s 3ms/step - loss: 0.3857 - rmse: 0.5555 - r2: 0.9802 - mae: 0.3857 - mse: 0.3086 - mape: 580567.5625 - val_loss: 0.8597 - val_rmse: 1.0608 - val_r2: 0.9276 - val_mae: 0.8597 - val_mse: 1.1254 - val_mape: 385405.7500\n",
      "Epoch 2/100\n",
      "26215/26215 [==============================] - 54s 2ms/step - loss: 0.3346 - rmse: 0.4502 - r2: 0.9870 - mae: 0.3346 - mse: 0.2026 - mape: 723518.1875 - val_loss: 0.8525 - val_rmse: 1.0582 - val_r2: 0.9280 - val_mae: 0.8525 - val_mse: 1.1199 - val_mape: 389082.3125\n",
      "Epoch 3/100\n",
      "26215/26215 [==============================] - 54s 2ms/step - loss: 0.3284 - rmse: 0.4412 - r2: 0.9875 - mae: 0.3284 - mse: 0.1947 - mape: 762381.7500 - val_loss: 0.8162 - val_rmse: 1.0192 - val_r2: 0.9332 - val_mae: 0.8162 - val_mse: 1.0388 - val_mape: 465445.2812\n",
      "Epoch 4/100\n",
      "26215/26215 [==============================] - 52s 2ms/step - loss: 0.3257 - rmse: 0.4376 - r2: 0.9877 - mae: 0.3257 - mse: 0.1915 - mape: 743770.8750 - val_loss: 0.8162 - val_rmse: 1.0203 - val_r2: 0.9330 - val_mae: 0.8162 - val_mse: 1.0411 - val_mape: 481392.2812\n",
      "Epoch 5/100\n",
      "26215/26215 [==============================] - 53s 2ms/step - loss: 0.3240 - rmse: 0.4354 - r2: 0.9878 - mae: 0.3240 - mse: 0.1895 - mape: 753781.0625 - val_loss: 0.7930 - val_rmse: 0.9922 - val_r2: 0.9367 - val_mae: 0.7930 - val_mse: 0.9844 - val_mape: 461467.7500\n",
      "Epoch 6/100\n",
      "26215/26215 [==============================] - 54s 2ms/step - loss: 0.3229 - rmse: 0.4341 - r2: 0.9879 - mae: 0.3229 - mse: 0.1885 - mape: 772734.9375 - val_loss: 0.7948 - val_rmse: 0.9939 - val_r2: 0.9365 - val_mae: 0.7948 - val_mse: 0.9878 - val_mape: 482470.5312\n",
      "Epoch 7/100\n",
      "26215/26215 [==============================] - 54s 2ms/step - loss: 0.3219 - rmse: 0.4324 - r2: 0.9880 - mae: 0.3219 - mse: 0.1869 - mape: 752055.8125 - val_loss: 0.7795 - val_rmse: 0.9778 - val_r2: 0.9385 - val_mae: 0.7795 - val_mse: 0.9560 - val_mape: 458842.5938\n",
      "Epoch 8/100\n",
      "26215/26215 [==============================] - 54s 2ms/step - loss: 0.3204 - rmse: 0.4300 - r2: 0.9881 - mae: 0.3204 - mse: 0.1849 - mape: 772197.0000 - val_loss: 0.7968 - val_rmse: 0.9981 - val_r2: 0.9359 - val_mae: 0.7968 - val_mse: 0.9962 - val_mape: 482364.9375\n",
      "Epoch 9/100\n",
      "26215/26215 [==============================] - 54s 2ms/step - loss: 0.3199 - rmse: 0.4295 - r2: 0.9881 - mae: 0.3199 - mse: 0.1845 - mape: 792311.8750 - val_loss: 0.7563 - val_rmse: 0.9509 - val_r2: 0.9418 - val_mae: 0.7563 - val_mse: 0.9043 - val_mape: 461636.8125\n",
      "Epoch 10/100\n",
      "26215/26215 [==============================] - 54s 2ms/step - loss: 0.3190 - rmse: 0.4285 - r2: 0.9882 - mae: 0.3190 - mse: 0.1836 - mape: 772824.0625 - val_loss: 0.7668 - val_rmse: 0.9620 - val_r2: 0.9405 - val_mae: 0.7668 - val_mse: 0.9255 - val_mape: 468470.5938\n",
      "Epoch 11/100\n",
      "26215/26215 [==============================] - 53s 2ms/step - loss: 0.3179 - rmse: 0.4271 - r2: 0.9883 - mae: 0.3179 - mse: 0.1824 - mape: 779748.4375 - val_loss: 0.7530 - val_rmse: 0.9461 - val_r2: 0.9424 - val_mae: 0.7530 - val_mse: 0.8951 - val_mape: 501123.1875\n",
      "Epoch 12/100\n",
      "26215/26215 [==============================] - 54s 2ms/step - loss: 0.3183 - rmse: 0.4275 - r2: 0.9883 - mae: 0.3183 - mse: 0.1827 - mape: 762769.2500 - val_loss: 0.7612 - val_rmse: 0.9555 - val_r2: 0.9413 - val_mae: 0.7612 - val_mse: 0.9130 - val_mape: 502704.5938\n",
      "Epoch 13/100\n",
      "26215/26215 [==============================] - 55s 2ms/step - loss: 0.3181 - rmse: 0.4271 - r2: 0.9883 - mae: 0.3181 - mse: 0.1824 - mape: 807988.1875 - val_loss: 0.7627 - val_rmse: 0.9589 - val_r2: 0.9409 - val_mae: 0.7627 - val_mse: 0.9194 - val_mape: 485083.0938\n",
      "Epoch 14/100\n",
      "26215/26215 [==============================] - 55s 2ms/step - loss: 0.3178 - rmse: 0.4266 - r2: 0.9883 - mae: 0.3178 - mse: 0.1820 - mape: 795462.5000 - val_loss: 0.7673 - val_rmse: 0.9659 - val_r2: 0.9400 - val_mae: 0.7673 - val_mse: 0.9329 - val_mape: 492494.5625\n",
      "Epoch 15/100\n",
      "26215/26215 [==============================] - 54s 2ms/step - loss: 0.3171 - rmse: 0.4260 - r2: 0.9883 - mae: 0.3171 - mse: 0.1815 - mape: 782186.2500 - val_loss: 0.7673 - val_rmse: 0.9642 - val_r2: 0.9402 - val_mae: 0.7673 - val_mse: 0.9297 - val_mape: 500254.1250\n",
      "Epoch 16/100\n",
      "26215/26215 [==============================] - 54s 2ms/step - loss: 0.3165 - rmse: 0.4251 - r2: 0.9884 - mae: 0.3165 - mse: 0.1807 - mape: 788708.9375 - val_loss: 0.7564 - val_rmse: 0.9527 - val_r2: 0.9416 - val_mae: 0.7564 - val_mse: 0.9077 - val_mape: 482854.9375\n",
      "Epoch 17/100\n",
      "26215/26215 [==============================] - 54s 2ms/step - loss: 0.3166 - rmse: 0.4256 - r2: 0.9884 - mae: 0.3166 - mse: 0.1811 - mape: 782423.9375 - val_loss: 0.7596 - val_rmse: 0.9540 - val_r2: 0.9415 - val_mae: 0.7596 - val_mse: 0.9101 - val_mape: 493044.3438\n",
      "Epoch 18/100\n",
      "26215/26215 [==============================] - 55s 2ms/step - loss: 0.3160 - rmse: 0.4243 - r2: 0.9884 - mae: 0.3160 - mse: 0.1800 - mape: 808493.1875 - val_loss: 0.7574 - val_rmse: 0.9527 - val_r2: 0.9416 - val_mae: 0.7574 - val_mse: 0.9076 - val_mape: 510815.2188\n",
      "Epoch 19/100\n",
      "26215/26215 [==============================] - 55s 2ms/step - loss: 0.3157 - rmse: 0.4245 - r2: 0.9884 - mae: 0.3157 - mse: 0.1802 - mape: 792916.6250 - val_loss: 0.7575 - val_rmse: 0.9535 - val_r2: 0.9415 - val_mae: 0.7575 - val_mse: 0.9092 - val_mape: 506230.1250\n",
      "Epoch 20/100\n",
      "26215/26215 [==============================] - 55s 2ms/step - loss: 0.3157 - rmse: 0.4237 - r2: 0.9885 - mae: 0.3157 - mse: 0.1795 - mape: 800543.8125 - val_loss: 0.7691 - val_rmse: 0.9666 - val_r2: 0.9399 - val_mae: 0.7691 - val_mse: 0.9344 - val_mape: 490793.8125\n",
      "Epoch 21/100\n",
      "26215/26215 [==============================] - 55s 2ms/step - loss: 0.3160 - rmse: 0.4245 - r2: 0.9884 - mae: 0.3160 - mse: 0.1802 - mape: 805524.1250 - val_loss: 0.7498 - val_rmse: 0.9433 - val_r2: 0.9428 - val_mae: 0.7498 - val_mse: 0.8898 - val_mape: 494422.3438\n",
      "Epoch 22/100\n",
      "26215/26215 [==============================] - 55s 2ms/step - loss: 0.3156 - rmse: 0.4238 - r2: 0.9885 - mae: 0.3156 - mse: 0.1796 - mape: 776901.8125 - val_loss: 0.7587 - val_rmse: 0.9542 - val_r2: 0.9414 - val_mae: 0.7587 - val_mse: 0.9106 - val_mape: 495605.0000\n",
      "Epoch 23/100\n",
      "26215/26215 [==============================] - 55s 2ms/step - loss: 0.3146 - rmse: 0.4227 - r2: 0.9885 - mae: 0.3146 - mse: 0.1787 - mape: 788287.3125 - val_loss: 0.7478 - val_rmse: 0.9400 - val_r2: 0.9432 - val_mae: 0.7478 - val_mse: 0.8837 - val_mape: 492697.1562\n",
      "Epoch 24/100\n",
      "26215/26215 [==============================] - 56s 2ms/step - loss: 0.3153 - rmse: 0.4233 - r2: 0.9885 - mae: 0.3153 - mse: 0.1792 - mape: 796508.5000 - val_loss: 0.7577 - val_rmse: 0.9529 - val_r2: 0.9416 - val_mae: 0.7577 - val_mse: 0.9080 - val_mape: 496053.7812\n",
      "Epoch 25/100\n",
      "26215/26215 [==============================] - 55s 2ms/step - loss: 0.3145 - rmse: 0.4226 - r2: 0.9885 - mae: 0.3145 - mse: 0.1786 - mape: 802734.2500 - val_loss: 0.7620 - val_rmse: 0.9587 - val_r2: 0.9409 - val_mae: 0.7620 - val_mse: 0.9192 - val_mape: 506924.5938\n",
      "Epoch 26/100\n",
      "26215/26215 [==============================] - 55s 2ms/step - loss: 0.3144 - rmse: 0.4225 - r2: 0.9885 - mae: 0.3144 - mse: 0.1785 - mape: 794389.9375 - val_loss: 0.7466 - val_rmse: 0.9388 - val_r2: 0.9433 - val_mae: 0.7466 - val_mse: 0.8813 - val_mape: 508297.0625\n",
      "Epoch 27/100\n",
      "26215/26215 [==============================] - 57s 2ms/step - loss: 0.3142 - rmse: 0.4219 - r2: 0.9886 - mae: 0.3142 - mse: 0.1780 - mape: 791265.0625 - val_loss: 0.7396 - val_rmse: 0.9309 - val_r2: 0.9443 - val_mae: 0.7396 - val_mse: 0.8666 - val_mape: 497150.9688\n",
      "Epoch 28/100\n",
      "26215/26215 [==============================] - 56s 2ms/step - loss: 0.3143 - rmse: 0.4224 - r2: 0.9885 - mae: 0.3143 - mse: 0.1785 - mape: 771136.1250 - val_loss: 0.7433 - val_rmse: 0.9349 - val_r2: 0.9438 - val_mae: 0.7433 - val_mse: 0.8740 - val_mape: 498150.7812\n",
      "Epoch 29/100\n",
      "26215/26215 [==============================] - 57s 2ms/step - loss: 0.3141 - rmse: 0.4220 - r2: 0.9886 - mae: 0.3141 - mse: 0.1781 - mape: 811642.5000 - val_loss: 0.7526 - val_rmse: 0.9480 - val_r2: 0.9422 - val_mae: 0.7526 - val_mse: 0.8987 - val_mape: 497407.1250\n",
      "Epoch 30/100\n",
      "26215/26215 [==============================] - 53s 2ms/step - loss: 0.3137 - rmse: 0.4214 - r2: 0.9886 - mae: 0.3137 - mse: 0.1776 - mape: 779447.5000 - val_loss: 0.7380 - val_rmse: 0.9283 - val_r2: 0.9446 - val_mae: 0.7380 - val_mse: 0.8617 - val_mape: 501717.8750\n",
      "Epoch 31/100\n",
      "26215/26215 [==============================] - 54s 2ms/step - loss: 0.3137 - rmse: 0.4214 - r2: 0.9886 - mae: 0.3137 - mse: 0.1776 - mape: 804696.6250 - val_loss: 0.7372 - val_rmse: 0.9279 - val_r2: 0.9446 - val_mae: 0.7372 - val_mse: 0.8610 - val_mape: 517784.7500\n",
      "Epoch 32/100\n",
      "26215/26215 [==============================] - 53s 2ms/step - loss: 0.3138 - rmse: 0.4219 - r2: 0.9886 - mae: 0.3138 - mse: 0.1780 - mape: 810427.1250 - val_loss: 0.7391 - val_rmse: 0.9305 - val_r2: 0.9443 - val_mae: 0.7391 - val_mse: 0.8659 - val_mape: 507729.0625\n",
      "Epoch 33/100\n",
      "26215/26215 [==============================] - 53s 2ms/step - loss: 0.3133 - rmse: 0.4211 - r2: 0.9886 - mae: 0.3133 - mse: 0.1773 - mape: 799281.5000 - val_loss: 0.7437 - val_rmse: 0.9361 - val_r2: 0.9436 - val_mae: 0.7437 - val_mse: 0.8762 - val_mape: 490436.9375\n",
      "Epoch 34/100\n",
      "26215/26215 [==============================] - 54s 2ms/step - loss: 0.3138 - rmse: 0.4214 - r2: 0.9886 - mae: 0.3138 - mse: 0.1776 - mape: 809486.8750 - val_loss: 0.7408 - val_rmse: 0.9318 - val_r2: 0.9442 - val_mae: 0.7408 - val_mse: 0.8682 - val_mape: 499230.8125\n",
      "Epoch 35/100\n",
      "26215/26215 [==============================] - 53s 2ms/step - loss: 0.3131 - rmse: 0.4207 - r2: 0.9886 - mae: 0.3131 - mse: 0.1770 - mape: 782621.2500 - val_loss: 0.7356 - val_rmse: 0.9258 - val_r2: 0.9449 - val_mae: 0.7356 - val_mse: 0.8571 - val_mape: 507374.5938\n",
      "Epoch 36/100\n",
      "26215/26215 [==============================] - 54s 2ms/step - loss: 0.3135 - rmse: 0.4213 - r2: 0.9886 - mae: 0.3135 - mse: 0.1775 - mape: 787090.0625 - val_loss: 0.7385 - val_rmse: 0.9291 - val_r2: 0.9445 - val_mae: 0.7385 - val_mse: 0.8632 - val_mape: 506936.3125\n",
      "Epoch 37/100\n",
      "26215/26215 [==============================] - 52s 2ms/step - loss: 0.3128 - rmse: 0.4204 - r2: 0.9886 - mae: 0.3128 - mse: 0.1768 - mape: 802144.5000 - val_loss: 0.7421 - val_rmse: 0.9347 - val_r2: 0.9438 - val_mae: 0.7421 - val_mse: 0.8736 - val_mape: 498295.5938\n",
      "Epoch 38/100\n",
      "26215/26215 [==============================] - 53s 2ms/step - loss: 0.3127 - rmse: 0.4201 - r2: 0.9887 - mae: 0.3127 - mse: 0.1765 - mape: 792454.5000 - val_loss: 0.7365 - val_rmse: 0.9270 - val_r2: 0.9447 - val_mae: 0.7365 - val_mse: 0.8593 - val_mape: 509347.2500\n",
      "Epoch 39/100\n",
      "26215/26215 [==============================] - 54s 2ms/step - loss: 0.3128 - rmse: 0.4207 - r2: 0.9886 - mae: 0.3128 - mse: 0.1770 - mape: 800424.2500 - val_loss: 0.7318 - val_rmse: 0.9210 - val_r2: 0.9454 - val_mae: 0.7318 - val_mse: 0.8482 - val_mape: 503123.7188\n",
      "Epoch 40/100\n",
      "26215/26215 [==============================] - 54s 2ms/step - loss: 0.3129 - rmse: 0.4205 - r2: 0.9886 - mae: 0.3129 - mse: 0.1768 - mape: 791355.0000 - val_loss: 0.7358 - val_rmse: 0.9255 - val_r2: 0.9449 - val_mae: 0.7358 - val_mse: 0.8565 - val_mape: 509601.5000\n",
      "Epoch 41/100\n",
      "26215/26215 [==============================] - 53s 2ms/step - loss: 0.3124 - rmse: 0.4201 - r2: 0.9887 - mae: 0.3124 - mse: 0.1765 - mape: 807309.6875 - val_loss: 0.7384 - val_rmse: 0.9288 - val_r2: 0.9445 - val_mae: 0.7384 - val_mse: 0.8628 - val_mape: 507037.3125\n",
      "Epoch 42/100\n",
      "26215/26215 [==============================] - 54s 2ms/step - loss: 0.3123 - rmse: 0.4198 - r2: 0.9887 - mae: 0.3123 - mse: 0.1762 - mape: 767854.5000 - val_loss: 0.7368 - val_rmse: 0.9283 - val_r2: 0.9446 - val_mae: 0.7368 - val_mse: 0.8618 - val_mape: 495874.0625\n",
      "Epoch 43/100\n",
      "26215/26215 [==============================] - 54s 2ms/step - loss: 0.3125 - rmse: 0.4202 - r2: 0.9886 - mae: 0.3125 - mse: 0.1766 - mape: 788620.6875 - val_loss: 0.7375 - val_rmse: 0.9293 - val_r2: 0.9445 - val_mae: 0.7375 - val_mse: 0.8636 - val_mape: 506951.9375\n",
      "Epoch 44/100\n",
      "26215/26215 [==============================] - 53s 2ms/step - loss: 0.3123 - rmse: 0.4201 - r2: 0.9887 - mae: 0.3123 - mse: 0.1765 - mape: 788098.6250 - val_loss: 0.7428 - val_rmse: 0.9352 - val_r2: 0.9438 - val_mae: 0.7428 - val_mse: 0.8745 - val_mape: 508551.4688\n",
      "Epoch 45/100\n",
      "26215/26215 [==============================] - 53s 2ms/step - loss: 0.3123 - rmse: 0.4200 - r2: 0.9887 - mae: 0.3123 - mse: 0.1764 - mape: 809695.8750 - val_loss: 0.7409 - val_rmse: 0.9328 - val_r2: 0.9440 - val_mae: 0.7409 - val_mse: 0.8702 - val_mape: 507754.3438\n",
      "Epoch 46/100\n",
      "26215/26215 [==============================] - 54s 2ms/step - loss: 0.3125 - rmse: 0.4201 - r2: 0.9887 - mae: 0.3125 - mse: 0.1765 - mape: 801595.3750 - val_loss: 0.7343 - val_rmse: 0.9245 - val_r2: 0.9450 - val_mae: 0.7343 - val_mse: 0.8546 - val_mape: 493733.3750\n",
      "Epoch 47/100\n",
      "26215/26215 [==============================] - 52s 2ms/step - loss: 0.3122 - rmse: 0.4199 - r2: 0.9887 - mae: 0.3122 - mse: 0.1763 - mape: 810968.4375 - val_loss: 0.7414 - val_rmse: 0.9331 - val_r2: 0.9440 - val_mae: 0.7414 - val_mse: 0.8706 - val_mape: 494400.1562\n",
      "Epoch 48/100\n",
      "26215/26215 [==============================] - 54s 2ms/step - loss: 0.3120 - rmse: 0.4195 - r2: 0.9887 - mae: 0.3120 - mse: 0.1760 - mape: 796027.1875 - val_loss: 0.7304 - val_rmse: 0.9190 - val_r2: 0.9457 - val_mae: 0.7304 - val_mse: 0.8446 - val_mape: 506299.9062\n",
      "Epoch 49/100\n",
      "26215/26215 [==============================] - 53s 2ms/step - loss: 0.3118 - rmse: 0.4192 - r2: 0.9887 - mae: 0.3118 - mse: 0.1757 - mape: 795128.0625 - val_loss: 0.7337 - val_rmse: 0.9233 - val_r2: 0.9452 - val_mae: 0.7337 - val_mse: 0.8524 - val_mape: 504193.4062\n",
      "Epoch 50/100\n",
      "26215/26215 [==============================] - 54s 2ms/step - loss: 0.3118 - rmse: 0.4195 - r2: 0.9887 - mae: 0.3118 - mse: 0.1760 - mape: 801467.3125 - val_loss: 0.7324 - val_rmse: 0.9222 - val_r2: 0.9453 - val_mae: 0.7324 - val_mse: 0.8505 - val_mape: 496818.4688\n",
      "Epoch 51/100\n",
      "26215/26215 [==============================] - 52s 2ms/step - loss: 0.3118 - rmse: 0.4192 - r2: 0.9887 - mae: 0.3118 - mse: 0.1757 - mape: 807164.5000 - val_loss: 0.7284 - val_rmse: 0.9176 - val_r2: 0.9458 - val_mae: 0.7284 - val_mse: 0.8420 - val_mape: 493470.3125\n",
      "Epoch 52/100\n",
      "26215/26215 [==============================] - 54s 2ms/step - loss: 0.3115 - rmse: 0.4190 - r2: 0.9887 - mae: 0.3115 - mse: 0.1756 - mape: 771528.9375 - val_loss: 0.7299 - val_rmse: 0.9185 - val_r2: 0.9457 - val_mae: 0.7299 - val_mse: 0.8436 - val_mape: 506537.0938\n",
      "Epoch 53/100\n",
      "26215/26215 [==============================] - 54s 2ms/step - loss: 0.3115 - rmse: 0.4188 - r2: 0.9887 - mae: 0.3115 - mse: 0.1754 - mape: 797005.1250 - val_loss: 0.7274 - val_rmse: 0.9160 - val_r2: 0.9460 - val_mae: 0.7274 - val_mse: 0.8391 - val_mape: 507018.4375\n",
      "Epoch 54/100\n",
      "26215/26215 [==============================] - 52s 2ms/step - loss: 0.3119 - rmse: 0.4193 - r2: 0.9887 - mae: 0.3119 - mse: 0.1758 - mape: 798881.8750 - val_loss: 0.7350 - val_rmse: 0.9247 - val_r2: 0.9450 - val_mae: 0.7350 - val_mse: 0.8550 - val_mape: 505087.1562\n",
      "Epoch 55/100\n",
      "26215/26215 [==============================] - 54s 2ms/step - loss: 0.3113 - rmse: 0.4188 - r2: 0.9887 - mae: 0.3113 - mse: 0.1754 - mape: 796727.7500 - val_loss: 0.7327 - val_rmse: 0.9232 - val_r2: 0.9452 - val_mae: 0.7327 - val_mse: 0.8523 - val_mape: 503472.5000\n",
      "Epoch 56/100\n",
      "26215/26215 [==============================] - 54s 2ms/step - loss: 0.3113 - rmse: 0.4187 - r2: 0.9887 - mae: 0.3113 - mse: 0.1753 - mape: 818040.5625 - val_loss: 0.7282 - val_rmse: 0.9170 - val_r2: 0.9459 - val_mae: 0.7282 - val_mse: 0.8409 - val_mape: 511702.0938\n",
      "Epoch 57/100\n",
      "26215/26215 [==============================] - 53s 2ms/step - loss: 0.3112 - rmse: 0.4186 - r2: 0.9887 - mae: 0.3112 - mse: 0.1753 - mape: 788493.0000 - val_loss: 0.7247 - val_rmse: 0.9129 - val_r2: 0.9464 - val_mae: 0.7247 - val_mse: 0.8333 - val_mape: 501715.1562\n",
      "Epoch 58/100\n",
      "26215/26215 [==============================] - 54s 2ms/step - loss: 0.3111 - rmse: 0.4182 - r2: 0.9888 - mae: 0.3111 - mse: 0.1749 - mape: 796296.0000 - val_loss: 0.7347 - val_rmse: 0.9259 - val_r2: 0.9449 - val_mae: 0.7347 - val_mse: 0.8572 - val_mape: 494635.0000\n",
      "Epoch 59/100\n"
     ]
    },
    {
     "name": "stdout",
     "output_type": "stream",
     "text": [
      "26215/26215 [==============================] - 53s 2ms/step - loss: 0.3114 - rmse: 0.4189 - r2: 0.9887 - mae: 0.3114 - mse: 0.1754 - mape: 800183.1250 - val_loss: 0.7294 - val_rmse: 0.9189 - val_r2: 0.9457 - val_mae: 0.7294 - val_mse: 0.8444 - val_mape: 502958.9688\n",
      "Epoch 60/100\n",
      "26215/26215 [==============================] - 53s 2ms/step - loss: 0.3105 - rmse: 0.4177 - r2: 0.9888 - mae: 0.3105 - mse: 0.1745 - mape: 785363.0000 - val_loss: 0.7307 - val_rmse: 0.9210 - val_r2: 0.9454 - val_mae: 0.7307 - val_mse: 0.8483 - val_mape: 498727.3125\n",
      "Epoch 61/100\n",
      "26215/26215 [==============================] - 54s 2ms/step - loss: 0.3111 - rmse: 0.4187 - r2: 0.9887 - mae: 0.3111 - mse: 0.1753 - mape: 800664.3125 - val_loss: 0.7263 - val_rmse: 0.9153 - val_r2: 0.9461 - val_mae: 0.7263 - val_mse: 0.8378 - val_mape: 507277.9062\n",
      "Epoch 62/100\n",
      "26215/26215 [==============================] - 53s 2ms/step - loss: 0.3108 - rmse: 0.4178 - r2: 0.9888 - mae: 0.3108 - mse: 0.1745 - mape: 799363.6875 - val_loss: 0.7251 - val_rmse: 0.9142 - val_r2: 0.9462 - val_mae: 0.7251 - val_mse: 0.8358 - val_mape: 498683.4688\n",
      "Epoch 63/100\n",
      "26215/26215 [==============================] - 52s 2ms/step - loss: 0.3107 - rmse: 0.4178 - r2: 0.9888 - mae: 0.3107 - mse: 0.1746 - mape: 808082.1875 - val_loss: 0.7206 - val_rmse: 0.9084 - val_r2: 0.9469 - val_mae: 0.7206 - val_mse: 0.8252 - val_mape: 490920.1250\n",
      "Epoch 64/100\n",
      "26215/26215 [==============================] - 54s 2ms/step - loss: 0.3112 - rmse: 0.4185 - r2: 0.9887 - mae: 0.3112 - mse: 0.1751 - mape: 802947.5625 - val_loss: 0.7256 - val_rmse: 0.9138 - val_r2: 0.9463 - val_mae: 0.7256 - val_mse: 0.8350 - val_mape: 508719.0938\n",
      "Epoch 65/100\n",
      "26215/26215 [==============================] - 53s 2ms/step - loss: 0.3108 - rmse: 0.4181 - r2: 0.9888 - mae: 0.3108 - mse: 0.1748 - mape: 768735.3750 - val_loss: 0.7275 - val_rmse: 0.9170 - val_r2: 0.9459 - val_mae: 0.7275 - val_mse: 0.8409 - val_mape: 498107.5000\n",
      "Epoch 66/100\n",
      "26215/26215 [==============================] - 53s 2ms/step - loss: 0.3109 - rmse: 0.4183 - r2: 0.9888 - mae: 0.3109 - mse: 0.1750 - mape: 796291.8125 - val_loss: 0.7300 - val_rmse: 0.9202 - val_r2: 0.9455 - val_mae: 0.7300 - val_mse: 0.8468 - val_mape: 496260.7500\n",
      "Epoch 67/100\n",
      "26215/26215 [==============================] - 54s 2ms/step - loss: 0.3108 - rmse: 0.4180 - r2: 0.9888 - mae: 0.3108 - mse: 0.1748 - mape: 784467.3750 - val_loss: 0.7246 - val_rmse: 0.9128 - val_r2: 0.9464 - val_mae: 0.7246 - val_mse: 0.8332 - val_mape: 496991.1250\n",
      "Epoch 68/100\n",
      "26215/26215 [==============================] - 55s 2ms/step - loss: 0.3106 - rmse: 0.4178 - r2: 0.9888 - mae: 0.3106 - mse: 0.1746 - mape: 770355.0000 - val_loss: 0.7317 - val_rmse: 0.9219 - val_r2: 0.9453 - val_mae: 0.7317 - val_mse: 0.8500 - val_mape: 502786.0312\n",
      "Epoch 69/100\n",
      "26215/26215 [==============================] - 53s 2ms/step - loss: 0.3108 - rmse: 0.4181 - r2: 0.9888 - mae: 0.3108 - mse: 0.1748 - mape: 792268.7500 - val_loss: 0.7266 - val_rmse: 0.9155 - val_r2: 0.9461 - val_mae: 0.7266 - val_mse: 0.8382 - val_mape: 500780.6875\n",
      "Epoch 70/100\n",
      "26215/26215 [==============================] - 53s 2ms/step - loss: 0.3105 - rmse: 0.4175 - r2: 0.9888 - mae: 0.3105 - mse: 0.1743 - mape: 780333.0625 - val_loss: 0.7228 - val_rmse: 0.9109 - val_r2: 0.9466 - val_mae: 0.7228 - val_mse: 0.8297 - val_mape: 496888.2188\n",
      "Epoch 71/100\n",
      "26215/26215 [==============================] - 53s 2ms/step - loss: 0.3104 - rmse: 0.4173 - r2: 0.9888 - mae: 0.3104 - mse: 0.1742 - mape: 794345.8125 - val_loss: 0.7315 - val_rmse: 0.9220 - val_r2: 0.9453 - val_mae: 0.7315 - val_mse: 0.8501 - val_mape: 501578.6562\n",
      "Epoch 72/100\n",
      "26215/26215 [==============================] - 52s 2ms/step - loss: 0.3096 - rmse: 0.4164 - r2: 0.9889 - mae: 0.3096 - mse: 0.1734 - mape: 817723.9375 - val_loss: 0.7242 - val_rmse: 0.9123 - val_r2: 0.9465 - val_mae: 0.7242 - val_mse: 0.8323 - val_mape: 502412.4062\n",
      "Epoch 73/100\n",
      "26215/26215 [==============================] - 52s 2ms/step - loss: 0.3106 - rmse: 0.4178 - r2: 0.9888 - mae: 0.3106 - mse: 0.1746 - mape: 803093.3750 - val_loss: 0.7261 - val_rmse: 0.9148 - val_r2: 0.9462 - val_mae: 0.7261 - val_mse: 0.8368 - val_mape: 503568.8750\n",
      "Epoch 74/100\n",
      "26215/26215 [==============================] - 52s 2ms/step - loss: 0.3100 - rmse: 0.4172 - r2: 0.9888 - mae: 0.3100 - mse: 0.1741 - mape: 800293.8125 - val_loss: 0.7260 - val_rmse: 0.9143 - val_r2: 0.9462 - val_mae: 0.7260 - val_mse: 0.8360 - val_mape: 498378.4688\n",
      "Epoch 75/100\n",
      "26215/26215 [==============================] - 54s 2ms/step - loss: 0.3102 - rmse: 0.4174 - r2: 0.9888 - mae: 0.3102 - mse: 0.1742 - mape: 802481.3125 - val_loss: 0.7213 - val_rmse: 0.9094 - val_r2: 0.9468 - val_mae: 0.7213 - val_mse: 0.8270 - val_mape: 498878.4375\n",
      "Epoch 76/100\n",
      "26215/26215 [==============================] - 53s 2ms/step - loss: 0.3104 - rmse: 0.4175 - r2: 0.9888 - mae: 0.3104 - mse: 0.1743 - mape: 818113.3125 - val_loss: 0.7252 - val_rmse: 0.9145 - val_r2: 0.9462 - val_mae: 0.7252 - val_mse: 0.8362 - val_mape: 498340.7500\n",
      "Epoch 77/100\n",
      "26215/26215 [==============================] - 52s 2ms/step - loss: 0.3102 - rmse: 0.4172 - r2: 0.9888 - mae: 0.3102 - mse: 0.1741 - mape: 791413.0625 - val_loss: 0.7281 - val_rmse: 0.9182 - val_r2: 0.9458 - val_mae: 0.7281 - val_mse: 0.8431 - val_mape: 498150.3125\n",
      "Epoch 78/100\n",
      "26215/26215 [==============================] - 52s 2ms/step - loss: 0.3101 - rmse: 0.4171 - r2: 0.9888 - mae: 0.3101 - mse: 0.1740 - mape: 808494.0000 - val_loss: 0.7197 - val_rmse: 0.9078 - val_r2: 0.9470 - val_mae: 0.7197 - val_mse: 0.8241 - val_mape: 496997.6562\n",
      "Epoch 79/100\n",
      "26215/26215 [==============================] - 54s 2ms/step - loss: 0.3101 - rmse: 0.4171 - r2: 0.9888 - mae: 0.3101 - mse: 0.1740 - mape: 797117.9375 - val_loss: 0.7289 - val_rmse: 0.9193 - val_r2: 0.9456 - val_mae: 0.7289 - val_mse: 0.8451 - val_mape: 500184.0625\n",
      "Epoch 80/100\n",
      "26215/26215 [==============================] - 54s 2ms/step - loss: 0.3102 - rmse: 0.4174 - r2: 0.9888 - mae: 0.3102 - mse: 0.1742 - mape: 801065.1875 - val_loss: 0.7277 - val_rmse: 0.9173 - val_r2: 0.9459 - val_mae: 0.7277 - val_mse: 0.8415 - val_mape: 498224.9688\n",
      "Epoch 81/100\n",
      "26215/26215 [==============================] - 54s 2ms/step - loss: 0.3095 - rmse: 0.4163 - r2: 0.9889 - mae: 0.3095 - mse: 0.1733 - mape: 804721.2500 - val_loss: 0.7220 - val_rmse: 0.9109 - val_r2: 0.9466 - val_mae: 0.7220 - val_mse: 0.8297 - val_mape: 494952.3750\n",
      "Epoch 82/100\n",
      "26215/26215 [==============================] - 52s 2ms/step - loss: 0.3097 - rmse: 0.4164 - r2: 0.9889 - mae: 0.3097 - mse: 0.1734 - mape: 817362.5000 - val_loss: 0.7291 - val_rmse: 0.9195 - val_r2: 0.9456 - val_mae: 0.7291 - val_mse: 0.8454 - val_mape: 498693.4688\n",
      "Epoch 83/100\n",
      "26215/26215 [==============================] - 53s 2ms/step - loss: 0.3099 - rmse: 0.4171 - r2: 0.9888 - mae: 0.3099 - mse: 0.1740 - mape: 781155.2500 - val_loss: 0.7213 - val_rmse: 0.9093 - val_r2: 0.9468 - val_mae: 0.7213 - val_mse: 0.8269 - val_mape: 496787.3750\n",
      "Epoch 84/100\n",
      "26215/26215 [==============================] - 54s 2ms/step - loss: 0.3098 - rmse: 0.4167 - r2: 0.9888 - mae: 0.3098 - mse: 0.1737 - mape: 796960.1875 - val_loss: 0.7237 - val_rmse: 0.9127 - val_r2: 0.9464 - val_mae: 0.7237 - val_mse: 0.8330 - val_mape: 496871.9062\n",
      "Epoch 85/100\n",
      "26215/26215 [==============================] - 54s 2ms/step - loss: 0.3095 - rmse: 0.4164 - r2: 0.9889 - mae: 0.3095 - mse: 0.1734 - mape: 785737.1250 - val_loss: 0.7220 - val_rmse: 0.9105 - val_r2: 0.9467 - val_mae: 0.7220 - val_mse: 0.8289 - val_mape: 497415.5938\n",
      "Epoch 86/100\n",
      "26215/26215 [==============================] - 54s 2ms/step - loss: 0.3096 - rmse: 0.4169 - r2: 0.9888 - mae: 0.3096 - mse: 0.1738 - mape: 787841.7500 - val_loss: 0.7242 - val_rmse: 0.9135 - val_r2: 0.9463 - val_mae: 0.7242 - val_mse: 0.8344 - val_mape: 494916.9688\n",
      "Epoch 87/100\n",
      "26215/26215 [==============================] - 55s 2ms/step - loss: 0.3098 - rmse: 0.4170 - r2: 0.9888 - mae: 0.3098 - mse: 0.1739 - mape: 815789.5000 - val_loss: 0.7216 - val_rmse: 0.9100 - val_r2: 0.9467 - val_mae: 0.7216 - val_mse: 0.8281 - val_mape: 499496.6562\n",
      "Epoch 88/100\n",
      "26215/26215 [==============================] - 53s 2ms/step - loss: 0.3099 - rmse: 0.4167 - r2: 0.9888 - mae: 0.3099 - mse: 0.1736 - mape: 822652.3750 - val_loss: 0.7172 - val_rmse: 0.9044 - val_r2: 0.9474 - val_mae: 0.7172 - val_mse: 0.8180 - val_mape: 495430.0312\n",
      "Epoch 89/100\n",
      "26215/26215 [==============================] - 53s 2ms/step - loss: 0.3098 - rmse: 0.4166 - r2: 0.9888 - mae: 0.3098 - mse: 0.1736 - mape: 804161.0625 - val_loss: 0.7214 - val_rmse: 0.9099 - val_r2: 0.9468 - val_mae: 0.7214 - val_mse: 0.8279 - val_mape: 498552.2812\n",
      "Epoch 90/100\n",
      "26215/26215 [==============================] - 53s 2ms/step - loss: 0.3099 - rmse: 0.4170 - r2: 0.9888 - mae: 0.3099 - mse: 0.1739 - mape: 793264.0000 - val_loss: 0.7202 - val_rmse: 0.9079 - val_r2: 0.9470 - val_mae: 0.7202 - val_mse: 0.8242 - val_mape: 499308.0625\n",
      "Epoch 91/100\n",
      "26215/26215 [==============================] - 54s 2ms/step - loss: 0.3096 - rmse: 0.4166 - r2: 0.9888 - mae: 0.3096 - mse: 0.1736 - mape: 802274.7500 - val_loss: 0.7222 - val_rmse: 0.9112 - val_r2: 0.9466 - val_mae: 0.7222 - val_mse: 0.8303 - val_mape: 497192.5938\n",
      "Epoch 92/100\n",
      "26215/26215 [==============================] - 53s 2ms/step - loss: 0.3096 - rmse: 0.4167 - r2: 0.9888 - mae: 0.3096 - mse: 0.1736 - mape: 813591.8750 - val_loss: 0.7244 - val_rmse: 0.9141 - val_r2: 0.9463 - val_mae: 0.7244 - val_mse: 0.8356 - val_mape: 489953.1875\n",
      "Epoch 93/100\n",
      "26215/26215 [==============================] - 54s 2ms/step - loss: 0.3098 - rmse: 0.4169 - r2: 0.9888 - mae: 0.3098 - mse: 0.1738 - mape: 790029.6875 - val_loss: 0.7177 - val_rmse: 0.9052 - val_r2: 0.9473 - val_mae: 0.7177 - val_mse: 0.8195 - val_mape: 499754.3750\n",
      "Epoch 94/100\n",
      "26215/26215 [==============================] - 52s 2ms/step - loss: 0.3096 - rmse: 0.4166 - r2: 0.9888 - mae: 0.3096 - mse: 0.1735 - mape: 768200.3750 - val_loss: 0.7208 - val_rmse: 0.9091 - val_r2: 0.9468 - val_mae: 0.7208 - val_mse: 0.8264 - val_mape: 495059.8438\n",
      "Epoch 95/100\n",
      "26215/26215 [==============================] - 53s 2ms/step - loss: 0.3090 - rmse: 0.4159 - r2: 0.9889 - mae: 0.3090 - mse: 0.1730 - mape: 780621.7500 - val_loss: 0.7192 - val_rmse: 0.9067 - val_r2: 0.9471 - val_mae: 0.7192 - val_mse: 0.8221 - val_mape: 491390.7812\n",
      "Epoch 96/100\n",
      "26215/26215 [==============================] - 53s 2ms/step - loss: 0.3097 - rmse: 0.4167 - r2: 0.9888 - mae: 0.3097 - mse: 0.1737 - mape: 793660.2500 - val_loss: 0.7204 - val_rmse: 0.9081 - val_r2: 0.9470 - val_mae: 0.7204 - val_mse: 0.8246 - val_mape: 498095.4688\n",
      "Epoch 97/100\n",
      "26215/26215 [==============================] - 54s 2ms/step - loss: 0.3098 - rmse: 0.4173 - r2: 0.9888 - mae: 0.3098 - mse: 0.1741 - mape: 783231.0625 - val_loss: 0.7192 - val_rmse: 0.9068 - val_r2: 0.9471 - val_mae: 0.7192 - val_mse: 0.8223 - val_mape: 499069.3750\n",
      "Epoch 98/100\n",
      "26215/26215 [==============================] - 54s 2ms/step - loss: 0.3092 - rmse: 0.4164 - r2: 0.9889 - mae: 0.3092 - mse: 0.1734 - mape: 774741.3125 - val_loss: 0.7237 - val_rmse: 0.9126 - val_r2: 0.9464 - val_mae: 0.7237 - val_mse: 0.8328 - val_mape: 495081.2812\n",
      "Epoch 99/100\n",
      "26215/26215 [==============================] - 54s 2ms/step - loss: 0.3096 - rmse: 0.4166 - r2: 0.9888 - mae: 0.3096 - mse: 0.1735 - mape: 776893.1250 - val_loss: 0.7215 - val_rmse: 0.9094 - val_r2: 0.9468 - val_mae: 0.7215 - val_mse: 0.8270 - val_mape: 496501.8125\n",
      "Epoch 100/100\n",
      "26215/26215 [==============================] - 53s 2ms/step - loss: 0.3098 - rmse: 0.4168 - r2: 0.9888 - mae: 0.3098 - mse: 0.1738 - mape: 802559.6250 - val_loss: 0.7174 - val_rmse: 0.9057 - val_r2: 0.9472 - val_mae: 0.7174 - val_mse: 0.8203 - val_mape: 490517.3125\n",
      "CPU times: total: 2h 32min 35s\n",
      "Wall time: 1h 29min 55s\n"
     ]
    }
   ],
   "source": [
    "%%time\n",
    "import tensorflow as tf\n",
    "\n",
    "tf.random.set_seed(42)\n",
    "\n",
    "model_1 = tf.keras.Sequential([tf.keras.layers.Dense(50,activation = 'relu'),\n",
    "                               tf.keras.layers.Dropout(0.2),\n",
    "                               tf.keras.layers.Dense(100 ,activation = 'relu'),\n",
    "                               tf.keras.layers.Dropout(0.2),\n",
    "                               tf.keras.layers.Dense(100),\n",
    "                               tf.keras.layers.Dense(50),\n",
    "                               tf.keras.layers.Dense(10),\n",
    "                               tf.keras.layers.Dense(1)])\n",
    "\n",
    "model_1.compile(loss = tf.keras.losses.mae,\n",
    "                optimizer = tf.keras.optimizers.legacy.Adam(learning_rate=0.001,decay=0.001),\n",
    "                metrics=[tf.keras.metrics.RootMeanSquaredError(name='rmse'),\n",
    "                         tfa.metrics.RSquare(name='r2'),'mae','mse','mape'])\n",
    "\n",
    "history_1 = model_1.fit(X_train,Y_train, epochs= 100,batch_size=32,validation_data=(X_test,Y_test), callbacks = callback)"
   ]
  },
  {
   "cell_type": "code",
   "execution_count": null,
   "id": "4a304219",
   "metadata": {},
   "outputs": [],
   "source": []
  },
  {
   "cell_type": "code",
   "execution_count": 18,
   "id": "177bd393",
   "metadata": {},
   "outputs": [
    {
     "data": {
      "image/png": "[encoded data removed]",
      "text/plain": [
       "<Figure size 640x480 with 1 Axes>"
      ]
     },
     "metadata": {},
     "output_type": "display_data"
    }
   ],
   "source": [
    "plot_his(history_1)"
   ]
  },
  {
   "cell_type": "code",
   "execution_count": 19,
   "id": "9f3ab896",
   "metadata": {},
   "outputs": [
    {
     "name": "stdout",
     "output_type": "stream",
     "text": [
      "6554/6554 [==============================] - 8s 1ms/step - loss: 0.7174 - rmse: 0.9057 - r2: 0.9472 - mae: 0.7174 - mse: 0.8203 - mape: 490517.3125\n"
     ]
    },
    {
     "data": {
      "text/plain": [
       "[0.717424213886261,\n",
       " 0.9057292342185974,\n",
       " 0.9472376108169556,\n",
       " 0.717424213886261,\n",
       " 0.8203454613685608,\n",
       " 490517.3125]"
      ]
     },
     "execution_count": 19,
     "metadata": {},
     "output_type": "execute_result"
    }
   ],
   "source": [
    "model_1.evaluate(X_test,Y_test)"
   ]
  },
  {
   "cell_type": "code",
   "execution_count": 20,
   "id": "7292deed",
   "metadata": {},
   "outputs": [
    {
     "name": "stdout",
     "output_type": "stream",
     "text": [
      "6554/6554 [==============================] - 5s 761us/step\n"
     ]
    }
   ],
   "source": [
    "Y_pred_1 = model_1.predict(X_test)"
   ]
  },
  {
   "cell_type": "code",
   "execution_count": 21,
   "id": "be8695e5",
   "metadata": {},
   "outputs": [
    {
     "name": "stdout",
     "output_type": "stream",
     "text": [
      "Model: \"sequential\"\n",
      "_________________________________________________________________\n",
      " Layer (type)                Output Shape              Param #   \n",
      "=================================================================\n",
      " dense (Dense)               (None, 50)                200       \n",
      "                                                                 \n",
      " dropout (Dropout)           (None, 50)                0         \n",
      "                                                                 \n",
      " dense_1 (Dense)             (None, 100)               5100      \n",
      "                                                                 \n",
      " dropout_1 (Dropout)         (None, 100)               0         \n",
      "                                                                 \n",
      " dense_2 (Dense)             (None, 100)               10100     \n",
      "                                                                 \n",
      " dense_3 (Dense)             (None, 50)                5050      \n",
      "                                                                 \n",
      " dense_4 (Dense)             (None, 10)                510       \n",
      "                                                                 \n",
      " dense_5 (Dense)             (None, 1)                 11        \n",
      "                                                                 \n",
      "=================================================================\n",
      "Total params: 20,971\n",
      "Trainable params: 20,971\n",
      "Non-trainable params: 0\n",
      "_________________________________________________________________\n"
     ]
    }
   ],
   "source": [
    "model_1.summary()"
   ]
  },
  {
   "cell_type": "code",
   "execution_count": 22,
   "id": "b4045fe2",
   "metadata": {},
   "outputs": [
    {
     "name": "stdout",
     "output_type": "stream",
     "text": [
      "AIC:  42021.258\n"
     ]
    }
   ],
   "source": [
    "AIC_value(model_1,Y_pred_1,Y_test)"
   ]
  },
  {
   "cell_type": "code",
   "execution_count": 23,
   "id": "e3434644",
   "metadata": {},
   "outputs": [],
   "source": [
    "model_1.save('Saved_models/model_1_SOEesti.h5')"
   ]
  },
  {
   "cell_type": "code",
   "execution_count": null,
   "id": "691ecc85",
   "metadata": {},
   "outputs": [],
   "source": []
  },
  {
   "cell_type": "code",
   "execution_count": null,
   "id": "1f78ce16",
   "metadata": {},
   "outputs": [],
   "source": []
  },
  {
   "cell_type": "code",
   "execution_count": null,
   "id": "7493e455",
   "metadata": {},
   "outputs": [],
   "source": []
  },
  {
   "cell_type": "code",
   "execution_count": 24,
   "id": "73623f3f",
   "metadata": {},
   "outputs": [
    {
     "name": "stdout",
     "output_type": "stream",
     "text": [
      "Epoch 1/100\n",
      "26215/26215 [==============================] - 46s 2ms/step - loss: 0.0637 - rmse: 0.1961 - r2: 0.9975 - mae: 0.0637 - mse: 0.0385 - mape: 51457.7969 - val_loss: 0.0430 - val_rmse: 0.0731 - val_r2: 0.9997 - val_mae: 0.0430 - val_mse: 0.0053 - val_mape: 32731.5820\n",
      "Epoch 2/100\n",
      "26215/26215 [==============================] - 45s 2ms/step - loss: 0.0409 - rmse: 0.0700 - r2: 0.9997 - mae: 0.0409 - mse: 0.0049 - mape: 27529.4609 - val_loss: 0.0385 - val_rmse: 0.0680 - val_r2: 0.9997 - val_mae: 0.0385 - val_mse: 0.0046 - val_mape: 21158.5996\n",
      "Epoch 3/100\n",
      "26215/26215 [==============================] - 45s 2ms/step - loss: 0.0381 - rmse: 0.0663 - r2: 0.9997 - mae: 0.0381 - mse: 0.0044 - mape: 20620.0098 - val_loss: 0.0379 - val_rmse: 0.0661 - val_r2: 0.9997 - val_mae: 0.0379 - val_mse: 0.0044 - val_mape: 33089.2031\n",
      "Epoch 4/100\n",
      "26215/26215 [==============================] - 45s 2ms/step - loss: 0.0371 - rmse: 0.0650 - r2: 0.9997 - mae: 0.0371 - mse: 0.0042 - mape: 23672.6152 - val_loss: 0.0372 - val_rmse: 0.0655 - val_r2: 0.9997 - val_mae: 0.0372 - val_mse: 0.0043 - val_mape: 32223.8633\n",
      "Epoch 5/100\n",
      "26215/26215 [==============================] - 46s 2ms/step - loss: 0.0366 - rmse: 0.0644 - r2: 0.9997 - mae: 0.0366 - mse: 0.0041 - mape: 23827.6797 - val_loss: 0.0368 - val_rmse: 0.0644 - val_r2: 0.9997 - val_mae: 0.0368 - val_mse: 0.0042 - val_mape: 17341.0000\n",
      "Epoch 6/100\n",
      "26215/26215 [==============================] - 45s 2ms/step - loss: 0.0362 - rmse: 0.0638 - r2: 0.9997 - mae: 0.0362 - mse: 0.0041 - mape: 22642.0137 - val_loss: 0.0360 - val_rmse: 0.0641 - val_r2: 0.9997 - val_mae: 0.0360 - val_mse: 0.0041 - val_mape: 16809.9102\n",
      "Epoch 7/100\n",
      "26215/26215 [==============================] - 44s 2ms/step - loss: 0.0359 - rmse: 0.0632 - r2: 0.9997 - mae: 0.0359 - mse: 0.0040 - mape: 22245.7305 - val_loss: 0.0364 - val_rmse: 0.0635 - val_r2: 0.9997 - val_mae: 0.0364 - val_mse: 0.0040 - val_mape: 18506.6191\n",
      "Epoch 8/100\n",
      "26215/26215 [==============================] - 45s 2ms/step - loss: 0.0356 - rmse: 0.0628 - r2: 0.9997 - mae: 0.0356 - mse: 0.0039 - mape: 21278.1875 - val_loss: 0.0357 - val_rmse: 0.0631 - val_r2: 0.9997 - val_mae: 0.0357 - val_mse: 0.0040 - val_mape: 16629.1230\n",
      "Epoch 9/100\n",
      "26215/26215 [==============================] - 45s 2ms/step - loss: 0.0354 - rmse: 0.0624 - r2: 0.9997 - mae: 0.0354 - mse: 0.0039 - mape: 19555.3359 - val_loss: 0.0354 - val_rmse: 0.0629 - val_r2: 0.9997 - val_mae: 0.0354 - val_mse: 0.0040 - val_mape: 12490.9297\n",
      "Epoch 10/100\n",
      "26215/26215 [==============================] - 45s 2ms/step - loss: 0.0352 - rmse: 0.0621 - r2: 0.9998 - mae: 0.0352 - mse: 0.0039 - mape: 14841.8252 - val_loss: 0.0353 - val_rmse: 0.0623 - val_r2: 0.9998 - val_mae: 0.0353 - val_mse: 0.0039 - val_mape: 15224.8047\n",
      "Epoch 11/100\n",
      "26215/26215 [==============================] - 45s 2ms/step - loss: 0.0350 - rmse: 0.0616 - r2: 0.9998 - mae: 0.0350 - mse: 0.0038 - mape: 9684.2451 - val_loss: 0.0357 - val_rmse: 0.0622 - val_r2: 0.9998 - val_mae: 0.0357 - val_mse: 0.0039 - val_mape: 7461.6846\n",
      "Epoch 12/100\n",
      "26215/26215 [==============================] - 45s 2ms/step - loss: 0.0348 - rmse: 0.0613 - r2: 0.9998 - mae: 0.0348 - mse: 0.0038 - mape: 7452.1528 - val_loss: 0.0349 - val_rmse: 0.0618 - val_r2: 0.9998 - val_mae: 0.0349 - val_mse: 0.0038 - val_mape: 4725.5005\n",
      "Epoch 13/100\n",
      "26215/26215 [==============================] - 45s 2ms/step - loss: 0.0346 - rmse: 0.0609 - r2: 0.9998 - mae: 0.0346 - mse: 0.0037 - mape: 9209.4346 - val_loss: 0.0348 - val_rmse: 0.0614 - val_r2: 0.9998 - val_mae: 0.0348 - val_mse: 0.0038 - val_mape: 4870.7632\n",
      "Epoch 14/100\n",
      "26215/26215 [==============================] - 45s 2ms/step - loss: 0.0345 - rmse: 0.0607 - r2: 0.9998 - mae: 0.0345 - mse: 0.0037 - mape: 10649.9775 - val_loss: 0.0346 - val_rmse: 0.0612 - val_r2: 0.9998 - val_mae: 0.0346 - val_mse: 0.0037 - val_mape: 13058.6865\n",
      "Epoch 15/100\n",
      "26215/26215 [==============================] - 46s 2ms/step - loss: 0.0344 - rmse: 0.0605 - r2: 0.9998 - mae: 0.0344 - mse: 0.0037 - mape: 10970.1279 - val_loss: 0.0347 - val_rmse: 0.0612 - val_r2: 0.9998 - val_mae: 0.0347 - val_mse: 0.0037 - val_mape: 5537.1880\n",
      "Epoch 16/100\n",
      "26215/26215 [==============================] - 45s 2ms/step - loss: 0.0344 - rmse: 0.0604 - r2: 0.9998 - mae: 0.0344 - mse: 0.0036 - mape: 12151.5957 - val_loss: 0.0345 - val_rmse: 0.0611 - val_r2: 0.9998 - val_mae: 0.0345 - val_mse: 0.0037 - val_mape: 6917.8208\n",
      "Epoch 17/100\n",
      "26215/26215 [==============================] - 45s 2ms/step - loss: 0.0343 - rmse: 0.0603 - r2: 0.9998 - mae: 0.0343 - mse: 0.0036 - mape: 12494.2461 - val_loss: 0.0346 - val_rmse: 0.0608 - val_r2: 0.9998 - val_mae: 0.0346 - val_mse: 0.0037 - val_mape: 16050.3086\n",
      "Epoch 18/100\n",
      "26215/26215 [==============================] - 45s 2ms/step - loss: 0.0342 - rmse: 0.0601 - r2: 0.9998 - mae: 0.0342 - mse: 0.0036 - mape: 13521.2344 - val_loss: 0.0345 - val_rmse: 0.0608 - val_r2: 0.9998 - val_mae: 0.0345 - val_mse: 0.0037 - val_mape: 14692.3691\n",
      "Epoch 19/100\n",
      "26215/26215 [==============================] - 45s 2ms/step - loss: 0.0342 - rmse: 0.0601 - r2: 0.9998 - mae: 0.0342 - mse: 0.0036 - mape: 13755.6768 - val_loss: 0.0343 - val_rmse: 0.0606 - val_r2: 0.9998 - val_mae: 0.0343 - val_mse: 0.0037 - val_mape: 12664.0684\n",
      "Epoch 20/100\n",
      "26215/26215 [==============================] - 45s 2ms/step - loss: 0.0342 - rmse: 0.0600 - r2: 0.9998 - mae: 0.0342 - mse: 0.0036 - mape: 14208.7480 - val_loss: 0.0343 - val_rmse: 0.0605 - val_r2: 0.9998 - val_mae: 0.0343 - val_mse: 0.0037 - val_mape: 17584.9453\n",
      "Epoch 21/100\n",
      "26215/26215 [==============================] - 45s 2ms/step - loss: 0.0341 - rmse: 0.0599 - r2: 0.9998 - mae: 0.0341 - mse: 0.0036 - mape: 14258.8154 - val_loss: 0.0344 - val_rmse: 0.0606 - val_r2: 0.9998 - val_mae: 0.0344 - val_mse: 0.0037 - val_mape: 16626.4551\n",
      "Epoch 22/100\n",
      "26215/26215 [==============================] - 45s 2ms/step - loss: 0.0341 - rmse: 0.0599 - r2: 0.9998 - mae: 0.0341 - mse: 0.0036 - mape: 14460.6689 - val_loss: 0.0343 - val_rmse: 0.0605 - val_r2: 0.9998 - val_mae: 0.0343 - val_mse: 0.0037 - val_mape: 19628.6992\n",
      "Epoch 23/100\n",
      "26215/26215 [==============================] - 45s 2ms/step - loss: 0.0340 - rmse: 0.0599 - r2: 0.9998 - mae: 0.0340 - mse: 0.0036 - mape: 15293.6729 - val_loss: 0.0343 - val_rmse: 0.0604 - val_r2: 0.9998 - val_mae: 0.0343 - val_mse: 0.0037 - val_mape: 20102.1758\n",
      "Epoch 24/100\n",
      "26215/26215 [==============================] - 45s 2ms/step - loss: 0.0340 - rmse: 0.0598 - r2: 0.9998 - mae: 0.0340 - mse: 0.0036 - mape: 15456.3477 - val_loss: 0.0342 - val_rmse: 0.0603 - val_r2: 0.9998 - val_mae: 0.0342 - val_mse: 0.0036 - val_mape: 15512.3467\n",
      "Epoch 25/100\n",
      "26215/26215 [==============================] - 45s 2ms/step - loss: 0.0340 - rmse: 0.0598 - r2: 0.9998 - mae: 0.0340 - mse: 0.0036 - mape: 16732.3340 - val_loss: 0.0342 - val_rmse: 0.0603 - val_r2: 0.9998 - val_mae: 0.0342 - val_mse: 0.0036 - val_mape: 13940.0732\n",
      "Epoch 26/100\n",
      "26215/26215 [==============================] - 46s 2ms/step - loss: 0.0339 - rmse: 0.0597 - r2: 0.9998 - mae: 0.0339 - mse: 0.0036 - mape: 17590.6445 - val_loss: 0.0341 - val_rmse: 0.0604 - val_r2: 0.9998 - val_mae: 0.0341 - val_mse: 0.0036 - val_mape: 19729.9551\n",
      "Epoch 27/100\n",
      "26215/26215 [==============================] - 46s 2ms/step - loss: 0.0339 - rmse: 0.0597 - r2: 0.9998 - mae: 0.0339 - mse: 0.0036 - mape: 18516.1328 - val_loss: 0.0344 - val_rmse: 0.0603 - val_r2: 0.9998 - val_mae: 0.0344 - val_mse: 0.0036 - val_mape: 18944.2012\n",
      "Epoch 28/100\n",
      "26215/26215 [==============================] - 46s 2ms/step - loss: 0.0339 - rmse: 0.0597 - r2: 0.9998 - mae: 0.0339 - mse: 0.0036 - mape: 18848.7832 - val_loss: 0.0341 - val_rmse: 0.0602 - val_r2: 0.9998 - val_mae: 0.0341 - val_mse: 0.0036 - val_mape: 20287.9121\n",
      "Epoch 29/100\n",
      "26215/26215 [==============================] - 46s 2ms/step - loss: 0.0339 - rmse: 0.0596 - r2: 0.9998 - mae: 0.0339 - mse: 0.0036 - mape: 18799.7441 - val_loss: 0.0342 - val_rmse: 0.0602 - val_r2: 0.9998 - val_mae: 0.0342 - val_mse: 0.0036 - val_mape: 23103.3359\n",
      "Epoch 30/100\n",
      "26215/26215 [==============================] - 45s 2ms/step - loss: 0.0338 - rmse: 0.0596 - r2: 0.9998 - mae: 0.0338 - mse: 0.0036 - mape: 18885.2422 - val_loss: 0.0340 - val_rmse: 0.0601 - val_r2: 0.9998 - val_mae: 0.0340 - val_mse: 0.0036 - val_mape: 19181.9082\n"
     ]
    },
    {
     "name": "stdout",
     "output_type": "stream",
     "text": [
      "Epoch 31/100\n",
      "26215/26215 [==============================] - 45s 2ms/step - loss: 0.0338 - rmse: 0.0596 - r2: 0.9998 - mae: 0.0338 - mse: 0.0035 - mape: 19310.4980 - val_loss: 0.0341 - val_rmse: 0.0601 - val_r2: 0.9998 - val_mae: 0.0341 - val_mse: 0.0036 - val_mape: 20246.0488\n",
      "Epoch 32/100\n",
      "26215/26215 [==============================] - 44s 2ms/step - loss: 0.0338 - rmse: 0.0595 - r2: 0.9998 - mae: 0.0338 - mse: 0.0035 - mape: 19273.4844 - val_loss: 0.0340 - val_rmse: 0.0601 - val_r2: 0.9998 - val_mae: 0.0340 - val_mse: 0.0036 - val_mape: 18641.5977\n",
      "Epoch 33/100\n",
      "26215/26215 [==============================] - 45s 2ms/step - loss: 0.0338 - rmse: 0.0595 - r2: 0.9998 - mae: 0.0338 - mse: 0.0035 - mape: 19401.2500 - val_loss: 0.0342 - val_rmse: 0.0602 - val_r2: 0.9998 - val_mae: 0.0342 - val_mse: 0.0036 - val_mape: 12970.2568\n",
      "Epoch 34/100\n",
      "26215/26215 [==============================] - 45s 2ms/step - loss: 0.0338 - rmse: 0.0595 - r2: 0.9998 - mae: 0.0338 - mse: 0.0035 - mape: 19474.7324 - val_loss: 0.0340 - val_rmse: 0.0600 - val_r2: 0.9998 - val_mae: 0.0340 - val_mse: 0.0036 - val_mape: 17051.2754\n",
      "Epoch 35/100\n",
      "26215/26215 [==============================] - 45s 2ms/step - loss: 0.0337 - rmse: 0.0595 - r2: 0.9998 - mae: 0.0337 - mse: 0.0035 - mape: 19565.9941 - val_loss: 0.0339 - val_rmse: 0.0600 - val_r2: 0.9998 - val_mae: 0.0339 - val_mse: 0.0036 - val_mape: 20982.4102\n",
      "Epoch 36/100\n",
      "26215/26215 [==============================] - 45s 2ms/step - loss: 0.0337 - rmse: 0.0594 - r2: 0.9998 - mae: 0.0337 - mse: 0.0035 - mape: 19688.9707 - val_loss: 0.0339 - val_rmse: 0.0600 - val_r2: 0.9998 - val_mae: 0.0339 - val_mse: 0.0036 - val_mape: 20325.0879\n",
      "Epoch 37/100\n",
      "26215/26215 [==============================] - 45s 2ms/step - loss: 0.0337 - rmse: 0.0594 - r2: 0.9998 - mae: 0.0337 - mse: 0.0035 - mape: 19793.6230 - val_loss: 0.0340 - val_rmse: 0.0599 - val_r2: 0.9998 - val_mae: 0.0340 - val_mse: 0.0036 - val_mape: 19183.8887\n",
      "Epoch 38/100\n",
      "26215/26215 [==============================] - 45s 2ms/step - loss: 0.0337 - rmse: 0.0594 - r2: 0.9998 - mae: 0.0337 - mse: 0.0035 - mape: 19718.2949 - val_loss: 0.0339 - val_rmse: 0.0600 - val_r2: 0.9998 - val_mae: 0.0339 - val_mse: 0.0036 - val_mape: 22712.3047\n",
      "Epoch 39/100\n",
      "26215/26215 [==============================] - 45s 2ms/step - loss: 0.0337 - rmse: 0.0593 - r2: 0.9998 - mae: 0.0337 - mse: 0.0035 - mape: 19894.5801 - val_loss: 0.0339 - val_rmse: 0.0600 - val_r2: 0.9998 - val_mae: 0.0339 - val_mse: 0.0036 - val_mape: 19261.4219\n",
      "Epoch 40/100\n",
      "26215/26215 [==============================] - 45s 2ms/step - loss: 0.0337 - rmse: 0.0593 - r2: 0.9998 - mae: 0.0337 - mse: 0.0035 - mape: 20142.7637 - val_loss: 0.0339 - val_rmse: 0.0599 - val_r2: 0.9998 - val_mae: 0.0339 - val_mse: 0.0036 - val_mape: 20487.1855\n",
      "Epoch 41/100\n",
      "26215/26215 [==============================] - 45s 2ms/step - loss: 0.0337 - rmse: 0.0593 - r2: 0.9998 - mae: 0.0337 - mse: 0.0035 - mape: 20135.7422 - val_loss: 0.0340 - val_rmse: 0.0600 - val_r2: 0.9998 - val_mae: 0.0340 - val_mse: 0.0036 - val_mape: 18675.1191\n",
      "Epoch 42/100\n",
      "26215/26215 [==============================] - 45s 2ms/step - loss: 0.0336 - rmse: 0.0593 - r2: 0.9998 - mae: 0.0336 - mse: 0.0035 - mape: 20280.8672 - val_loss: 0.0339 - val_rmse: 0.0599 - val_r2: 0.9998 - val_mae: 0.0339 - val_mse: 0.0036 - val_mape: 21136.2793\n",
      "Epoch 43/100\n",
      "26215/26215 [==============================] - 45s 2ms/step - loss: 0.0336 - rmse: 0.0593 - r2: 0.9998 - mae: 0.0336 - mse: 0.0035 - mape: 20362.3789 - val_loss: 0.0340 - val_rmse: 0.0599 - val_r2: 0.9998 - val_mae: 0.0340 - val_mse: 0.0036 - val_mape: 22173.1445\n",
      "Epoch 44/100\n",
      "26215/26215 [==============================] - 45s 2ms/step - loss: 0.0336 - rmse: 0.0593 - r2: 0.9998 - mae: 0.0336 - mse: 0.0035 - mape: 20341.1758 - val_loss: 0.0340 - val_rmse: 0.0600 - val_r2: 0.9998 - val_mae: 0.0340 - val_mse: 0.0036 - val_mape: 19542.4199\n",
      "Epoch 45/100\n",
      "26215/26215 [==============================] - 45s 2ms/step - loss: 0.0336 - rmse: 0.0592 - r2: 0.9998 - mae: 0.0336 - mse: 0.0035 - mape: 20512.8926 - val_loss: 0.0338 - val_rmse: 0.0598 - val_r2: 0.9998 - val_mae: 0.0338 - val_mse: 0.0036 - val_mape: 20664.6250\n",
      "Epoch 46/100\n",
      "26215/26215 [==============================] - 45s 2ms/step - loss: 0.0336 - rmse: 0.0592 - r2: 0.9998 - mae: 0.0336 - mse: 0.0035 - mape: 20517.6973 - val_loss: 0.0338 - val_rmse: 0.0598 - val_r2: 0.9998 - val_mae: 0.0338 - val_mse: 0.0036 - val_mape: 19213.6797\n",
      "Epoch 47/100\n",
      "26215/26215 [==============================] - 45s 2ms/step - loss: 0.0336 - rmse: 0.0592 - r2: 0.9998 - mae: 0.0336 - mse: 0.0035 - mape: 20693.0117 - val_loss: 0.0338 - val_rmse: 0.0598 - val_r2: 0.9998 - val_mae: 0.0338 - val_mse: 0.0036 - val_mape: 18517.5059\n",
      "Epoch 48/100\n",
      "26215/26215 [==============================] - 45s 2ms/step - loss: 0.0336 - rmse: 0.0592 - r2: 0.9998 - mae: 0.0336 - mse: 0.0035 - mape: 20756.5742 - val_loss: 0.0338 - val_rmse: 0.0597 - val_r2: 0.9998 - val_mae: 0.0338 - val_mse: 0.0036 - val_mape: 20890.1465\n",
      "Epoch 49/100\n",
      "26215/26215 [==============================] - 45s 2ms/step - loss: 0.0336 - rmse: 0.0592 - r2: 0.9998 - mae: 0.0336 - mse: 0.0035 - mape: 21000.1406 - val_loss: 0.0339 - val_rmse: 0.0598 - val_r2: 0.9998 - val_mae: 0.0339 - val_mse: 0.0036 - val_mape: 22500.7051\n",
      "Epoch 50/100\n",
      "26215/26215 [==============================] - 45s 2ms/step - loss: 0.0336 - rmse: 0.0592 - r2: 0.9998 - mae: 0.0336 - mse: 0.0035 - mape: 20861.6621 - val_loss: 0.0338 - val_rmse: 0.0597 - val_r2: 0.9998 - val_mae: 0.0338 - val_mse: 0.0036 - val_mape: 23113.5176\n",
      "Epoch 51/100\n",
      "26215/26215 [==============================] - 45s 2ms/step - loss: 0.0336 - rmse: 0.0591 - r2: 0.9998 - mae: 0.0336 - mse: 0.0035 - mape: 21122.7617 - val_loss: 0.0341 - val_rmse: 0.0598 - val_r2: 0.9998 - val_mae: 0.0341 - val_mse: 0.0036 - val_mape: 23194.2168\n",
      "Epoch 52/100\n",
      "26215/26215 [==============================] - 45s 2ms/step - loss: 0.0335 - rmse: 0.0591 - r2: 0.9998 - mae: 0.0335 - mse: 0.0035 - mape: 21154.2539 - val_loss: 0.0337 - val_rmse: 0.0597 - val_r2: 0.9998 - val_mae: 0.0337 - val_mse: 0.0036 - val_mape: 19838.4375\n",
      "Epoch 53/100\n",
      "26215/26215 [==============================] - 45s 2ms/step - loss: 0.0335 - rmse: 0.0591 - r2: 0.9998 - mae: 0.0335 - mse: 0.0035 - mape: 21235.4707 - val_loss: 0.0339 - val_rmse: 0.0599 - val_r2: 0.9998 - val_mae: 0.0339 - val_mse: 0.0036 - val_mape: 22120.9277\n",
      "Epoch 54/100\n",
      "26215/26215 [==============================] - 45s 2ms/step - loss: 0.0335 - rmse: 0.0591 - r2: 0.9998 - mae: 0.0335 - mse: 0.0035 - mape: 21400.4199 - val_loss: 0.0337 - val_rmse: 0.0596 - val_r2: 0.9998 - val_mae: 0.0337 - val_mse: 0.0036 - val_mape: 22604.8633\n",
      "Epoch 55/100\n",
      "26215/26215 [==============================] - 46s 2ms/step - loss: 0.0335 - rmse: 0.0591 - r2: 0.9998 - mae: 0.0335 - mse: 0.0035 - mape: 21480.3789 - val_loss: 0.0337 - val_rmse: 0.0597 - val_r2: 0.9998 - val_mae: 0.0337 - val_mse: 0.0036 - val_mape: 22557.6680\n",
      "Epoch 56/100\n",
      "26215/26215 [==============================] - 45s 2ms/step - loss: 0.0335 - rmse: 0.0591 - r2: 0.9998 - mae: 0.0335 - mse: 0.0035 - mape: 21538.5957 - val_loss: 0.0337 - val_rmse: 0.0597 - val_r2: 0.9998 - val_mae: 0.0337 - val_mse: 0.0036 - val_mape: 22046.4980\n",
      "Epoch 57/100\n",
      "26215/26215 [==============================] - 45s 2ms/step - loss: 0.0335 - rmse: 0.0591 - r2: 0.9998 - mae: 0.0335 - mse: 0.0035 - mape: 21539.6328 - val_loss: 0.0337 - val_rmse: 0.0598 - val_r2: 0.9998 - val_mae: 0.0337 - val_mse: 0.0036 - val_mape: 22206.7520\n",
      "Epoch 58/100\n",
      "26215/26215 [==============================] - 45s 2ms/step - loss: 0.0335 - rmse: 0.0591 - r2: 0.9998 - mae: 0.0335 - mse: 0.0035 - mape: 21523.9844 - val_loss: 0.0337 - val_rmse: 0.0597 - val_r2: 0.9998 - val_mae: 0.0337 - val_mse: 0.0036 - val_mape: 22098.8477\n",
      "Epoch 59/100\n",
      "26215/26215 [==============================] - 45s 2ms/step - loss: 0.0335 - rmse: 0.0590 - r2: 0.9998 - mae: 0.0335 - mse: 0.0035 - mape: 21679.1680 - val_loss: 0.0337 - val_rmse: 0.0597 - val_r2: 0.9998 - val_mae: 0.0337 - val_mse: 0.0036 - val_mape: 20867.7441\n",
      "Epoch 60/100\n",
      "26215/26215 [==============================] - 45s 2ms/step - loss: 0.0335 - rmse: 0.0590 - r2: 0.9998 - mae: 0.0335 - mse: 0.0035 - mape: 21563.1113 - val_loss: 0.0337 - val_rmse: 0.0597 - val_r2: 0.9998 - val_mae: 0.0337 - val_mse: 0.0036 - val_mape: 21508.1465\n"
     ]
    },
    {
     "name": "stdout",
     "output_type": "stream",
     "text": [
      "Epoch 61/100\n",
      "26215/26215 [==============================] - 44s 2ms/step - loss: 0.0335 - rmse: 0.0590 - r2: 0.9998 - mae: 0.0335 - mse: 0.0035 - mape: 21467.4336 - val_loss: 0.0337 - val_rmse: 0.0596 - val_r2: 0.9998 - val_mae: 0.0337 - val_mse: 0.0036 - val_mape: 21845.3633\n",
      "Epoch 62/100\n",
      "26215/26215 [==============================] - 45s 2ms/step - loss: 0.0335 - rmse: 0.0590 - r2: 0.9998 - mae: 0.0335 - mse: 0.0035 - mape: 21793.1016 - val_loss: 0.0338 - val_rmse: 0.0596 - val_r2: 0.9998 - val_mae: 0.0338 - val_mse: 0.0036 - val_mape: 19570.8965\n",
      "Epoch 63/100\n",
      "26215/26215 [==============================] - 45s 2ms/step - loss: 0.0335 - rmse: 0.0590 - r2: 0.9998 - mae: 0.0335 - mse: 0.0035 - mape: 21591.6895 - val_loss: 0.0337 - val_rmse: 0.0596 - val_r2: 0.9998 - val_mae: 0.0337 - val_mse: 0.0036 - val_mape: 21602.5527\n",
      "Epoch 64/100\n",
      "26215/26215 [==============================] - 44s 2ms/step - loss: 0.0335 - rmse: 0.0590 - r2: 0.9998 - mae: 0.0335 - mse: 0.0035 - mape: 21628.9941 - val_loss: 0.0337 - val_rmse: 0.0596 - val_r2: 0.9998 - val_mae: 0.0337 - val_mse: 0.0036 - val_mape: 20083.7168\n",
      "Epoch 65/100\n",
      "26215/26215 [==============================] - 44s 2ms/step - loss: 0.0335 - rmse: 0.0590 - r2: 0.9998 - mae: 0.0335 - mse: 0.0035 - mape: 21757.9746 - val_loss: 0.0337 - val_rmse: 0.0597 - val_r2: 0.9998 - val_mae: 0.0337 - val_mse: 0.0036 - val_mape: 23725.8066\n",
      "Epoch 66/100\n",
      "26215/26215 [==============================] - 45s 2ms/step - loss: 0.0335 - rmse: 0.0590 - r2: 0.9998 - mae: 0.0335 - mse: 0.0035 - mape: 21690.7871 - val_loss: 0.0337 - val_rmse: 0.0597 - val_r2: 0.9998 - val_mae: 0.0337 - val_mse: 0.0036 - val_mape: 18020.0020\n",
      "Epoch 67/100\n",
      "26215/26215 [==============================] - 45s 2ms/step - loss: 0.0334 - rmse: 0.0590 - r2: 0.9998 - mae: 0.0334 - mse: 0.0035 - mape: 21569.7461 - val_loss: 0.0338 - val_rmse: 0.0597 - val_r2: 0.9998 - val_mae: 0.0338 - val_mse: 0.0036 - val_mape: 21653.4102\n",
      "Epoch 68/100\n",
      "26215/26215 [==============================] - 45s 2ms/step - loss: 0.0334 - rmse: 0.0590 - r2: 0.9998 - mae: 0.0334 - mse: 0.0035 - mape: 21619.4980 - val_loss: 0.0336 - val_rmse: 0.0596 - val_r2: 0.9998 - val_mae: 0.0336 - val_mse: 0.0036 - val_mape: 20111.3672\n",
      "Epoch 69/100\n",
      "26215/26215 [==============================] - 45s 2ms/step - loss: 0.0334 - rmse: 0.0590 - r2: 0.9998 - mae: 0.0334 - mse: 0.0035 - mape: 21471.4473 - val_loss: 0.0336 - val_rmse: 0.0595 - val_r2: 0.9998 - val_mae: 0.0336 - val_mse: 0.0035 - val_mape: 22428.7227\n",
      "Epoch 70/100\n",
      "26215/26215 [==============================] - 45s 2ms/step - loss: 0.0334 - rmse: 0.0589 - r2: 0.9998 - mae: 0.0334 - mse: 0.0035 - mape: 21670.8066 - val_loss: 0.0337 - val_rmse: 0.0595 - val_r2: 0.9998 - val_mae: 0.0337 - val_mse: 0.0035 - val_mape: 20611.7559\n",
      "Epoch 71/100\n",
      "26215/26215 [==============================] - 45s 2ms/step - loss: 0.0334 - rmse: 0.0589 - r2: 0.9998 - mae: 0.0334 - mse: 0.0035 - mape: 21512.6992 - val_loss: 0.0337 - val_rmse: 0.0596 - val_r2: 0.9998 - val_mae: 0.0337 - val_mse: 0.0036 - val_mape: 25048.9707\n",
      "Epoch 72/100\n",
      "26215/26215 [==============================] - 45s 2ms/step - loss: 0.0334 - rmse: 0.0589 - r2: 0.9998 - mae: 0.0334 - mse: 0.0035 - mape: 21606.2773 - val_loss: 0.0337 - val_rmse: 0.0595 - val_r2: 0.9998 - val_mae: 0.0337 - val_mse: 0.0035 - val_mape: 25928.7969\n",
      "Epoch 73/100\n",
      "26215/26215 [==============================] - 45s 2ms/step - loss: 0.0334 - rmse: 0.0589 - r2: 0.9998 - mae: 0.0334 - mse: 0.0035 - mape: 21347.4668 - val_loss: 0.0337 - val_rmse: 0.0596 - val_r2: 0.9998 - val_mae: 0.0337 - val_mse: 0.0035 - val_mape: 23407.1895\n",
      "Epoch 74/100\n",
      "26215/26215 [==============================] - 45s 2ms/step - loss: 0.0334 - rmse: 0.0589 - r2: 0.9998 - mae: 0.0334 - mse: 0.0035 - mape: 21743.0703 - val_loss: 0.0336 - val_rmse: 0.0595 - val_r2: 0.9998 - val_mae: 0.0336 - val_mse: 0.0035 - val_mape: 20203.9297\n",
      "Epoch 75/100\n",
      "26215/26215 [==============================] - 45s 2ms/step - loss: 0.0334 - rmse: 0.0589 - r2: 0.9998 - mae: 0.0334 - mse: 0.0035 - mape: 21524.4336 - val_loss: 0.0336 - val_rmse: 0.0595 - val_r2: 0.9998 - val_mae: 0.0336 - val_mse: 0.0035 - val_mape: 22915.3730\n",
      "Epoch 76/100\n",
      "26215/26215 [==============================] - 45s 2ms/step - loss: 0.0334 - rmse: 0.0589 - r2: 0.9998 - mae: 0.0334 - mse: 0.0035 - mape: 21435.2676 - val_loss: 0.0336 - val_rmse: 0.0595 - val_r2: 0.9998 - val_mae: 0.0336 - val_mse: 0.0035 - val_mape: 22894.4062\n",
      "Epoch 77/100\n",
      "26215/26215 [==============================] - 45s 2ms/step - loss: 0.0334 - rmse: 0.0589 - r2: 0.9998 - mae: 0.0334 - mse: 0.0035 - mape: 21504.1914 - val_loss: 0.0336 - val_rmse: 0.0595 - val_r2: 0.9998 - val_mae: 0.0336 - val_mse: 0.0035 - val_mape: 23163.6426\n",
      "Epoch 78/100\n",
      "26215/26215 [==============================] - 45s 2ms/step - loss: 0.0334 - rmse: 0.0589 - r2: 0.9998 - mae: 0.0334 - mse: 0.0035 - mape: 21643.8926 - val_loss: 0.0336 - val_rmse: 0.0595 - val_r2: 0.9998 - val_mae: 0.0336 - val_mse: 0.0035 - val_mape: 20232.7676\n",
      "Epoch 79/100\n",
      "26215/26215 [==============================] - 45s 2ms/step - loss: 0.0334 - rmse: 0.0589 - r2: 0.9998 - mae: 0.0334 - mse: 0.0035 - mape: 21643.5254 - val_loss: 0.0337 - val_rmse: 0.0596 - val_r2: 0.9998 - val_mae: 0.0337 - val_mse: 0.0035 - val_mape: 18418.6094\n",
      "Epoch 80/100\n",
      "26215/26215 [==============================] - 45s 2ms/step - loss: 0.0334 - rmse: 0.0589 - r2: 0.9998 - mae: 0.0334 - mse: 0.0035 - mape: 21544.0508 - val_loss: 0.0336 - val_rmse: 0.0595 - val_r2: 0.9998 - val_mae: 0.0336 - val_mse: 0.0035 - val_mape: 19484.7695\n",
      "Epoch 81/100\n",
      "26215/26215 [==============================] - 45s 2ms/step - loss: 0.0334 - rmse: 0.0589 - r2: 0.9998 - mae: 0.0334 - mse: 0.0035 - mape: 21579.2070 - val_loss: 0.0336 - val_rmse: 0.0595 - val_r2: 0.9998 - val_mae: 0.0336 - val_mse: 0.0035 - val_mape: 22321.4648\n",
      "Epoch 82/100\n",
      "26215/26215 [==============================] - 46s 2ms/step - loss: 0.0334 - rmse: 0.0589 - r2: 0.9998 - mae: 0.0334 - mse: 0.0035 - mape: 21441.1289 - val_loss: 0.0336 - val_rmse: 0.0595 - val_r2: 0.9998 - val_mae: 0.0336 - val_mse: 0.0035 - val_mape: 19220.6289\n",
      "Epoch 83/100\n",
      "26215/26215 [==============================] - 45s 2ms/step - loss: 0.0334 - rmse: 0.0589 - r2: 0.9998 - mae: 0.0334 - mse: 0.0035 - mape: 21618.5723 - val_loss: 0.0336 - val_rmse: 0.0595 - val_r2: 0.9998 - val_mae: 0.0336 - val_mse: 0.0035 - val_mape: 20332.2832\n",
      "Epoch 84/100\n",
      "26215/26215 [==============================] - 47s 2ms/step - loss: 0.0334 - rmse: 0.0589 - r2: 0.9998 - mae: 0.0334 - mse: 0.0035 - mape: 21652.2656 - val_loss: 0.0336 - val_rmse: 0.0594 - val_r2: 0.9998 - val_mae: 0.0336 - val_mse: 0.0035 - val_mape: 20738.6113\n",
      "Epoch 85/100\n",
      "26215/26215 [==============================] - 46s 2ms/step - loss: 0.0334 - rmse: 0.0588 - r2: 0.9998 - mae: 0.0334 - mse: 0.0035 - mape: 21550.1895 - val_loss: 0.0336 - val_rmse: 0.0596 - val_r2: 0.9998 - val_mae: 0.0336 - val_mse: 0.0035 - val_mape: 22445.7148\n",
      "Epoch 86/100\n",
      "26215/26215 [==============================] - 45s 2ms/step - loss: 0.0334 - rmse: 0.0588 - r2: 0.9998 - mae: 0.0334 - mse: 0.0035 - mape: 21619.0547 - val_loss: 0.0336 - val_rmse: 0.0595 - val_r2: 0.9998 - val_mae: 0.0336 - val_mse: 0.0035 - val_mape: 22314.2344\n",
      "Epoch 87/100\n",
      "26215/26215 [==============================] - 45s 2ms/step - loss: 0.0334 - rmse: 0.0588 - r2: 0.9998 - mae: 0.0334 - mse: 0.0035 - mape: 21657.6738 - val_loss: 0.0336 - val_rmse: 0.0594 - val_r2: 0.9998 - val_mae: 0.0336 - val_mse: 0.0035 - val_mape: 22996.9531\n",
      "Epoch 88/100\n",
      "26215/26215 [==============================] - 45s 2ms/step - loss: 0.0334 - rmse: 0.0588 - r2: 0.9998 - mae: 0.0334 - mse: 0.0035 - mape: 21976.0098 - val_loss: 0.0336 - val_rmse: 0.0594 - val_r2: 0.9998 - val_mae: 0.0336 - val_mse: 0.0035 - val_mape: 21450.8398\n",
      "Epoch 89/100\n",
      "26215/26215 [==============================] - 45s 2ms/step - loss: 0.0334 - rmse: 0.0588 - r2: 0.9998 - mae: 0.0334 - mse: 0.0035 - mape: 21750.3770 - val_loss: 0.0336 - val_rmse: 0.0594 - val_r2: 0.9998 - val_mae: 0.0336 - val_mse: 0.0035 - val_mape: 21547.2285\n",
      "Epoch 90/100\n",
      "26215/26215 [==============================] - 46s 2ms/step - loss: 0.0334 - rmse: 0.0588 - r2: 0.9998 - mae: 0.0334 - mse: 0.0035 - mape: 21807.6426 - val_loss: 0.0336 - val_rmse: 0.0594 - val_r2: 0.9998 - val_mae: 0.0336 - val_mse: 0.0035 - val_mape: 21294.8535\n"
     ]
    },
    {
     "name": "stdout",
     "output_type": "stream",
     "text": [
      "Epoch 91/100\n",
      "26215/26215 [==============================] - 45s 2ms/step - loss: 0.0334 - rmse: 0.0588 - r2: 0.9998 - mae: 0.0334 - mse: 0.0035 - mape: 21971.0742 - val_loss: 0.0336 - val_rmse: 0.0594 - val_r2: 0.9998 - val_mae: 0.0336 - val_mse: 0.0035 - val_mape: 21076.4141\n",
      "Epoch 92/100\n",
      "26215/26215 [==============================] - 45s 2ms/step - loss: 0.0333 - rmse: 0.0588 - r2: 0.9998 - mae: 0.0333 - mse: 0.0035 - mape: 21881.6816 - val_loss: 0.0336 - val_rmse: 0.0594 - val_r2: 0.9998 - val_mae: 0.0336 - val_mse: 0.0035 - val_mape: 20722.1211\n",
      "Epoch 93/100\n",
      "26215/26215 [==============================] - 45s 2ms/step - loss: 0.0333 - rmse: 0.0588 - r2: 0.9998 - mae: 0.0333 - mse: 0.0035 - mape: 22008.0195 - val_loss: 0.0336 - val_rmse: 0.0594 - val_r2: 0.9998 - val_mae: 0.0336 - val_mse: 0.0035 - val_mape: 21813.8887\n",
      "Epoch 94/100\n",
      "26215/26215 [==============================] - 45s 2ms/step - loss: 0.0333 - rmse: 0.0588 - r2: 0.9998 - mae: 0.0333 - mse: 0.0035 - mape: 22363.5977 - val_loss: 0.0336 - val_rmse: 0.0594 - val_r2: 0.9998 - val_mae: 0.0336 - val_mse: 0.0035 - val_mape: 22125.1992\n",
      "Epoch 95/100\n",
      "26215/26215 [==============================] - 45s 2ms/step - loss: 0.0333 - rmse: 0.0588 - r2: 0.9998 - mae: 0.0333 - mse: 0.0035 - mape: 22420.8145 - val_loss: 0.0336 - val_rmse: 0.0594 - val_r2: 0.9998 - val_mae: 0.0336 - val_mse: 0.0035 - val_mape: 21002.8789\n",
      "Epoch 96/100\n",
      "26215/26215 [==============================] - 45s 2ms/step - loss: 0.0333 - rmse: 0.0588 - r2: 0.9998 - mae: 0.0333 - mse: 0.0035 - mape: 22406.8926 - val_loss: 0.0336 - val_rmse: 0.0594 - val_r2: 0.9998 - val_mae: 0.0336 - val_mse: 0.0035 - val_mape: 22186.0898\n",
      "Epoch 97/100\n",
      "26215/26215 [==============================] - 45s 2ms/step - loss: 0.0333 - rmse: 0.0588 - r2: 0.9998 - mae: 0.0333 - mse: 0.0035 - mape: 22412.0078 - val_loss: 0.0335 - val_rmse: 0.0594 - val_r2: 0.9998 - val_mae: 0.0335 - val_mse: 0.0035 - val_mape: 22959.1152\n",
      "Epoch 98/100\n",
      "26215/26215 [==============================] - 45s 2ms/step - loss: 0.0333 - rmse: 0.0588 - r2: 0.9998 - mae: 0.0333 - mse: 0.0035 - mape: 22268.0176 - val_loss: 0.0335 - val_rmse: 0.0594 - val_r2: 0.9998 - val_mae: 0.0335 - val_mse: 0.0035 - val_mape: 23109.5020\n",
      "Epoch 99/100\n",
      "26215/26215 [==============================] - 45s 2ms/step - loss: 0.0333 - rmse: 0.0588 - r2: 0.9998 - mae: 0.0333 - mse: 0.0035 - mape: 22446.4219 - val_loss: 0.0336 - val_rmse: 0.0593 - val_r2: 0.9998 - val_mae: 0.0336 - val_mse: 0.0035 - val_mape: 22392.0566\n",
      "Epoch 100/100\n",
      "26215/26215 [==============================] - 45s 2ms/step - loss: 0.0333 - rmse: 0.0588 - r2: 0.9998 - mae: 0.0333 - mse: 0.0035 - mape: 22482.7949 - val_loss: 0.0335 - val_rmse: 0.0593 - val_r2: 0.9998 - val_mae: 0.0335 - val_mse: 0.0035 - val_mape: 23035.9883\n",
      "CPU times: total: 2h 12min 17s\n",
      "Wall time: 1h 15min 5s\n"
     ]
    }
   ],
   "source": [
    "%%time\n",
    "tf.random.set_seed(42)\n",
    "\n",
    "model_2 = tf.keras.Sequential([tf.keras.layers.Dense(150,activation = 'linear'),\n",
    "                               tf.keras.layers.Dense(100,activation = 'relu'),\n",
    "                               tf.keras.layers.Dense(50),\n",
    "                               tf.keras.layers.Dense(20),\n",
    "                               tf.keras.layers.Dense(1)])\n",
    "\n",
    "model_2.compile(loss = tf.keras.losses.mae,\n",
    "                optimizer = tf.keras.optimizers.legacy.Adam(learning_rate=0.001,decay=0.001),\n",
    "                metrics=[tf.keras.metrics.RootMeanSquaredError(name='rmse'),\n",
    "                         tfa.metrics.RSquare(name='r2'),'mae','mse','mape'])\n",
    "\n",
    "history_2 = model_2.fit(X_train,Y_train, epochs= 100,batch_size=32,validation_data=(X_test,Y_test), callbacks = callback)"
   ]
  },
  {
   "cell_type": "code",
   "execution_count": 25,
   "id": "06e7fdc4",
   "metadata": {},
   "outputs": [
    {
     "data": {
      "image/png": "[encoded data removed]",
      "text/plain": [
       "<Figure size 640x480 with 1 Axes>"
      ]
     },
     "metadata": {},
     "output_type": "display_data"
    }
   ],
   "source": [
    "plot_his(history_2)"
   ]
  },
  {
   "cell_type": "code",
   "execution_count": 26,
   "id": "b766a6db",
   "metadata": {},
   "outputs": [
    {
     "name": "stdout",
     "output_type": "stream",
     "text": [
      "6554/6554 [==============================] - 7s 1ms/step - loss: 0.0335 - rmse: 0.0593 - r2: 0.9998 - mae: 0.0335 - mse: 0.0035 - mape: 23035.9883\n"
     ]
    },
    {
     "data": {
      "text/plain": [
       "[0.03353738412261009,\n",
       " 0.059344276785850525,\n",
       " 0.9997735023498535,\n",
       " 0.03353738412261009,\n",
       " 0.003521743230521679,\n",
       " 23035.98828125]"
      ]
     },
     "execution_count": 26,
     "metadata": {},
     "output_type": "execute_result"
    }
   ],
   "source": [
    "model_2.evaluate(X_test,Y_test)"
   ]
  },
  {
   "cell_type": "code",
   "execution_count": 27,
   "id": "9277cb84",
   "metadata": {},
   "outputs": [
    {
     "name": "stdout",
     "output_type": "stream",
     "text": [
      "6554/6554 [==============================] - 5s 802us/step\n"
     ]
    }
   ],
   "source": [
    "Y_pred_2 = model_2.predict(X_test)"
   ]
  },
  {
   "cell_type": "code",
   "execution_count": 28,
   "id": "c49e4c99",
   "metadata": {},
   "outputs": [
    {
     "name": "stdout",
     "output_type": "stream",
     "text": [
      "Model: \"sequential_1\"\n",
      "_________________________________________________________________\n",
      " Layer (type)                Output Shape              Param #   \n",
      "=================================================================\n",
      " dense_6 (Dense)             (None, 150)               600       \n",
      "                                                                 \n",
      " dense_7 (Dense)             (None, 100)               15100     \n",
      "                                                                 \n",
      " dense_8 (Dense)             (None, 50)                5050      \n",
      "                                                                 \n",
      " dense_9 (Dense)             (None, 20)                1020      \n",
      "                                                                 \n",
      " dense_10 (Dense)            (None, 1)                 21        \n",
      "                                                                 \n",
      "=================================================================\n",
      "Total params: 21,791\n",
      "Trainable params: 21,791\n",
      "Non-trainable params: 0\n",
      "_________________________________________________________________\n"
     ]
    }
   ],
   "source": [
    "model_2.summary()"
   ]
  },
  {
   "cell_type": "code",
   "execution_count": 29,
   "id": "bb95cc40",
   "metadata": {},
   "outputs": [
    {
     "name": "stdout",
     "output_type": "stream",
     "text": [
      "AIC:  43672.68\n"
     ]
    }
   ],
   "source": [
    "AIC_value(model_2,Y_pred_2,Y_test)"
   ]
  },
  {
   "cell_type": "code",
   "execution_count": 30,
   "id": "510e1f91",
   "metadata": {},
   "outputs": [],
   "source": [
    "model_2.save('Saved_models/model_2_SOEesti.h5')"
   ]
  },
  {
   "cell_type": "code",
   "execution_count": null,
   "id": "6ee75d98",
   "metadata": {},
   "outputs": [],
   "source": []
  },
  {
   "cell_type": "code",
   "execution_count": null,
   "id": "9120ec5c",
   "metadata": {},
   "outputs": [],
   "source": []
  },
  {
   "cell_type": "code",
   "execution_count": null,
   "id": "cef5019b",
   "metadata": {},
   "outputs": [],
   "source": []
  },
  {
   "cell_type": "code",
   "execution_count": 17,
   "id": "8c6583bc",
   "metadata": {},
   "outputs": [
    {
     "name": "stdout",
     "output_type": "stream",
     "text": [
      "Epoch 1/100\n",
      "26215/26215 [==============================] - 62s 2ms/step - loss: 0.0631 - rmse: 0.2233 - r2: 0.9968 - mae: 0.0631 - mse: 0.0499 - mape: 61493.7734 - val_loss: 0.0411 - val_rmse: 0.0676 - val_r2: 0.9997 - val_mae: 0.0411 - val_mse: 0.0046 - val_mape: 30027.8672\n",
      "Epoch 2/100\n",
      "26215/26215 [==============================] - 61s 2ms/step - loss: 0.0392 - rmse: 0.0657 - r2: 0.9997 - mae: 0.0392 - mse: 0.0043 - mape: 23097.1309 - val_loss: 0.0382 - val_rmse: 0.0646 - val_r2: 0.9997 - val_mae: 0.0382 - val_mse: 0.0042 - val_mape: 46340.2500\n",
      "Epoch 3/100\n",
      "26215/26215 [==============================] - 60s 2ms/step - loss: 0.0373 - rmse: 0.0636 - r2: 0.9997 - mae: 0.0373 - mse: 0.0040 - mape: 28628.0664 - val_loss: 0.0384 - val_rmse: 0.0639 - val_r2: 0.9997 - val_mae: 0.0384 - val_mse: 0.0041 - val_mape: 18207.3809\n",
      "Epoch 4/100\n",
      "26215/26215 [==============================] - 60s 2ms/step - loss: 0.0364 - rmse: 0.0625 - r2: 0.9997 - mae: 0.0364 - mse: 0.0039 - mape: 29978.4336 - val_loss: 0.0357 - val_rmse: 0.0620 - val_r2: 0.9998 - val_mae: 0.0357 - val_mse: 0.0038 - val_mape: 25856.0234\n",
      "Epoch 5/100\n",
      "26215/26215 [==============================] - 61s 2ms/step - loss: 0.0358 - rmse: 0.0618 - r2: 0.9998 - mae: 0.0358 - mse: 0.0038 - mape: 29690.5859 - val_loss: 0.0354 - val_rmse: 0.0615 - val_r2: 0.9998 - val_mae: 0.0354 - val_mse: 0.0038 - val_mape: 25852.7148\n",
      "Epoch 6/100\n",
      "26215/26215 [==============================] - 65s 2ms/step - loss: 0.0354 - rmse: 0.0613 - r2: 0.9998 - mae: 0.0354 - mse: 0.0038 - mape: 29922.3887 - val_loss: 0.0351 - val_rmse: 0.0613 - val_r2: 0.9998 - val_mae: 0.0351 - val_mse: 0.0038 - val_mape: 28266.7344\n",
      "Epoch 7/100\n",
      "26215/26215 [==============================] - 65s 2ms/step - loss: 0.0351 - rmse: 0.0609 - r2: 0.9998 - mae: 0.0351 - mse: 0.0037 - mape: 29848.9941 - val_loss: 0.0348 - val_rmse: 0.0608 - val_r2: 0.9998 - val_mae: 0.0348 - val_mse: 0.0037 - val_mape: 23201.3242\n",
      "Epoch 8/100\n",
      "26215/26215 [==============================] - 64s 2ms/step - loss: 0.0348 - rmse: 0.0605 - r2: 0.9998 - mae: 0.0348 - mse: 0.0037 - mape: 29177.0605 - val_loss: 0.0345 - val_rmse: 0.0603 - val_r2: 0.9998 - val_mae: 0.0345 - val_mse: 0.0036 - val_mape: 32385.4883\n",
      "Epoch 9/100\n",
      "26215/26215 [==============================] - 64s 2ms/step - loss: 0.0346 - rmse: 0.0602 - r2: 0.9998 - mae: 0.0346 - mse: 0.0036 - mape: 28980.4609 - val_loss: 0.0343 - val_rmse: 0.0602 - val_r2: 0.9998 - val_mae: 0.0343 - val_mse: 0.0036 - val_mape: 30515.7422\n",
      "Epoch 10/100\n",
      "26215/26215 [==============================] - 64s 2ms/step - loss: 0.0344 - rmse: 0.0600 - r2: 0.9998 - mae: 0.0344 - mse: 0.0036 - mape: 28209.5176 - val_loss: 0.0347 - val_rmse: 0.0601 - val_r2: 0.9998 - val_mae: 0.0347 - val_mse: 0.0036 - val_mape: 36124.1641\n",
      "Epoch 11/100\n",
      "26215/26215 [==============================] - 64s 2ms/step - loss: 0.0343 - rmse: 0.0598 - r2: 0.9998 - mae: 0.0343 - mse: 0.0036 - mape: 27654.2168 - val_loss: 0.0357 - val_rmse: 0.0602 - val_r2: 0.9998 - val_mae: 0.0357 - val_mse: 0.0036 - val_mape: 36640.6445\n",
      "Epoch 12/100\n",
      "26215/26215 [==============================] - 65s 2ms/step - loss: 0.0342 - rmse: 0.0595 - r2: 0.9998 - mae: 0.0342 - mse: 0.0035 - mape: 26995.7324 - val_loss: 0.0340 - val_rmse: 0.0595 - val_r2: 0.9998 - val_mae: 0.0340 - val_mse: 0.0035 - val_mape: 30985.5059\n",
      "Epoch 13/100\n",
      "26215/26215 [==============================] - 62s 2ms/step - loss: 0.0340 - rmse: 0.0594 - r2: 0.9998 - mae: 0.0340 - mse: 0.0035 - mape: 26698.0488 - val_loss: 0.0339 - val_rmse: 0.0593 - val_r2: 0.9998 - val_mae: 0.0339 - val_mse: 0.0035 - val_mape: 26251.3379\n",
      "Epoch 14/100\n",
      "26215/26215 [==============================] - 65s 2ms/step - loss: 0.0340 - rmse: 0.0592 - r2: 0.9998 - mae: 0.0340 - mse: 0.0035 - mape: 26014.7266 - val_loss: 0.0339 - val_rmse: 0.0593 - val_r2: 0.9998 - val_mae: 0.0339 - val_mse: 0.0035 - val_mape: 18682.1309\n",
      "Epoch 15/100\n",
      "26215/26215 [==============================] - 64s 2ms/step - loss: 0.0339 - rmse: 0.0590 - r2: 0.9998 - mae: 0.0339 - mse: 0.0035 - mape: 25353.6348 - val_loss: 0.0337 - val_rmse: 0.0590 - val_r2: 0.9998 - val_mae: 0.0337 - val_mse: 0.0035 - val_mape: 24117.4395\n",
      "Epoch 16/100\n",
      "26215/26215 [==============================] - 65s 2ms/step - loss: 0.0338 - rmse: 0.0589 - r2: 0.9998 - mae: 0.0338 - mse: 0.0035 - mape: 24286.5156 - val_loss: 0.0344 - val_rmse: 0.0593 - val_r2: 0.9998 - val_mae: 0.0344 - val_mse: 0.0035 - val_mape: 31052.9844\n",
      "Epoch 17/100\n",
      "26215/26215 [==============================] - 64s 2ms/step - loss: 0.0337 - rmse: 0.0588 - r2: 0.9998 - mae: 0.0337 - mse: 0.0035 - mape: 23226.9414 - val_loss: 0.0337 - val_rmse: 0.0588 - val_r2: 0.9998 - val_mae: 0.0337 - val_mse: 0.0035 - val_mape: 27535.7734\n",
      "Epoch 18/100\n",
      "26215/26215 [==============================] - 64s 2ms/step - loss: 0.0336 - rmse: 0.0586 - r2: 0.9998 - mae: 0.0336 - mse: 0.0034 - mape: 21217.2656 - val_loss: 0.0338 - val_rmse: 0.0588 - val_r2: 0.9998 - val_mae: 0.0338 - val_mse: 0.0035 - val_mape: 24313.0293\n",
      "Epoch 19/100\n",
      "26215/26215 [==============================] - 63s 2ms/step - loss: 0.0336 - rmse: 0.0585 - r2: 0.9998 - mae: 0.0336 - mse: 0.0034 - mape: 20016.6660 - val_loss: 0.0338 - val_rmse: 0.0588 - val_r2: 0.9998 - val_mae: 0.0338 - val_mse: 0.0035 - val_mape: 20698.9277\n",
      "Epoch 20/100\n",
      "26215/26215 [==============================] - 64s 2ms/step - loss: 0.0335 - rmse: 0.0584 - r2: 0.9998 - mae: 0.0335 - mse: 0.0034 - mape: 18078.9863 - val_loss: 0.0335 - val_rmse: 0.0585 - val_r2: 0.9998 - val_mae: 0.0335 - val_mse: 0.0034 - val_mape: 21394.2031\n",
      "Epoch 21/100\n",
      "26215/26215 [==============================] - 65s 2ms/step - loss: 0.0334 - rmse: 0.0583 - r2: 0.9998 - mae: 0.0334 - mse: 0.0034 - mape: 17246.4062 - val_loss: 0.0334 - val_rmse: 0.0583 - val_r2: 0.9998 - val_mae: 0.0334 - val_mse: 0.0034 - val_mape: 16048.6855\n",
      "Epoch 22/100\n",
      "26215/26215 [==============================] - 65s 2ms/step - loss: 0.0334 - rmse: 0.0582 - r2: 0.9998 - mae: 0.0334 - mse: 0.0034 - mape: 15912.1631 - val_loss: 0.0336 - val_rmse: 0.0584 - val_r2: 0.9998 - val_mae: 0.0336 - val_mse: 0.0034 - val_mape: 18818.1816\n",
      "Epoch 23/100\n",
      "26215/26215 [==============================] - 65s 2ms/step - loss: 0.0333 - rmse: 0.0581 - r2: 0.9998 - mae: 0.0333 - mse: 0.0034 - mape: 15444.9756 - val_loss: 0.0335 - val_rmse: 0.0582 - val_r2: 0.9998 - val_mae: 0.0335 - val_mse: 0.0034 - val_mape: 11009.8760\n",
      "Epoch 24/100\n",
      "26215/26215 [==============================] - 65s 2ms/step - loss: 0.0333 - rmse: 0.0580 - r2: 0.9998 - mae: 0.0333 - mse: 0.0034 - mape: 14687.4727 - val_loss: 0.0333 - val_rmse: 0.0581 - val_r2: 0.9998 - val_mae: 0.0333 - val_mse: 0.0034 - val_mape: 11499.0889\n",
      "Epoch 25/100\n",
      "26215/26215 [==============================] - 64s 2ms/step - loss: 0.0332 - rmse: 0.0579 - r2: 0.9998 - mae: 0.0332 - mse: 0.0034 - mape: 14029.3760 - val_loss: 0.0332 - val_rmse: 0.0581 - val_r2: 0.9998 - val_mae: 0.0332 - val_mse: 0.0034 - val_mape: 15090.7129\n",
      "Epoch 26/100\n",
      "26215/26215 [==============================] - 64s 2ms/step - loss: 0.0332 - rmse: 0.0578 - r2: 0.9998 - mae: 0.0332 - mse: 0.0033 - mape: 13727.3291 - val_loss: 0.0332 - val_rmse: 0.0578 - val_r2: 0.9998 - val_mae: 0.0332 - val_mse: 0.0033 - val_mape: 13224.0566\n",
      "Epoch 27/100\n",
      "26215/26215 [==============================] - 65s 2ms/step - loss: 0.0332 - rmse: 0.0578 - r2: 0.9998 - mae: 0.0332 - mse: 0.0033 - mape: 13126.2334 - val_loss: 0.0331 - val_rmse: 0.0578 - val_r2: 0.9998 - val_mae: 0.0331 - val_mse: 0.0033 - val_mape: 10171.2129\n",
      "Epoch 28/100\n",
      "26215/26215 [==============================] - 65s 2ms/step - loss: 0.0331 - rmse: 0.0577 - r2: 0.9998 - mae: 0.0331 - mse: 0.0033 - mape: 12630.1953 - val_loss: 0.0331 - val_rmse: 0.0577 - val_r2: 0.9998 - val_mae: 0.0331 - val_mse: 0.0033 - val_mape: 12549.0859\n",
      "Epoch 29/100\n",
      "26215/26215 [==============================] - 64s 2ms/step - loss: 0.0331 - rmse: 0.0576 - r2: 0.9998 - mae: 0.0331 - mse: 0.0033 - mape: 12239.6299 - val_loss: 0.0330 - val_rmse: 0.0578 - val_r2: 0.9998 - val_mae: 0.0330 - val_mse: 0.0033 - val_mape: 13118.8555\n",
      "Epoch 30/100\n",
      "26215/26215 [==============================] - 65s 2ms/step - loss: 0.0330 - rmse: 0.0576 - r2: 0.9998 - mae: 0.0330 - mse: 0.0033 - mape: 11829.3447 - val_loss: 0.0330 - val_rmse: 0.0577 - val_r2: 0.9998 - val_mae: 0.0330 - val_mse: 0.0033 - val_mape: 10869.1152\n"
     ]
    },
    {
     "name": "stdout",
     "output_type": "stream",
     "text": [
      "Epoch 31/100\n",
      "26215/26215 [==============================] - 60s 2ms/step - loss: 0.0330 - rmse: 0.0575 - r2: 0.9998 - mae: 0.0330 - mse: 0.0033 - mape: 11467.2979 - val_loss: 0.0330 - val_rmse: 0.0576 - val_r2: 0.9998 - val_mae: 0.0330 - val_mse: 0.0033 - val_mape: 11045.3447\n",
      "Epoch 32/100\n",
      "26215/26215 [==============================] - 60s 2ms/step - loss: 0.0330 - rmse: 0.0574 - r2: 0.9998 - mae: 0.0330 - mse: 0.0033 - mape: 11135.4082 - val_loss: 0.0331 - val_rmse: 0.0576 - val_r2: 0.9998 - val_mae: 0.0331 - val_mse: 0.0033 - val_mape: 9169.1797\n",
      "Epoch 33/100\n",
      "26215/26215 [==============================] - 60s 2ms/step - loss: 0.0329 - rmse: 0.0574 - r2: 0.9998 - mae: 0.0329 - mse: 0.0033 - mape: 10780.7217 - val_loss: 0.0329 - val_rmse: 0.0576 - val_r2: 0.9998 - val_mae: 0.0329 - val_mse: 0.0033 - val_mape: 12749.0781\n",
      "Epoch 34/100\n",
      "26215/26215 [==============================] - 61s 2ms/step - loss: 0.0329 - rmse: 0.0573 - r2: 0.9998 - mae: 0.0329 - mse: 0.0033 - mape: 10640.8477 - val_loss: 0.0329 - val_rmse: 0.0574 - val_r2: 0.9998 - val_mae: 0.0329 - val_mse: 0.0033 - val_mape: 8166.9438\n",
      "Epoch 35/100\n",
      "26215/26215 [==============================] - 61s 2ms/step - loss: 0.0329 - rmse: 0.0573 - r2: 0.9998 - mae: 0.0329 - mse: 0.0033 - mape: 10354.1807 - val_loss: 0.0329 - val_rmse: 0.0574 - val_r2: 0.9998 - val_mae: 0.0329 - val_mse: 0.0033 - val_mape: 12740.3145\n",
      "Epoch 36/100\n",
      "26215/26215 [==============================] - 58s 2ms/step - loss: 0.0329 - rmse: 0.0572 - r2: 0.9998 - mae: 0.0329 - mse: 0.0033 - mape: 10121.0322 - val_loss: 0.0328 - val_rmse: 0.0574 - val_r2: 0.9998 - val_mae: 0.0328 - val_mse: 0.0033 - val_mape: 9911.4150\n",
      "Epoch 37/100\n",
      "26215/26215 [==============================] - 60s 2ms/step - loss: 0.0328 - rmse: 0.0572 - r2: 0.9998 - mae: 0.0328 - mse: 0.0033 - mape: 9856.1455 - val_loss: 0.0329 - val_rmse: 0.0573 - val_r2: 0.9998 - val_mae: 0.0329 - val_mse: 0.0033 - val_mape: 12709.6299\n",
      "Epoch 38/100\n",
      "26215/26215 [==============================] - 60s 2ms/step - loss: 0.0328 - rmse: 0.0571 - r2: 0.9998 - mae: 0.0328 - mse: 0.0033 - mape: 9592.2305 - val_loss: 0.0328 - val_rmse: 0.0573 - val_r2: 0.9998 - val_mae: 0.0328 - val_mse: 0.0033 - val_mape: 9221.5186\n",
      "Epoch 39/100\n",
      "26215/26215 [==============================] - 60s 2ms/step - loss: 0.0328 - rmse: 0.0571 - r2: 0.9998 - mae: 0.0328 - mse: 0.0033 - mape: 9461.0605 - val_loss: 0.0328 - val_rmse: 0.0572 - val_r2: 0.9998 - val_mae: 0.0328 - val_mse: 0.0033 - val_mape: 8794.1338\n",
      "Epoch 40/100\n",
      "26215/26215 [==============================] - 60s 2ms/step - loss: 0.0327 - rmse: 0.0570 - r2: 0.9998 - mae: 0.0327 - mse: 0.0033 - mape: 9303.7295 - val_loss: 0.0327 - val_rmse: 0.0572 - val_r2: 0.9998 - val_mae: 0.0327 - val_mse: 0.0033 - val_mape: 7968.8877\n",
      "Epoch 41/100\n",
      "26215/26215 [==============================] - 59s 2ms/step - loss: 0.0327 - rmse: 0.0570 - r2: 0.9998 - mae: 0.0327 - mse: 0.0032 - mape: 9068.2393 - val_loss: 0.0327 - val_rmse: 0.0572 - val_r2: 0.9998 - val_mae: 0.0327 - val_mse: 0.0033 - val_mape: 7948.0679\n",
      "Epoch 42/100\n",
      "26215/26215 [==============================] - 60s 2ms/step - loss: 0.0327 - rmse: 0.0569 - r2: 0.9998 - mae: 0.0327 - mse: 0.0032 - mape: 9055.8428 - val_loss: 0.0327 - val_rmse: 0.0571 - val_r2: 0.9998 - val_mae: 0.0327 - val_mse: 0.0033 - val_mape: 7902.8726\n",
      "Epoch 43/100\n",
      "26215/26215 [==============================] - 60s 2ms/step - loss: 0.0327 - rmse: 0.0569 - r2: 0.9998 - mae: 0.0327 - mse: 0.0032 - mape: 8833.5254 - val_loss: 0.0327 - val_rmse: 0.0570 - val_r2: 0.9998 - val_mae: 0.0327 - val_mse: 0.0033 - val_mape: 7777.5415\n",
      "Epoch 44/100\n",
      "26215/26215 [==============================] - 60s 2ms/step - loss: 0.0326 - rmse: 0.0569 - r2: 0.9998 - mae: 0.0326 - mse: 0.0032 - mape: 8887.1240 - val_loss: 0.0326 - val_rmse: 0.0569 - val_r2: 0.9998 - val_mae: 0.0326 - val_mse: 0.0032 - val_mape: 7719.7065\n",
      "Epoch 45/100\n",
      "26215/26215 [==============================] - 60s 2ms/step - loss: 0.0326 - rmse: 0.0568 - r2: 0.9998 - mae: 0.0326 - mse: 0.0032 - mape: 8780.0225 - val_loss: 0.0326 - val_rmse: 0.0569 - val_r2: 0.9998 - val_mae: 0.0326 - val_mse: 0.0032 - val_mape: 8855.8760\n",
      "Epoch 46/100\n",
      "26215/26215 [==============================] - 59s 2ms/step - loss: 0.0326 - rmse: 0.0568 - r2: 0.9998 - mae: 0.0326 - mse: 0.0032 - mape: 8663.4678 - val_loss: 0.0326 - val_rmse: 0.0569 - val_r2: 0.9998 - val_mae: 0.0326 - val_mse: 0.0032 - val_mape: 8042.9985\n",
      "Epoch 47/100\n",
      "26215/26215 [==============================] - 60s 2ms/step - loss: 0.0326 - rmse: 0.0567 - r2: 0.9998 - mae: 0.0326 - mse: 0.0032 - mape: 8696.8232 - val_loss: 0.0326 - val_rmse: 0.0569 - val_r2: 0.9998 - val_mae: 0.0326 - val_mse: 0.0032 - val_mape: 9982.0537\n",
      "Epoch 48/100\n",
      "26215/26215 [==============================] - 61s 2ms/step - loss: 0.0326 - rmse: 0.0567 - r2: 0.9998 - mae: 0.0326 - mse: 0.0032 - mape: 8552.9424 - val_loss: 0.0326 - val_rmse: 0.0568 - val_r2: 0.9998 - val_mae: 0.0326 - val_mse: 0.0032 - val_mape: 9481.1729\n",
      "Epoch 49/100\n",
      "26215/26215 [==============================] - 60s 2ms/step - loss: 0.0325 - rmse: 0.0567 - r2: 0.9998 - mae: 0.0325 - mse: 0.0032 - mape: 8466.7598 - val_loss: 0.0325 - val_rmse: 0.0568 - val_r2: 0.9998 - val_mae: 0.0325 - val_mse: 0.0032 - val_mape: 7852.4399\n",
      "Epoch 50/100\n",
      "26215/26215 [==============================] - 60s 2ms/step - loss: 0.0325 - rmse: 0.0566 - r2: 0.9998 - mae: 0.0325 - mse: 0.0032 - mape: 8348.7412 - val_loss: 0.0326 - val_rmse: 0.0568 - val_r2: 0.9998 - val_mae: 0.0326 - val_mse: 0.0032 - val_mape: 9712.4971\n",
      "Epoch 51/100\n",
      "26215/26215 [==============================] - 59s 2ms/step - loss: 0.0325 - rmse: 0.0566 - r2: 0.9998 - mae: 0.0325 - mse: 0.0032 - mape: 8270.6396 - val_loss: 0.0325 - val_rmse: 0.0568 - val_r2: 0.9998 - val_mae: 0.0325 - val_mse: 0.0032 - val_mape: 7888.6509\n",
      "Epoch 52/100\n",
      "26215/26215 [==============================] - 60s 2ms/step - loss: 0.0325 - rmse: 0.0566 - r2: 0.9998 - mae: 0.0325 - mse: 0.0032 - mape: 8192.0762 - val_loss: 0.0325 - val_rmse: 0.0568 - val_r2: 0.9998 - val_mae: 0.0325 - val_mse: 0.0032 - val_mape: 9611.7715\n",
      "Epoch 53/100\n",
      "26215/26215 [==============================] - 59s 2ms/step - loss: 0.0325 - rmse: 0.0565 - r2: 0.9998 - mae: 0.0325 - mse: 0.0032 - mape: 8183.3838 - val_loss: 0.0325 - val_rmse: 0.0566 - val_r2: 0.9998 - val_mae: 0.0325 - val_mse: 0.0032 - val_mape: 7909.4111\n",
      "Epoch 54/100\n",
      "26215/26215 [==============================] - 60s 2ms/step - loss: 0.0324 - rmse: 0.0565 - r2: 0.9998 - mae: 0.0324 - mse: 0.0032 - mape: 8136.5659 - val_loss: 0.0325 - val_rmse: 0.0568 - val_r2: 0.9998 - val_mae: 0.0325 - val_mse: 0.0032 - val_mape: 8982.7285\n",
      "Epoch 55/100\n",
      "26215/26215 [==============================] - 59s 2ms/step - loss: 0.0324 - rmse: 0.0565 - r2: 0.9998 - mae: 0.0324 - mse: 0.0032 - mape: 8157.9360 - val_loss: 0.0324 - val_rmse: 0.0566 - val_r2: 0.9998 - val_mae: 0.0324 - val_mse: 0.0032 - val_mape: 7574.4873\n",
      "Epoch 56/100\n",
      "26215/26215 [==============================] - 59s 2ms/step - loss: 0.0324 - rmse: 0.0565 - r2: 0.9998 - mae: 0.0324 - mse: 0.0032 - mape: 8073.4053 - val_loss: 0.0324 - val_rmse: 0.0566 - val_r2: 0.9998 - val_mae: 0.0324 - val_mse: 0.0032 - val_mape: 8199.4004\n",
      "Epoch 57/100\n",
      "26215/26215 [==============================] - 59s 2ms/step - loss: 0.0324 - rmse: 0.0564 - r2: 0.9998 - mae: 0.0324 - mse: 0.0032 - mape: 7972.7437 - val_loss: 0.0324 - val_rmse: 0.0565 - val_r2: 0.9998 - val_mae: 0.0324 - val_mse: 0.0032 - val_mape: 7341.8447\n",
      "Epoch 58/100\n",
      "26215/26215 [==============================] - 57s 2ms/step - loss: 0.0324 - rmse: 0.0564 - r2: 0.9998 - mae: 0.0324 - mse: 0.0032 - mape: 7875.6660 - val_loss: 0.0324 - val_rmse: 0.0565 - val_r2: 0.9998 - val_mae: 0.0324 - val_mse: 0.0032 - val_mape: 7224.3994\n",
      "Epoch 59/100\n",
      "26215/26215 [==============================] - 60s 2ms/step - loss: 0.0323 - rmse: 0.0564 - r2: 0.9998 - mae: 0.0323 - mse: 0.0032 - mape: 7839.9653 - val_loss: 0.0323 - val_rmse: 0.0565 - val_r2: 0.9998 - val_mae: 0.0323 - val_mse: 0.0032 - val_mape: 7789.1143\n",
      "Epoch 60/100\n",
      "26215/26215 [==============================] - 60s 2ms/step - loss: 0.0323 - rmse: 0.0564 - r2: 0.9998 - mae: 0.0323 - mse: 0.0032 - mape: 7768.4009 - val_loss: 0.0324 - val_rmse: 0.0565 - val_r2: 0.9998 - val_mae: 0.0324 - val_mse: 0.0032 - val_mape: 9432.9297\n"
     ]
    },
    {
     "name": "stdout",
     "output_type": "stream",
     "text": [
      "Epoch 61/100\n",
      "26215/26215 [==============================] - 60s 2ms/step - loss: 0.0323 - rmse: 0.0563 - r2: 0.9998 - mae: 0.0323 - mse: 0.0032 - mape: 7724.8560 - val_loss: 0.0324 - val_rmse: 0.0565 - val_r2: 0.9998 - val_mae: 0.0324 - val_mse: 0.0032 - val_mape: 7608.5190\n",
      "Epoch 62/100\n",
      "26215/26215 [==============================] - 59s 2ms/step - loss: 0.0323 - rmse: 0.0563 - r2: 0.9998 - mae: 0.0323 - mse: 0.0032 - mape: 7642.9766 - val_loss: 0.0325 - val_rmse: 0.0565 - val_r2: 0.9998 - val_mae: 0.0325 - val_mse: 0.0032 - val_mape: 8968.0566\n",
      "Epoch 63/100\n",
      "26215/26215 [==============================] - 61s 2ms/step - loss: 0.0323 - rmse: 0.0563 - r2: 0.9998 - mae: 0.0323 - mse: 0.0032 - mape: 7619.1958 - val_loss: 0.0323 - val_rmse: 0.0564 - val_r2: 0.9998 - val_mae: 0.0323 - val_mse: 0.0032 - val_mape: 7282.1055\n",
      "Epoch 64/100\n",
      "26215/26215 [==============================] - 60s 2ms/step - loss: 0.0323 - rmse: 0.0563 - r2: 0.9998 - mae: 0.0323 - mse: 0.0032 - mape: 7560.6445 - val_loss: 0.0323 - val_rmse: 0.0564 - val_r2: 0.9998 - val_mae: 0.0323 - val_mse: 0.0032 - val_mape: 7044.7700\n",
      "Epoch 65/100\n",
      "26215/26215 [==============================] - 60s 2ms/step - loss: 0.0323 - rmse: 0.0562 - r2: 0.9998 - mae: 0.0323 - mse: 0.0032 - mape: 7536.4307 - val_loss: 0.0323 - val_rmse: 0.0563 - val_r2: 0.9998 - val_mae: 0.0323 - val_mse: 0.0032 - val_mape: 7442.4766\n",
      "Epoch 66/100\n",
      "26215/26215 [==============================] - 60s 2ms/step - loss: 0.0322 - rmse: 0.0562 - r2: 0.9998 - mae: 0.0322 - mse: 0.0032 - mape: 7482.8208 - val_loss: 0.0322 - val_rmse: 0.0563 - val_r2: 0.9998 - val_mae: 0.0322 - val_mse: 0.0032 - val_mape: 7103.9517\n",
      "Epoch 67/100\n",
      "26215/26215 [==============================] - 61s 2ms/step - loss: 0.0322 - rmse: 0.0562 - r2: 0.9998 - mae: 0.0322 - mse: 0.0032 - mape: 7443.2266 - val_loss: 0.0322 - val_rmse: 0.0563 - val_r2: 0.9998 - val_mae: 0.0322 - val_mse: 0.0032 - val_mape: 7214.2310\n",
      "Epoch 68/100\n",
      "26215/26215 [==============================] - 60s 2ms/step - loss: 0.0322 - rmse: 0.0562 - r2: 0.9998 - mae: 0.0322 - mse: 0.0032 - mape: 7451.9346 - val_loss: 0.0322 - val_rmse: 0.0563 - val_r2: 0.9998 - val_mae: 0.0322 - val_mse: 0.0032 - val_mape: 6942.6201\n",
      "Epoch 69/100\n",
      "26215/26215 [==============================] - 60s 2ms/step - loss: 0.0322 - rmse: 0.0561 - r2: 0.9998 - mae: 0.0322 - mse: 0.0032 - mape: 7413.1172 - val_loss: 0.0322 - val_rmse: 0.0562 - val_r2: 0.9998 - val_mae: 0.0322 - val_mse: 0.0032 - val_mape: 6898.7871\n",
      "Epoch 70/100\n",
      "26215/26215 [==============================] - 61s 2ms/step - loss: 0.0322 - rmse: 0.0561 - r2: 0.9998 - mae: 0.0322 - mse: 0.0031 - mape: 7310.4287 - val_loss: 0.0322 - val_rmse: 0.0562 - val_r2: 0.9998 - val_mae: 0.0322 - val_mse: 0.0032 - val_mape: 6935.4209\n",
      "Epoch 71/100\n",
      "26215/26215 [==============================] - 60s 2ms/step - loss: 0.0322 - rmse: 0.0561 - r2: 0.9998 - mae: 0.0322 - mse: 0.0031 - mape: 7254.9849 - val_loss: 0.0323 - val_rmse: 0.0563 - val_r2: 0.9998 - val_mae: 0.0323 - val_mse: 0.0032 - val_mape: 6920.0938\n",
      "Epoch 72/100\n",
      "26215/26215 [==============================] - 60s 2ms/step - loss: 0.0322 - rmse: 0.0561 - r2: 0.9998 - mae: 0.0322 - mse: 0.0031 - mape: 7265.2373 - val_loss: 0.0322 - val_rmse: 0.0561 - val_r2: 0.9998 - val_mae: 0.0322 - val_mse: 0.0032 - val_mape: 6960.5566\n",
      "Epoch 73/100\n",
      "26215/26215 [==============================] - 60s 2ms/step - loss: 0.0322 - rmse: 0.0561 - r2: 0.9998 - mae: 0.0322 - mse: 0.0031 - mape: 7270.4648 - val_loss: 0.0322 - val_rmse: 0.0562 - val_r2: 0.9998 - val_mae: 0.0322 - val_mse: 0.0032 - val_mape: 7052.5220\n",
      "Epoch 74/100\n",
      "26215/26215 [==============================] - 60s 2ms/step - loss: 0.0321 - rmse: 0.0560 - r2: 0.9998 - mae: 0.0321 - mse: 0.0031 - mape: 7232.4526 - val_loss: 0.0322 - val_rmse: 0.0561 - val_r2: 0.9998 - val_mae: 0.0322 - val_mse: 0.0032 - val_mape: 6966.0054\n",
      "Epoch 75/100\n",
      "26215/26215 [==============================] - 60s 2ms/step - loss: 0.0321 - rmse: 0.0560 - r2: 0.9998 - mae: 0.0321 - mse: 0.0031 - mape: 7229.5566 - val_loss: 0.0321 - val_rmse: 0.0561 - val_r2: 0.9998 - val_mae: 0.0321 - val_mse: 0.0031 - val_mape: 7281.8569\n",
      "Epoch 76/100\n",
      "26215/26215 [==============================] - 60s 2ms/step - loss: 0.0321 - rmse: 0.0560 - r2: 0.9998 - mae: 0.0321 - mse: 0.0031 - mape: 7084.8887 - val_loss: 0.0322 - val_rmse: 0.0561 - val_r2: 0.9998 - val_mae: 0.0322 - val_mse: 0.0032 - val_mape: 6983.6387\n",
      "Epoch 77/100\n",
      "26215/26215 [==============================] - 60s 2ms/step - loss: 0.0321 - rmse: 0.0560 - r2: 0.9998 - mae: 0.0321 - mse: 0.0031 - mape: 7118.0249 - val_loss: 0.0321 - val_rmse: 0.0561 - val_r2: 0.9998 - val_mae: 0.0321 - val_mse: 0.0032 - val_mape: 7217.3706\n",
      "Epoch 78/100\n",
      "26215/26215 [==============================] - 60s 2ms/step - loss: 0.0321 - rmse: 0.0560 - r2: 0.9998 - mae: 0.0321 - mse: 0.0031 - mape: 7090.2700 - val_loss: 0.0321 - val_rmse: 0.0561 - val_r2: 0.9998 - val_mae: 0.0321 - val_mse: 0.0031 - val_mape: 6882.4951\n",
      "Epoch 79/100\n",
      "26215/26215 [==============================] - 61s 2ms/step - loss: 0.0321 - rmse: 0.0560 - r2: 0.9998 - mae: 0.0321 - mse: 0.0031 - mape: 7024.1255 - val_loss: 0.0321 - val_rmse: 0.0560 - val_r2: 0.9998 - val_mae: 0.0321 - val_mse: 0.0031 - val_mape: 7123.8467\n",
      "Epoch 80/100\n",
      "26215/26215 [==============================] - 60s 2ms/step - loss: 0.0321 - rmse: 0.0559 - r2: 0.9998 - mae: 0.0321 - mse: 0.0031 - mape: 7029.4624 - val_loss: 0.0321 - val_rmse: 0.0561 - val_r2: 0.9998 - val_mae: 0.0321 - val_mse: 0.0031 - val_mape: 6595.0791\n",
      "Epoch 81/100\n",
      "26215/26215 [==============================] - 59s 2ms/step - loss: 0.0321 - rmse: 0.0559 - r2: 0.9998 - mae: 0.0321 - mse: 0.0031 - mape: 6975.1196 - val_loss: 0.0321 - val_rmse: 0.0561 - val_r2: 0.9998 - val_mae: 0.0321 - val_mse: 0.0031 - val_mape: 6579.2866\n",
      "Epoch 82/100\n",
      "26215/26215 [==============================] - 60s 2ms/step - loss: 0.0321 - rmse: 0.0559 - r2: 0.9998 - mae: 0.0321 - mse: 0.0031 - mape: 6955.8530 - val_loss: 0.0321 - val_rmse: 0.0560 - val_r2: 0.9998 - val_mae: 0.0321 - val_mse: 0.0031 - val_mape: 6824.0220\n",
      "Epoch 83/100\n",
      "26215/26215 [==============================] - 60s 2ms/step - loss: 0.0320 - rmse: 0.0559 - r2: 0.9998 - mae: 0.0320 - mse: 0.0031 - mape: 6901.9639 - val_loss: 0.0321 - val_rmse: 0.0560 - val_r2: 0.9998 - val_mae: 0.0321 - val_mse: 0.0031 - val_mape: 6756.1943\n",
      "Epoch 84/100\n",
      "26215/26215 [==============================] - 61s 2ms/step - loss: 0.0320 - rmse: 0.0559 - r2: 0.9998 - mae: 0.0320 - mse: 0.0031 - mape: 6858.8193 - val_loss: 0.0320 - val_rmse: 0.0560 - val_r2: 0.9998 - val_mae: 0.0320 - val_mse: 0.0031 - val_mape: 6480.1611\n",
      "Epoch 85/100\n",
      "26215/26215 [==============================] - 60s 2ms/step - loss: 0.0320 - rmse: 0.0558 - r2: 0.9998 - mae: 0.0320 - mse: 0.0031 - mape: 6796.9321 - val_loss: 0.0320 - val_rmse: 0.0559 - val_r2: 0.9998 - val_mae: 0.0320 - val_mse: 0.0031 - val_mape: 6672.4673\n",
      "Epoch 86/100\n",
      "26215/26215 [==============================] - 59s 2ms/step - loss: 0.0320 - rmse: 0.0558 - r2: 0.9998 - mae: 0.0320 - mse: 0.0031 - mape: 6822.0024 - val_loss: 0.0320 - val_rmse: 0.0560 - val_r2: 0.9998 - val_mae: 0.0320 - val_mse: 0.0031 - val_mape: 6488.3740\n",
      "Epoch 87/100\n",
      "26215/26215 [==============================] - 59s 2ms/step - loss: 0.0320 - rmse: 0.0558 - r2: 0.9998 - mae: 0.0320 - mse: 0.0031 - mape: 6847.8398 - val_loss: 0.0320 - val_rmse: 0.0560 - val_r2: 0.9998 - val_mae: 0.0320 - val_mse: 0.0031 - val_mape: 6474.0454\n",
      "Epoch 88/100\n",
      "26215/26215 [==============================] - 60s 2ms/step - loss: 0.0320 - rmse: 0.0558 - r2: 0.9998 - mae: 0.0320 - mse: 0.0031 - mape: 6754.8906 - val_loss: 0.0320 - val_rmse: 0.0560 - val_r2: 0.9998 - val_mae: 0.0320 - val_mse: 0.0031 - val_mape: 6766.6787\n",
      "Epoch 89/100\n",
      "26215/26215 [==============================] - 59s 2ms/step - loss: 0.0320 - rmse: 0.0558 - r2: 0.9998 - mae: 0.0320 - mse: 0.0031 - mape: 6701.6851 - val_loss: 0.0321 - val_rmse: 0.0559 - val_r2: 0.9998 - val_mae: 0.0321 - val_mse: 0.0031 - val_mape: 6377.5547\n",
      "Epoch 90/100\n",
      "26215/26215 [==============================] - 60s 2ms/step - loss: 0.0320 - rmse: 0.0558 - r2: 0.9998 - mae: 0.0320 - mse: 0.0031 - mape: 6672.4253 - val_loss: 0.0320 - val_rmse: 0.0558 - val_r2: 0.9998 - val_mae: 0.0320 - val_mse: 0.0031 - val_mape: 6356.0938\n"
     ]
    },
    {
     "name": "stdout",
     "output_type": "stream",
     "text": [
      "Epoch 91/100\n",
      "26215/26215 [==============================] - 61s 2ms/step - loss: 0.0320 - rmse: 0.0557 - r2: 0.9998 - mae: 0.0320 - mse: 0.0031 - mape: 6701.1646 - val_loss: 0.0320 - val_rmse: 0.0559 - val_r2: 0.9998 - val_mae: 0.0320 - val_mse: 0.0031 - val_mape: 6352.0322\n",
      "Epoch 92/100\n",
      "26215/26215 [==============================] - 60s 2ms/step - loss: 0.0320 - rmse: 0.0557 - r2: 0.9998 - mae: 0.0320 - mse: 0.0031 - mape: 6682.6475 - val_loss: 0.0320 - val_rmse: 0.0559 - val_r2: 0.9998 - val_mae: 0.0320 - val_mse: 0.0031 - val_mape: 6357.8154\n",
      "Epoch 93/100\n",
      "26215/26215 [==============================] - 61s 2ms/step - loss: 0.0319 - rmse: 0.0557 - r2: 0.9998 - mae: 0.0319 - mse: 0.0031 - mape: 6671.1772 - val_loss: 0.0320 - val_rmse: 0.0558 - val_r2: 0.9998 - val_mae: 0.0320 - val_mse: 0.0031 - val_mape: 6512.3286\n",
      "Epoch 94/100\n",
      "26215/26215 [==============================] - 61s 2ms/step - loss: 0.0319 - rmse: 0.0557 - r2: 0.9998 - mae: 0.0319 - mse: 0.0031 - mape: 6658.6904 - val_loss: 0.0320 - val_rmse: 0.0558 - val_r2: 0.9998 - val_mae: 0.0320 - val_mse: 0.0031 - val_mape: 6354.6089\n",
      "Epoch 95/100\n",
      "26215/26215 [==============================] - 60s 2ms/step - loss: 0.0319 - rmse: 0.0557 - r2: 0.9998 - mae: 0.0319 - mse: 0.0031 - mape: 6569.3203 - val_loss: 0.0320 - val_rmse: 0.0558 - val_r2: 0.9998 - val_mae: 0.0320 - val_mse: 0.0031 - val_mape: 6748.1655\n",
      "Epoch 96/100\n",
      "26215/26215 [==============================] - 60s 2ms/step - loss: 0.0319 - rmse: 0.0557 - r2: 0.9998 - mae: 0.0319 - mse: 0.0031 - mape: 6561.0986 - val_loss: 0.0319 - val_rmse: 0.0558 - val_r2: 0.9998 - val_mae: 0.0319 - val_mse: 0.0031 - val_mape: 6248.2109\n",
      "Epoch 97/100\n",
      "26215/26215 [==============================] - 60s 2ms/step - loss: 0.0319 - rmse: 0.0557 - r2: 0.9998 - mae: 0.0319 - mse: 0.0031 - mape: 6574.0093 - val_loss: 0.0320 - val_rmse: 0.0558 - val_r2: 0.9998 - val_mae: 0.0320 - val_mse: 0.0031 - val_mape: 7559.5830\n",
      "Epoch 98/100\n",
      "26215/26215 [==============================] - 60s 2ms/step - loss: 0.0319 - rmse: 0.0557 - r2: 0.9998 - mae: 0.0319 - mse: 0.0031 - mape: 6551.7603 - val_loss: 0.0319 - val_rmse: 0.0558 - val_r2: 0.9998 - val_mae: 0.0319 - val_mse: 0.0031 - val_mape: 6443.4854\n",
      "Epoch 99/100\n",
      "26215/26215 [==============================] - 61s 2ms/step - loss: 0.0319 - rmse: 0.0556 - r2: 0.9998 - mae: 0.0319 - mse: 0.0031 - mape: 6567.4546 - val_loss: 0.0319 - val_rmse: 0.0558 - val_r2: 0.9998 - val_mae: 0.0319 - val_mse: 0.0031 - val_mape: 7009.9800\n",
      "Epoch 100/100\n",
      "26215/26215 [==============================] - 61s 2ms/step - loss: 0.0319 - rmse: 0.0556 - r2: 0.9998 - mae: 0.0319 - mse: 0.0031 - mape: 6495.5527 - val_loss: 0.0319 - val_rmse: 0.0558 - val_r2: 0.9998 - val_mae: 0.0319 - val_mse: 0.0031 - val_mape: 6468.7456\n",
      "CPU times: total: 3h 16s\n",
      "Wall time: 1h 41min 54s\n"
     ]
    }
   ],
   "source": [
    "%%time\n",
    "tf.random.set_seed(42)\n",
    "\n",
    "model_3 = tf.keras.Sequential([tf.keras.layers.Dense(32,activation = 'relu'),\n",
    "                               tf.keras.layers.Dense(128,activation = 'relu'),\n",
    "                               tf.keras.layers.Dense(64),\n",
    "                               tf.keras.layers.Dense(32),\n",
    "                               tf.keras.layers.Dense(1)])\n",
    "\n",
    "model_3.compile(loss = tf.keras.losses.mae,\n",
    "                optimizer = tf.keras.optimizers.legacy.Adam(learning_rate=0.001,decay=0.001),\n",
    "                metrics=[tf.keras.metrics.RootMeanSquaredError(name='rmse'),\n",
    "                         tfa.metrics.RSquare(name='r2'),'mae','mse','mape'])\n",
    "\n",
    "history_3 = model_3.fit(X_train,Y_train, epochs= 100,batch_size=32,validation_data=(X_test,Y_test), callbacks = callback)"
   ]
  },
  {
   "cell_type": "code",
   "execution_count": 18,
   "id": "1671fd67",
   "metadata": {},
   "outputs": [
    {
     "data": {
      "image/png": "[encoded data removed]",
      "text/plain": [
       "<Figure size 640x480 with 1 Axes>"
      ]
     },
     "metadata": {},
     "output_type": "display_data"
    }
   ],
   "source": [
    "plot_his(history_3)"
   ]
  },
  {
   "cell_type": "code",
   "execution_count": 19,
   "id": "d72caa23",
   "metadata": {},
   "outputs": [
    {
     "name": "stdout",
     "output_type": "stream",
     "text": [
      "6554/6554 [==============================] - 16s 2ms/step - loss: 0.0319 - rmse: 0.0558 - r2: 0.9998 - mae: 0.0319 - mse: 0.0031 - mape: 6468.7456\n"
     ]
    },
    {
     "data": {
      "text/plain": [
       "[0.031900957226753235,\n",
       " 0.05577339231967926,\n",
       " 0.9998005628585815,\n",
       " 0.031900957226753235,\n",
       " 0.0031106711830943823,\n",
       " 6468.74560546875]"
      ]
     },
     "execution_count": 19,
     "metadata": {},
     "output_type": "execute_result"
    }
   ],
   "source": [
    "model_3.evaluate(X_test,Y_test)"
   ]
  },
  {
   "cell_type": "code",
   "execution_count": 20,
   "id": "cc13e26a",
   "metadata": {},
   "outputs": [
    {
     "name": "stdout",
     "output_type": "stream",
     "text": [
      "6554/6554 [==============================] - 7s 1ms/step\n"
     ]
    }
   ],
   "source": [
    "Y_pred_3 = model_3.predict(X_test)"
   ]
  },
  {
   "cell_type": "code",
   "execution_count": 21,
   "id": "1c01d0cf",
   "metadata": {},
   "outputs": [
    {
     "name": "stdout",
     "output_type": "stream",
     "text": [
      "Model: \"sequential\"\n",
      "_________________________________________________________________\n",
      " Layer (type)                Output Shape              Param #   \n",
      "=================================================================\n",
      " dense (Dense)               (None, 32)                128       \n",
      "                                                                 \n",
      " dense_1 (Dense)             (None, 128)               4224      \n",
      "                                                                 \n",
      " dense_2 (Dense)             (None, 64)                8256      \n",
      "                                                                 \n",
      " dense_3 (Dense)             (None, 32)                2080      \n",
      "                                                                 \n",
      " dense_4 (Dense)             (None, 1)                 33        \n",
      "                                                                 \n",
      "=================================================================\n",
      "Total params: 14,721\n",
      "Trainable params: 14,721\n",
      "Non-trainable params: 0\n",
      "_________________________________________________________________\n"
     ]
    }
   ],
   "source": [
    "model_3.summary()"
   ]
  },
  {
   "cell_type": "code",
   "execution_count": 22,
   "id": "a2798b3a",
   "metadata": {},
   "outputs": [
    {
     "name": "stdout",
     "output_type": "stream",
     "text": [
      "AIC:  29532.275\n"
     ]
    }
   ],
   "source": [
    "AIC_value(model_3,Y_pred_3,Y_test)"
   ]
  },
  {
   "cell_type": "code",
   "execution_count": 23,
   "id": "aab32789",
   "metadata": {},
   "outputs": [],
   "source": [
    "model_3.save('Saved_models/model_3_SOEesti.h5')"
   ]
  },
  {
   "cell_type": "code",
   "execution_count": null,
   "id": "05f91892",
   "metadata": {},
   "outputs": [],
   "source": [
    "    "
   ]
  },
  {
   "cell_type": "code",
   "execution_count": 24,
   "id": "9f87b11e",
   "metadata": {},
   "outputs": [
    {
     "name": "stdout",
     "output_type": "stream",
     "text": [
      "Epoch 1/100\n",
      "26215/26215 [==============================] - 70s 3ms/step - loss: 0.0722 - rmse: 0.1836 - r2: 0.9978 - mae: 0.0722 - mse: 0.0337 - mape: 90111.9609 - val_loss: 0.0486 - val_rmse: 0.0782 - val_r2: 0.9996 - val_mae: 0.0486 - val_mse: 0.0061 - val_mape: 30550.3027\n",
      "Epoch 2/100\n",
      "26215/26215 [==============================] - 67s 3ms/step - loss: 0.0465 - rmse: 0.0761 - r2: 0.9996 - mae: 0.0465 - mse: 0.0058 - mape: 36402.5430 - val_loss: 0.0450 - val_rmse: 0.0750 - val_r2: 0.9996 - val_mae: 0.0450 - val_mse: 0.0056 - val_mape: 29801.4473\n",
      "Epoch 3/100\n",
      "26215/26215 [==============================] - 67s 3ms/step - loss: 0.0448 - rmse: 0.0744 - r2: 0.9996 - mae: 0.0448 - mse: 0.0055 - mape: 34600.7578 - val_loss: 0.0440 - val_rmse: 0.0739 - val_r2: 0.9996 - val_mae: 0.0440 - val_mse: 0.0055 - val_mape: 28049.6699\n",
      "Epoch 4/100\n",
      "26215/26215 [==============================] - 67s 3ms/step - loss: 0.0440 - rmse: 0.0734 - r2: 0.9997 - mae: 0.0440 - mse: 0.0054 - mape: 33272.6797 - val_loss: 0.0434 - val_rmse: 0.0731 - val_r2: 0.9997 - val_mae: 0.0434 - val_mse: 0.0053 - val_mape: 36215.8320\n",
      "Epoch 5/100\n",
      "26215/26215 [==============================] - 66s 3ms/step - loss: 0.0435 - rmse: 0.0727 - r2: 0.9997 - mae: 0.0435 - mse: 0.0053 - mape: 33117.7500 - val_loss: 0.0429 - val_rmse: 0.0723 - val_r2: 0.9997 - val_mae: 0.0429 - val_mse: 0.0052 - val_mape: 28957.6758\n",
      "Epoch 6/100\n",
      "26215/26215 [==============================] - 66s 3ms/step - loss: 0.0431 - rmse: 0.0723 - r2: 0.9997 - mae: 0.0431 - mse: 0.0052 - mape: 32451.2988 - val_loss: 0.0429 - val_rmse: 0.0722 - val_r2: 0.9997 - val_mae: 0.0429 - val_mse: 0.0052 - val_mape: 30355.0332\n",
      "Epoch 7/100\n",
      "26215/26215 [==============================] - 67s 3ms/step - loss: 0.0429 - rmse: 0.0720 - r2: 0.9997 - mae: 0.0429 - mse: 0.0052 - mape: 32501.0137 - val_loss: 0.0429 - val_rmse: 0.0723 - val_r2: 0.9997 - val_mae: 0.0429 - val_mse: 0.0052 - val_mape: 34198.7109\n",
      "Epoch 8/100\n",
      "26215/26215 [==============================] - 67s 3ms/step - loss: 0.0427 - rmse: 0.0718 - r2: 0.9997 - mae: 0.0427 - mse: 0.0052 - mape: 31914.1836 - val_loss: 0.0424 - val_rmse: 0.0715 - val_r2: 0.9997 - val_mae: 0.0424 - val_mse: 0.0051 - val_mape: 27963.3438\n",
      "Epoch 9/100\n",
      "26215/26215 [==============================] - 67s 3ms/step - loss: 0.0425 - rmse: 0.0715 - r2: 0.9997 - mae: 0.0425 - mse: 0.0051 - mape: 31072.4531 - val_loss: 0.0424 - val_rmse: 0.0717 - val_r2: 0.9997 - val_mae: 0.0424 - val_mse: 0.0051 - val_mape: 30859.9980\n",
      "Epoch 10/100\n",
      "26215/26215 [==============================] - 65s 2ms/step - loss: 0.0424 - rmse: 0.0714 - r2: 0.9997 - mae: 0.0424 - mse: 0.0051 - mape: 31375.2637 - val_loss: 0.0425 - val_rmse: 0.0713 - val_r2: 0.9997 - val_mae: 0.0425 - val_mse: 0.0051 - val_mape: 28861.6016\n",
      "Epoch 11/100\n",
      "26215/26215 [==============================] - 67s 3ms/step - loss: 0.0423 - rmse: 0.0712 - r2: 0.9997 - mae: 0.0423 - mse: 0.0051 - mape: 31320.8672 - val_loss: 0.0427 - val_rmse: 0.0712 - val_r2: 0.9997 - val_mae: 0.0427 - val_mse: 0.0051 - val_mape: 31830.1914\n",
      "Epoch 12/100\n",
      "26215/26215 [==============================] - 67s 3ms/step - loss: 0.0422 - rmse: 0.0711 - r2: 0.9997 - mae: 0.0422 - mse: 0.0051 - mape: 31029.7188 - val_loss: 0.0422 - val_rmse: 0.0710 - val_r2: 0.9997 - val_mae: 0.0422 - val_mse: 0.0050 - val_mape: 30287.4102\n",
      "Epoch 13/100\n",
      "26215/26215 [==============================] - 67s 3ms/step - loss: 0.0421 - rmse: 0.0710 - r2: 0.9997 - mae: 0.0421 - mse: 0.0050 - mape: 30927.6367 - val_loss: 0.0421 - val_rmse: 0.0708 - val_r2: 0.9997 - val_mae: 0.0421 - val_mse: 0.0050 - val_mape: 29216.4238\n",
      "Epoch 14/100\n",
      "26215/26215 [==============================] - 66s 3ms/step - loss: 0.0421 - rmse: 0.0708 - r2: 0.9997 - mae: 0.0421 - mse: 0.0050 - mape: 30811.3672 - val_loss: 0.0422 - val_rmse: 0.0710 - val_r2: 0.9997 - val_mae: 0.0422 - val_mse: 0.0050 - val_mape: 28830.3008\n",
      "Epoch 15/100\n",
      "26215/26215 [==============================] - 66s 3ms/step - loss: 0.0420 - rmse: 0.0707 - r2: 0.9997 - mae: 0.0420 - mse: 0.0050 - mape: 30599.4863 - val_loss: 0.0419 - val_rmse: 0.0707 - val_r2: 0.9997 - val_mae: 0.0419 - val_mse: 0.0050 - val_mape: 27532.7559\n",
      "Epoch 16/100\n",
      "26215/26215 [==============================] - 66s 3ms/step - loss: 0.0419 - rmse: 0.0706 - r2: 0.9997 - mae: 0.0419 - mse: 0.0050 - mape: 30508.1836 - val_loss: 0.0418 - val_rmse: 0.0706 - val_r2: 0.9997 - val_mae: 0.0418 - val_mse: 0.0050 - val_mape: 33246.2305\n",
      "Epoch 17/100\n",
      "26215/26215 [==============================] - 67s 3ms/step - loss: 0.0419 - rmse: 0.0705 - r2: 0.9997 - mae: 0.0419 - mse: 0.0050 - mape: 30723.1621 - val_loss: 0.0421 - val_rmse: 0.0705 - val_r2: 0.9997 - val_mae: 0.0421 - val_mse: 0.0050 - val_mape: 35236.5312\n",
      "Epoch 18/100\n",
      "26215/26215 [==============================] - 67s 3ms/step - loss: 0.0418 - rmse: 0.0704 - r2: 0.9997 - mae: 0.0418 - mse: 0.0050 - mape: 30360.8789 - val_loss: 0.0418 - val_rmse: 0.0706 - val_r2: 0.9997 - val_mae: 0.0418 - val_mse: 0.0050 - val_mape: 30746.2188\n",
      "Epoch 19/100\n",
      "26215/26215 [==============================] - 66s 3ms/step - loss: 0.0418 - rmse: 0.0703 - r2: 0.9997 - mae: 0.0418 - mse: 0.0049 - mape: 30260.9043 - val_loss: 0.0422 - val_rmse: 0.0705 - val_r2: 0.9997 - val_mae: 0.0422 - val_mse: 0.0050 - val_mape: 35919.0156\n",
      "Epoch 20/100\n",
      "26215/26215 [==============================] - 68s 3ms/step - loss: 0.0417 - rmse: 0.0703 - r2: 0.9997 - mae: 0.0417 - mse: 0.0049 - mape: 30009.5312 - val_loss: 0.0418 - val_rmse: 0.0704 - val_r2: 0.9997 - val_mae: 0.0418 - val_mse: 0.0050 - val_mape: 30287.2930\n",
      "Epoch 21/100\n",
      "26215/26215 [==============================] - 67s 3ms/step - loss: 0.0417 - rmse: 0.0702 - r2: 0.9997 - mae: 0.0417 - mse: 0.0049 - mape: 30439.7539 - val_loss: 0.0423 - val_rmse: 0.0703 - val_r2: 0.9997 - val_mae: 0.0423 - val_mse: 0.0049 - val_mape: 34653.1133\n",
      "Epoch 22/100\n",
      "26215/26215 [==============================] - 67s 3ms/step - loss: 0.0416 - rmse: 0.0701 - r2: 0.9997 - mae: 0.0416 - mse: 0.0049 - mape: 30199.8555 - val_loss: 0.0418 - val_rmse: 0.0702 - val_r2: 0.9997 - val_mae: 0.0418 - val_mse: 0.0049 - val_mape: 31622.9941\n",
      "Epoch 23/100\n",
      "26215/26215 [==============================] - 65s 2ms/step - loss: 0.0416 - rmse: 0.0701 - r2: 0.9997 - mae: 0.0416 - mse: 0.0049 - mape: 30100.8477 - val_loss: 0.0417 - val_rmse: 0.0702 - val_r2: 0.9997 - val_mae: 0.0417 - val_mse: 0.0049 - val_mape: 27653.0488\n",
      "Epoch 24/100\n",
      "26215/26215 [==============================] - 67s 3ms/step - loss: 0.0416 - rmse: 0.0700 - r2: 0.9997 - mae: 0.0416 - mse: 0.0049 - mape: 30184.7754 - val_loss: 0.0416 - val_rmse: 0.0701 - val_r2: 0.9997 - val_mae: 0.0416 - val_mse: 0.0049 - val_mape: 28930.2988\n",
      "Epoch 25/100\n",
      "26215/26215 [==============================] - 67s 3ms/step - loss: 0.0415 - rmse: 0.0699 - r2: 0.9997 - mae: 0.0415 - mse: 0.0049 - mape: 29703.6484 - val_loss: 0.0416 - val_rmse: 0.0700 - val_r2: 0.9997 - val_mae: 0.0416 - val_mse: 0.0049 - val_mape: 27216.6758\n",
      "Epoch 26/100\n",
      "26215/26215 [==============================] - 67s 3ms/step - loss: 0.0415 - rmse: 0.0699 - r2: 0.9997 - mae: 0.0415 - mse: 0.0049 - mape: 29873.1621 - val_loss: 0.0415 - val_rmse: 0.0699 - val_r2: 0.9997 - val_mae: 0.0415 - val_mse: 0.0049 - val_mape: 30838.1816\n",
      "Epoch 27/100\n",
      "26215/26215 [==============================] - 67s 3ms/step - loss: 0.0415 - rmse: 0.0698 - r2: 0.9997 - mae: 0.0415 - mse: 0.0049 - mape: 29752.8203 - val_loss: 0.0414 - val_rmse: 0.0699 - val_r2: 0.9997 - val_mae: 0.0414 - val_mse: 0.0049 - val_mape: 30023.7344\n",
      "Epoch 28/100\n",
      "26215/26215 [==============================] - 65s 2ms/step - loss: 0.0414 - rmse: 0.0698 - r2: 0.9997 - mae: 0.0414 - mse: 0.0049 - mape: 29561.1465 - val_loss: 0.0415 - val_rmse: 0.0699 - val_r2: 0.9997 - val_mae: 0.0415 - val_mse: 0.0049 - val_mape: 27430.0020\n",
      "Epoch 29/100\n",
      "26215/26215 [==============================] - 66s 3ms/step - loss: 0.0414 - rmse: 0.0697 - r2: 0.9997 - mae: 0.0414 - mse: 0.0049 - mape: 29485.7051 - val_loss: 0.0414 - val_rmse: 0.0698 - val_r2: 0.9997 - val_mae: 0.0414 - val_mse: 0.0049 - val_mape: 31699.4238\n",
      "Epoch 30/100\n",
      "26215/26215 [==============================] - 65s 2ms/step - loss: 0.0414 - rmse: 0.0697 - r2: 0.9997 - mae: 0.0414 - mse: 0.0049 - mape: 29399.3867 - val_loss: 0.0416 - val_rmse: 0.0700 - val_r2: 0.9997 - val_mae: 0.0416 - val_mse: 0.0049 - val_mape: 26647.5801\n"
     ]
    },
    {
     "name": "stdout",
     "output_type": "stream",
     "text": [
      "Epoch 31/100\n",
      "26215/26215 [==============================] - 68s 3ms/step - loss: 0.0414 - rmse: 0.0697 - r2: 0.9997 - mae: 0.0414 - mse: 0.0049 - mape: 29576.9160 - val_loss: 0.0416 - val_rmse: 0.0697 - val_r2: 0.9997 - val_mae: 0.0416 - val_mse: 0.0049 - val_mape: 35773.9883\n",
      "Epoch 32/100\n",
      "26215/26215 [==============================] - 67s 3ms/step - loss: 0.0413 - rmse: 0.0696 - r2: 0.9997 - mae: 0.0413 - mse: 0.0048 - mape: 29449.0254 - val_loss: 0.0414 - val_rmse: 0.0698 - val_r2: 0.9997 - val_mae: 0.0414 - val_mse: 0.0049 - val_mape: 27293.9102\n",
      "Epoch 33/100\n",
      "26215/26215 [==============================] - 67s 3ms/step - loss: 0.0413 - rmse: 0.0696 - r2: 0.9997 - mae: 0.0413 - mse: 0.0048 - mape: 29517.1348 - val_loss: 0.0413 - val_rmse: 0.0697 - val_r2: 0.9997 - val_mae: 0.0413 - val_mse: 0.0049 - val_mape: 31395.7383\n",
      "Epoch 34/100\n",
      "26215/26215 [==============================] - 68s 3ms/step - loss: 0.0413 - rmse: 0.0696 - r2: 0.9997 - mae: 0.0413 - mse: 0.0048 - mape: 29348.7676 - val_loss: 0.0413 - val_rmse: 0.0696 - val_r2: 0.9997 - val_mae: 0.0413 - val_mse: 0.0049 - val_mape: 29189.8672\n",
      "Epoch 35/100\n",
      "26215/26215 [==============================] - 69s 3ms/step - loss: 0.0413 - rmse: 0.0695 - r2: 0.9997 - mae: 0.0413 - mse: 0.0048 - mape: 29147.2363 - val_loss: 0.0414 - val_rmse: 0.0697 - val_r2: 0.9997 - val_mae: 0.0414 - val_mse: 0.0049 - val_mape: 34557.2734\n",
      "Epoch 36/100\n",
      "26215/26215 [==============================] - 67s 3ms/step - loss: 0.0412 - rmse: 0.0695 - r2: 0.9997 - mae: 0.0412 - mse: 0.0048 - mape: 29306.2109 - val_loss: 0.0414 - val_rmse: 0.0697 - val_r2: 0.9997 - val_mae: 0.0414 - val_mse: 0.0049 - val_mape: 26755.6211\n",
      "Epoch 37/100\n",
      "26215/26215 [==============================] - 65s 2ms/step - loss: 0.0412 - rmse: 0.0695 - r2: 0.9997 - mae: 0.0412 - mse: 0.0048 - mape: 28912.4551 - val_loss: 0.0414 - val_rmse: 0.0696 - val_r2: 0.9997 - val_mae: 0.0414 - val_mse: 0.0048 - val_mape: 33705.3281\n",
      "Epoch 38/100\n",
      "26215/26215 [==============================] - 67s 3ms/step - loss: 0.0412 - rmse: 0.0694 - r2: 0.9997 - mae: 0.0412 - mse: 0.0048 - mape: 28507.0625 - val_loss: 0.0413 - val_rmse: 0.0695 - val_r2: 0.9997 - val_mae: 0.0413 - val_mse: 0.0048 - val_mape: 31743.4609\n",
      "Epoch 39/100\n",
      "26215/26215 [==============================] - 67s 3ms/step - loss: 0.0412 - rmse: 0.0694 - r2: 0.9997 - mae: 0.0412 - mse: 0.0048 - mape: 28630.7891 - val_loss: 0.0412 - val_rmse: 0.0695 - val_r2: 0.9997 - val_mae: 0.0412 - val_mse: 0.0048 - val_mape: 29692.4551\n",
      "Epoch 40/100\n",
      "26215/26215 [==============================] - 67s 3ms/step - loss: 0.0411 - rmse: 0.0694 - r2: 0.9997 - mae: 0.0411 - mse: 0.0048 - mape: 28429.9336 - val_loss: 0.0412 - val_rmse: 0.0695 - val_r2: 0.9997 - val_mae: 0.0412 - val_mse: 0.0048 - val_mape: 25825.4316\n",
      "Epoch 41/100\n",
      "26215/26215 [==============================] - 64s 2ms/step - loss: 0.0411 - rmse: 0.0693 - r2: 0.9997 - mae: 0.0411 - mse: 0.0048 - mape: 28111.7949 - val_loss: 0.0411 - val_rmse: 0.0695 - val_r2: 0.9997 - val_mae: 0.0411 - val_mse: 0.0048 - val_mape: 28278.0859\n",
      "Epoch 42/100\n",
      "26215/26215 [==============================] - 66s 3ms/step - loss: 0.0411 - rmse: 0.0693 - r2: 0.9997 - mae: 0.0411 - mse: 0.0048 - mape: 27678.0645 - val_loss: 0.0411 - val_rmse: 0.0694 - val_r2: 0.9997 - val_mae: 0.0411 - val_mse: 0.0048 - val_mape: 28331.7363\n",
      "Epoch 43/100\n",
      "26215/26215 [==============================] - 67s 3ms/step - loss: 0.0411 - rmse: 0.0693 - r2: 0.9997 - mae: 0.0411 - mse: 0.0048 - mape: 27403.2070 - val_loss: 0.0411 - val_rmse: 0.0694 - val_r2: 0.9997 - val_mae: 0.0411 - val_mse: 0.0048 - val_mape: 27002.6816\n",
      "Epoch 44/100\n",
      "26215/26215 [==============================] - 67s 3ms/step - loss: 0.0411 - rmse: 0.0692 - r2: 0.9997 - mae: 0.0411 - mse: 0.0048 - mape: 27520.5000 - val_loss: 0.0411 - val_rmse: 0.0694 - val_r2: 0.9997 - val_mae: 0.0411 - val_mse: 0.0048 - val_mape: 25324.8652\n",
      "Epoch 45/100\n",
      "26215/26215 [==============================] - 67s 3ms/step - loss: 0.0410 - rmse: 0.0692 - r2: 0.9997 - mae: 0.0410 - mse: 0.0048 - mape: 27455.8320 - val_loss: 0.0411 - val_rmse: 0.0693 - val_r2: 0.9997 - val_mae: 0.0411 - val_mse: 0.0048 - val_mape: 28748.1797\n",
      "Epoch 46/100\n",
      "26215/26215 [==============================] - 65s 2ms/step - loss: 0.0410 - rmse: 0.0692 - r2: 0.9997 - mae: 0.0410 - mse: 0.0048 - mape: 27220.8066 - val_loss: 0.0411 - val_rmse: 0.0693 - val_r2: 0.9997 - val_mae: 0.0411 - val_mse: 0.0048 - val_mape: 25304.6953\n",
      "Epoch 47/100\n",
      "26215/26215 [==============================] - 67s 3ms/step - loss: 0.0410 - rmse: 0.0692 - r2: 0.9997 - mae: 0.0410 - mse: 0.0048 - mape: 26862.2461 - val_loss: 0.0412 - val_rmse: 0.0694 - val_r2: 0.9997 - val_mae: 0.0412 - val_mse: 0.0048 - val_mape: 27183.4570\n",
      "Epoch 48/100\n",
      "26215/26215 [==============================] - 63s 2ms/step - loss: 0.0410 - rmse: 0.0691 - r2: 0.9997 - mae: 0.0410 - mse: 0.0048 - mape: 26974.2871 - val_loss: 0.0410 - val_rmse: 0.0693 - val_r2: 0.9997 - val_mae: 0.0410 - val_mse: 0.0048 - val_mape: 27056.7852\n",
      "Epoch 49/100\n",
      "26215/26215 [==============================] - 67s 3ms/step - loss: 0.0410 - rmse: 0.0691 - r2: 0.9997 - mae: 0.0410 - mse: 0.0048 - mape: 26903.1719 - val_loss: 0.0410 - val_rmse: 0.0692 - val_r2: 0.9997 - val_mae: 0.0410 - val_mse: 0.0048 - val_mape: 27814.4766\n",
      "Epoch 50/100\n",
      "26215/26215 [==============================] - 66s 3ms/step - loss: 0.0410 - rmse: 0.0691 - r2: 0.9997 - mae: 0.0410 - mse: 0.0048 - mape: 26839.6328 - val_loss: 0.0410 - val_rmse: 0.0692 - val_r2: 0.9997 - val_mae: 0.0410 - val_mse: 0.0048 - val_mape: 27214.6250\n",
      "Epoch 51/100\n",
      "26215/26215 [==============================] - 66s 3ms/step - loss: 0.0409 - rmse: 0.0690 - r2: 0.9997 - mae: 0.0409 - mse: 0.0048 - mape: 26680.5527 - val_loss: 0.0410 - val_rmse: 0.0692 - val_r2: 0.9997 - val_mae: 0.0410 - val_mse: 0.0048 - val_mape: 23925.3867\n",
      "Epoch 52/100\n",
      "26215/26215 [==============================] - 66s 3ms/step - loss: 0.0409 - rmse: 0.0690 - r2: 0.9997 - mae: 0.0409 - mse: 0.0048 - mape: 26751.5449 - val_loss: 0.0410 - val_rmse: 0.0691 - val_r2: 0.9997 - val_mae: 0.0410 - val_mse: 0.0048 - val_mape: 28944.9219\n",
      "Epoch 53/100\n",
      "26215/26215 [==============================] - 67s 3ms/step - loss: 0.0409 - rmse: 0.0690 - r2: 0.9997 - mae: 0.0409 - mse: 0.0048 - mape: 26618.9609 - val_loss: 0.0410 - val_rmse: 0.0692 - val_r2: 0.9997 - val_mae: 0.0410 - val_mse: 0.0048 - val_mape: 26463.4648\n",
      "Epoch 54/100\n",
      "26215/26215 [==============================] - 67s 3ms/step - loss: 0.0409 - rmse: 0.0690 - r2: 0.9997 - mae: 0.0409 - mse: 0.0048 - mape: 26641.9883 - val_loss: 0.0409 - val_rmse: 0.0691 - val_r2: 0.9997 - val_mae: 0.0409 - val_mse: 0.0048 - val_mape: 29414.4160\n",
      "Epoch 55/100\n",
      "26215/26215 [==============================] - 67s 3ms/step - loss: 0.0409 - rmse: 0.0689 - r2: 0.9997 - mae: 0.0409 - mse: 0.0048 - mape: 26395.4707 - val_loss: 0.0409 - val_rmse: 0.0691 - val_r2: 0.9997 - val_mae: 0.0409 - val_mse: 0.0048 - val_mape: 28363.5059\n",
      "Epoch 56/100\n",
      "26215/26215 [==============================] - 67s 3ms/step - loss: 0.0409 - rmse: 0.0689 - r2: 0.9997 - mae: 0.0409 - mse: 0.0047 - mape: 26116.9551 - val_loss: 0.0409 - val_rmse: 0.0691 - val_r2: 0.9997 - val_mae: 0.0409 - val_mse: 0.0048 - val_mape: 26727.5605\n",
      "Epoch 57/100\n",
      "26215/26215 [==============================] - 67s 3ms/step - loss: 0.0409 - rmse: 0.0689 - r2: 0.9997 - mae: 0.0409 - mse: 0.0047 - mape: 25978.0156 - val_loss: 0.0411 - val_rmse: 0.0692 - val_r2: 0.9997 - val_mae: 0.0411 - val_mse: 0.0048 - val_mape: 25358.3711\n",
      "Epoch 58/100\n",
      "26215/26215 [==============================] - 66s 3ms/step - loss: 0.0409 - rmse: 0.0689 - r2: 0.9997 - mae: 0.0409 - mse: 0.0047 - mape: 26187.6387 - val_loss: 0.0410 - val_rmse: 0.0691 - val_r2: 0.9997 - val_mae: 0.0410 - val_mse: 0.0048 - val_mape: 26155.8633\n",
      "Epoch 59/100\n",
      "26215/26215 [==============================] - 64s 2ms/step - loss: 0.0408 - rmse: 0.0689 - r2: 0.9997 - mae: 0.0408 - mse: 0.0047 - mape: 26055.9375 - val_loss: 0.0409 - val_rmse: 0.0690 - val_r2: 0.9997 - val_mae: 0.0409 - val_mse: 0.0048 - val_mape: 24446.6719\n",
      "Epoch 60/100\n",
      "26215/26215 [==============================] - 66s 3ms/step - loss: 0.0408 - rmse: 0.0688 - r2: 0.9997 - mae: 0.0408 - mse: 0.0047 - mape: 25925.5938 - val_loss: 0.0410 - val_rmse: 0.0691 - val_r2: 0.9997 - val_mae: 0.0410 - val_mse: 0.0048 - val_mape: 28805.0391\n"
     ]
    },
    {
     "name": "stdout",
     "output_type": "stream",
     "text": [
      "Epoch 61/100\n",
      "26215/26215 [==============================] - 67s 3ms/step - loss: 0.0408 - rmse: 0.0688 - r2: 0.9997 - mae: 0.0408 - mse: 0.0047 - mape: 26102.3516 - val_loss: 0.0409 - val_rmse: 0.0690 - val_r2: 0.9997 - val_mae: 0.0409 - val_mse: 0.0048 - val_mape: 27515.7871\n",
      "Epoch 62/100\n",
      "26215/26215 [==============================] - 68s 3ms/step - loss: 0.0408 - rmse: 0.0688 - r2: 0.9997 - mae: 0.0408 - mse: 0.0047 - mape: 26003.0996 - val_loss: 0.0409 - val_rmse: 0.0689 - val_r2: 0.9997 - val_mae: 0.0409 - val_mse: 0.0048 - val_mape: 27493.2520\n",
      "Epoch 63/100\n",
      "26215/26215 [==============================] - 68s 3ms/step - loss: 0.0408 - rmse: 0.0688 - r2: 0.9997 - mae: 0.0408 - mse: 0.0047 - mape: 26288.0586 - val_loss: 0.0409 - val_rmse: 0.0690 - val_r2: 0.9997 - val_mae: 0.0409 - val_mse: 0.0048 - val_mape: 23838.4570\n",
      "Epoch 64/100\n",
      "26215/26215 [==============================] - 67s 3ms/step - loss: 0.0408 - rmse: 0.0688 - r2: 0.9997 - mae: 0.0408 - mse: 0.0047 - mape: 25834.9062 - val_loss: 0.0408 - val_rmse: 0.0690 - val_r2: 0.9997 - val_mae: 0.0408 - val_mse: 0.0048 - val_mape: 24480.6230\n",
      "Epoch 65/100\n",
      "26215/26215 [==============================] - 67s 3ms/step - loss: 0.0408 - rmse: 0.0687 - r2: 0.9997 - mae: 0.0408 - mse: 0.0047 - mape: 25992.7598 - val_loss: 0.0408 - val_rmse: 0.0690 - val_r2: 0.9997 - val_mae: 0.0408 - val_mse: 0.0048 - val_mape: 24471.7754\n",
      "Epoch 66/100\n",
      "26215/26215 [==============================] - 67s 3ms/step - loss: 0.0408 - rmse: 0.0687 - r2: 0.9997 - mae: 0.0408 - mse: 0.0047 - mape: 26071.8887 - val_loss: 0.0408 - val_rmse: 0.0689 - val_r2: 0.9997 - val_mae: 0.0408 - val_mse: 0.0048 - val_mape: 26123.4316\n",
      "Epoch 67/100\n",
      "26215/26215 [==============================] - 67s 3ms/step - loss: 0.0408 - rmse: 0.0687 - r2: 0.9997 - mae: 0.0408 - mse: 0.0047 - mape: 25833.7383 - val_loss: 0.0409 - val_rmse: 0.0689 - val_r2: 0.9997 - val_mae: 0.0409 - val_mse: 0.0047 - val_mape: 25912.2324\n",
      "Epoch 68/100\n",
      "26215/26215 [==============================] - 63s 2ms/step - loss: 0.0407 - rmse: 0.0687 - r2: 0.9997 - mae: 0.0407 - mse: 0.0047 - mape: 25987.7129 - val_loss: 0.0409 - val_rmse: 0.0689 - val_r2: 0.9997 - val_mae: 0.0409 - val_mse: 0.0047 - val_mape: 24592.6895\n",
      "Epoch 69/100\n",
      "26215/26215 [==============================] - 67s 3ms/step - loss: 0.0407 - rmse: 0.0687 - r2: 0.9997 - mae: 0.0407 - mse: 0.0047 - mape: 25922.9121 - val_loss: 0.0408 - val_rmse: 0.0689 - val_r2: 0.9997 - val_mae: 0.0408 - val_mse: 0.0047 - val_mape: 28286.3203\n",
      "Epoch 70/100\n",
      "26215/26215 [==============================] - 67s 3ms/step - loss: 0.0407 - rmse: 0.0687 - r2: 0.9997 - mae: 0.0407 - mse: 0.0047 - mape: 25798.3086 - val_loss: 0.0408 - val_rmse: 0.0688 - val_r2: 0.9997 - val_mae: 0.0408 - val_mse: 0.0047 - val_mape: 23926.1621\n",
      "Epoch 71/100\n",
      "26215/26215 [==============================] - 68s 3ms/step - loss: 0.0407 - rmse: 0.0687 - r2: 0.9997 - mae: 0.0407 - mse: 0.0047 - mape: 25932.6816 - val_loss: 0.0409 - val_rmse: 0.0688 - val_r2: 0.9997 - val_mae: 0.0409 - val_mse: 0.0047 - val_mape: 27021.8984\n",
      "Epoch 72/100\n",
      "26215/26215 [==============================] - 67s 3ms/step - loss: 0.0407 - rmse: 0.0687 - r2: 0.9997 - mae: 0.0407 - mse: 0.0047 - mape: 25916.1641 - val_loss: 0.0408 - val_rmse: 0.0688 - val_r2: 0.9997 - val_mae: 0.0408 - val_mse: 0.0047 - val_mape: 24991.3633\n",
      "Epoch 73/100\n",
      "26215/26215 [==============================] - 68s 3ms/step - loss: 0.0407 - rmse: 0.0686 - r2: 0.9997 - mae: 0.0407 - mse: 0.0047 - mape: 25883.8945 - val_loss: 0.0408 - val_rmse: 0.0688 - val_r2: 0.9997 - val_mae: 0.0408 - val_mse: 0.0047 - val_mape: 28678.8906\n",
      "Epoch 74/100\n",
      "26215/26215 [==============================] - 67s 3ms/step - loss: 0.0407 - rmse: 0.0686 - r2: 0.9997 - mae: 0.0407 - mse: 0.0047 - mape: 25986.3711 - val_loss: 0.0408 - val_rmse: 0.0688 - val_r2: 0.9997 - val_mae: 0.0408 - val_mse: 0.0047 - val_mape: 25266.1035\n",
      "Epoch 75/100\n",
      "26215/26215 [==============================] - 67s 3ms/step - loss: 0.0407 - rmse: 0.0686 - r2: 0.9997 - mae: 0.0407 - mse: 0.0047 - mape: 25704.6602 - val_loss: 0.0408 - val_rmse: 0.0688 - val_r2: 0.9997 - val_mae: 0.0408 - val_mse: 0.0047 - val_mape: 26252.6719\n",
      "Epoch 76/100\n",
      "26215/26215 [==============================] - 66s 3ms/step - loss: 0.0407 - rmse: 0.0686 - r2: 0.9997 - mae: 0.0407 - mse: 0.0047 - mape: 25864.7734 - val_loss: 0.0407 - val_rmse: 0.0688 - val_r2: 0.9997 - val_mae: 0.0407 - val_mse: 0.0047 - val_mape: 27029.5977\n",
      "Epoch 77/100\n",
      "26215/26215 [==============================] - 66s 3ms/step - loss: 0.0407 - rmse: 0.0686 - r2: 0.9997 - mae: 0.0407 - mse: 0.0047 - mape: 25753.8496 - val_loss: 0.0408 - val_rmse: 0.0689 - val_r2: 0.9997 - val_mae: 0.0408 - val_mse: 0.0047 - val_mape: 25284.1445\n",
      "Epoch 78/100\n",
      "26215/26215 [==============================] - 66s 3ms/step - loss: 0.0406 - rmse: 0.0686 - r2: 0.9997 - mae: 0.0406 - mse: 0.0047 - mape: 25845.4043 - val_loss: 0.0408 - val_rmse: 0.0688 - val_r2: 0.9997 - val_mae: 0.0408 - val_mse: 0.0047 - val_mape: 24591.3613\n",
      "Epoch 79/100\n",
      "26215/26215 [==============================] - 70s 3ms/step - loss: 0.0406 - rmse: 0.0686 - r2: 0.9997 - mae: 0.0406 - mse: 0.0047 - mape: 25859.7832 - val_loss: 0.0408 - val_rmse: 0.0689 - val_r2: 0.9997 - val_mae: 0.0408 - val_mse: 0.0047 - val_mape: 24126.4082\n",
      "Epoch 80/100\n",
      "26215/26215 [==============================] - 71s 3ms/step - loss: 0.0406 - rmse: 0.0686 - r2: 0.9997 - mae: 0.0406 - mse: 0.0047 - mape: 26073.7930 - val_loss: 0.0409 - val_rmse: 0.0689 - val_r2: 0.9997 - val_mae: 0.0409 - val_mse: 0.0048 - val_mape: 25127.7852\n",
      "Epoch 81/100\n",
      "26215/26215 [==============================] - 71s 3ms/step - loss: 0.0406 - rmse: 0.0685 - r2: 0.9997 - mae: 0.0406 - mse: 0.0047 - mape: 25899.5371 - val_loss: 0.0407 - val_rmse: 0.0688 - val_r2: 0.9997 - val_mae: 0.0407 - val_mse: 0.0047 - val_mape: 24903.8242\n",
      "Epoch 82/100\n",
      "26215/26215 [==============================] - 68s 3ms/step - loss: 0.0406 - rmse: 0.0685 - r2: 0.9997 - mae: 0.0406 - mse: 0.0047 - mape: 25827.7188 - val_loss: 0.0407 - val_rmse: 0.0687 - val_r2: 0.9997 - val_mae: 0.0407 - val_mse: 0.0047 - val_mape: 25993.2422\n",
      "Epoch 83/100\n",
      "26215/26215 [==============================] - 71s 3ms/step - loss: 0.0406 - rmse: 0.0685 - r2: 0.9997 - mae: 0.0406 - mse: 0.0047 - mape: 25813.4219 - val_loss: 0.0407 - val_rmse: 0.0688 - val_r2: 0.9997 - val_mae: 0.0407 - val_mse: 0.0047 - val_mape: 24458.5000\n",
      "Epoch 84/100\n",
      "26215/26215 [==============================] - 70s 3ms/step - loss: 0.0406 - rmse: 0.0685 - r2: 0.9997 - mae: 0.0406 - mse: 0.0047 - mape: 25728.3887 - val_loss: 0.0407 - val_rmse: 0.0687 - val_r2: 0.9997 - val_mae: 0.0407 - val_mse: 0.0047 - val_mape: 24058.7090\n",
      "Epoch 85/100\n",
      "26215/26215 [==============================] - 69s 3ms/step - loss: 0.0406 - rmse: 0.0685 - r2: 0.9997 - mae: 0.0406 - mse: 0.0047 - mape: 25714.1172 - val_loss: 0.0407 - val_rmse: 0.0687 - val_r2: 0.9997 - val_mae: 0.0407 - val_mse: 0.0047 - val_mape: 24081.7441\n",
      "Epoch 86/100\n",
      "26215/26215 [==============================] - 70s 3ms/step - loss: 0.0406 - rmse: 0.0685 - r2: 0.9997 - mae: 0.0406 - mse: 0.0047 - mape: 25844.3789 - val_loss: 0.0407 - val_rmse: 0.0687 - val_r2: 0.9997 - val_mae: 0.0407 - val_mse: 0.0047 - val_mape: 26172.2031\n",
      "Epoch 87/100\n",
      "26215/26215 [==============================] - 70s 3ms/step - loss: 0.0406 - rmse: 0.0685 - r2: 0.9997 - mae: 0.0406 - mse: 0.0047 - mape: 25736.3770 - val_loss: 0.0407 - val_rmse: 0.0686 - val_r2: 0.9997 - val_mae: 0.0407 - val_mse: 0.0047 - val_mape: 27068.1855\n",
      "Epoch 88/100\n",
      "26215/26215 [==============================] - 71s 3ms/step - loss: 0.0406 - rmse: 0.0685 - r2: 0.9997 - mae: 0.0406 - mse: 0.0047 - mape: 25795.0977 - val_loss: 0.0407 - val_rmse: 0.0687 - val_r2: 0.9997 - val_mae: 0.0407 - val_mse: 0.0047 - val_mape: 29316.0781\n",
      "Epoch 89/100\n",
      "26215/26215 [==============================] - 70s 3ms/step - loss: 0.0406 - rmse: 0.0684 - r2: 0.9997 - mae: 0.0406 - mse: 0.0047 - mape: 25950.1816 - val_loss: 0.0407 - val_rmse: 0.0686 - val_r2: 0.9997 - val_mae: 0.0407 - val_mse: 0.0047 - val_mape: 26529.2246\n",
      "Epoch 90/100\n",
      "26215/26215 [==============================] - 69s 3ms/step - loss: 0.0406 - rmse: 0.0684 - r2: 0.9997 - mae: 0.0406 - mse: 0.0047 - mape: 25640.5098 - val_loss: 0.0406 - val_rmse: 0.0686 - val_r2: 0.9997 - val_mae: 0.0406 - val_mse: 0.0047 - val_mape: 24373.9980\n"
     ]
    },
    {
     "name": "stdout",
     "output_type": "stream",
     "text": [
      "Epoch 91/100\n",
      "26215/26215 [==============================] - 67s 3ms/step - loss: 0.0406 - rmse: 0.0684 - r2: 0.9997 - mae: 0.0406 - mse: 0.0047 - mape: 25703.1211 - val_loss: 0.0407 - val_rmse: 0.0687 - val_r2: 0.9997 - val_mae: 0.0407 - val_mse: 0.0047 - val_mape: 24095.8809\n",
      "Epoch 92/100\n",
      "26215/26215 [==============================] - 68s 3ms/step - loss: 0.0405 - rmse: 0.0684 - r2: 0.9997 - mae: 0.0405 - mse: 0.0047 - mape: 25378.4453 - val_loss: 0.0407 - val_rmse: 0.0687 - val_r2: 0.9997 - val_mae: 0.0407 - val_mse: 0.0047 - val_mape: 25656.6016\n",
      "Epoch 93/100\n",
      "26215/26215 [==============================] - 68s 3ms/step - loss: 0.0405 - rmse: 0.0684 - r2: 0.9997 - mae: 0.0405 - mse: 0.0047 - mape: 25290.4102 - val_loss: 0.0406 - val_rmse: 0.0686 - val_r2: 0.9997 - val_mae: 0.0406 - val_mse: 0.0047 - val_mape: 25106.4551\n",
      "Epoch 94/100\n",
      "26215/26215 [==============================] - 67s 3ms/step - loss: 0.0405 - rmse: 0.0684 - r2: 0.9997 - mae: 0.0405 - mse: 0.0047 - mape: 25208.2285 - val_loss: 0.0406 - val_rmse: 0.0686 - val_r2: 0.9997 - val_mae: 0.0406 - val_mse: 0.0047 - val_mape: 27164.7969\n",
      "Epoch 95/100\n",
      "26215/26215 [==============================] - 67s 3ms/step - loss: 0.0405 - rmse: 0.0684 - r2: 0.9997 - mae: 0.0405 - mse: 0.0047 - mape: 25202.2871 - val_loss: 0.0406 - val_rmse: 0.0686 - val_r2: 0.9997 - val_mae: 0.0406 - val_mse: 0.0047 - val_mape: 24361.5020\n",
      "Epoch 96/100\n",
      "26215/26215 [==============================] - 67s 3ms/step - loss: 0.0405 - rmse: 0.0684 - r2: 0.9997 - mae: 0.0405 - mse: 0.0047 - mape: 25156.9766 - val_loss: 0.0406 - val_rmse: 0.0686 - val_r2: 0.9997 - val_mae: 0.0406 - val_mse: 0.0047 - val_mape: 25068.2383\n",
      "Epoch 97/100\n",
      "26215/26215 [==============================] - 67s 3ms/step - loss: 0.0405 - rmse: 0.0684 - r2: 0.9997 - mae: 0.0405 - mse: 0.0047 - mape: 25150.1660 - val_loss: 0.0406 - val_rmse: 0.0686 - val_r2: 0.9997 - val_mae: 0.0406 - val_mse: 0.0047 - val_mape: 24395.3945\n",
      "Epoch 98/100\n",
      "26215/26215 [==============================] - 67s 3ms/step - loss: 0.0405 - rmse: 0.0684 - r2: 0.9997 - mae: 0.0405 - mse: 0.0047 - mape: 25196.2695 - val_loss: 0.0406 - val_rmse: 0.0685 - val_r2: 0.9997 - val_mae: 0.0406 - val_mse: 0.0047 - val_mape: 24372.1641\n",
      "Epoch 99/100\n",
      "26215/26215 [==============================] - 66s 3ms/step - loss: 0.0405 - rmse: 0.0683 - r2: 0.9997 - mae: 0.0405 - mse: 0.0047 - mape: 25287.9707 - val_loss: 0.0406 - val_rmse: 0.0685 - val_r2: 0.9997 - val_mae: 0.0406 - val_mse: 0.0047 - val_mape: 27468.7246\n",
      "Epoch 100/100\n",
      "26215/26215 [==============================] - 68s 3ms/step - loss: 0.0405 - rmse: 0.0683 - r2: 0.9997 - mae: 0.0405 - mse: 0.0047 - mape: 25129.2520 - val_loss: 0.0408 - val_rmse: 0.0687 - val_r2: 0.9997 - val_mae: 0.0408 - val_mse: 0.0047 - val_mape: 24638.3203\n",
      "CPU times: total: 3h 28min 23s\n",
      "Wall time: 1h 51min 53s\n"
     ]
    }
   ],
   "source": [
    "%%time\n",
    "tf.random.set_seed(42)\n",
    "\n",
    "model_4 = tf.keras.Sequential([tf.keras.layers.Dense(50,activation = 'relu'),\n",
    "                               tf.keras.layers.Dense(50),\n",
    "                               tf.keras.layers.Dense(50),\n",
    "                               tf.keras.layers.Dense(100),\n",
    "                               tf.keras.layers.Dense(50),\n",
    "                               tf.keras.layers.Dense(20),\n",
    "                               tf.keras.layers.Dense(1)])\n",
    "\n",
    "model_4.compile(loss = tf.keras.losses.mae,\n",
    "                optimizer = tf.keras.optimizers.legacy.Adam(learning_rate=0.001,decay=0.001),\n",
    "                metrics=[tf.keras.metrics.RootMeanSquaredError(name='rmse'),\n",
    "                         tfa.metrics.RSquare(name='r2'),'mae','mse','mape'])\n",
    "\n",
    "history_4 = model_4.fit(X_train,Y_train, epochs= 100,batch_size=32,validation_data=(X_test,Y_test), callbacks = callback)"
   ]
  },
  {
   "cell_type": "code",
   "execution_count": 25,
   "id": "1fc2d723",
   "metadata": {},
   "outputs": [
    {
     "data": {
      "image/png": "[encoded data removed]",
      "text/plain": [
       "<Figure size 640x480 with 1 Axes>"
      ]
     },
     "metadata": {},
     "output_type": "display_data"
    }
   ],
   "source": [
    "plot_his(history_4)"
   ]
  },
  {
   "cell_type": "code",
   "execution_count": 26,
   "id": "8eb2d5d4",
   "metadata": {},
   "outputs": [
    {
     "name": "stdout",
     "output_type": "stream",
     "text": [
      "6554/6554 [==============================] - 16s 2ms/step - loss: 0.0408 - rmse: 0.0687 - r2: 0.9997 - mae: 0.0408 - mse: 0.0047 - mape: 24638.3203\n"
     ]
    },
    {
     "data": {
      "text/plain": [
       "[0.04080270975828171,\n",
       " 0.06871840357780457,\n",
       " 0.9996972680091858,\n",
       " 0.04080270975828171,\n",
       " 0.004722218960523605,\n",
       " 24638.3203125]"
      ]
     },
     "execution_count": 26,
     "metadata": {},
     "output_type": "execute_result"
    }
   ],
   "source": [
    "model_4.evaluate(X_test,Y_test)"
   ]
  },
  {
   "cell_type": "code",
   "execution_count": 27,
   "id": "c2742a85",
   "metadata": {},
   "outputs": [
    {
     "name": "stdout",
     "output_type": "stream",
     "text": [
      "6554/6554 [==============================] - 7s 1ms/step\n"
     ]
    }
   ],
   "source": [
    "Y_pred_4 = model_4.predict(X_test)"
   ]
  },
  {
   "cell_type": "code",
   "execution_count": 28,
   "id": "90dd25c8",
   "metadata": {},
   "outputs": [
    {
     "name": "stdout",
     "output_type": "stream",
     "text": [
      "Model: \"sequential_1\"\n",
      "_________________________________________________________________\n",
      " Layer (type)                Output Shape              Param #   \n",
      "=================================================================\n",
      " dense_5 (Dense)             (None, 50)                200       \n",
      "                                                                 \n",
      " dense_6 (Dense)             (None, 50)                2550      \n",
      "                                                                 \n",
      " dense_7 (Dense)             (None, 50)                2550      \n",
      "                                                                 \n",
      " dense_8 (Dense)             (None, 100)               5100      \n",
      "                                                                 \n",
      " dense_9 (Dense)             (None, 50)                5050      \n",
      "                                                                 \n",
      " dense_10 (Dense)            (None, 20)                1020      \n",
      "                                                                 \n",
      " dense_11 (Dense)            (None, 1)                 21        \n",
      "                                                                 \n",
      "=================================================================\n",
      "Total params: 16,491\n",
      "Trainable params: 16,491\n",
      "Non-trainable params: 0\n",
      "_________________________________________________________________\n"
     ]
    }
   ],
   "source": [
    "model_4.summary()"
   ]
  },
  {
   "cell_type": "code",
   "execution_count": 29,
   "id": "fbbf4501",
   "metadata": {},
   "outputs": [
    {
     "name": "stdout",
     "output_type": "stream",
     "text": [
      "AIC:  33072.34\n"
     ]
    }
   ],
   "source": [
    "AIC_value(model_4,Y_pred_4,Y_test)"
   ]
  },
  {
   "cell_type": "code",
   "execution_count": 30,
   "id": "f16f5694",
   "metadata": {},
   "outputs": [],
   "source": [
    "model_4.save('Saved_models/model_4_SOEesti.h5')"
   ]
  },
  {
   "cell_type": "code",
   "execution_count": null,
   "id": "16a61a84",
   "metadata": {},
   "outputs": [],
   "source": []
  },
  {
   "cell_type": "markdown",
   "id": "05d8ac8e",
   "metadata": {},
   "source": [
    "# LSTM"
   ]
  },
  {
   "cell_type": "code",
   "execution_count": 17,
   "id": "5770ebd6",
   "metadata": {},
   "outputs": [
    {
     "name": "stdout",
     "output_type": "stream",
     "text": [
      "Epoch 1/100\n",
      "26215/26215 [==============================] - 151s 6ms/step - loss: 0.1766 - rmse: 0.5862 - r2: 0.9779 - mae: 0.1766 - mse: 0.3437 - mape: 278802.8750 - val_loss: 0.0791 - val_rmse: 0.1151 - val_r2: 0.9991 - val_mae: 0.0791 - val_mse: 0.0133 - val_mape: 16637.4102\n",
      "Epoch 2/100\n",
      "26215/26215 [==============================] - 152s 6ms/step - loss: 0.0628 - rmse: 0.0994 - r2: 0.9994 - mae: 0.0628 - mse: 0.0099 - mape: 22215.2500 - val_loss: 0.0577 - val_rmse: 0.0939 - val_r2: 0.9994 - val_mae: 0.0577 - val_mse: 0.0088 - val_mape: 21980.1133\n",
      "Epoch 3/100\n",
      "26215/26215 [==============================] - 151s 6ms/step - loss: 0.0566 - rmse: 0.0913 - r2: 0.9995 - mae: 0.0566 - mse: 0.0083 - mape: 19794.8379 - val_loss: 0.0524 - val_rmse: 0.0869 - val_r2: 0.9995 - val_mae: 0.0524 - val_mse: 0.0076 - val_mape: 17032.1289\n",
      "Epoch 4/100\n",
      "26215/26215 [==============================] - 154s 6ms/step - loss: 0.0530 - rmse: 0.0865 - r2: 0.9995 - mae: 0.0530 - mse: 0.0075 - mape: 19253.2598 - val_loss: 0.0490 - val_rmse: 0.0821 - val_r2: 0.9996 - val_mae: 0.0490 - val_mse: 0.0067 - val_mape: 10542.5850\n",
      "Epoch 5/100\n",
      "26215/26215 [==============================] - 157s 6ms/step - loss: 0.0507 - rmse: 0.0833 - r2: 0.9996 - mae: 0.0507 - mse: 0.0069 - mape: 18211.2188 - val_loss: 0.0505 - val_rmse: 0.0827 - val_r2: 0.9996 - val_mae: 0.0505 - val_mse: 0.0068 - val_mape: 22840.7793\n",
      "Epoch 6/100\n",
      "26215/26215 [==============================] - 159s 6ms/step - loss: 0.0491 - rmse: 0.0809 - r2: 0.9996 - mae: 0.0491 - mse: 0.0065 - mape: 17546.1992 - val_loss: 0.0469 - val_rmse: 0.0782 - val_r2: 0.9996 - val_mae: 0.0469 - val_mse: 0.0061 - val_mape: 24738.0312\n",
      "Epoch 7/100\n",
      "26215/26215 [==============================] - 160s 6ms/step - loss: 0.0479 - rmse: 0.0790 - r2: 0.9996 - mae: 0.0479 - mse: 0.0062 - mape: 17051.1953 - val_loss: 0.0467 - val_rmse: 0.0774 - val_r2: 0.9996 - val_mae: 0.0467 - val_mse: 0.0060 - val_mape: 12829.9521\n",
      "Epoch 8/100\n",
      "26215/26215 [==============================] - 150s 6ms/step - loss: 0.0470 - rmse: 0.0775 - r2: 0.9996 - mae: 0.0470 - mse: 0.0060 - mape: 15924.3936 - val_loss: 0.0450 - val_rmse: 0.0753 - val_r2: 0.9996 - val_mae: 0.0450 - val_mse: 0.0057 - val_mape: 12068.3525\n",
      "Epoch 9/100\n",
      "26215/26215 [==============================] - 150s 6ms/step - loss: 0.0461 - rmse: 0.0761 - r2: 0.9996 - mae: 0.0461 - mse: 0.0058 - mape: 14566.2734 - val_loss: 0.0469 - val_rmse: 0.0768 - val_r2: 0.9996 - val_mae: 0.0469 - val_mse: 0.0059 - val_mape: 7377.0054\n",
      "Epoch 10/100\n",
      "26215/26215 [==============================] - 153s 6ms/step - loss: 0.0454 - rmse: 0.0751 - r2: 0.9996 - mae: 0.0454 - mse: 0.0056 - mape: 14002.1777 - val_loss: 0.0448 - val_rmse: 0.0742 - val_r2: 0.9996 - val_mae: 0.0448 - val_mse: 0.0055 - val_mape: 13843.6143\n",
      "Epoch 11/100\n",
      "26215/26215 [==============================] - 157s 6ms/step - loss: 0.0448 - rmse: 0.0743 - r2: 0.9996 - mae: 0.0448 - mse: 0.0055 - mape: 12853.4336 - val_loss: 0.0435 - val_rmse: 0.0732 - val_r2: 0.9997 - val_mae: 0.0435 - val_mse: 0.0054 - val_mape: 13380.4668\n",
      "Epoch 12/100\n",
      "26215/26215 [==============================] - 157s 6ms/step - loss: 0.0442 - rmse: 0.0736 - r2: 0.9997 - mae: 0.0442 - mse: 0.0054 - mape: 12025.4785 - val_loss: 0.0437 - val_rmse: 0.0731 - val_r2: 0.9997 - val_mae: 0.0437 - val_mse: 0.0053 - val_mape: 16289.9297\n",
      "Epoch 13/100\n",
      "26215/26215 [==============================] - 153s 6ms/step - loss: 0.0437 - rmse: 0.0730 - r2: 0.9997 - mae: 0.0437 - mse: 0.0053 - mape: 11354.1602 - val_loss: 0.0444 - val_rmse: 0.0741 - val_r2: 0.9996 - val_mae: 0.0444 - val_mse: 0.0055 - val_mape: 13754.4746\n",
      "Epoch 14/100\n",
      "26215/26215 [==============================] - 157s 6ms/step - loss: 0.0433 - rmse: 0.0726 - r2: 0.9997 - mae: 0.0433 - mse: 0.0053 - mape: 10373.7783 - val_loss: 0.0431 - val_rmse: 0.0727 - val_r2: 0.9997 - val_mae: 0.0431 - val_mse: 0.0053 - val_mape: 9157.7354\n",
      "Epoch 15/100\n",
      "26215/26215 [==============================] - 157s 6ms/step - loss: 0.0430 - rmse: 0.0721 - r2: 0.9997 - mae: 0.0430 - mse: 0.0052 - mape: 10220.1143 - val_loss: 0.0447 - val_rmse: 0.0732 - val_r2: 0.9997 - val_mae: 0.0447 - val_mse: 0.0054 - val_mape: 8047.1499\n",
      "Epoch 16/100\n",
      "26215/26215 [==============================] - 156s 6ms/step - loss: 0.0427 - rmse: 0.0718 - r2: 0.9997 - mae: 0.0427 - mse: 0.0052 - mape: 9798.2969 - val_loss: 0.0421 - val_rmse: 0.0714 - val_r2: 0.9997 - val_mae: 0.0421 - val_mse: 0.0051 - val_mape: 10406.1377\n",
      "Epoch 17/100\n",
      "26215/26215 [==============================] - 157s 6ms/step - loss: 0.0424 - rmse: 0.0715 - r2: 0.9997 - mae: 0.0424 - mse: 0.0051 - mape: 9329.3506 - val_loss: 0.0419 - val_rmse: 0.0710 - val_r2: 0.9997 - val_mae: 0.0419 - val_mse: 0.0050 - val_mape: 5717.4756\n",
      "Epoch 18/100\n",
      "26215/26215 [==============================] - 157s 6ms/step - loss: 0.0421 - rmse: 0.0712 - r2: 0.9997 - mae: 0.0421 - mse: 0.0051 - mape: 9193.3770 - val_loss: 0.0420 - val_rmse: 0.0711 - val_r2: 0.9997 - val_mae: 0.0420 - val_mse: 0.0050 - val_mape: 8116.3867\n",
      "Epoch 19/100\n",
      "26215/26215 [==============================] - 155s 6ms/step - loss: 0.0419 - rmse: 0.0710 - r2: 0.9997 - mae: 0.0419 - mse: 0.0050 - mape: 8915.7666 - val_loss: 0.0413 - val_rmse: 0.0706 - val_r2: 0.9997 - val_mae: 0.0413 - val_mse: 0.0050 - val_mape: 8513.7119\n",
      "Epoch 20/100\n",
      "26215/26215 [==============================] - 161s 6ms/step - loss: 0.0416 - rmse: 0.0707 - r2: 0.9997 - mae: 0.0416 - mse: 0.0050 - mape: 8667.6279 - val_loss: 0.0428 - val_rmse: 0.0715 - val_r2: 0.9997 - val_mae: 0.0428 - val_mse: 0.0051 - val_mape: 8036.6396\n",
      "Epoch 21/100\n",
      "26215/26215 [==============================] - 154s 6ms/step - loss: 0.0414 - rmse: 0.0706 - r2: 0.9997 - mae: 0.0414 - mse: 0.0050 - mape: 8441.8711 - val_loss: 0.0433 - val_rmse: 0.0717 - val_r2: 0.9997 - val_mae: 0.0433 - val_mse: 0.0051 - val_mape: 11426.9824\n",
      "Epoch 22/100\n",
      "26215/26215 [==============================] - 154s 6ms/step - loss: 0.0412 - rmse: 0.0703 - r2: 0.9997 - mae: 0.0412 - mse: 0.0049 - mape: 8194.6621 - val_loss: 0.0407 - val_rmse: 0.0703 - val_r2: 0.9997 - val_mae: 0.0407 - val_mse: 0.0049 - val_mape: 7685.1113\n",
      "Epoch 23/100\n",
      "26215/26215 [==============================] - 155s 6ms/step - loss: 0.0410 - rmse: 0.0702 - r2: 0.9997 - mae: 0.0410 - mse: 0.0049 - mape: 8282.1240 - val_loss: 0.0427 - val_rmse: 0.0709 - val_r2: 0.9997 - val_mae: 0.0427 - val_mse: 0.0050 - val_mape: 9600.7988\n",
      "Epoch 24/100\n",
      "26215/26215 [==============================] - 154s 6ms/step - loss: 0.0409 - rmse: 0.0701 - r2: 0.9997 - mae: 0.0409 - mse: 0.0049 - mape: 7983.2642 - val_loss: 0.0409 - val_rmse: 0.0704 - val_r2: 0.9997 - val_mae: 0.0409 - val_mse: 0.0050 - val_mape: 7090.3799\n",
      "Epoch 25/100\n",
      "26215/26215 [==============================] - 156s 6ms/step - loss: 0.0407 - rmse: 0.0699 - r2: 0.9997 - mae: 0.0407 - mse: 0.0049 - mape: 7905.5234 - val_loss: 0.0404 - val_rmse: 0.0700 - val_r2: 0.9997 - val_mae: 0.0404 - val_mse: 0.0049 - val_mape: 8569.7588\n",
      "Epoch 26/100\n",
      "26215/26215 [==============================] - 161s 6ms/step - loss: 0.0406 - rmse: 0.0698 - r2: 0.9997 - mae: 0.0406 - mse: 0.0049 - mape: 7869.0986 - val_loss: 0.0408 - val_rmse: 0.0707 - val_r2: 0.9997 - val_mae: 0.0408 - val_mse: 0.0050 - val_mape: 6187.8506\n",
      "Epoch 27/100\n",
      "26215/26215 [==============================] - 157s 6ms/step - loss: 0.0404 - rmse: 0.0697 - r2: 0.9997 - mae: 0.0404 - mse: 0.0049 - mape: 7838.7354 - val_loss: 0.0412 - val_rmse: 0.0701 - val_r2: 0.9997 - val_mae: 0.0412 - val_mse: 0.0049 - val_mape: 6230.2222\n",
      "Epoch 28/100\n",
      "26215/26215 [==============================] - 161s 6ms/step - loss: 0.0402 - rmse: 0.0696 - r2: 0.9997 - mae: 0.0402 - mse: 0.0048 - mape: 7772.7832 - val_loss: 0.0405 - val_rmse: 0.0699 - val_r2: 0.9997 - val_mae: 0.0405 - val_mse: 0.0049 - val_mape: 4148.9014\n",
      "Epoch 29/100\n",
      "26215/26215 [==============================] - 161s 6ms/step - loss: 0.0401 - rmse: 0.0695 - r2: 0.9997 - mae: 0.0401 - mse: 0.0048 - mape: 7867.1919 - val_loss: 0.0398 - val_rmse: 0.0694 - val_r2: 0.9997 - val_mae: 0.0398 - val_mse: 0.0048 - val_mape: 8736.7549\n",
      "Epoch 30/100\n",
      "26215/26215 [==============================] - 161s 6ms/step - loss: 0.0400 - rmse: 0.0694 - r2: 0.9997 - mae: 0.0400 - mse: 0.0048 - mape: 8185.0986 - val_loss: 0.0402 - val_rmse: 0.0697 - val_r2: 0.9997 - val_mae: 0.0402 - val_mse: 0.0049 - val_mape: 11910.8867\n"
     ]
    },
    {
     "name": "stdout",
     "output_type": "stream",
     "text": [
      "Epoch 31/100\n",
      "26215/26215 [==============================] - 160s 6ms/step - loss: 0.0398 - rmse: 0.0693 - r2: 0.9997 - mae: 0.0398 - mse: 0.0048 - mape: 8027.4604 - val_loss: 0.0403 - val_rmse: 0.0696 - val_r2: 0.9997 - val_mae: 0.0403 - val_mse: 0.0048 - val_mape: 9633.7295\n",
      "Epoch 32/100\n",
      "26215/26215 [==============================] - 156s 6ms/step - loss: 0.0397 - rmse: 0.0692 - r2: 0.9997 - mae: 0.0397 - mse: 0.0048 - mape: 8223.4951 - val_loss: 0.0396 - val_rmse: 0.0694 - val_r2: 0.9997 - val_mae: 0.0396 - val_mse: 0.0048 - val_mape: 10621.1455\n",
      "Epoch 33/100\n",
      "26215/26215 [==============================] - 156s 6ms/step - loss: 0.0396 - rmse: 0.0691 - r2: 0.9997 - mae: 0.0396 - mse: 0.0048 - mape: 8177.4854 - val_loss: 0.0405 - val_rmse: 0.0700 - val_r2: 0.9997 - val_mae: 0.0405 - val_mse: 0.0049 - val_mape: 10130.0645\n",
      "Epoch 34/100\n",
      "26215/26215 [==============================] - 157s 6ms/step - loss: 0.0395 - rmse: 0.0691 - r2: 0.9997 - mae: 0.0395 - mse: 0.0048 - mape: 8160.2695 - val_loss: 0.0394 - val_rmse: 0.0692 - val_r2: 0.9997 - val_mae: 0.0394 - val_mse: 0.0048 - val_mape: 8953.2881\n",
      "Epoch 35/100\n",
      "26215/26215 [==============================] - 157s 6ms/step - loss: 0.0394 - rmse: 0.0690 - r2: 0.9997 - mae: 0.0394 - mse: 0.0048 - mape: 8201.0586 - val_loss: 0.0392 - val_rmse: 0.0690 - val_r2: 0.9997 - val_mae: 0.0392 - val_mse: 0.0048 - val_mape: 7314.2720\n",
      "Epoch 36/100\n",
      "26215/26215 [==============================] - 154s 6ms/step - loss: 0.0392 - rmse: 0.0689 - r2: 0.9997 - mae: 0.0392 - mse: 0.0047 - mape: 8278.7363 - val_loss: 0.0391 - val_rmse: 0.0690 - val_r2: 0.9997 - val_mae: 0.0391 - val_mse: 0.0048 - val_mape: 6015.5317\n",
      "Epoch 37/100\n",
      "26215/26215 [==============================] - 156s 6ms/step - loss: 0.0391 - rmse: 0.0688 - r2: 0.9997 - mae: 0.0391 - mse: 0.0047 - mape: 8285.5225 - val_loss: 0.0388 - val_rmse: 0.0687 - val_r2: 0.9997 - val_mae: 0.0388 - val_mse: 0.0047 - val_mape: 6672.0576\n",
      "Epoch 38/100\n",
      "26215/26215 [==============================] - 157s 6ms/step - loss: 0.0390 - rmse: 0.0687 - r2: 0.9997 - mae: 0.0390 - mse: 0.0047 - mape: 8354.1250 - val_loss: 0.0390 - val_rmse: 0.0690 - val_r2: 0.9997 - val_mae: 0.0390 - val_mse: 0.0048 - val_mape: 6389.1011\n",
      "Epoch 39/100\n",
      "26215/26215 [==============================] - 154s 6ms/step - loss: 0.0389 - rmse: 0.0687 - r2: 0.9997 - mae: 0.0389 - mse: 0.0047 - mape: 8340.2988 - val_loss: 0.0397 - val_rmse: 0.0692 - val_r2: 0.9997 - val_mae: 0.0397 - val_mse: 0.0048 - val_mape: 5087.4849\n",
      "Epoch 40/100\n",
      "26215/26215 [==============================] - 148s 6ms/step - loss: 0.0388 - rmse: 0.0686 - r2: 0.9997 - mae: 0.0388 - mse: 0.0047 - mape: 8321.9561 - val_loss: 0.0386 - val_rmse: 0.0689 - val_r2: 0.9997 - val_mae: 0.0386 - val_mse: 0.0047 - val_mape: 7091.6558\n",
      "Epoch 41/100\n",
      "26215/26215 [==============================] - 152s 6ms/step - loss: 0.0387 - rmse: 0.0686 - r2: 0.9997 - mae: 0.0387 - mse: 0.0047 - mape: 8459.6709 - val_loss: 0.0386 - val_rmse: 0.0685 - val_r2: 0.9997 - val_mae: 0.0386 - val_mse: 0.0047 - val_mape: 9486.2344\n",
      "Epoch 42/100\n",
      "26215/26215 [==============================] - 145s 6ms/step - loss: 0.0386 - rmse: 0.0685 - r2: 0.9997 - mae: 0.0386 - mse: 0.0047 - mape: 8373.7939 - val_loss: 0.0390 - val_rmse: 0.0691 - val_r2: 0.9997 - val_mae: 0.0390 - val_mse: 0.0048 - val_mape: 7279.3618\n",
      "Epoch 43/100\n",
      "26215/26215 [==============================] - 152s 6ms/step - loss: 0.0385 - rmse: 0.0684 - r2: 0.9997 - mae: 0.0385 - mse: 0.0047 - mape: 8487.4766 - val_loss: 0.0387 - val_rmse: 0.0692 - val_r2: 0.9997 - val_mae: 0.0387 - val_mse: 0.0048 - val_mape: 8602.7227\n",
      "Epoch 44/100\n",
      "26215/26215 [==============================] - 154s 6ms/step - loss: 0.0384 - rmse: 0.0684 - r2: 0.9997 - mae: 0.0384 - mse: 0.0047 - mape: 8256.0137 - val_loss: 0.0385 - val_rmse: 0.0687 - val_r2: 0.9997 - val_mae: 0.0385 - val_mse: 0.0047 - val_mape: 9756.4189\n",
      "Epoch 45/100\n",
      "26215/26215 [==============================] - 189s 7ms/step - loss: 0.0383 - rmse: 0.0683 - r2: 0.9997 - mae: 0.0383 - mse: 0.0047 - mape: 8213.6611 - val_loss: 0.0383 - val_rmse: 0.0686 - val_r2: 0.9997 - val_mae: 0.0383 - val_mse: 0.0047 - val_mape: 8608.4434\n",
      "Epoch 46/100\n",
      "26215/26215 [==============================] - 187s 7ms/step - loss: 0.0382 - rmse: 0.0682 - r2: 0.9997 - mae: 0.0382 - mse: 0.0047 - mape: 8336.7773 - val_loss: 0.0381 - val_rmse: 0.0683 - val_r2: 0.9997 - val_mae: 0.0381 - val_mse: 0.0047 - val_mape: 12183.9561\n",
      "Epoch 47/100\n",
      "26215/26215 [==============================] - 189s 7ms/step - loss: 0.0381 - rmse: 0.0682 - r2: 0.9997 - mae: 0.0381 - mse: 0.0046 - mape: 8452.1328 - val_loss: 0.0387 - val_rmse: 0.0685 - val_r2: 0.9997 - val_mae: 0.0387 - val_mse: 0.0047 - val_mape: 8343.9209\n",
      "Epoch 48/100\n",
      "26215/26215 [==============================] - 185s 7ms/step - loss: 0.0381 - rmse: 0.0681 - r2: 0.9997 - mae: 0.0381 - mse: 0.0046 - mape: 8261.2266 - val_loss: 0.0382 - val_rmse: 0.0683 - val_r2: 0.9997 - val_mae: 0.0382 - val_mse: 0.0047 - val_mape: 6912.2944\n",
      "Epoch 49/100\n",
      "26215/26215 [==============================] - 185s 7ms/step - loss: 0.0380 - rmse: 0.0680 - r2: 0.9997 - mae: 0.0380 - mse: 0.0046 - mape: 8302.6152 - val_loss: 0.0379 - val_rmse: 0.0682 - val_r2: 0.9997 - val_mae: 0.0379 - val_mse: 0.0046 - val_mape: 11178.5527\n",
      "Epoch 50/100\n",
      "26215/26215 [==============================] - 186s 7ms/step - loss: 0.0379 - rmse: 0.0679 - r2: 0.9997 - mae: 0.0379 - mse: 0.0046 - mape: 8302.5000 - val_loss: 0.0378 - val_rmse: 0.0680 - val_r2: 0.9997 - val_mae: 0.0378 - val_mse: 0.0046 - val_mape: 9048.1230\n",
      "Epoch 51/100\n",
      "26215/26215 [==============================] - 186s 7ms/step - loss: 0.0378 - rmse: 0.0679 - r2: 0.9997 - mae: 0.0378 - mse: 0.0046 - mape: 8196.2324 - val_loss: 0.0378 - val_rmse: 0.0681 - val_r2: 0.9997 - val_mae: 0.0378 - val_mse: 0.0046 - val_mape: 8775.7266\n",
      "Epoch 52/100\n",
      "26215/26215 [==============================] - 186s 7ms/step - loss: 0.0377 - rmse: 0.0678 - r2: 0.9997 - mae: 0.0377 - mse: 0.0046 - mape: 8268.5117 - val_loss: 0.0378 - val_rmse: 0.0680 - val_r2: 0.9997 - val_mae: 0.0378 - val_mse: 0.0046 - val_mape: 7933.5439\n",
      "Epoch 53/100\n",
      "26215/26215 [==============================] - 187s 7ms/step - loss: 0.0376 - rmse: 0.0678 - r2: 0.9997 - mae: 0.0376 - mse: 0.0046 - mape: 8311.8369 - val_loss: 0.0385 - val_rmse: 0.0687 - val_r2: 0.9997 - val_mae: 0.0385 - val_mse: 0.0047 - val_mape: 8335.6484\n",
      "Epoch 54/100\n",
      "26215/26215 [==============================] - 188s 7ms/step - loss: 0.0375 - rmse: 0.0677 - r2: 0.9997 - mae: 0.0375 - mse: 0.0046 - mape: 8079.7803 - val_loss: 0.0377 - val_rmse: 0.0683 - val_r2: 0.9997 - val_mae: 0.0377 - val_mse: 0.0047 - val_mape: 6719.5195\n",
      "Epoch 55/100\n",
      "26215/26215 [==============================] - 152s 6ms/step - loss: 0.0374 - rmse: 0.0676 - r2: 0.9997 - mae: 0.0374 - mse: 0.0046 - mape: 8034.9512 - val_loss: 0.0376 - val_rmse: 0.0678 - val_r2: 0.9997 - val_mae: 0.0376 - val_mse: 0.0046 - val_mape: 7531.7446\n",
      "Epoch 56/100\n",
      "26215/26215 [==============================] - 126s 5ms/step - loss: 0.0373 - rmse: 0.0676 - r2: 0.9997 - mae: 0.0373 - mse: 0.0046 - mape: 8074.3003 - val_loss: 0.0373 - val_rmse: 0.0680 - val_r2: 0.9997 - val_mae: 0.0373 - val_mse: 0.0046 - val_mape: 7129.3696\n",
      "Epoch 57/100\n",
      "26215/26215 [==============================] - 121s 5ms/step - loss: 0.0373 - rmse: 0.0675 - r2: 0.9997 - mae: 0.0373 - mse: 0.0046 - mape: 7993.8501 - val_loss: 0.0381 - val_rmse: 0.0684 - val_r2: 0.9997 - val_mae: 0.0381 - val_mse: 0.0047 - val_mape: 7607.9717\n",
      "Epoch 58/100\n",
      "26215/26215 [==============================] - 146s 6ms/step - loss: 0.0372 - rmse: 0.0675 - r2: 0.9997 - mae: 0.0372 - mse: 0.0046 - mape: 8082.1235 - val_loss: 0.0371 - val_rmse: 0.0679 - val_r2: 0.9997 - val_mae: 0.0371 - val_mse: 0.0046 - val_mape: 6635.5283\n",
      "Epoch 59/100\n",
      "26215/26215 [==============================] - 115s 4ms/step - loss: 0.0371 - rmse: 0.0674 - r2: 0.9997 - mae: 0.0371 - mse: 0.0045 - mape: 7902.1646 - val_loss: 0.0372 - val_rmse: 0.0676 - val_r2: 0.9997 - val_mae: 0.0372 - val_mse: 0.0046 - val_mape: 9702.3965\n",
      "Epoch 60/100\n",
      "26215/26215 [==============================] - 105s 4ms/step - loss: 0.0370 - rmse: 0.0673 - r2: 0.9997 - mae: 0.0370 - mse: 0.0045 - mape: 7882.7285 - val_loss: 0.0371 - val_rmse: 0.0676 - val_r2: 0.9997 - val_mae: 0.0371 - val_mse: 0.0046 - val_mape: 9453.2314\n"
     ]
    },
    {
     "name": "stdout",
     "output_type": "stream",
     "text": [
      "Epoch 61/100\n",
      "26215/26215 [==============================] - 104s 4ms/step - loss: 0.0370 - rmse: 0.0673 - r2: 0.9997 - mae: 0.0370 - mse: 0.0045 - mape: 7919.6147 - val_loss: 0.0372 - val_rmse: 0.0680 - val_r2: 0.9997 - val_mae: 0.0372 - val_mse: 0.0046 - val_mape: 8806.2305\n",
      "Epoch 62/100\n",
      "26215/26215 [==============================] - 100s 4ms/step - loss: 0.0369 - rmse: 0.0672 - r2: 0.9997 - mae: 0.0369 - mse: 0.0045 - mape: 7766.2368 - val_loss: 0.0372 - val_rmse: 0.0675 - val_r2: 0.9997 - val_mae: 0.0372 - val_mse: 0.0046 - val_mape: 5663.6982\n",
      "Epoch 63/100\n",
      "26215/26215 [==============================] - 103s 4ms/step - loss: 0.0368 - rmse: 0.0671 - r2: 0.9997 - mae: 0.0368 - mse: 0.0045 - mape: 7731.7739 - val_loss: 0.0371 - val_rmse: 0.0680 - val_r2: 0.9997 - val_mae: 0.0371 - val_mse: 0.0046 - val_mape: 7735.1812\n",
      "Epoch 64/100\n",
      "26215/26215 [==============================] - 103s 4ms/step - loss: 0.0367 - rmse: 0.0671 - r2: 0.9997 - mae: 0.0367 - mse: 0.0045 - mape: 7843.5791 - val_loss: 0.0368 - val_rmse: 0.0674 - val_r2: 0.9997 - val_mae: 0.0368 - val_mse: 0.0045 - val_mape: 6322.7988\n",
      "Epoch 65/100\n",
      "26215/26215 [==============================] - 101s 4ms/step - loss: 0.0367 - rmse: 0.0670 - r2: 0.9997 - mae: 0.0367 - mse: 0.0045 - mape: 7704.2275 - val_loss: 0.0368 - val_rmse: 0.0673 - val_r2: 0.9997 - val_mae: 0.0368 - val_mse: 0.0045 - val_mape: 7880.2109\n",
      "Epoch 66/100\n",
      "26215/26215 [==============================] - 100s 4ms/step - loss: 0.0366 - rmse: 0.0669 - r2: 0.9997 - mae: 0.0366 - mse: 0.0045 - mape: 7727.4072 - val_loss: 0.0366 - val_rmse: 0.0673 - val_r2: 0.9997 - val_mae: 0.0366 - val_mse: 0.0045 - val_mape: 7385.2275\n",
      "Epoch 67/100\n",
      "26215/26215 [==============================] - 96s 4ms/step - loss: 0.0365 - rmse: 0.0669 - r2: 0.9997 - mae: 0.0365 - mse: 0.0045 - mape: 7724.5137 - val_loss: 0.0365 - val_rmse: 0.0672 - val_r2: 0.9997 - val_mae: 0.0365 - val_mse: 0.0045 - val_mape: 5195.9009\n",
      "Epoch 68/100\n",
      "26215/26215 [==============================] - 103s 4ms/step - loss: 0.0365 - rmse: 0.0668 - r2: 0.9997 - mae: 0.0365 - mse: 0.0045 - mape: 7550.9683 - val_loss: 0.0365 - val_rmse: 0.0671 - val_r2: 0.9997 - val_mae: 0.0365 - val_mse: 0.0045 - val_mape: 8809.0059\n",
      "Epoch 69/100\n",
      "26215/26215 [==============================] - 106s 4ms/step - loss: 0.0364 - rmse: 0.0668 - r2: 0.9997 - mae: 0.0364 - mse: 0.0045 - mape: 7601.7085 - val_loss: 0.0363 - val_rmse: 0.0672 - val_r2: 0.9997 - val_mae: 0.0363 - val_mse: 0.0045 - val_mape: 6059.9741\n",
      "Epoch 70/100\n",
      "26215/26215 [==============================] - 127s 5ms/step - loss: 0.0363 - rmse: 0.0667 - r2: 0.9997 - mae: 0.0363 - mse: 0.0045 - mape: 7516.3257 - val_loss: 0.0363 - val_rmse: 0.0670 - val_r2: 0.9997 - val_mae: 0.0363 - val_mse: 0.0045 - val_mape: 8098.5718\n",
      "Epoch 71/100\n",
      "26215/26215 [==============================] - 123s 5ms/step - loss: 0.0363 - rmse: 0.0666 - r2: 0.9997 - mae: 0.0363 - mse: 0.0044 - mape: 7512.3389 - val_loss: 0.0363 - val_rmse: 0.0672 - val_r2: 0.9997 - val_mae: 0.0363 - val_mse: 0.0045 - val_mape: 7173.9443\n",
      "Epoch 72/100\n",
      "26215/26215 [==============================] - 124s 5ms/step - loss: 0.0362 - rmse: 0.0666 - r2: 0.9997 - mae: 0.0362 - mse: 0.0044 - mape: 7579.0498 - val_loss: 0.0361 - val_rmse: 0.0669 - val_r2: 0.9997 - val_mae: 0.0361 - val_mse: 0.0045 - val_mape: 7696.6357\n",
      "Epoch 73/100\n",
      "26215/26215 [==============================] - 103s 4ms/step - loss: 0.0361 - rmse: 0.0666 - r2: 0.9997 - mae: 0.0361 - mse: 0.0044 - mape: 7559.5449 - val_loss: 0.0366 - val_rmse: 0.0673 - val_r2: 0.9997 - val_mae: 0.0366 - val_mse: 0.0045 - val_mape: 5489.0586\n",
      "Epoch 74/100\n",
      "26215/26215 [==============================] - 113s 4ms/step - loss: 0.0361 - rmse: 0.0665 - r2: 0.9997 - mae: 0.0361 - mse: 0.0044 - mape: 7469.5796 - val_loss: 0.0364 - val_rmse: 0.0672 - val_r2: 0.9997 - val_mae: 0.0364 - val_mse: 0.0045 - val_mape: 8128.7197\n",
      "Epoch 75/100\n",
      "26215/26215 [==============================] - 108s 4ms/step - loss: 0.0360 - rmse: 0.0665 - r2: 0.9997 - mae: 0.0360 - mse: 0.0044 - mape: 7450.9951 - val_loss: 0.0366 - val_rmse: 0.0672 - val_r2: 0.9997 - val_mae: 0.0366 - val_mse: 0.0045 - val_mape: 8180.4629\n",
      "Epoch 76/100\n",
      "26215/26215 [==============================] - 117s 4ms/step - loss: 0.0359 - rmse: 0.0664 - r2: 0.9997 - mae: 0.0359 - mse: 0.0044 - mape: 7291.5820 - val_loss: 0.0360 - val_rmse: 0.0666 - val_r2: 0.9997 - val_mae: 0.0360 - val_mse: 0.0044 - val_mape: 7068.6831\n",
      "Epoch 77/100\n",
      "26215/26215 [==============================] - 117s 4ms/step - loss: 0.0359 - rmse: 0.0664 - r2: 0.9997 - mae: 0.0359 - mse: 0.0044 - mape: 7329.6396 - val_loss: 0.0360 - val_rmse: 0.0666 - val_r2: 0.9997 - val_mae: 0.0360 - val_mse: 0.0044 - val_mape: 7443.5723\n",
      "Epoch 78/100\n",
      "26215/26215 [==============================] - 25221s 962ms/step - loss: 0.0358 - rmse: 0.0663 - r2: 0.9997 - mae: 0.0358 - mse: 0.0044 - mape: 7365.7939 - val_loss: 0.0362 - val_rmse: 0.0669 - val_r2: 0.9997 - val_mae: 0.0362 - val_mse: 0.0045 - val_mape: 6502.8008\n",
      "Epoch 79/100\n",
      "26215/26215 [==============================] - 136s 5ms/step - loss: 0.0358 - rmse: 0.0663 - r2: 0.9997 - mae: 0.0358 - mse: 0.0044 - mape: 7309.6060 - val_loss: 0.0359 - val_rmse: 0.0668 - val_r2: 0.9997 - val_mae: 0.0359 - val_mse: 0.0045 - val_mape: 6239.3862\n",
      "Epoch 80/100\n",
      "26215/26215 [==============================] - 142s 5ms/step - loss: 0.0357 - rmse: 0.0662 - r2: 0.9997 - mae: 0.0357 - mse: 0.0044 - mape: 7207.8506 - val_loss: 0.0359 - val_rmse: 0.0666 - val_r2: 0.9997 - val_mae: 0.0359 - val_mse: 0.0044 - val_mape: 11101.6328\n",
      "Epoch 81/100\n",
      "26215/26215 [==============================] - 143s 5ms/step - loss: 0.0357 - rmse: 0.0662 - r2: 0.9997 - mae: 0.0357 - mse: 0.0044 - mape: 7274.2773 - val_loss: 0.0357 - val_rmse: 0.0666 - val_r2: 0.9997 - val_mae: 0.0357 - val_mse: 0.0044 - val_mape: 6415.2456\n",
      "Epoch 82/100\n",
      "26215/26215 [==============================] - 144s 5ms/step - loss: 0.0356 - rmse: 0.0661 - r2: 0.9997 - mae: 0.0356 - mse: 0.0044 - mape: 7215.7012 - val_loss: 0.0358 - val_rmse: 0.0665 - val_r2: 0.9997 - val_mae: 0.0358 - val_mse: 0.0044 - val_mape: 4924.8574\n",
      "Epoch 83/100\n",
      "26215/26215 [==============================] - 147s 6ms/step - loss: 0.0356 - rmse: 0.0661 - r2: 0.9997 - mae: 0.0356 - mse: 0.0044 - mape: 7135.2715 - val_loss: 0.0361 - val_rmse: 0.0666 - val_r2: 0.9997 - val_mae: 0.0361 - val_mse: 0.0044 - val_mape: 7414.9429\n",
      "Epoch 84/100\n",
      "26215/26215 [==============================] - 145s 6ms/step - loss: 0.0355 - rmse: 0.0661 - r2: 0.9997 - mae: 0.0355 - mse: 0.0044 - mape: 7172.2061 - val_loss: 0.0356 - val_rmse: 0.0663 - val_r2: 0.9997 - val_mae: 0.0356 - val_mse: 0.0044 - val_mape: 7287.6602\n",
      "Epoch 85/100\n",
      "26215/26215 [==============================] - 144s 5ms/step - loss: 0.0355 - rmse: 0.0660 - r2: 0.9997 - mae: 0.0355 - mse: 0.0044 - mape: 7195.5400 - val_loss: 0.0355 - val_rmse: 0.0662 - val_r2: 0.9997 - val_mae: 0.0355 - val_mse: 0.0044 - val_mape: 6635.6411\n",
      "Epoch 86/100\n",
      "26215/26215 [==============================] - 144s 5ms/step - loss: 0.0354 - rmse: 0.0660 - r2: 0.9997 - mae: 0.0354 - mse: 0.0044 - mape: 7184.6724 - val_loss: 0.0356 - val_rmse: 0.0664 - val_r2: 0.9997 - val_mae: 0.0356 - val_mse: 0.0044 - val_mape: 7235.9141\n",
      "Epoch 87/100\n",
      "26215/26215 [==============================] - 143s 5ms/step - loss: 0.0354 - rmse: 0.0659 - r2: 0.9997 - mae: 0.0354 - mse: 0.0043 - mape: 7067.5547 - val_loss: 0.0363 - val_rmse: 0.0665 - val_r2: 0.9997 - val_mae: 0.0363 - val_mse: 0.0044 - val_mape: 6202.9478\n",
      "Epoch 88/100\n",
      "26215/26215 [==============================] - 145s 6ms/step - loss: 0.0353 - rmse: 0.0659 - r2: 0.9997 - mae: 0.0353 - mse: 0.0043 - mape: 7050.0459 - val_loss: 0.0356 - val_rmse: 0.0662 - val_r2: 0.9997 - val_mae: 0.0356 - val_mse: 0.0044 - val_mape: 7324.3906\n",
      "Epoch 89/100\n",
      "26215/26215 [==============================] - 144s 5ms/step - loss: 0.0353 - rmse: 0.0659 - r2: 0.9997 - mae: 0.0353 - mse: 0.0043 - mape: 6982.3008 - val_loss: 0.0358 - val_rmse: 0.0662 - val_r2: 0.9997 - val_mae: 0.0358 - val_mse: 0.0044 - val_mape: 7544.0088\n",
      "Epoch 90/100\n",
      "26215/26215 [==============================] - 144s 5ms/step - loss: 0.0352 - rmse: 0.0658 - r2: 0.9997 - mae: 0.0352 - mse: 0.0043 - mape: 7077.0918 - val_loss: 0.0356 - val_rmse: 0.0661 - val_r2: 0.9997 - val_mae: 0.0356 - val_mse: 0.0044 - val_mape: 6914.2710\n"
     ]
    },
    {
     "name": "stdout",
     "output_type": "stream",
     "text": [
      "Epoch 91/100\n",
      "26215/26215 [==============================] - 145s 6ms/step - loss: 0.0352 - rmse: 0.0658 - r2: 0.9997 - mae: 0.0352 - mse: 0.0043 - mape: 7099.4248 - val_loss: 0.0359 - val_rmse: 0.0662 - val_r2: 0.9997 - val_mae: 0.0359 - val_mse: 0.0044 - val_mape: 5734.6245\n",
      "Epoch 92/100\n",
      "26215/26215 [==============================] - 148s 6ms/step - loss: 0.0352 - rmse: 0.0657 - r2: 0.9997 - mae: 0.0352 - mse: 0.0043 - mape: 7013.9404 - val_loss: 0.0353 - val_rmse: 0.0661 - val_r2: 0.9997 - val_mae: 0.0353 - val_mse: 0.0044 - val_mape: 5653.5625\n",
      "Epoch 93/100\n",
      "26215/26215 [==============================] - 149s 6ms/step - loss: 0.0351 - rmse: 0.0657 - r2: 0.9997 - mae: 0.0351 - mse: 0.0043 - mape: 6977.1538 - val_loss: 0.0352 - val_rmse: 0.0660 - val_r2: 0.9997 - val_mae: 0.0352 - val_mse: 0.0044 - val_mape: 7692.7563\n",
      "Epoch 94/100\n",
      "26215/26215 [==============================] - 147s 6ms/step - loss: 0.0351 - rmse: 0.0656 - r2: 0.9997 - mae: 0.0351 - mse: 0.0043 - mape: 7023.9985 - val_loss: 0.0355 - val_rmse: 0.0663 - val_r2: 0.9997 - val_mae: 0.0355 - val_mse: 0.0044 - val_mape: 6750.8599\n",
      "Epoch 95/100\n",
      "26215/26215 [==============================] - 150s 6ms/step - loss: 0.0351 - rmse: 0.0656 - r2: 0.9997 - mae: 0.0351 - mse: 0.0043 - mape: 6951.6836 - val_loss: 0.0352 - val_rmse: 0.0661 - val_r2: 0.9997 - val_mae: 0.0352 - val_mse: 0.0044 - val_mape: 6846.3970\n",
      "Epoch 96/100\n",
      "26215/26215 [==============================] - 147s 6ms/step - loss: 0.0350 - rmse: 0.0656 - r2: 0.9997 - mae: 0.0350 - mse: 0.0043 - mape: 6902.4585 - val_loss: 0.0351 - val_rmse: 0.0659 - val_r2: 0.9997 - val_mae: 0.0351 - val_mse: 0.0043 - val_mape: 6212.3853\n",
      "Epoch 97/100\n",
      "26215/26215 [==============================] - 147s 6ms/step - loss: 0.0350 - rmse: 0.0655 - r2: 0.9997 - mae: 0.0350 - mse: 0.0043 - mape: 7114.6001 - val_loss: 0.0360 - val_rmse: 0.0660 - val_r2: 0.9997 - val_mae: 0.0360 - val_mse: 0.0044 - val_mape: 7150.5659\n",
      "Epoch 98/100\n",
      "26215/26215 [==============================] - 147s 6ms/step - loss: 0.0350 - rmse: 0.0655 - r2: 0.9997 - mae: 0.0350 - mse: 0.0043 - mape: 6904.6504 - val_loss: 0.0357 - val_rmse: 0.0661 - val_r2: 0.9997 - val_mae: 0.0357 - val_mse: 0.0044 - val_mape: 6315.8223\n",
      "Epoch 99/100\n",
      "26215/26215 [==============================] - 145s 6ms/step - loss: 0.0349 - rmse: 0.0655 - r2: 0.9997 - mae: 0.0349 - mse: 0.0043 - mape: 6962.0176 - val_loss: 0.0353 - val_rmse: 0.0660 - val_r2: 0.9997 - val_mae: 0.0353 - val_mse: 0.0043 - val_mape: 6177.7188\n",
      "Epoch 100/100\n",
      "26215/26215 [==============================] - 145s 6ms/step - loss: 0.0349 - rmse: 0.0655 - r2: 0.9997 - mae: 0.0349 - mse: 0.0043 - mape: 7016.8384 - val_loss: 0.0350 - val_rmse: 0.0658 - val_r2: 0.9997 - val_mae: 0.0350 - val_mse: 0.0043 - val_mape: 5405.7021\n",
      "CPU times: total: 2h 27min 31s\n",
      "Wall time: 11h 2min 6s\n"
     ]
    }
   ],
   "source": [
    "%%time\n",
    "tf.random.set_seed(42)\n",
    "\n",
    "model_5 = tf.keras.Sequential([tf.keras.layers.LSTM(50,activation= 'linear',return_sequences=True, input_shape=(3,1)),\n",
    "                               tf.keras.layers.LSTM(10,activation='linear'),\n",
    "                               tf.keras.layers.Dense(1)])\n",
    "\n",
    "model_5.compile(loss = tf.keras.losses.mae,\n",
    "                optimizer = tf.keras.optimizers.legacy.Adam(learning_rate=0.001,decay=0.0001),\n",
    "                metrics=[tf.keras.metrics.RootMeanSquaredError(name='rmse'),\n",
    "                         tfa.metrics.RSquare(name='r2'),'mae','mse','mape'])\n",
    "\n",
    "history_5 = model_5.fit(X_train,Y_train,epochs=100,validation_data=(X_test,Y_test),callbacks = callback)"
   ]
  },
  {
   "cell_type": "code",
   "execution_count": 18,
   "id": "4b1c0b78",
   "metadata": {},
   "outputs": [
    {
     "data": {
      "image/png": "[encoded data removed]",
      "text/plain": [
       "<Figure size 432x288 with 1 Axes>"
      ]
     },
     "metadata": {
      "needs_background": "light"
     },
     "output_type": "display_data"
    }
   ],
   "source": [
    "plot_his(history_5)"
   ]
  },
  {
   "cell_type": "code",
   "execution_count": 19,
   "id": "a15aa71d",
   "metadata": {},
   "outputs": [
    {
     "name": "stdout",
     "output_type": "stream",
     "text": [
      "6554/6554 [==============================] - 27s 3ms/step - loss: 0.0350 - rmse: 0.0658 - r2: 0.9997 - mae: 0.0350 - mse: 0.0043 - mape: 5405.7021\n"
     ]
    },
    {
     "data": {
      "text/plain": [
       "[0.03498302400112152,\n",
       " 0.06577415019273758,\n",
       " 0.9997214674949646,\n",
       " 0.03498302400112152,\n",
       " 0.004326239228248596,\n",
       " 5405.7021484375]"
      ]
     },
     "execution_count": 19,
     "metadata": {},
     "output_type": "execute_result"
    }
   ],
   "source": [
    "model_5.evaluate(X_test,Y_test)"
   ]
  },
  {
   "cell_type": "code",
   "execution_count": 20,
   "id": "8624f9cb",
   "metadata": {},
   "outputs": [
    {
     "name": "stdout",
     "output_type": "stream",
     "text": [
      "Model: \"sequential\"\n",
      "_________________________________________________________________\n",
      " Layer (type)                Output Shape              Param #   \n",
      "=================================================================\n",
      " lstm (LSTM)                 (None, 3, 50)             10400     \n",
      "                                                                 \n",
      " lstm_1 (LSTM)               (None, 10)                2440      \n",
      "                                                                 \n",
      " dense (Dense)               (None, 1)                 11        \n",
      "                                                                 \n",
      "=================================================================\n",
      "Total params: 12851 (50.20 KB)\n",
      "Trainable params: 12851 (50.20 KB)\n",
      "Non-trainable params: 0 (0.00 Byte)\n",
      "_________________________________________________________________\n"
     ]
    }
   ],
   "source": [
    "model_5.summary()"
   ]
  },
  {
   "cell_type": "code",
   "execution_count": 21,
   "id": "1cc24a33",
   "metadata": {},
   "outputs": [
    {
     "name": "stdout",
     "output_type": "stream",
     "text": [
      "6554/6554 [==============================] - 25s 3ms/step\n"
     ]
    }
   ],
   "source": [
    "prediction_5 = model_5.predict(X_test)"
   ]
  },
  {
   "cell_type": "code",
   "execution_count": 22,
   "id": "2304e1e5",
   "metadata": {},
   "outputs": [
    {
     "name": "stdout",
     "output_type": "stream",
     "text": [
      "AIC:  25792.693\n"
     ]
    }
   ],
   "source": [
    "AIC_value(model_5,prediction_5,Y_test)"
   ]
  },
  {
   "cell_type": "code",
   "execution_count": 23,
   "id": "9004108d",
   "metadata": {},
   "outputs": [
    {
     "name": "stderr",
     "output_type": "stream",
     "text": [
      "C:\\Users\\91987\\anaconda3\\lib\\site-packages\\keras\\src\\engine\\training.py:3000: UserWarning: You are saving your model as an HDF5 file via `model.save()`. This file format is considered legacy. We recommend using instead the native Keras format, e.g. `model.save('my_model.keras')`.\n",
      "  saving_api.save_model(\n"
     ]
    }
   ],
   "source": [
    "model_5.save('Saved_models/model_5_SOEesti.h5')"
   ]
  },
  {
   "cell_type": "code",
   "execution_count": null,
   "id": "226decf6",
   "metadata": {},
   "outputs": [],
   "source": []
  },
  {
   "cell_type": "code",
   "execution_count": null,
   "id": "c13cbc71",
   "metadata": {},
   "outputs": [],
   "source": []
  },
  {
   "cell_type": "code",
   "execution_count": null,
   "id": "930620d5",
   "metadata": {},
   "outputs": [],
   "source": []
  },
  {
   "cell_type": "code",
   "execution_count": 24,
   "id": "06c7e7d3",
   "metadata": {},
   "outputs": [
    {
     "name": "stdout",
     "output_type": "stream",
     "text": [
      "Epoch 1/100\n",
      "26215/26215 [==============================] - 162s 6ms/step - loss: 0.3387 - rmse: 0.8032 - r2: 0.9585 - mae: 0.3387 - mse: 0.6451 - mape: 525568.8750 - val_loss: 0.1524 - val_rmse: 0.2386 - val_r2: 0.9963 - val_mae: 0.1524 - val_mse: 0.0569 - val_mape: 211003.0938\n",
      "Epoch 2/100\n",
      "26215/26215 [==============================] - 151s 6ms/step - loss: 0.1250 - rmse: 0.2000 - r2: 0.9974 - mae: 0.1250 - mse: 0.0400 - mape: 177425.7500 - val_loss: 0.1022 - val_rmse: 0.1684 - val_r2: 0.9982 - val_mae: 0.1022 - val_mse: 0.0284 - val_mape: 176616.2656\n",
      "Epoch 3/100\n",
      "26215/26215 [==============================] - 150s 6ms/step - loss: 0.0947 - rmse: 0.1577 - r2: 0.9984 - mae: 0.0947 - mse: 0.0249 - mape: 148057.3125 - val_loss: 0.0912 - val_rmse: 0.1497 - val_r2: 0.9986 - val_mae: 0.0912 - val_mse: 0.0224 - val_mape: 157269.2344\n",
      "Epoch 4/100\n",
      "26215/26215 [==============================] - 147s 6ms/step - loss: 0.0843 - rmse: 0.1451 - r2: 0.9986 - mae: 0.0843 - mse: 0.0211 - mape: 125039.0547 - val_loss: 0.0800 - val_rmse: 0.1408 - val_r2: 0.9987 - val_mae: 0.0800 - val_mse: 0.0198 - val_mape: 138880.1875\n",
      "Epoch 5/100\n",
      "26215/26215 [==============================] - 145s 6ms/step - loss: 0.0786 - rmse: 0.1383 - r2: 0.9988 - mae: 0.0786 - mse: 0.0191 - mape: 119274.7500 - val_loss: 0.0760 - val_rmse: 0.1357 - val_r2: 0.9988 - val_mae: 0.0760 - val_mse: 0.0184 - val_mape: 133626.8281\n",
      "Epoch 6/100\n",
      "26215/26215 [==============================] - 147s 6ms/step - loss: 0.0749 - rmse: 0.1341 - r2: 0.9988 - mae: 0.0749 - mse: 0.0180 - mape: 114142.0078 - val_loss: 0.0732 - val_rmse: 0.1326 - val_r2: 0.9989 - val_mae: 0.0732 - val_mse: 0.0176 - val_mape: 114034.1641\n",
      "Epoch 7/100\n",
      "26215/26215 [==============================] - 149s 6ms/step - loss: 0.0723 - rmse: 0.1311 - r2: 0.9989 - mae: 0.0723 - mse: 0.0172 - mape: 110805.1562 - val_loss: 0.0710 - val_rmse: 0.1292 - val_r2: 0.9989 - val_mae: 0.0710 - val_mse: 0.0167 - val_mape: 111266.2969\n",
      "Epoch 8/100\n",
      "26215/26215 [==============================] - 147s 6ms/step - loss: 0.0704 - rmse: 0.1288 - r2: 0.9989 - mae: 0.0704 - mse: 0.0166 - mape: 108875.7500 - val_loss: 0.0706 - val_rmse: 0.1277 - val_r2: 0.9990 - val_mae: 0.0706 - val_mse: 0.0163 - val_mape: 109191.7656\n",
      "Epoch 9/100\n",
      "26215/26215 [==============================] - 148s 6ms/step - loss: 0.0689 - rmse: 0.1267 - r2: 0.9990 - mae: 0.0689 - mse: 0.0160 - mape: 106631.4609 - val_loss: 0.0675 - val_rmse: 0.1254 - val_r2: 0.9990 - val_mae: 0.0675 - val_mse: 0.0157 - val_mape: 108813.3438\n",
      "Epoch 10/100\n",
      "26215/26215 [==============================] - 148s 6ms/step - loss: 0.0676 - rmse: 0.1249 - r2: 0.9990 - mae: 0.0676 - mse: 0.0156 - mape: 105271.6016 - val_loss: 0.0671 - val_rmse: 0.1237 - val_r2: 0.9990 - val_mae: 0.0671 - val_mse: 0.0153 - val_mape: 108571.9922\n",
      "Epoch 11/100\n",
      "26215/26215 [==============================] - 145s 6ms/step - loss: 0.0666 - rmse: 0.1236 - r2: 0.9990 - mae: 0.0666 - mse: 0.0153 - mape: 104200.2266 - val_loss: 0.0666 - val_rmse: 0.1228 - val_r2: 0.9990 - val_mae: 0.0666 - val_mse: 0.0151 - val_mape: 107491.0781\n",
      "Epoch 12/100\n",
      "26215/26215 [==============================] - 142s 5ms/step - loss: 0.0658 - rmse: 0.1224 - r2: 0.9990 - mae: 0.0658 - mse: 0.0150 - mape: 103180.4375 - val_loss: 0.0654 - val_rmse: 0.1217 - val_r2: 0.9990 - val_mae: 0.0654 - val_mse: 0.0148 - val_mape: 105928.6250\n",
      "Epoch 13/100\n",
      "26215/26215 [==============================] - 148s 6ms/step - loss: 0.0651 - rmse: 0.1213 - r2: 0.9991 - mae: 0.0651 - mse: 0.0147 - mape: 101966.3594 - val_loss: 0.0643 - val_rmse: 0.1206 - val_r2: 0.9991 - val_mae: 0.0643 - val_mse: 0.0145 - val_mape: 105365.1562\n",
      "Epoch 14/100\n",
      "26215/26215 [==============================] - 151s 6ms/step - loss: 0.0645 - rmse: 0.1205 - r2: 0.9991 - mae: 0.0645 - mse: 0.0145 - mape: 101641.2578 - val_loss: 0.0639 - val_rmse: 0.1195 - val_r2: 0.9991 - val_mae: 0.0639 - val_mse: 0.0143 - val_mape: 104556.0469\n",
      "Epoch 15/100\n",
      "26215/26215 [==============================] - 147s 6ms/step - loss: 0.0640 - rmse: 0.1198 - r2: 0.9991 - mae: 0.0640 - mse: 0.0143 - mape: 100963.2734 - val_loss: 0.0635 - val_rmse: 0.1192 - val_r2: 0.9991 - val_mae: 0.0635 - val_mse: 0.0142 - val_mape: 104689.7031\n",
      "Epoch 16/100\n",
      "26215/26215 [==============================] - 150s 6ms/step - loss: 0.0636 - rmse: 0.1191 - r2: 0.9991 - mae: 0.0636 - mse: 0.0142 - mape: 100670.3672 - val_loss: 0.0633 - val_rmse: 0.1190 - val_r2: 0.9991 - val_mae: 0.0633 - val_mse: 0.0142 - val_mape: 103973.9375\n",
      "Epoch 17/100\n",
      "26215/26215 [==============================] - 171s 7ms/step - loss: 0.0632 - rmse: 0.1185 - r2: 0.9991 - mae: 0.0632 - mse: 0.0140 - mape: 100282.7422 - val_loss: 0.0631 - val_rmse: 0.1183 - val_r2: 0.9991 - val_mae: 0.0631 - val_mse: 0.0140 - val_mape: 105127.4531\n",
      "Epoch 18/100\n",
      "26215/26215 [==============================] - 198s 8ms/step - loss: 0.0628 - rmse: 0.1179 - r2: 0.9991 - mae: 0.0628 - mse: 0.0139 - mape: 99970.3672 - val_loss: 0.0628 - val_rmse: 0.1175 - val_r2: 0.9991 - val_mae: 0.0628 - val_mse: 0.0138 - val_mape: 103093.2266\n",
      "Epoch 19/100\n",
      "26215/26215 [==============================] - 198s 8ms/step - loss: 0.0625 - rmse: 0.1175 - r2: 0.9991 - mae: 0.0625 - mse: 0.0138 - mape: 99918.2344 - val_loss: 0.0620 - val_rmse: 0.1168 - val_r2: 0.9991 - val_mae: 0.0620 - val_mse: 0.0136 - val_mape: 103748.3828\n",
      "Epoch 20/100\n",
      "26215/26215 [==============================] - 198s 8ms/step - loss: 0.0622 - rmse: 0.1170 - r2: 0.9991 - mae: 0.0622 - mse: 0.0137 - mape: 99488.0938 - val_loss: 0.0623 - val_rmse: 0.1162 - val_r2: 0.9991 - val_mae: 0.0623 - val_mse: 0.0135 - val_mape: 103952.6406\n",
      "Epoch 21/100\n",
      "26215/26215 [==============================] - 198s 8ms/step - loss: 0.0619 - rmse: 0.1165 - r2: 0.9991 - mae: 0.0619 - mse: 0.0136 - mape: 99158.1641 - val_loss: 0.0617 - val_rmse: 0.1160 - val_r2: 0.9991 - val_mae: 0.0617 - val_mse: 0.0135 - val_mape: 103071.5625\n",
      "Epoch 22/100\n",
      "26215/26215 [==============================] - 198s 8ms/step - loss: 0.0616 - rmse: 0.1161 - r2: 0.9991 - mae: 0.0616 - mse: 0.0135 - mape: 98804.5391 - val_loss: 0.0612 - val_rmse: 0.1157 - val_r2: 0.9991 - val_mae: 0.0612 - val_mse: 0.0134 - val_mape: 102460.8281\n",
      "Epoch 23/100\n",
      "26215/26215 [==============================] - 199s 8ms/step - loss: 0.0614 - rmse: 0.1157 - r2: 0.9991 - mae: 0.0614 - mse: 0.0134 - mape: 98750.5781 - val_loss: 0.0610 - val_rmse: 0.1152 - val_r2: 0.9991 - val_mae: 0.0610 - val_mse: 0.0133 - val_mape: 102719.6719\n",
      "Epoch 24/100\n",
      "26215/26215 [==============================] - 199s 8ms/step - loss: 0.0612 - rmse: 0.1153 - r2: 0.9991 - mae: 0.0612 - mse: 0.0133 - mape: 98531.2891 - val_loss: 0.0615 - val_rmse: 0.1149 - val_r2: 0.9991 - val_mae: 0.0615 - val_mse: 0.0132 - val_mape: 103473.7969\n",
      "Epoch 25/100\n",
      "26215/26215 [==============================] - 198s 8ms/step - loss: 0.0610 - rmse: 0.1150 - r2: 0.9992 - mae: 0.0610 - mse: 0.0132 - mape: 98259.1875 - val_loss: 0.0610 - val_rmse: 0.1149 - val_r2: 0.9992 - val_mae: 0.0610 - val_mse: 0.0132 - val_mape: 104059.8438\n",
      "Epoch 26/100\n",
      "26215/26215 [==============================] - 198s 8ms/step - loss: 0.0608 - rmse: 0.1146 - r2: 0.9992 - mae: 0.0608 - mse: 0.0131 - mape: 98046.8438 - val_loss: 0.0606 - val_rmse: 0.1144 - val_r2: 0.9992 - val_mae: 0.0606 - val_mse: 0.0131 - val_mape: 101682.3203\n",
      "Epoch 27/100\n",
      "26215/26215 [==============================] - 159s 6ms/step - loss: 0.0606 - rmse: 0.1143 - r2: 0.9992 - mae: 0.0606 - mse: 0.0131 - mape: 97928.6875 - val_loss: 0.0606 - val_rmse: 0.1140 - val_r2: 0.9992 - val_mae: 0.0606 - val_mse: 0.0130 - val_mape: 100980.0156\n",
      "Epoch 28/100\n",
      "26215/26215 [==============================] - 123s 5ms/step - loss: 0.0605 - rmse: 0.1140 - r2: 0.9992 - mae: 0.0605 - mse: 0.0130 - mape: 97647.6328 - val_loss: 0.0602 - val_rmse: 0.1134 - val_r2: 0.9992 - val_mae: 0.0602 - val_mse: 0.0129 - val_mape: 101259.4688\n",
      "Epoch 29/100\n",
      "26215/26215 [==============================] - 155s 6ms/step - loss: 0.0603 - rmse: 0.1137 - r2: 0.9992 - mae: 0.0603 - mse: 0.0129 - mape: 97267.1797 - val_loss: 0.0603 - val_rmse: 0.1131 - val_r2: 0.9992 - val_mae: 0.0603 - val_mse: 0.0128 - val_mape: 101234.5859\n",
      "Epoch 30/100\n"
     ]
    },
    {
     "name": "stdout",
     "output_type": "stream",
     "text": [
      "26215/26215 [==============================] - 141s 5ms/step - loss: 0.0602 - rmse: 0.1134 - r2: 0.9992 - mae: 0.0602 - mse: 0.0129 - mape: 97132.1875 - val_loss: 0.0600 - val_rmse: 0.1129 - val_r2: 0.9992 - val_mae: 0.0600 - val_mse: 0.0127 - val_mape: 101977.9609\n",
      "Epoch 31/100\n",
      "26215/26215 [==============================] - 156s 6ms/step - loss: 0.0600 - rmse: 0.1131 - r2: 0.9992 - mae: 0.0600 - mse: 0.0128 - mape: 96795.9922 - val_loss: 0.0598 - val_rmse: 0.1128 - val_r2: 0.9992 - val_mae: 0.0598 - val_mse: 0.0127 - val_mape: 100572.7266\n",
      "Epoch 32/100\n",
      "26215/26215 [==============================] - 144s 5ms/step - loss: 0.0599 - rmse: 0.1128 - r2: 0.9992 - mae: 0.0599 - mse: 0.0127 - mape: 96781.6094 - val_loss: 0.0598 - val_rmse: 0.1124 - val_r2: 0.9992 - val_mae: 0.0598 - val_mse: 0.0126 - val_mape: 100237.4453\n",
      "Epoch 33/100\n",
      "26215/26215 [==============================] - 135s 5ms/step - loss: 0.0598 - rmse: 0.1126 - r2: 0.9992 - mae: 0.0598 - mse: 0.0127 - mape: 96593.0859 - val_loss: 0.0597 - val_rmse: 0.1122 - val_r2: 0.9992 - val_mae: 0.0597 - val_mse: 0.0126 - val_mape: 100212.4062\n",
      "Epoch 34/100\n",
      "26215/26215 [==============================] - 145s 6ms/step - loss: 0.0597 - rmse: 0.1124 - r2: 0.9992 - mae: 0.0597 - mse: 0.0126 - mape: 96406.9922 - val_loss: 0.0595 - val_rmse: 0.1119 - val_r2: 0.9992 - val_mae: 0.0595 - val_mse: 0.0125 - val_mape: 100244.1953\n",
      "Epoch 35/100\n",
      "26215/26215 [==============================] - 137s 5ms/step - loss: 0.0596 - rmse: 0.1121 - r2: 0.9992 - mae: 0.0596 - mse: 0.0126 - mape: 96194.4609 - val_loss: 0.0600 - val_rmse: 0.1121 - val_r2: 0.9992 - val_mae: 0.0600 - val_mse: 0.0126 - val_mape: 99646.2500\n",
      "Epoch 36/100\n",
      "26215/26215 [==============================] - 135s 5ms/step - loss: 0.0595 - rmse: 0.1119 - r2: 0.9992 - mae: 0.0595 - mse: 0.0125 - mape: 96104.7344 - val_loss: 0.0593 - val_rmse: 0.1115 - val_r2: 0.9992 - val_mae: 0.0593 - val_mse: 0.0124 - val_mape: 99399.7734\n",
      "Epoch 37/100\n",
      "26215/26215 [==============================] - 145s 6ms/step - loss: 0.0594 - rmse: 0.1117 - r2: 0.9992 - mae: 0.0594 - mse: 0.0125 - mape: 95818.0156 - val_loss: 0.0593 - val_rmse: 0.1115 - val_r2: 0.9992 - val_mae: 0.0593 - val_mse: 0.0124 - val_mape: 99762.3516\n",
      "Epoch 38/100\n",
      "26215/26215 [==============================] - 144s 5ms/step - loss: 0.0593 - rmse: 0.1115 - r2: 0.9992 - mae: 0.0593 - mse: 0.0124 - mape: 95644.8281 - val_loss: 0.0591 - val_rmse: 0.1111 - val_r2: 0.9992 - val_mae: 0.0591 - val_mse: 0.0123 - val_mape: 99494.8203\n",
      "Epoch 39/100\n",
      "26215/26215 [==============================] - 152s 6ms/step - loss: 0.0592 - rmse: 0.1113 - r2: 0.9992 - mae: 0.0592 - mse: 0.0124 - mape: 95715.7656 - val_loss: 0.0593 - val_rmse: 0.1108 - val_r2: 0.9992 - val_mae: 0.0593 - val_mse: 0.0123 - val_mape: 100084.9219\n",
      "Epoch 40/100\n",
      "26215/26215 [==============================] - 157s 6ms/step - loss: 0.0591 - rmse: 0.1111 - r2: 0.9992 - mae: 0.0591 - mse: 0.0123 - mape: 95444.5547 - val_loss: 0.0592 - val_rmse: 0.1107 - val_r2: 0.9992 - val_mae: 0.0592 - val_mse: 0.0123 - val_mape: 98723.3594\n",
      "Epoch 41/100\n",
      "26215/26215 [==============================] - 139s 5ms/step - loss: 0.0590 - rmse: 0.1109 - r2: 0.9992 - mae: 0.0590 - mse: 0.0123 - mape: 95316.6016 - val_loss: 0.0596 - val_rmse: 0.1105 - val_r2: 0.9992 - val_mae: 0.0596 - val_mse: 0.0122 - val_mape: 100392.5469\n",
      "Epoch 42/100\n",
      "26215/26215 [==============================] - 157s 6ms/step - loss: 0.0590 - rmse: 0.1107 - r2: 0.9992 - mae: 0.0590 - mse: 0.0123 - mape: 95160.6328 - val_loss: 0.0591 - val_rmse: 0.1103 - val_r2: 0.9992 - val_mae: 0.0591 - val_mse: 0.0122 - val_mape: 98983.8125\n",
      "Epoch 43/100\n",
      "26215/26215 [==============================] - 136s 5ms/step - loss: 0.0589 - rmse: 0.1105 - r2: 0.9992 - mae: 0.0589 - mse: 0.0122 - mape: 95073.3672 - val_loss: 0.0588 - val_rmse: 0.1103 - val_r2: 0.9992 - val_mae: 0.0588 - val_mse: 0.0122 - val_mape: 99104.8984\n",
      "Epoch 44/100\n",
      "26215/26215 [==============================] - 155s 6ms/step - loss: 0.0588 - rmse: 0.1104 - r2: 0.9992 - mae: 0.0588 - mse: 0.0122 - mape: 94820.7969 - val_loss: 0.0588 - val_rmse: 0.1100 - val_r2: 0.9992 - val_mae: 0.0588 - val_mse: 0.0121 - val_mape: 98804.8281\n",
      "Epoch 45/100\n",
      "26215/26215 [==============================] - 162s 6ms/step - loss: 0.0587 - rmse: 0.1102 - r2: 0.9992 - mae: 0.0587 - mse: 0.0121 - mape: 94783.7031 - val_loss: 0.0586 - val_rmse: 0.1099 - val_r2: 0.9992 - val_mae: 0.0586 - val_mse: 0.0121 - val_mape: 98460.4766\n",
      "Epoch 46/100\n",
      "26215/26215 [==============================] - 146s 6ms/step - loss: 0.0587 - rmse: 0.1101 - r2: 0.9992 - mae: 0.0587 - mse: 0.0121 - mape: 94579.8750 - val_loss: 0.0587 - val_rmse: 0.1096 - val_r2: 0.9992 - val_mae: 0.0587 - val_mse: 0.0120 - val_mape: 98780.6875\n",
      "Epoch 47/100\n",
      "26215/26215 [==============================] - 153s 6ms/step - loss: 0.0586 - rmse: 0.1099 - r2: 0.9992 - mae: 0.0586 - mse: 0.0121 - mape: 94493.9375 - val_loss: 0.0586 - val_rmse: 0.1096 - val_r2: 0.9992 - val_mae: 0.0586 - val_mse: 0.0120 - val_mape: 98652.1719\n",
      "Epoch 48/100\n",
      "26215/26215 [==============================] - 136s 5ms/step - loss: 0.0585 - rmse: 0.1097 - r2: 0.9992 - mae: 0.0585 - mse: 0.0120 - mape: 94312.6016 - val_loss: 0.0587 - val_rmse: 0.1095 - val_r2: 0.9992 - val_mae: 0.0587 - val_mse: 0.0120 - val_mape: 98150.6484\n",
      "Epoch 49/100\n",
      "26215/26215 [==============================] - 151s 6ms/step - loss: 0.0585 - rmse: 0.1096 - r2: 0.9992 - mae: 0.0585 - mse: 0.0120 - mape: 94254.1172 - val_loss: 0.0584 - val_rmse: 0.1092 - val_r2: 0.9992 - val_mae: 0.0584 - val_mse: 0.0119 - val_mape: 98023.1719\n",
      "Epoch 50/100\n",
      "26215/26215 [==============================] - 155s 6ms/step - loss: 0.0584 - rmse: 0.1095 - r2: 0.9992 - mae: 0.0584 - mse: 0.0120 - mape: 94145.5703 - val_loss: 0.0588 - val_rmse: 0.1090 - val_r2: 0.9992 - val_mae: 0.0588 - val_mse: 0.0119 - val_mape: 98326.4844\n",
      "Epoch 51/100\n",
      "26215/26215 [==============================] - 151s 6ms/step - loss: 0.0584 - rmse: 0.1093 - r2: 0.9992 - mae: 0.0584 - mse: 0.0120 - mape: 93875.7500 - val_loss: 0.0582 - val_rmse: 0.1089 - val_r2: 0.9992 - val_mae: 0.0582 - val_mse: 0.0119 - val_mape: 97555.8438\n",
      "Epoch 52/100\n",
      "26215/26215 [==============================] - 161s 6ms/step - loss: 0.0583 - rmse: 0.1092 - r2: 0.9992 - mae: 0.0583 - mse: 0.0119 - mape: 93768.2578 - val_loss: 0.0585 - val_rmse: 0.1089 - val_r2: 0.9992 - val_mae: 0.0585 - val_mse: 0.0119 - val_mape: 97361.7500\n",
      "Epoch 53/100\n",
      "26215/26215 [==============================] - 153s 6ms/step - loss: 0.0583 - rmse: 0.1091 - r2: 0.9992 - mae: 0.0583 - mse: 0.0119 - mape: 93657.5547 - val_loss: 0.0586 - val_rmse: 0.1087 - val_r2: 0.9992 - val_mae: 0.0586 - val_mse: 0.0118 - val_mape: 97969.3984\n",
      "Epoch 54/100\n",
      "26215/26215 [==============================] - 133s 5ms/step - loss: 0.0582 - rmse: 0.1089 - r2: 0.9992 - mae: 0.0582 - mse: 0.0119 - mape: 93543.7812 - val_loss: 0.0582 - val_rmse: 0.1085 - val_r2: 0.9992 - val_mae: 0.0582 - val_mse: 0.0118 - val_mape: 97538.3828\n",
      "Epoch 55/100\n",
      "26215/26215 [==============================] - 144s 6ms/step - loss: 0.0582 - rmse: 0.1088 - r2: 0.9992 - mae: 0.0582 - mse: 0.0118 - mape: 93486.7891 - val_loss: 0.0580 - val_rmse: 0.1085 - val_r2: 0.9992 - val_mae: 0.0580 - val_mse: 0.0118 - val_mape: 96862.6641\n",
      "Epoch 56/100\n",
      "26215/26215 [==============================] - 149s 6ms/step - loss: 0.0581 - rmse: 0.1087 - r2: 0.9992 - mae: 0.0581 - mse: 0.0118 - mape: 93356.1641 - val_loss: 0.0582 - val_rmse: 0.1083 - val_r2: 0.9992 - val_mae: 0.0582 - val_mse: 0.0117 - val_mape: 97322.5703\n",
      "Epoch 57/100\n",
      "26215/26215 [==============================] - 136s 5ms/step - loss: 0.0581 - rmse: 0.1086 - r2: 0.9992 - mae: 0.0581 - mse: 0.0118 - mape: 93177.0156 - val_loss: 0.0580 - val_rmse: 0.1082 - val_r2: 0.9992 - val_mae: 0.0580 - val_mse: 0.0117 - val_mape: 96785.0312\n",
      "Epoch 58/100\n",
      "26215/26215 [==============================] - 152s 6ms/step - loss: 0.0580 - rmse: 0.1084 - r2: 0.9992 - mae: 0.0580 - mse: 0.0118 - mape: 93053.3672 - val_loss: 0.0579 - val_rmse: 0.1081 - val_r2: 0.9992 - val_mae: 0.0579 - val_mse: 0.0117 - val_mape: 97038.4531\n",
      "Epoch 59/100\n"
     ]
    },
    {
     "name": "stdout",
     "output_type": "stream",
     "text": [
      "26215/26215 [==============================] - 146s 6ms/step - loss: 0.0580 - rmse: 0.1083 - r2: 0.9992 - mae: 0.0580 - mse: 0.0117 - mape: 92985.2969 - val_loss: 0.0580 - val_rmse: 0.1080 - val_r2: 0.9992 - val_mae: 0.0580 - val_mse: 0.0117 - val_mape: 96505.2188\n",
      "Epoch 60/100\n",
      "26215/26215 [==============================] - 150s 6ms/step - loss: 0.0579 - rmse: 0.1082 - r2: 0.9992 - mae: 0.0579 - mse: 0.0117 - mape: 92978.0781 - val_loss: 0.0578 - val_rmse: 0.1079 - val_r2: 0.9993 - val_mae: 0.0578 - val_mse: 0.0116 - val_mape: 96751.7109\n",
      "Epoch 61/100\n",
      "26215/26215 [==============================] - 157s 6ms/step - loss: 0.0579 - rmse: 0.1081 - r2: 0.9992 - mae: 0.0579 - mse: 0.0117 - mape: 92787.8047 - val_loss: 0.0579 - val_rmse: 0.1078 - val_r2: 0.9993 - val_mae: 0.0579 - val_mse: 0.0116 - val_mape: 96463.9375\n",
      "Epoch 62/100\n",
      "26215/26215 [==============================] - 152s 6ms/step - loss: 0.0578 - rmse: 0.1080 - r2: 0.9993 - mae: 0.0578 - mse: 0.0117 - mape: 92683.0469 - val_loss: 0.0579 - val_rmse: 0.1079 - val_r2: 0.9993 - val_mae: 0.0579 - val_mse: 0.0116 - val_mape: 96835.6562\n",
      "Epoch 63/100\n",
      "26215/26215 [==============================] - 143s 5ms/step - loss: 0.0578 - rmse: 0.1079 - r2: 0.9993 - mae: 0.0578 - mse: 0.0116 - mape: 92608.9922 - val_loss: 0.0577 - val_rmse: 0.1076 - val_r2: 0.9993 - val_mae: 0.0577 - val_mse: 0.0116 - val_mape: 96505.1797\n",
      "Epoch 64/100\n",
      "26215/26215 [==============================] - 141s 5ms/step - loss: 0.0577 - rmse: 0.1078 - r2: 0.9993 - mae: 0.0577 - mse: 0.0116 - mape: 92689.3750 - val_loss: 0.0577 - val_rmse: 0.1075 - val_r2: 0.9993 - val_mae: 0.0577 - val_mse: 0.0116 - val_mape: 96192.2891\n",
      "Epoch 65/100\n",
      "26215/26215 [==============================] - 148s 6ms/step - loss: 0.0577 - rmse: 0.1077 - r2: 0.9993 - mae: 0.0577 - mse: 0.0116 - mape: 92420.6016 - val_loss: 0.0577 - val_rmse: 0.1074 - val_r2: 0.9993 - val_mae: 0.0577 - val_mse: 0.0115 - val_mape: 96010.7656\n",
      "Epoch 66/100\n",
      "26215/26215 [==============================] - 150s 6ms/step - loss: 0.0577 - rmse: 0.1076 - r2: 0.9993 - mae: 0.0577 - mse: 0.0116 - mape: 92535.8359 - val_loss: 0.0578 - val_rmse: 0.1072 - val_r2: 0.9993 - val_mae: 0.0578 - val_mse: 0.0115 - val_mape: 96347.5625\n",
      "Epoch 67/100\n",
      "26215/26215 [==============================] - 147s 6ms/step - loss: 0.0576 - rmse: 0.1075 - r2: 0.9993 - mae: 0.0576 - mse: 0.0116 - mape: 92386.6094 - val_loss: 0.0577 - val_rmse: 0.1074 - val_r2: 0.9993 - val_mae: 0.0577 - val_mse: 0.0115 - val_mape: 95887.1250\n",
      "Epoch 68/100\n",
      "26215/26215 [==============================] - 141s 5ms/step - loss: 0.0576 - rmse: 0.1074 - r2: 0.9993 - mae: 0.0576 - mse: 0.0115 - mape: 92270.3906 - val_loss: 0.0577 - val_rmse: 0.1071 - val_r2: 0.9993 - val_mae: 0.0577 - val_mse: 0.0115 - val_mape: 96688.8203\n",
      "Epoch 69/100\n",
      "26215/26215 [==============================] - 150s 6ms/step - loss: 0.0575 - rmse: 0.1073 - r2: 0.9993 - mae: 0.0575 - mse: 0.0115 - mape: 92166.1094 - val_loss: 0.0577 - val_rmse: 0.1069 - val_r2: 0.9993 - val_mae: 0.0577 - val_mse: 0.0114 - val_mape: 96414.3906\n",
      "Epoch 70/100\n",
      "26215/26215 [==============================] - 142s 5ms/step - loss: 0.0575 - rmse: 0.1073 - r2: 0.9993 - mae: 0.0575 - mse: 0.0115 - mape: 92325.5156 - val_loss: 0.0576 - val_rmse: 0.1071 - val_r2: 0.9993 - val_mae: 0.0576 - val_mse: 0.0115 - val_mape: 95954.4844\n",
      "Epoch 71/100\n",
      "26215/26215 [==============================] - 145s 6ms/step - loss: 0.0574 - rmse: 0.1072 - r2: 0.9993 - mae: 0.0574 - mse: 0.0115 - mape: 92166.1875 - val_loss: 0.0575 - val_rmse: 0.1068 - val_r2: 0.9993 - val_mae: 0.0575 - val_mse: 0.0114 - val_mape: 96030.1562\n",
      "Epoch 72/100\n",
      "26215/26215 [==============================] - 138s 5ms/step - loss: 0.0574 - rmse: 0.1071 - r2: 0.9993 - mae: 0.0574 - mse: 0.0115 - mape: 92022.5469 - val_loss: 0.0575 - val_rmse: 0.1068 - val_r2: 0.9993 - val_mae: 0.0575 - val_mse: 0.0114 - val_mape: 95670.4922\n",
      "Epoch 73/100\n",
      "26215/26215 [==============================] - 144s 6ms/step - loss: 0.0574 - rmse: 0.1070 - r2: 0.9993 - mae: 0.0574 - mse: 0.0114 - mape: 91794.3828 - val_loss: 0.0573 - val_rmse: 0.1067 - val_r2: 0.9993 - val_mae: 0.0573 - val_mse: 0.0114 - val_mape: 95926.1250\n",
      "Epoch 74/100\n",
      "26215/26215 [==============================] - 154s 6ms/step - loss: 0.0573 - rmse: 0.1069 - r2: 0.9993 - mae: 0.0573 - mse: 0.0114 - mape: 91820.7344 - val_loss: 0.0574 - val_rmse: 0.1067 - val_r2: 0.9993 - val_mae: 0.0574 - val_mse: 0.0114 - val_mape: 96755.4922\n",
      "Epoch 75/100\n",
      "26215/26215 [==============================] - 155s 6ms/step - loss: 0.0573 - rmse: 0.1068 - r2: 0.9993 - mae: 0.0573 - mse: 0.0114 - mape: 91719.3672 - val_loss: 0.0572 - val_rmse: 0.1064 - val_r2: 0.9993 - val_mae: 0.0572 - val_mse: 0.0113 - val_mape: 95737.0703\n",
      "Epoch 76/100\n",
      "26215/26215 [==============================] - 151s 6ms/step - loss: 0.0573 - rmse: 0.1067 - r2: 0.9993 - mae: 0.0573 - mse: 0.0114 - mape: 91562.9922 - val_loss: 0.0572 - val_rmse: 0.1064 - val_r2: 0.9993 - val_mae: 0.0572 - val_mse: 0.0113 - val_mape: 95170.6094\n",
      "Epoch 77/100\n",
      "26215/26215 [==============================] - 145s 6ms/step - loss: 0.0572 - rmse: 0.1066 - r2: 0.9993 - mae: 0.0572 - mse: 0.0114 - mape: 91590.7969 - val_loss: 0.0572 - val_rmse: 0.1063 - val_r2: 0.9993 - val_mae: 0.0572 - val_mse: 0.0113 - val_mape: 95091.5547\n",
      "Epoch 78/100\n",
      "26215/26215 [==============================] - 148s 6ms/step - loss: 0.0572 - rmse: 0.1066 - r2: 0.9993 - mae: 0.0572 - mse: 0.0114 - mape: 91323.5312 - val_loss: 0.0572 - val_rmse: 0.1062 - val_r2: 0.9993 - val_mae: 0.0572 - val_mse: 0.0113 - val_mape: 95378.8281\n",
      "Epoch 79/100\n",
      "26215/26215 [==============================] - 139s 5ms/step - loss: 0.0572 - rmse: 0.1065 - r2: 0.9993 - mae: 0.0572 - mse: 0.0113 - mape: 91435.1719 - val_loss: 0.0571 - val_rmse: 0.1062 - val_r2: 0.9993 - val_mae: 0.0571 - val_mse: 0.0113 - val_mape: 94963.2812\n",
      "Epoch 80/100\n",
      "26215/26215 [==============================] - 135s 5ms/step - loss: 0.0571 - rmse: 0.1064 - r2: 0.9993 - mae: 0.0571 - mse: 0.0113 - mape: 91382.2500 - val_loss: 0.0571 - val_rmse: 0.1062 - val_r2: 0.9993 - val_mae: 0.0571 - val_mse: 0.0113 - val_mape: 95181.2422\n",
      "Epoch 81/100\n",
      "26215/26215 [==============================] - 158s 6ms/step - loss: 0.0571 - rmse: 0.1063 - r2: 0.9993 - mae: 0.0571 - mse: 0.0113 - mape: 91234.6094 - val_loss: 0.0571 - val_rmse: 0.1061 - val_r2: 0.9993 - val_mae: 0.0571 - val_mse: 0.0113 - val_mape: 94949.5938\n",
      "Epoch 82/100\n",
      "26215/26215 [==============================] - 129s 5ms/step - loss: 0.0571 - rmse: 0.1062 - r2: 0.9993 - mae: 0.0571 - mse: 0.0113 - mape: 91345.1172 - val_loss: 0.0571 - val_rmse: 0.1060 - val_r2: 0.9993 - val_mae: 0.0571 - val_mse: 0.0112 - val_mape: 95370.8984\n",
      "Epoch 83/100\n",
      "26215/26215 [==============================] - 145s 6ms/step - loss: 0.0570 - rmse: 0.1062 - r2: 0.9993 - mae: 0.0570 - mse: 0.0113 - mape: 91114.4844 - val_loss: 0.0572 - val_rmse: 0.1057 - val_r2: 0.9993 - val_mae: 0.0572 - val_mse: 0.0112 - val_mape: 95449.3203\n",
      "Epoch 84/100\n",
      "26215/26215 [==============================] - 135s 5ms/step - loss: 0.0570 - rmse: 0.1061 - r2: 0.9993 - mae: 0.0570 - mse: 0.0113 - mape: 91194.7266 - val_loss: 0.0569 - val_rmse: 0.1057 - val_r2: 0.9993 - val_mae: 0.0569 - val_mse: 0.0112 - val_mape: 94862.3594\n",
      "Epoch 85/100\n",
      "26215/26215 [==============================] - 126s 5ms/step - loss: 0.0570 - rmse: 0.1060 - r2: 0.9993 - mae: 0.0570 - mse: 0.0112 - mape: 91043.8906 - val_loss: 0.0571 - val_rmse: 0.1057 - val_r2: 0.9993 - val_mae: 0.0571 - val_mse: 0.0112 - val_mape: 95288.8984\n",
      "Epoch 86/100\n",
      "26215/26215 [==============================] - 118s 5ms/step - loss: 0.0569 - rmse: 0.1059 - r2: 0.9993 - mae: 0.0569 - mse: 0.0112 - mape: 90987.9297 - val_loss: 0.0569 - val_rmse: 0.1056 - val_r2: 0.9993 - val_mae: 0.0569 - val_mse: 0.0112 - val_mape: 94787.1094\n",
      "Epoch 87/100\n",
      "26215/26215 [==============================] - 153s 6ms/step - loss: 0.0569 - rmse: 0.1058 - r2: 0.9993 - mae: 0.0569 - mse: 0.0112 - mape: 90883.5781 - val_loss: 0.0569 - val_rmse: 0.1056 - val_r2: 0.9993 - val_mae: 0.0569 - val_mse: 0.0112 - val_mape: 94608.4688\n",
      "Epoch 88/100\n"
     ]
    },
    {
     "name": "stdout",
     "output_type": "stream",
     "text": [
      "26215/26215 [==============================] - 167s 6ms/step - loss: 0.0569 - rmse: 0.1058 - r2: 0.9993 - mae: 0.0569 - mse: 0.0112 - mape: 90905.5859 - val_loss: 0.0568 - val_rmse: 0.1055 - val_r2: 0.9993 - val_mae: 0.0568 - val_mse: 0.0111 - val_mape: 94515.5312\n",
      "Epoch 89/100\n",
      "26215/26215 [==============================] - 150s 6ms/step - loss: 0.0568 - rmse: 0.1057 - r2: 0.9993 - mae: 0.0568 - mse: 0.0112 - mape: 90904.6875 - val_loss: 0.0570 - val_rmse: 0.1055 - val_r2: 0.9993 - val_mae: 0.0570 - val_mse: 0.0111 - val_mape: 96776.8516\n",
      "Epoch 90/100\n",
      "26215/26215 [==============================] - 141s 5ms/step - loss: 0.0568 - rmse: 0.1056 - r2: 0.9993 - mae: 0.0568 - mse: 0.0112 - mape: 90791.7109 - val_loss: 0.0568 - val_rmse: 0.1052 - val_r2: 0.9993 - val_mae: 0.0568 - val_mse: 0.0111 - val_mape: 94868.9297\n",
      "Epoch 91/100\n",
      "26215/26215 [==============================] - 132s 5ms/step - loss: 0.0568 - rmse: 0.1055 - r2: 0.9993 - mae: 0.0568 - mse: 0.0111 - mape: 90699.0938 - val_loss: 0.0568 - val_rmse: 0.1053 - val_r2: 0.9993 - val_mae: 0.0568 - val_mse: 0.0111 - val_mape: 94676.0469\n",
      "Epoch 92/100\n",
      "26215/26215 [==============================] - 150s 6ms/step - loss: 0.0567 - rmse: 0.1055 - r2: 0.9993 - mae: 0.0567 - mse: 0.0111 - mape: 90759.2891 - val_loss: 0.0568 - val_rmse: 0.1053 - val_r2: 0.9993 - val_mae: 0.0568 - val_mse: 0.0111 - val_mape: 94724.4844\n",
      "Epoch 93/100\n",
      "26215/26215 [==============================] - 145s 6ms/step - loss: 0.0567 - rmse: 0.1054 - r2: 0.9993 - mae: 0.0567 - mse: 0.0111 - mape: 90660.0781 - val_loss: 0.0568 - val_rmse: 0.1052 - val_r2: 0.9993 - val_mae: 0.0568 - val_mse: 0.0111 - val_mape: 94977.8047\n",
      "Epoch 94/100\n",
      "26215/26215 [==============================] - 123s 5ms/step - loss: 0.0567 - rmse: 0.1053 - r2: 0.9993 - mae: 0.0567 - mse: 0.0111 - mape: 90637.3828 - val_loss: 0.0566 - val_rmse: 0.1050 - val_r2: 0.9993 - val_mae: 0.0566 - val_mse: 0.0110 - val_mape: 94276.8516\n",
      "Epoch 95/100\n",
      "26215/26215 [==============================] - 120s 5ms/step - loss: 0.0567 - rmse: 0.1053 - r2: 0.9993 - mae: 0.0567 - mse: 0.0111 - mape: 90551.4453 - val_loss: 0.0568 - val_rmse: 0.1052 - val_r2: 0.9993 - val_mae: 0.0568 - val_mse: 0.0111 - val_mape: 95620.2969\n",
      "Epoch 96/100\n",
      "26215/26215 [==============================] - 147s 6ms/step - loss: 0.0566 - rmse: 0.1052 - r2: 0.9993 - mae: 0.0566 - mse: 0.0111 - mape: 90517.1172 - val_loss: 0.0567 - val_rmse: 0.1051 - val_r2: 0.9993 - val_mae: 0.0567 - val_mse: 0.0110 - val_mape: 94428.3359\n",
      "Epoch 97/100\n",
      "26215/26215 [==============================] - 137s 5ms/step - loss: 0.0566 - rmse: 0.1051 - r2: 0.9993 - mae: 0.0566 - mse: 0.0111 - mape: 90414.0625 - val_loss: 0.0567 - val_rmse: 0.1049 - val_r2: 0.9993 - val_mae: 0.0567 - val_mse: 0.0110 - val_mape: 94243.8672\n",
      "Epoch 98/100\n",
      "26215/26215 [==============================] - 141s 5ms/step - loss: 0.0566 - rmse: 0.1051 - r2: 0.9993 - mae: 0.0566 - mse: 0.0110 - mape: 90467.2188 - val_loss: 0.0566 - val_rmse: 0.1049 - val_r2: 0.9993 - val_mae: 0.0566 - val_mse: 0.0110 - val_mape: 94146.2812\n",
      "Epoch 99/100\n",
      "26215/26215 [==============================] - 137s 5ms/step - loss: 0.0565 - rmse: 0.1050 - r2: 0.9993 - mae: 0.0565 - mse: 0.0110 - mape: 90384.0156 - val_loss: 0.0565 - val_rmse: 0.1047 - val_r2: 0.9993 - val_mae: 0.0565 - val_mse: 0.0110 - val_mape: 94155.1172\n",
      "Epoch 100/100\n",
      "26215/26215 [==============================] - 145s 6ms/step - loss: 0.0565 - rmse: 0.1049 - r2: 0.9993 - mae: 0.0565 - mse: 0.0110 - mape: 90182.5938 - val_loss: 0.0566 - val_rmse: 0.1047 - val_r2: 0.9993 - val_mae: 0.0566 - val_mse: 0.0110 - val_mape: 94259.8438\n"
     ]
    }
   ],
   "source": [
    "tf.random.set_seed(42)\n",
    "\n",
    "model_6 = tf.keras.Sequential([tf.keras.layers.LSTM(50,activation= 'linear',return_sequences=True, input_shape=(3,1)),\n",
    "                               tf.keras.layers.LSTM(30,activation= 'linear'),\n",
    "                               tf.keras.layers.Dense(20,activation='relu'),\n",
    "                               tf.keras.layers.Dense(1,activation='linear')])\n",
    "\n",
    "model_6.compile(loss = tf.keras.losses.mae,\n",
    "                optimizer = tf.keras.optimizers.legacy.Adam(learning_rate=0.001,decay = 0.001),\n",
    "                metrics=[tf.keras.metrics.RootMeanSquaredError(name='rmse'),\n",
    "                         tfa.metrics.RSquare(name='r2'),'mae','mse','mape'])\n",
    "\n",
    "history_6 = model_6.fit(X_train,Y_train,epochs=100,validation_data=(X_test,Y_test),callbacks = callback)"
   ]
  },
  {
   "cell_type": "code",
   "execution_count": 25,
   "id": "a25e7ebf",
   "metadata": {},
   "outputs": [
    {
     "data": {
      "image/png": "[encoded data removed]",
      "text/plain": [
       "<Figure size 432x288 with 1 Axes>"
      ]
     },
     "metadata": {
      "needs_background": "light"
     },
     "output_type": "display_data"
    }
   ],
   "source": [
    "plot_his(history_6)"
   ]
  },
  {
   "cell_type": "code",
   "execution_count": 26,
   "id": "2f41e7f5",
   "metadata": {},
   "outputs": [
    {
     "name": "stdout",
     "output_type": "stream",
     "text": [
      "Model: \"sequential_1\"\n",
      "_________________________________________________________________\n",
      " Layer (type)                Output Shape              Param #   \n",
      "=================================================================\n",
      " lstm_2 (LSTM)               (None, 3, 50)             10400     \n",
      "                                                                 \n",
      " lstm_3 (LSTM)               (None, 30)                9720      \n",
      "                                                                 \n",
      " dense_1 (Dense)             (None, 20)                620       \n",
      "                                                                 \n",
      " dense_2 (Dense)             (None, 1)                 21        \n",
      "                                                                 \n",
      "=================================================================\n",
      "Total params: 20761 (81.10 KB)\n",
      "Trainable params: 20761 (81.10 KB)\n",
      "Non-trainable params: 0 (0.00 Byte)\n",
      "_________________________________________________________________\n"
     ]
    }
   ],
   "source": [
    "model_6.summary()"
   ]
  },
  {
   "cell_type": "code",
   "execution_count": 27,
   "id": "ac8f4e5c",
   "metadata": {},
   "outputs": [
    {
     "name": "stdout",
     "output_type": "stream",
     "text": [
      "6554/6554 [==============================] - 29s 3ms/step - loss: 0.0566 - rmse: 0.1047 - r2: 0.9993 - mae: 0.0566 - mse: 0.0110 - mape: 94259.8438\n"
     ]
    },
    {
     "data": {
      "text/plain": [
       "[0.05656738579273224,\n",
       " 0.1047186404466629,\n",
       " 0.9992939233779907,\n",
       " 0.05656738579273224,\n",
       " 0.010965993627905846,\n",
       " 94259.84375]"
      ]
     },
     "execution_count": 27,
     "metadata": {},
     "output_type": "execute_result"
    }
   ],
   "source": [
    "model_6.evaluate(X_test,Y_test)"
   ]
  },
  {
   "cell_type": "code",
   "execution_count": 28,
   "id": "5d82d29c",
   "metadata": {},
   "outputs": [
    {
     "name": "stdout",
     "output_type": "stream",
     "text": [
      "6554/6554 [==============================] - 19s 2ms/step\n"
     ]
    }
   ],
   "source": [
    "prediction_6 = model_6.predict(X_test)"
   ]
  },
  {
   "cell_type": "code",
   "execution_count": 29,
   "id": "82ccde3f",
   "metadata": {},
   "outputs": [
    {
     "name": "stdout",
     "output_type": "stream",
     "text": [
      "AIC:  41612.652\n"
     ]
    }
   ],
   "source": [
    "AIC_value(model_6,prediction_6,Y_test)"
   ]
  },
  {
   "cell_type": "code",
   "execution_count": 30,
   "id": "9f2d1f04",
   "metadata": {},
   "outputs": [
    {
     "name": "stderr",
     "output_type": "stream",
     "text": [
      "C:\\Users\\91987\\anaconda3\\lib\\site-packages\\keras\\src\\engine\\training.py:3000: UserWarning: You are saving your model as an HDF5 file via `model.save()`. This file format is considered legacy. We recommend using instead the native Keras format, e.g. `model.save('my_model.keras')`.\n",
      "  saving_api.save_model(\n"
     ]
    }
   ],
   "source": [
    "model_6.save('Saved_models/model_6_SOEesti.h5')"
   ]
  },
  {
   "cell_type": "code",
   "execution_count": null,
   "id": "a238c94f",
   "metadata": {},
   "outputs": [],
   "source": []
  },
  {
   "cell_type": "code",
   "execution_count": null,
   "id": "51c14c79",
   "metadata": {},
   "outputs": [],
   "source": []
  },
  {
   "cell_type": "code",
   "execution_count": 31,
   "id": "c1e998c1",
   "metadata": {},
   "outputs": [
    {
     "name": "stdout",
     "output_type": "stream",
     "text": [
      "Epoch 1/100\n",
      "26215/26215 [==============================] - 150s 5ms/step - loss: 2.9864 - rmse: 3.4881 - r2: 0.2180 - mae: 2.9864 - mse: 12.1669 - mape: 8084409.5000 - val_loss: 2.9573 - val_rmse: 3.4492 - val_r2: 0.2340 - val_mae: 2.9573 - val_mse: 11.8970 - val_mape: 8078709.0000\n",
      "Epoch 2/100\n",
      "26215/26215 [==============================] - 125s 5ms/step - loss: 2.9469 - rmse: 3.4374 - r2: 0.2406 - mae: 2.9469 - mse: 11.8154 - mape: 7764887.5000 - val_loss: 2.9415 - val_rmse: 3.4279 - val_r2: 0.2434 - val_mae: 2.9415 - val_mse: 11.7505 - val_mape: 7936855.0000\n",
      "Epoch 3/100\n",
      "26215/26215 [==============================] - 131s 5ms/step - loss: 2.9343 - rmse: 3.4231 - r2: 0.2469 - mae: 2.9343 - mse: 11.7175 - mape: 7680875.5000 - val_loss: 2.9313 - val_rmse: 3.4186 - val_r2: 0.2475 - val_mae: 2.9313 - val_mse: 11.6868 - val_mape: 7898194.0000\n",
      "Epoch 4/100\n",
      "26215/26215 [==============================] - 132s 5ms/step - loss: 2.9252 - rmse: 3.4127 - r2: 0.2515 - mae: 2.9252 - mse: 11.6468 - mape: 7635969.0000 - val_loss: 2.9232 - val_rmse: 3.4086 - val_r2: 0.2519 - val_mae: 2.9232 - val_mse: 11.6186 - val_mape: 7858054.5000\n",
      "Epoch 5/100\n",
      "26215/26215 [==============================] - 122s 5ms/step - loss: 2.9179 - rmse: 3.4043 - r2: 0.2551 - mae: 2.9179 - mse: 11.5894 - mape: 7608177.5000 - val_loss: 2.9165 - val_rmse: 3.4020 - val_r2: 0.2548 - val_mae: 2.9165 - val_mse: 11.5738 - val_mape: 7841455.0000\n",
      "Epoch 6/100\n",
      "26215/26215 [==============================] - 130s 5ms/step - loss: 2.9115 - rmse: 3.3972 - r2: 0.2583 - mae: 2.9115 - mse: 11.5408 - mape: 7588539.0000 - val_loss: 2.9107 - val_rmse: 3.3949 - val_r2: 0.2579 - val_mae: 2.9107 - val_mse: 11.5255 - val_mape: 7820513.0000\n",
      "Epoch 7/100\n",
      "26215/26215 [==============================] - 135s 5ms/step - loss: 2.9059 - rmse: 3.3907 - r2: 0.2611 - mae: 2.9059 - mse: 11.4968 - mape: 7573698.5000 - val_loss: 2.9053 - val_rmse: 3.3878 - val_r2: 0.2610 - val_mae: 2.9053 - val_mse: 11.4774 - val_mape: 7799061.0000\n",
      "Epoch 8/100\n",
      "26215/26215 [==============================] - 143s 5ms/step - loss: 2.9008 - rmse: 3.3846 - r2: 0.2638 - mae: 2.9008 - mse: 11.4553 - mape: 7558183.5000 - val_loss: 2.9005 - val_rmse: 3.3827 - val_r2: 0.2633 - val_mae: 2.9005 - val_mse: 11.4424 - val_mape: 7790166.0000\n",
      "Epoch 9/100\n",
      "26215/26215 [==============================] - 132s 5ms/step - loss: 2.8961 - rmse: 3.3795 - r2: 0.2660 - mae: 2.8961 - mse: 11.4209 - mape: 7549563.0000 - val_loss: 2.8960 - val_rmse: 3.3775 - val_r2: 0.2655 - val_mae: 2.8960 - val_mse: 11.4078 - val_mape: 7780188.5000\n",
      "Epoch 10/100\n",
      "26215/26215 [==============================] - 135s 5ms/step - loss: 2.8918 - rmse: 3.3744 - r2: 0.2682 - mae: 2.8918 - mse: 11.3864 - mape: 7540914.0000 - val_loss: 2.8918 - val_rmse: 3.3721 - val_r2: 0.2678 - val_mae: 2.8918 - val_mse: 11.3712 - val_mape: 7767324.5000\n",
      "Epoch 11/100\n",
      "26215/26215 [==============================] - 135s 5ms/step - loss: 2.8878 - rmse: 3.3699 - r2: 0.2702 - mae: 2.8878 - mse: 11.3559 - mape: 7533262.5000 - val_loss: 2.8879 - val_rmse: 3.3675 - val_r2: 0.2698 - val_mae: 2.8879 - val_mse: 11.3402 - val_mape: 7759377.0000\n",
      "Epoch 12/100\n",
      "26215/26215 [==============================] - 143s 5ms/step - loss: 2.8839 - rmse: 3.3653 - r2: 0.2721 - mae: 2.8839 - mse: 11.3250 - mape: 7525609.0000 - val_loss: 2.8842 - val_rmse: 3.3631 - val_r2: 0.2718 - val_mae: 2.8842 - val_mse: 11.3103 - val_mape: 7751862.0000\n",
      "Epoch 13/100\n",
      "26215/26215 [==============================] - 131s 5ms/step - loss: 2.8803 - rmse: 3.3612 - r2: 0.2739 - mae: 2.8803 - mse: 11.2976 - mape: 7520318.0000 - val_loss: 2.8806 - val_rmse: 3.3591 - val_r2: 0.2735 - val_mae: 2.8806 - val_mse: 11.2837 - val_mape: 7746970.5000\n",
      "Epoch 14/100\n",
      "26215/26215 [==============================] - 131s 5ms/step - loss: 2.8768 - rmse: 3.3570 - r2: 0.2757 - mae: 2.8768 - mse: 11.2693 - mape: 7513914.0000 - val_loss: 2.8773 - val_rmse: 3.3560 - val_r2: 0.2748 - val_mae: 2.8773 - val_mse: 11.2630 - val_mape: 7747810.5000\n",
      "Epoch 15/100\n",
      "26215/26215 [==============================] - 135s 5ms/step - loss: 2.8735 - rmse: 3.3534 - r2: 0.2773 - mae: 2.8735 - mse: 11.2454 - mape: 7511102.0000 - val_loss: 2.8740 - val_rmse: 3.3517 - val_r2: 0.2767 - val_mae: 2.8740 - val_mse: 11.2342 - val_mape: 7739276.0000\n",
      "Epoch 16/100\n",
      "26215/26215 [==============================] - 130s 5ms/step - loss: 2.8702 - rmse: 3.3496 - r2: 0.2789 - mae: 2.8702 - mse: 11.2199 - mape: 7506271.0000 - val_loss: 2.8708 - val_rmse: 3.3484 - val_r2: 0.2781 - val_mae: 2.8708 - val_mse: 11.2115 - val_mape: 7736829.5000\n",
      "Epoch 17/100\n",
      "26215/26215 [==============================] - 135s 5ms/step - loss: 2.8672 - rmse: 3.3462 - r2: 0.2804 - mae: 2.8672 - mse: 11.1968 - mape: 7503352.0000 - val_loss: 2.8678 - val_rmse: 3.3443 - val_r2: 0.2799 - val_mae: 2.8678 - val_mse: 11.1844 - val_mape: 7729022.5000\n",
      "Epoch 18/100\n",
      "26215/26215 [==============================] - 128s 5ms/step - loss: 2.8641 - rmse: 3.3424 - r2: 0.2820 - mae: 2.8641 - mse: 11.1719 - mape: 7497314.0000 - val_loss: 2.8649 - val_rmse: 3.3418 - val_r2: 0.2810 - val_mae: 2.8649 - val_mse: 11.1675 - val_mape: 7731707.5000\n",
      "Epoch 19/100\n",
      "26215/26215 [==============================] - 131s 5ms/step - loss: 2.8612 - rmse: 3.3393 - r2: 0.2833 - mae: 2.8612 - mse: 11.1506 - mape: 7495537.0000 - val_loss: 2.8620 - val_rmse: 3.3384 - val_r2: 0.2824 - val_mae: 2.8620 - val_mse: 11.1452 - val_mape: 7728231.5000\n",
      "Epoch 20/100\n",
      "26215/26215 [==============================] - 127s 5ms/step - loss: 2.8584 - rmse: 3.3361 - r2: 0.2847 - mae: 2.8584 - mse: 11.1293 - mape: 7493247.5000 - val_loss: 2.8592 - val_rmse: 3.3349 - val_r2: 0.2839 - val_mae: 2.8592 - val_mse: 11.1217 - val_mape: 7723156.0000\n",
      "Epoch 21/100\n",
      "26215/26215 [==============================] - 128s 5ms/step - loss: 2.8556 - rmse: 3.3328 - r2: 0.2861 - mae: 2.8556 - mse: 11.1072 - mape: 7489654.5000 - val_loss: 2.8565 - val_rmse: 3.3318 - val_r2: 0.2852 - val_mae: 2.8565 - val_mse: 11.1011 - val_mape: 7720694.0000\n",
      "Epoch 22/100\n",
      "26215/26215 [==============================] - 130s 5ms/step - loss: 2.8530 - rmse: 3.3298 - r2: 0.2874 - mae: 2.8530 - mse: 11.0875 - mape: 7487751.0000 - val_loss: 2.8539 - val_rmse: 3.3288 - val_r2: 0.2865 - val_mae: 2.8539 - val_mse: 11.0810 - val_mape: 7718478.5000\n",
      "Epoch 23/100\n",
      "26215/26215 [==============================] - 137s 5ms/step - loss: 2.8504 - rmse: 3.3267 - r2: 0.2887 - mae: 2.8504 - mse: 11.0671 - mape: 7485242.0000 - val_loss: 2.8513 - val_rmse: 3.3260 - val_r2: 0.2877 - val_mae: 2.8513 - val_mse: 11.0624 - val_mape: 7717512.5000\n",
      "Epoch 24/100\n",
      "26215/26215 [==============================] - 126s 5ms/step - loss: 2.8478 - rmse: 3.3239 - r2: 0.2899 - mae: 2.8478 - mse: 11.0483 - mape: 7484477.0000 - val_loss: 2.8488 - val_rmse: 3.3225 - val_r2: 0.2892 - val_mae: 2.8488 - val_mse: 11.0391 - val_mape: 7711359.0000\n",
      "Epoch 25/100\n",
      "26215/26215 [==============================] - 129s 5ms/step - loss: 2.8453 - rmse: 3.3208 - r2: 0.2913 - mae: 2.8453 - mse: 11.0278 - mape: 7480847.5000 - val_loss: 2.8463 - val_rmse: 3.3201 - val_r2: 0.2902 - val_mae: 2.8463 - val_mse: 11.0233 - val_mape: 7712818.5000\n",
      "Epoch 26/100\n",
      "26215/26215 [==============================] - 130s 5ms/step - loss: 2.8428 - rmse: 3.3181 - r2: 0.2924 - mae: 2.8428 - mse: 11.0099 - mape: 7480206.0000 - val_loss: 2.8439 - val_rmse: 3.3173 - val_r2: 0.2914 - val_mae: 2.8439 - val_mse: 11.0047 - val_mape: 7711080.0000\n",
      "Epoch 27/100\n",
      "26215/26215 [==============================] - 136s 5ms/step - loss: 2.8404 - rmse: 3.3153 - r2: 0.2936 - mae: 2.8404 - mse: 10.9910 - mape: 7477808.0000 - val_loss: 2.8415 - val_rmse: 3.3149 - val_r2: 0.2925 - val_mae: 2.8415 - val_mse: 10.9882 - val_mape: 7711039.0000\n",
      "Epoch 28/100\n",
      "26215/26215 [==============================] - 135s 5ms/step - loss: 2.8381 - rmse: 3.3126 - r2: 0.2947 - mae: 2.8381 - mse: 10.9735 - mape: 7476620.0000 - val_loss: 2.8392 - val_rmse: 3.3122 - val_r2: 0.2937 - val_mae: 2.8392 - val_mse: 10.9705 - val_mape: 7709717.5000\n",
      "Epoch 29/100\n",
      "26215/26215 [==============================] - 126s 5ms/step - loss: 2.8357 - rmse: 3.3102 - r2: 0.2958 - mae: 2.8357 - mse: 10.9571 - mape: 7476901.5000 - val_loss: 2.8369 - val_rmse: 3.3090 - val_r2: 0.2950 - val_mae: 2.8369 - val_mse: 10.9496 - val_mape: 7704978.5000\n"
     ]
    },
    {
     "name": "stdout",
     "output_type": "stream",
     "text": [
      "Epoch 30/100\n",
      "26215/26215 [==============================] - 133s 5ms/step - loss: 2.8335 - rmse: 3.3073 - r2: 0.2970 - mae: 2.8335 - mse: 10.9385 - mape: 7474887.5000 - val_loss: 2.8346 - val_rmse: 3.3063 - val_r2: 0.2962 - val_mae: 2.8346 - val_mse: 10.9315 - val_mape: 7702844.0000\n",
      "Epoch 31/100\n",
      "26215/26215 [==============================] - 133s 5ms/step - loss: 2.8312 - rmse: 3.3043 - r2: 0.2983 - mae: 2.8312 - mse: 10.9185 - mape: 7470641.5000 - val_loss: 2.8324 - val_rmse: 3.3042 - val_r2: 0.2970 - val_mae: 2.8324 - val_mse: 10.9178 - val_mape: 7705233.5000\n",
      "Epoch 32/100\n",
      "26215/26215 [==============================] - 130s 5ms/step - loss: 2.8290 - rmse: 3.3021 - r2: 0.2992 - mae: 2.8290 - mse: 10.9039 - mape: 7471866.5000 - val_loss: 2.8302 - val_rmse: 3.3015 - val_r2: 0.2982 - val_mae: 2.8302 - val_mse: 10.8998 - val_mape: 7702734.0000\n",
      "Epoch 33/100\n",
      "26215/26215 [==============================] - 124s 5ms/step - loss: 2.8268 - rmse: 3.2996 - r2: 0.3003 - mae: 2.8268 - mse: 10.8873 - mape: 7470825.5000 - val_loss: 2.8280 - val_rmse: 3.2988 - val_r2: 0.2993 - val_mae: 2.8280 - val_mse: 10.8821 - val_mape: 7700486.0000\n",
      "Epoch 34/100\n",
      "26215/26215 [==============================] - 127s 5ms/step - loss: 2.8247 - rmse: 3.2969 - r2: 0.3014 - mae: 2.8247 - mse: 10.8695 - mape: 7468602.0000 - val_loss: 2.8259 - val_rmse: 3.2965 - val_r2: 0.3003 - val_mae: 2.8259 - val_mse: 10.8669 - val_mape: 7700646.0000\n",
      "Epoch 35/100\n",
      "26215/26215 [==============================] - 113s 4ms/step - loss: 2.8225 - rmse: 3.2946 - r2: 0.3024 - mae: 2.8225 - mse: 10.8547 - mape: 7469244.5000 - val_loss: 2.8238 - val_rmse: 3.2939 - val_r2: 0.3014 - val_mae: 2.8238 - val_mse: 10.8498 - val_mape: 7698748.5000\n",
      "Epoch 36/100\n",
      "26215/26215 [==============================] - 110s 4ms/step - loss: 2.8204 - rmse: 3.2923 - r2: 0.3034 - mae: 2.8204 - mse: 10.8391 - mape: 7468795.0000 - val_loss: 2.8217 - val_rmse: 3.2912 - val_r2: 0.3026 - val_mae: 2.8217 - val_mse: 10.8322 - val_mape: 7696091.0000\n",
      "Epoch 37/100\n",
      "26215/26215 [==============================] - 99s 4ms/step - loss: 2.8184 - rmse: 3.2895 - r2: 0.3045 - mae: 2.8184 - mse: 10.8209 - mape: 7465779.5000 - val_loss: 2.8197 - val_rmse: 3.2890 - val_r2: 0.3035 - val_mae: 2.8197 - val_mse: 10.8172 - val_mape: 7695937.5000\n",
      "Epoch 38/100\n",
      "26215/26215 [==============================] - 113s 4ms/step - loss: 2.8163 - rmse: 3.2872 - r2: 0.3055 - mae: 2.8163 - mse: 10.8055 - mape: 7465130.0000 - val_loss: 2.8176 - val_rmse: 3.2867 - val_r2: 0.3045 - val_mae: 2.8176 - val_mse: 10.8025 - val_mape: 7695946.5000\n",
      "Epoch 39/100\n",
      "26215/26215 [==============================] - 100s 4ms/step - loss: 2.8143 - rmse: 3.2850 - r2: 0.3065 - mae: 2.8143 - mse: 10.7911 - mape: 7465296.5000 - val_loss: 2.8156 - val_rmse: 3.2843 - val_r2: 0.3055 - val_mae: 2.8156 - val_mse: 10.7865 - val_mape: 7694533.5000\n",
      "Epoch 40/100\n",
      "26215/26215 [==============================] - 109s 4ms/step - loss: 2.8123 - rmse: 3.2826 - r2: 0.3075 - mae: 2.8123 - mse: 10.7751 - mape: 7463828.0000 - val_loss: 2.8137 - val_rmse: 3.2820 - val_r2: 0.3065 - val_mae: 2.8137 - val_mse: 10.7714 - val_mape: 7693763.0000\n",
      "Epoch 41/100\n",
      "26215/26215 [==============================] - 126s 5ms/step - loss: 2.8104 - rmse: 3.2800 - r2: 0.3086 - mae: 2.8104 - mse: 10.7587 - mape: 7461810.5000 - val_loss: 2.8117 - val_rmse: 3.2800 - val_r2: 0.3073 - val_mae: 2.8117 - val_mse: 10.7584 - val_mape: 7695177.5000\n",
      "Epoch 42/100\n",
      "26215/26215 [==============================] - 121s 5ms/step - loss: 2.8084 - rmse: 3.2780 - r2: 0.3094 - mae: 2.8084 - mse: 10.7451 - mape: 7462539.5000 - val_loss: 2.8098 - val_rmse: 3.2778 - val_r2: 0.3083 - val_mae: 2.8098 - val_mse: 10.7437 - val_mape: 7694692.5000\n",
      "Epoch 43/100\n",
      "26215/26215 [==============================] - 138s 5ms/step - loss: 2.8065 - rmse: 3.2760 - r2: 0.3103 - mae: 2.8065 - mse: 10.7319 - mape: 7463479.0000 - val_loss: 2.8079 - val_rmse: 3.2753 - val_r2: 0.3093 - val_mae: 2.8079 - val_mse: 10.7275 - val_mape: 7692469.0000\n",
      "Epoch 44/100\n",
      "26215/26215 [==============================] - 125s 5ms/step - loss: 2.8046 - rmse: 3.2735 - r2: 0.3113 - mae: 2.8046 - mse: 10.7160 - mape: 7461592.5000 - val_loss: 2.8060 - val_rmse: 3.2731 - val_r2: 0.3102 - val_mae: 2.8060 - val_mse: 10.7130 - val_mape: 7692039.0000\n",
      "Epoch 45/100\n",
      "26215/26215 [==============================] - 130s 5ms/step - loss: 2.8027 - rmse: 3.2713 - r2: 0.3122 - mae: 2.8027 - mse: 10.7016 - mape: 7461438.0000 - val_loss: 2.8041 - val_rmse: 3.2708 - val_r2: 0.3112 - val_mae: 2.8041 - val_mse: 10.6984 - val_mape: 7691306.0000\n",
      "Epoch 46/100\n",
      "26215/26215 [==============================] - 132s 5ms/step - loss: 2.8008 - rmse: 3.2689 - r2: 0.3132 - mae: 2.8008 - mse: 10.6860 - mape: 7459655.0000 - val_loss: 2.8022 - val_rmse: 3.2688 - val_r2: 0.3120 - val_mae: 2.8022 - val_mse: 10.6853 - val_mape: 7692086.5000\n",
      "Epoch 47/100\n",
      "26215/26215 [==============================] - 139s 5ms/step - loss: 2.7990 - rmse: 3.2669 - r2: 0.3141 - mae: 2.7990 - mse: 10.6727 - mape: 7460294.0000 - val_loss: 2.8004 - val_rmse: 3.2667 - val_r2: 0.3129 - val_mae: 2.8004 - val_mse: 10.6711 - val_mape: 7691637.5000\n",
      "Epoch 48/100\n",
      "26215/26215 [==============================] - 152s 6ms/step - loss: 2.7971 - rmse: 3.2648 - r2: 0.3149 - mae: 2.7971 - mse: 10.6589 - mape: 7460311.5000 - val_loss: 2.7985 - val_rmse: 3.2645 - val_r2: 0.3139 - val_mae: 2.7985 - val_mse: 10.6567 - val_mape: 7690955.0000\n",
      "Epoch 49/100\n",
      "26215/26215 [==============================] - 142s 5ms/step - loss: 2.7953 - rmse: 3.2624 - r2: 0.3159 - mae: 2.7953 - mse: 10.6434 - mape: 7458385.0000 - val_loss: 2.7967 - val_rmse: 3.2624 - val_r2: 0.3147 - val_mae: 2.7967 - val_mse: 10.6432 - val_mape: 7691209.0000\n",
      "Epoch 50/100\n",
      "26215/26215 [==============================] - 152s 6ms/step - loss: 2.7934 - rmse: 3.2605 - r2: 0.3168 - mae: 2.7934 - mse: 10.6307 - mape: 7459637.5000 - val_loss: 2.7949 - val_rmse: 3.2602 - val_r2: 0.3157 - val_mae: 2.7949 - val_mse: 10.6286 - val_mape: 7690411.5000\n",
      "Epoch 51/100\n",
      "26215/26215 [==============================] - 153s 6ms/step - loss: 2.7916 - rmse: 3.2584 - r2: 0.3176 - mae: 2.7916 - mse: 10.6174 - mape: 7460101.5000 - val_loss: 2.7930 - val_rmse: 3.2578 - val_r2: 0.3166 - val_mae: 2.7930 - val_mse: 10.6136 - val_mape: 7688901.5000\n",
      "Epoch 52/100\n",
      "26215/26215 [==============================] - 146s 6ms/step - loss: 2.7898 - rmse: 3.2561 - r2: 0.3186 - mae: 2.7898 - mse: 10.6021 - mape: 7458457.5000 - val_loss: 2.7912 - val_rmse: 3.2557 - val_r2: 0.3175 - val_mae: 2.7912 - val_mse: 10.5994 - val_mape: 7688418.5000\n",
      "Epoch 53/100\n",
      "26215/26215 [==============================] - 143s 5ms/step - loss: 2.7880 - rmse: 3.2538 - r2: 0.3196 - mae: 2.7880 - mse: 10.5870 - mape: 7457029.0000 - val_loss: 2.7894 - val_rmse: 3.2535 - val_r2: 0.3184 - val_mae: 2.7894 - val_mse: 10.5855 - val_mape: 7688243.0000\n",
      "Epoch 54/100\n",
      "26215/26215 [==============================] - 147s 6ms/step - loss: 2.7862 - rmse: 3.2517 - r2: 0.3204 - mae: 2.7862 - mse: 10.5734 - mape: 7457190.0000 - val_loss: 2.7876 - val_rmse: 3.2514 - val_r2: 0.3193 - val_mae: 2.7876 - val_mse: 10.5716 - val_mape: 7688009.0000\n",
      "Epoch 55/100\n",
      "26215/26215 [==============================] - 153s 6ms/step - loss: 2.7843 - rmse: 3.2495 - r2: 0.3214 - mae: 2.7843 - mse: 10.5591 - mape: 7456672.5000 - val_loss: 2.7858 - val_rmse: 3.2493 - val_r2: 0.3202 - val_mae: 2.7858 - val_mse: 10.5578 - val_mape: 7687944.0000\n",
      "Epoch 56/100\n",
      "26215/26215 [==============================] - 153s 6ms/step - loss: 2.7825 - rmse: 3.2474 - r2: 0.3222 - mae: 2.7825 - mse: 10.5455 - mape: 7456579.0000 - val_loss: 2.7840 - val_rmse: 3.2471 - val_r2: 0.3211 - val_mae: 2.7840 - val_mse: 10.5438 - val_mape: 7687553.5000\n",
      "Epoch 57/100\n",
      "26215/26215 [==============================] - 144s 5ms/step - loss: 2.7807 - rmse: 3.2453 - r2: 0.3231 - mae: 2.7807 - mse: 10.5321 - mape: 7457029.5000 - val_loss: 2.7822 - val_rmse: 3.2449 - val_r2: 0.3221 - val_mae: 2.7822 - val_mse: 10.5293 - val_mape: 7686651.0000\n",
      "Epoch 58/100\n",
      "26215/26215 [==============================] - 142s 5ms/step - loss: 2.7789 - rmse: 3.2430 - r2: 0.3241 - mae: 2.7789 - mse: 10.5167 - mape: 7455339.0000 - val_loss: 2.7803 - val_rmse: 3.2428 - val_r2: 0.3229 - val_mae: 2.7803 - val_mse: 10.5154 - val_mape: 7686538.5000\n"
     ]
    },
    {
     "name": "stdout",
     "output_type": "stream",
     "text": [
      "Epoch 59/100\n",
      "26215/26215 [==============================] - 145s 6ms/step - loss: 2.7771 - rmse: 3.2409 - r2: 0.3250 - mae: 2.7771 - mse: 10.5032 - mape: 7455690.0000 - val_loss: 2.7785 - val_rmse: 3.2406 - val_r2: 0.3239 - val_mae: 2.7785 - val_mse: 10.5013 - val_mape: 7686195.0000\n",
      "Epoch 60/100\n",
      "26215/26215 [==============================] - 149s 6ms/step - loss: 2.7753 - rmse: 3.2388 - r2: 0.3258 - mae: 2.7753 - mse: 10.4898 - mape: 7456161.5000 - val_loss: 2.7767 - val_rmse: 3.2384 - val_r2: 0.3248 - val_mae: 2.7767 - val_mse: 10.4870 - val_mape: 7685595.0000\n",
      "Epoch 61/100\n",
      "26215/26215 [==============================] - 150s 6ms/step - loss: 2.7735 - rmse: 3.2363 - r2: 0.3269 - mae: 2.7735 - mse: 10.4737 - mape: 7453732.5000 - val_loss: 2.7749 - val_rmse: 3.2363 - val_r2: 0.3256 - val_mae: 2.7749 - val_mse: 10.4736 - val_mape: 7686088.5000\n",
      "Epoch 62/100\n",
      "26215/26215 [==============================] - 146s 6ms/step - loss: 2.7717 - rmse: 3.2344 - r2: 0.3277 - mae: 2.7717 - mse: 10.4612 - mape: 7455050.0000 - val_loss: 2.7731 - val_rmse: 3.2341 - val_r2: 0.3265 - val_mae: 2.7731 - val_mse: 10.4596 - val_mape: 7685873.0000\n",
      "Epoch 63/100\n",
      "26215/26215 [==============================] - 143s 5ms/step - loss: 2.7698 - rmse: 3.2322 - r2: 0.3285 - mae: 2.7698 - mse: 10.4472 - mape: 7454882.0000 - val_loss: 2.7713 - val_rmse: 3.2320 - val_r2: 0.3274 - val_mae: 2.7713 - val_mse: 10.4456 - val_mape: 7685608.0000\n",
      "Epoch 64/100\n",
      "26215/26215 [==============================] - 154s 6ms/step - loss: 2.7680 - rmse: 3.2301 - r2: 0.3295 - mae: 2.7680 - mse: 10.4333 - mape: 7454786.5000 - val_loss: 2.7694 - val_rmse: 3.2298 - val_r2: 0.3283 - val_mae: 2.7694 - val_mse: 10.4317 - val_mape: 7685461.0000\n",
      "Epoch 65/100\n",
      "26215/26215 [==============================] - 150s 6ms/step - loss: 2.7662 - rmse: 3.2280 - r2: 0.3303 - mae: 2.7662 - mse: 10.4198 - mape: 7455044.5000 - val_loss: 2.7676 - val_rmse: 3.2276 - val_r2: 0.3293 - val_mae: 2.7676 - val_mse: 10.4174 - val_mape: 7684968.5000\n",
      "Epoch 66/100\n",
      "26215/26215 [==============================] - 152s 6ms/step - loss: 2.7644 - rmse: 3.2257 - r2: 0.3313 - mae: 2.7644 - mse: 10.4050 - mape: 7453985.5000 - val_loss: 2.7658 - val_rmse: 3.2255 - val_r2: 0.3301 - val_mae: 2.7658 - val_mse: 10.4037 - val_mape: 7684971.5000\n",
      "Epoch 67/100\n",
      "26215/26215 [==============================] - 149s 6ms/step - loss: 2.7626 - rmse: 3.2236 - r2: 0.3321 - mae: 2.7626 - mse: 10.3915 - mape: 7454337.0000 - val_loss: 2.7640 - val_rmse: 3.2233 - val_r2: 0.3310 - val_mae: 2.7640 - val_mse: 10.3898 - val_mape: 7684850.5000\n",
      "Epoch 68/100\n",
      "26215/26215 [==============================] - 146s 6ms/step - loss: 2.7607 - rmse: 3.2216 - r2: 0.3330 - mae: 2.7607 - mse: 10.3786 - mape: 7455505.0000 - val_loss: 2.7621 - val_rmse: 3.2210 - val_r2: 0.3320 - val_mae: 2.7621 - val_mse: 10.3750 - val_mape: 7683791.0000\n",
      "Epoch 69/100\n",
      "26215/26215 [==============================] - 149s 6ms/step - loss: 2.7589 - rmse: 3.2191 - r2: 0.3340 - mae: 2.7589 - mse: 10.3625 - mape: 7453002.0000 - val_loss: 2.7603 - val_rmse: 3.2189 - val_r2: 0.3329 - val_mae: 2.7603 - val_mse: 10.3613 - val_mape: 7683951.5000\n",
      "Epoch 70/100\n",
      "26215/26215 [==============================] - 155s 6ms/step - loss: 2.7571 - rmse: 3.2171 - r2: 0.3348 - mae: 2.7571 - mse: 10.3494 - mape: 7453920.0000 - val_loss: 2.7585 - val_rmse: 3.2167 - val_r2: 0.3338 - val_mae: 2.7585 - val_mse: 10.3474 - val_mape: 7683909.0000\n",
      "Epoch 71/100\n",
      "26215/26215 [==============================] - 153s 6ms/step - loss: 2.7552 - rmse: 3.2148 - r2: 0.3358 - mae: 2.7552 - mse: 10.3351 - mape: 7453390.0000 - val_loss: 2.7566 - val_rmse: 3.2146 - val_r2: 0.3347 - val_mae: 2.7566 - val_mse: 10.3335 - val_mape: 7683742.5000\n",
      "Epoch 72/100\n",
      "26215/26215 [==============================] - 155s 6ms/step - loss: 2.7534 - rmse: 3.2127 - r2: 0.3367 - mae: 2.7534 - mse: 10.3212 - mape: 7453085.5000 - val_loss: 2.7548 - val_rmse: 3.2125 - val_r2: 0.3355 - val_mae: 2.7548 - val_mse: 10.3199 - val_mape: 7683901.5000\n",
      "Epoch 73/100\n",
      "26215/26215 [==============================] - 153s 6ms/step - loss: 2.7516 - rmse: 3.2106 - r2: 0.3375 - mae: 2.7516 - mse: 10.3080 - mape: 7453695.5000 - val_loss: 2.7530 - val_rmse: 3.2103 - val_r2: 0.3364 - val_mae: 2.7530 - val_mse: 10.3060 - val_mape: 7683666.5000\n",
      "Epoch 74/100\n",
      "26215/26215 [==============================] - 154s 6ms/step - loss: 2.7497 - rmse: 3.2084 - r2: 0.3384 - mae: 2.7497 - mse: 10.2939 - mape: 7453473.0000 - val_loss: 2.7511 - val_rmse: 3.2081 - val_r2: 0.3373 - val_mae: 2.7511 - val_mse: 10.2918 - val_mape: 7683268.5000\n",
      "Epoch 75/100\n",
      "26215/26215 [==============================] - 155s 6ms/step - loss: 2.7479 - rmse: 3.2061 - r2: 0.3394 - mae: 2.7479 - mse: 10.2792 - mape: 7452605.5000 - val_loss: 2.7493 - val_rmse: 3.2059 - val_r2: 0.3382 - val_mae: 2.7493 - val_mse: 10.2779 - val_mape: 7683175.0000\n",
      "Epoch 76/100\n",
      "26215/26215 [==============================] - 154s 6ms/step - loss: 2.7460 - rmse: 3.2040 - r2: 0.3402 - mae: 2.7460 - mse: 10.2655 - mape: 7452692.0000 - val_loss: 2.7474 - val_rmse: 3.2037 - val_r2: 0.3391 - val_mae: 2.7474 - val_mse: 10.2640 - val_mape: 7683094.0000\n",
      "Epoch 77/100\n",
      "26215/26215 [==============================] - 148s 6ms/step - loss: 2.7442 - rmse: 3.2019 - r2: 0.3411 - mae: 2.7442 - mse: 10.2520 - mape: 7452964.5000 - val_loss: 2.7456 - val_rmse: 3.2016 - val_r2: 0.3400 - val_mae: 2.7456 - val_mse: 10.2503 - val_mape: 7683137.5000\n",
      "Epoch 78/100\n",
      "26215/26215 [==============================] - 155s 6ms/step - loss: 2.7423 - rmse: 3.1998 - r2: 0.3420 - mae: 2.7423 - mse: 10.2388 - mape: 7453550.0000 - val_loss: 2.7437 - val_rmse: 3.1995 - val_r2: 0.3409 - val_mae: 2.7437 - val_mse: 10.2366 - val_mape: 7683073.5000\n",
      "Epoch 79/100\n",
      "26215/26215 [==============================] - 155s 6ms/step - loss: 2.7405 - rmse: 3.1975 - r2: 0.3429 - mae: 2.7405 - mse: 10.2243 - mape: 7452555.5000 - val_loss: 2.7419 - val_rmse: 3.1974 - val_r2: 0.3418 - val_mae: 2.7419 - val_mse: 10.2233 - val_mape: 7683185.5000\n",
      "Epoch 80/100\n",
      "26215/26215 [==============================] - 154s 6ms/step - loss: 2.7387 - rmse: 3.1955 - r2: 0.3437 - mae: 2.7387 - mse: 10.2114 - mape: 7453153.0000 - val_loss: 2.7401 - val_rmse: 3.1953 - val_r2: 0.3426 - val_mae: 2.7401 - val_mse: 10.2101 - val_mape: 7683383.0000\n",
      "Epoch 81/100\n",
      "26215/26215 [==============================] - 154s 6ms/step - loss: 2.7369 - rmse: 3.1934 - r2: 0.3446 - mae: 2.7369 - mse: 10.1980 - mape: 7453159.0000 - val_loss: 2.7384 - val_rmse: 3.1932 - val_r2: 0.3435 - val_mae: 2.7384 - val_mse: 10.1967 - val_mape: 7683303.0000\n",
      "Epoch 82/100\n",
      "26215/26215 [==============================] - 153s 6ms/step - loss: 2.7351 - rmse: 3.1914 - r2: 0.3454 - mae: 2.7351 - mse: 10.1851 - mape: 7453470.0000 - val_loss: 2.7366 - val_rmse: 3.1912 - val_r2: 0.3443 - val_mae: 2.7366 - val_mse: 10.1835 - val_mape: 7683076.5000\n",
      "Epoch 83/100\n",
      "26215/26215 [==============================] - 153s 6ms/step - loss: 2.7334 - rmse: 3.1894 - r2: 0.3462 - mae: 2.7334 - mse: 10.1724 - mape: 7453963.0000 - val_loss: 2.7348 - val_rmse: 3.1891 - val_r2: 0.3452 - val_mae: 2.7348 - val_mse: 10.1705 - val_mape: 7683026.0000\n",
      "Epoch 84/100\n",
      "26215/26215 [==============================] - 152s 6ms/step - loss: 2.7316 - rmse: 3.1872 - r2: 0.3471 - mae: 2.7316 - mse: 10.1583 - mape: 7452573.0000 - val_loss: 2.7331 - val_rmse: 3.1871 - val_r2: 0.3460 - val_mae: 2.7331 - val_mse: 10.1579 - val_mape: 7683253.5000\n",
      "Epoch 85/100\n",
      "26215/26215 [==============================] - 153s 6ms/step - loss: 2.7299 - rmse: 3.1853 - r2: 0.3479 - mae: 2.7299 - mse: 10.1460 - mape: 7453159.5000 - val_loss: 2.7314 - val_rmse: 3.1852 - val_r2: 0.3468 - val_mae: 2.7314 - val_mse: 10.1454 - val_mape: 7683578.5000\n",
      "Epoch 86/100\n",
      "26215/26215 [==============================] - 154s 6ms/step - loss: 2.7282 - rmse: 3.1833 - r2: 0.3487 - mae: 2.7282 - mse: 10.1336 - mape: 7453328.0000 - val_loss: 2.7297 - val_rmse: 3.1832 - val_r2: 0.3476 - val_mae: 2.7297 - val_mse: 10.1328 - val_mape: 7683469.0000\n",
      "Epoch 87/100\n",
      "26215/26215 [==============================] - 149s 6ms/step - loss: 2.7265 - rmse: 3.1815 - r2: 0.3495 - mae: 2.7265 - mse: 10.1217 - mape: 7454071.5000 - val_loss: 2.7280 - val_rmse: 3.1813 - val_r2: 0.3484 - val_mae: 2.7280 - val_mse: 10.1204 - val_mape: 7683376.5000\n"
     ]
    },
    {
     "name": "stdout",
     "output_type": "stream",
     "text": [
      "Epoch 88/100\n",
      "26215/26215 [==============================] - 152s 6ms/step - loss: 2.7248 - rmse: 3.1795 - r2: 0.3503 - mae: 2.7248 - mse: 10.1093 - mape: 7454080.5000 - val_loss: 2.7264 - val_rmse: 3.1793 - val_r2: 0.3492 - val_mae: 2.7264 - val_mse: 10.1080 - val_mape: 7683179.0000\n",
      "Epoch 89/100\n",
      "26215/26215 [==============================] - 146s 6ms/step - loss: 2.7232 - rmse: 3.1775 - r2: 0.3511 - mae: 2.7232 - mse: 10.0964 - mape: 7453178.0000 - val_loss: 2.7247 - val_rmse: 3.1774 - val_r2: 0.3500 - val_mae: 2.7247 - val_mse: 10.0960 - val_mape: 7683339.0000\n",
      "Epoch 90/100\n",
      "26215/26215 [==============================] - 151s 6ms/step - loss: 2.7216 - rmse: 3.1755 - r2: 0.3519 - mae: 2.7216 - mse: 10.0838 - mape: 7452533.0000 - val_loss: 2.7231 - val_rmse: 3.1756 - val_r2: 0.3507 - val_mae: 2.7231 - val_mse: 10.0845 - val_mape: 7683780.5000\n",
      "Epoch 91/100\n",
      "26215/26215 [==============================] - 154s 6ms/step - loss: 2.7200 - rmse: 3.1738 - r2: 0.3526 - mae: 2.7200 - mse: 10.0732 - mape: 7454072.0000 - val_loss: 2.7215 - val_rmse: 3.1737 - val_r2: 0.3515 - val_mae: 2.7215 - val_mse: 10.0726 - val_mape: 7683758.0000\n",
      "Epoch 92/100\n",
      "26215/26215 [==============================] - 152s 6ms/step - loss: 2.7184 - rmse: 3.1720 - r2: 0.3533 - mae: 2.7184 - mse: 10.0618 - mape: 7454504.5000 - val_loss: 2.7199 - val_rmse: 3.1719 - val_r2: 0.3522 - val_mae: 2.7199 - val_mse: 10.0608 - val_mape: 7683581.0000\n",
      "Epoch 93/100\n",
      "26215/26215 [==============================] - 154s 6ms/step - loss: 2.7168 - rmse: 3.1700 - r2: 0.3541 - mae: 2.7168 - mse: 10.0491 - mape: 7453340.0000 - val_loss: 2.7184 - val_rmse: 3.1701 - val_r2: 0.3529 - val_mae: 2.7184 - val_mse: 10.0496 - val_mape: 7683965.0000\n",
      "Epoch 94/100\n",
      "26215/26215 [==============================] - 155s 6ms/step - loss: 2.7152 - rmse: 3.1683 - r2: 0.3549 - mae: 2.7152 - mse: 10.0378 - mape: 7453528.0000 - val_loss: 2.7168 - val_rmse: 3.1684 - val_r2: 0.3536 - val_mae: 2.7168 - val_mse: 10.0389 - val_mape: 7684799.0000\n",
      "Epoch 95/100\n",
      "26215/26215 [==============================] - 155s 6ms/step - loss: 2.7137 - rmse: 3.1667 - r2: 0.3555 - mae: 2.7137 - mse: 10.0277 - mape: 7455015.0000 - val_loss: 2.7153 - val_rmse: 3.1666 - val_r2: 0.3544 - val_mae: 2.7153 - val_mse: 10.0276 - val_mape: 7684749.0000\n",
      "Epoch 96/100\n",
      "26215/26215 [==============================] - 155s 6ms/step - loss: 2.7122 - rmse: 3.1649 - r2: 0.3562 - mae: 2.7122 - mse: 10.0165 - mape: 7454888.0000 - val_loss: 2.7138 - val_rmse: 3.1649 - val_r2: 0.3551 - val_mae: 2.7138 - val_mse: 10.0167 - val_mape: 7685055.5000\n",
      "Epoch 97/100\n",
      "26215/26215 [==============================] - 143s 5ms/step - loss: 2.7107 - rmse: 3.1631 - r2: 0.3570 - mae: 2.7107 - mse: 10.0050 - mape: 7454432.0000 - val_loss: 2.7124 - val_rmse: 3.1633 - val_r2: 0.3557 - val_mae: 2.7124 - val_mse: 10.0064 - val_mape: 7685749.0000\n",
      "Epoch 98/100\n",
      "26215/26215 [==============================] - 146s 6ms/step - loss: 2.7093 - rmse: 3.1617 - r2: 0.3575 - mae: 2.7093 - mse: 9.9962 - mape: 7456632.0000 - val_loss: 2.7109 - val_rmse: 3.1616 - val_r2: 0.3564 - val_mae: 2.7109 - val_mse: 9.9956 - val_mape: 7685735.0000\n",
      "Epoch 99/100\n",
      "26215/26215 [==============================] - 155s 6ms/step - loss: 2.7078 - rmse: 3.1598 - r2: 0.3583 - mae: 2.7078 - mse: 9.9846 - mape: 7455869.0000 - val_loss: 2.7095 - val_rmse: 3.1599 - val_r2: 0.3571 - val_mae: 2.7095 - val_mse: 9.9852 - val_mape: 7686163.5000\n",
      "Epoch 100/100\n",
      "26215/26215 [==============================] - 150s 6ms/step - loss: 2.7064 - rmse: 3.1582 - r2: 0.3589 - mae: 2.7064 - mse: 9.9743 - mape: 7456413.0000 - val_loss: 2.7080 - val_rmse: 3.1583 - val_r2: 0.3577 - val_mae: 2.7080 - val_mse: 9.9750 - val_mape: 7686620.5000\n"
     ]
    }
   ],
   "source": [
    "tf.random.set_seed(42)\n",
    "\n",
    "model_7 = tf.keras.Sequential([tf.keras.layers.LSTM(20,activation= 'relu',return_sequences=True, input_shape=(3,1)),\n",
    "                               tf.keras.layers.LSTM(10,activation='linear'),\n",
    "                               tf.keras.layers.Dense(10),\n",
    "                               tf.keras.layers.Dense(1)])\n",
    "\n",
    "model_7.compile(loss = tf.keras.losses.mae,\n",
    "                optimizer = tf.keras.optimizers.legacy.Adam(learning_rate=0.001,decay=0.01),\n",
    "                metrics=[tf.keras.metrics.RootMeanSquaredError(name='rmse'),\n",
    "                         tfa.metrics.RSquare(name='r2'),'mae','mse','mape'])\n",
    "\n",
    "history_7 = model_7.fit(X_train,Y_train,batch_size = 32,epochs=100,validation_data=(X_test,Y_test),callbacks = callback)"
   ]
  },
  {
   "cell_type": "code",
   "execution_count": 32,
   "id": "31b9603e",
   "metadata": {},
   "outputs": [
    {
     "data": {
      "image/png": "[encoded data removed]",
      "text/plain": [
       "<Figure size 432x288 with 1 Axes>"
      ]
     },
     "metadata": {
      "needs_background": "light"
     },
     "output_type": "display_data"
    }
   ],
   "source": [
    "plot_his(history_7)"
   ]
  },
  {
   "cell_type": "code",
   "execution_count": 33,
   "id": "94322687",
   "metadata": {},
   "outputs": [
    {
     "name": "stdout",
     "output_type": "stream",
     "text": [
      "6554/6554 [==============================] - 25s 3ms/step\n"
     ]
    }
   ],
   "source": [
    "prediction_7 = model_7.predict(X_test)"
   ]
  },
  {
   "cell_type": "code",
   "execution_count": 34,
   "id": "57596503",
   "metadata": {},
   "outputs": [
    {
     "name": "stdout",
     "output_type": "stream",
     "text": [
      "6554/6554 [==============================] - 26s 3ms/step - loss: 2.7080 - rmse: 3.1583 - r2: 0.3577 - mae: 2.7080 - mse: 9.9750 - mape: 7686620.5000\n"
     ]
    },
    {
     "data": {
      "text/plain": [
       "[2.708031415939331,\n",
       " 3.158327341079712,\n",
       " 0.3577430248260498,\n",
       " 2.708031415939331,\n",
       " 9.975031852722168,\n",
       " 7686620.5]"
      ]
     },
     "execution_count": 34,
     "metadata": {},
     "output_type": "execute_result"
    }
   ],
   "source": [
    "model_7.evaluate(X_test,Y_test)"
   ]
  },
  {
   "cell_type": "code",
   "execution_count": 35,
   "id": "fb00c9b2",
   "metadata": {},
   "outputs": [
    {
     "name": "stdout",
     "output_type": "stream",
     "text": [
      "AIC:  6318.133\n"
     ]
    }
   ],
   "source": [
    "AIC_value(model_7,prediction_7,Y_test)"
   ]
  },
  {
   "cell_type": "code",
   "execution_count": 36,
   "id": "45a0418b",
   "metadata": {},
   "outputs": [
    {
     "name": "stdout",
     "output_type": "stream",
     "text": [
      "Model: \"sequential_2\"\n",
      "_________________________________________________________________\n",
      " Layer (type)                Output Shape              Param #   \n",
      "=================================================================\n",
      " lstm_4 (LSTM)               (None, 3, 20)             1760      \n",
      "                                                                 \n",
      " lstm_5 (LSTM)               (None, 10)                1240      \n",
      "                                                                 \n",
      " dense_3 (Dense)             (None, 10)                110       \n",
      "                                                                 \n",
      " dense_4 (Dense)             (None, 1)                 11        \n",
      "                                                                 \n",
      "=================================================================\n",
      "Total params: 3121 (12.19 KB)\n",
      "Trainable params: 3121 (12.19 KB)\n",
      "Non-trainable params: 0 (0.00 Byte)\n",
      "_________________________________________________________________\n"
     ]
    }
   ],
   "source": [
    "model_7.summary()"
   ]
  },
  {
   "cell_type": "code",
   "execution_count": 37,
   "id": "0389ed33",
   "metadata": {},
   "outputs": [
    {
     "name": "stderr",
     "output_type": "stream",
     "text": [
      "C:\\Users\\91987\\anaconda3\\lib\\site-packages\\keras\\src\\engine\\training.py:3000: UserWarning: You are saving your model as an HDF5 file via `model.save()`. This file format is considered legacy. We recommend using instead the native Keras format, e.g. `model.save('my_model.keras')`.\n",
      "  saving_api.save_model(\n"
     ]
    }
   ],
   "source": [
    "model_7.save('Saved_models/model_7_SOEesti.h5')"
   ]
  },
  {
   "cell_type": "code",
   "execution_count": null,
   "id": "df91c6c9",
   "metadata": {},
   "outputs": [],
   "source": []
  },
  {
   "cell_type": "code",
   "execution_count": null,
   "id": "8ed032b9",
   "metadata": {},
   "outputs": [],
   "source": []
  },
  {
   "cell_type": "code",
   "execution_count": 38,
   "id": "465050f2",
   "metadata": {},
   "outputs": [
    {
     "name": "stdout",
     "output_type": "stream",
     "text": [
      "Epoch 1/100\n",
      "26215/26215 [==============================] - 188s 7ms/step - loss: 0.4020 - rmse: 0.8379 - r2: 0.9549 - mae: 0.4020 - mse: 0.7020 - mape: 566040.1875 - val_loss: 0.2472 - val_rmse: 0.3791 - val_r2: 0.9907 - val_mae: 0.2472 - val_mse: 0.1437 - val_mape: 211516.0625\n",
      "Epoch 2/100\n",
      "26215/26215 [==============================] - 196s 7ms/step - loss: 0.2285 - rmse: 0.3611 - r2: 0.9916 - mae: 0.2285 - mse: 0.1304 - mape: 213511.4688 - val_loss: 0.2162 - val_rmse: 0.3508 - val_r2: 0.9921 - val_mae: 0.2162 - val_mse: 0.1231 - val_mape: 208657.1094\n",
      "Epoch 3/100\n",
      "26215/26215 [==============================] - 191s 7ms/step - loss: 0.2073 - rmse: 0.3444 - r2: 0.9924 - mae: 0.2073 - mse: 0.1186 - mape: 204177.4531 - val_loss: 0.2010 - val_rmse: 0.3386 - val_r2: 0.9926 - val_mae: 0.2010 - val_mse: 0.1147 - val_mape: 220578.2188\n",
      "Epoch 4/100\n",
      "26215/26215 [==============================] - 188s 7ms/step - loss: 0.1964 - rmse: 0.3311 - r2: 0.9930 - mae: 0.1964 - mse: 0.1096 - mape: 209692.2344 - val_loss: 0.1913 - val_rmse: 0.3235 - val_r2: 0.9933 - val_mae: 0.1913 - val_mse: 0.1046 - val_mape: 224444.0000\n",
      "Epoch 5/100\n",
      "26215/26215 [==============================] - 189s 7ms/step - loss: 0.1871 - rmse: 0.3179 - r2: 0.9935 - mae: 0.1871 - mse: 0.1010 - mape: 220398.4219 - val_loss: 0.1828 - val_rmse: 0.3124 - val_r2: 0.9937 - val_mae: 0.1828 - val_mse: 0.0976 - val_mape: 226643.4375\n",
      "Epoch 6/100\n",
      "26215/26215 [==============================] - 190s 7ms/step - loss: 0.1788 - rmse: 0.3063 - r2: 0.9940 - mae: 0.1788 - mse: 0.0938 - mape: 224211.7344 - val_loss: 0.1754 - val_rmse: 0.3004 - val_r2: 0.9942 - val_mae: 0.1754 - val_mse: 0.0902 - val_mape: 239232.3438\n",
      "Epoch 7/100\n",
      "26215/26215 [==============================] - 188s 7ms/step - loss: 0.1719 - rmse: 0.2965 - r2: 0.9943 - mae: 0.1719 - mse: 0.0879 - mape: 231387.7812 - val_loss: 0.1688 - val_rmse: 0.2931 - val_r2: 0.9945 - val_mae: 0.1688 - val_mse: 0.0859 - val_mape: 248837.8125\n",
      "Epoch 8/100\n",
      "26215/26215 [==============================] - 124s 5ms/step - loss: 0.1660 - rmse: 0.2881 - r2: 0.9947 - mae: 0.1660 - mse: 0.0830 - mape: 240550.9062 - val_loss: 0.1635 - val_rmse: 0.2833 - val_r2: 0.9948 - val_mae: 0.1635 - val_mse: 0.0802 - val_mape: 252537.4531\n",
      "Epoch 9/100\n",
      "26215/26215 [==============================] - 141s 5ms/step - loss: 0.1609 - rmse: 0.2800 - r2: 0.9950 - mae: 0.1609 - mse: 0.0784 - mape: 248950.0469 - val_loss: 0.1585 - val_rmse: 0.2767 - val_r2: 0.9951 - val_mae: 0.1585 - val_mse: 0.0766 - val_mape: 261597.0781\n",
      "Epoch 10/100\n",
      "26215/26215 [==============================] - 137s 5ms/step - loss: 0.1563 - rmse: 0.2722 - r2: 0.9952 - mae: 0.1563 - mse: 0.0741 - mape: 244584.6094 - val_loss: 0.1548 - val_rmse: 0.2688 - val_r2: 0.9953 - val_mae: 0.1548 - val_mse: 0.0723 - val_mape: 251512.4062\n",
      "Epoch 11/100\n",
      "26215/26215 [==============================] - 130s 5ms/step - loss: 0.1522 - rmse: 0.2647 - r2: 0.9955 - mae: 0.1522 - mse: 0.0700 - mape: 234612.4062 - val_loss: 0.1504 - val_rmse: 0.2616 - val_r2: 0.9956 - val_mae: 0.1504 - val_mse: 0.0685 - val_mape: 241875.2500\n",
      "Epoch 12/100\n",
      "26215/26215 [==============================] - 128s 5ms/step - loss: 0.1484 - rmse: 0.2580 - r2: 0.9957 - mae: 0.1484 - mse: 0.0666 - mape: 225779.9688 - val_loss: 0.1468 - val_rmse: 0.2552 - val_r2: 0.9958 - val_mae: 0.1468 - val_mse: 0.0651 - val_mape: 229819.2812\n",
      "Epoch 13/100\n",
      "26215/26215 [==============================] - 133s 5ms/step - loss: 0.1450 - rmse: 0.2521 - r2: 0.9959 - mae: 0.1450 - mse: 0.0636 - mape: 218591.2812 - val_loss: 0.1436 - val_rmse: 0.2497 - val_r2: 0.9960 - val_mae: 0.1436 - val_mse: 0.0624 - val_mape: 224233.6875\n",
      "Epoch 14/100\n",
      "26215/26215 [==============================] - 137s 5ms/step - loss: 0.1419 - rmse: 0.2467 - r2: 0.9961 - mae: 0.1419 - mse: 0.0609 - mape: 209315.4062 - val_loss: 0.1408 - val_rmse: 0.2447 - val_r2: 0.9961 - val_mae: 0.1408 - val_mse: 0.0599 - val_mape: 219845.3438\n",
      "Epoch 15/100\n",
      "26215/26215 [==============================] - 139s 5ms/step - loss: 0.1390 - rmse: 0.2415 - r2: 0.9963 - mae: 0.1390 - mse: 0.0583 - mape: 196360.8750 - val_loss: 0.1378 - val_rmse: 0.2391 - val_r2: 0.9963 - val_mae: 0.1378 - val_mse: 0.0572 - val_mape: 197668.2812\n",
      "Epoch 16/100\n",
      "26215/26215 [==============================] - 133s 5ms/step - loss: 0.1363 - rmse: 0.2363 - r2: 0.9964 - mae: 0.1363 - mse: 0.0558 - mape: 184436.9219 - val_loss: 0.1352 - val_rmse: 0.2340 - val_r2: 0.9965 - val_mae: 0.1352 - val_mse: 0.0547 - val_mape: 191683.2500\n",
      "Epoch 17/100\n",
      "26215/26215 [==============================] - 135s 5ms/step - loss: 0.1337 - rmse: 0.2315 - r2: 0.9966 - mae: 0.1337 - mse: 0.0536 - mape: 179516.0156 - val_loss: 0.1330 - val_rmse: 0.2292 - val_r2: 0.9966 - val_mae: 0.1330 - val_mse: 0.0525 - val_mape: 183299.3906\n",
      "Epoch 18/100\n",
      "26215/26215 [==============================] - 132s 5ms/step - loss: 0.1314 - rmse: 0.2269 - r2: 0.9967 - mae: 0.1314 - mse: 0.0515 - mape: 178010.6719 - val_loss: 0.1305 - val_rmse: 0.2247 - val_r2: 0.9967 - val_mae: 0.1305 - val_mse: 0.0505 - val_mape: 186587.0469\n",
      "Epoch 19/100\n",
      "26215/26215 [==============================] - 132s 5ms/step - loss: 0.1292 - rmse: 0.2228 - r2: 0.9968 - mae: 0.1292 - mse: 0.0496 - mape: 177209.4531 - val_loss: 0.1284 - val_rmse: 0.2211 - val_r2: 0.9969 - val_mae: 0.1284 - val_mse: 0.0489 - val_mape: 187487.0469\n",
      "Epoch 20/100\n",
      "26215/26215 [==============================] - 133s 5ms/step - loss: 0.1272 - rmse: 0.2190 - r2: 0.9969 - mae: 0.1272 - mse: 0.0480 - mape: 176934.8438 - val_loss: 0.1264 - val_rmse: 0.2174 - val_r2: 0.9970 - val_mae: 0.1264 - val_mse: 0.0473 - val_mape: 186904.0625\n",
      "Epoch 21/100\n",
      "26215/26215 [==============================] - 126s 5ms/step - loss: 0.1253 - rmse: 0.2155 - r2: 0.9970 - mae: 0.1253 - mse: 0.0464 - mape: 177084.9219 - val_loss: 0.1246 - val_rmse: 0.2137 - val_r2: 0.9971 - val_mae: 0.1246 - val_mse: 0.0457 - val_mape: 189520.9844\n",
      "Epoch 22/100\n",
      "26215/26215 [==============================] - 129s 5ms/step - loss: 0.1235 - rmse: 0.2121 - r2: 0.9971 - mae: 0.1235 - mse: 0.0450 - mape: 177896.1250 - val_loss: 0.1229 - val_rmse: 0.2107 - val_r2: 0.9971 - val_mae: 0.1229 - val_mse: 0.0444 - val_mape: 183500.5469\n",
      "Epoch 23/100\n",
      "26215/26215 [==============================] - 132s 5ms/step - loss: 0.1218 - rmse: 0.2090 - r2: 0.9972 - mae: 0.1218 - mse: 0.0437 - mape: 178240.3125 - val_loss: 0.1217 - val_rmse: 0.2076 - val_r2: 0.9972 - val_mae: 0.1217 - val_mse: 0.0431 - val_mape: 188142.9844\n",
      "Epoch 24/100\n",
      "26215/26215 [==============================] - 126s 5ms/step - loss: 0.1203 - rmse: 0.2061 - r2: 0.9973 - mae: 0.1203 - mse: 0.0425 - mape: 178663.6875 - val_loss: 0.1204 - val_rmse: 0.2051 - val_r2: 0.9973 - val_mae: 0.1204 - val_mse: 0.0421 - val_mape: 187065.9062\n",
      "Epoch 25/100\n",
      "26215/26215 [==============================] - 136s 5ms/step - loss: 0.1188 - rmse: 0.2034 - r2: 0.9973 - mae: 0.1188 - mse: 0.0414 - mape: 179495.6406 - val_loss: 0.1184 - val_rmse: 0.2023 - val_r2: 0.9974 - val_mae: 0.1184 - val_mse: 0.0409 - val_mape: 188973.9531\n",
      "Epoch 26/100\n",
      "26215/26215 [==============================] - 133s 5ms/step - loss: 0.1174 - rmse: 0.2008 - r2: 0.9974 - mae: 0.1174 - mse: 0.0403 - mape: 180137.6094 - val_loss: 0.1172 - val_rmse: 0.1996 - val_r2: 0.9974 - val_mae: 0.1172 - val_mse: 0.0398 - val_mape: 193949.7031\n",
      "Epoch 27/100\n",
      "26215/26215 [==============================] - 132s 5ms/step - loss: 0.1160 - rmse: 0.1985 - r2: 0.9975 - mae: 0.1160 - mse: 0.0394 - mape: 180726.7344 - val_loss: 0.1157 - val_rmse: 0.1971 - val_r2: 0.9975 - val_mae: 0.1157 - val_mse: 0.0388 - val_mape: 192331.7188\n",
      "Epoch 28/100\n",
      "26215/26215 [==============================] - 131s 5ms/step - loss: 0.1148 - rmse: 0.1962 - r2: 0.9975 - mae: 0.1148 - mse: 0.0385 - mape: 181176.2500 - val_loss: 0.1146 - val_rmse: 0.1950 - val_r2: 0.9976 - val_mae: 0.1146 - val_mse: 0.0380 - val_mape: 191410.2344\n",
      "Epoch 29/100\n",
      "26215/26215 [==============================] - 124s 5ms/step - loss: 0.1136 - rmse: 0.1940 - r2: 0.9976 - mae: 0.1136 - mse: 0.0376 - mape: 181675.7188 - val_loss: 0.1132 - val_rmse: 0.1928 - val_r2: 0.9976 - val_mae: 0.1132 - val_mse: 0.0372 - val_mape: 191222.7188\n",
      "Epoch 30/100\n"
     ]
    },
    {
     "name": "stdout",
     "output_type": "stream",
     "text": [
      "26215/26215 [==============================] - 124s 5ms/step - loss: 0.1124 - rmse: 0.1919 - r2: 0.9976 - mae: 0.1124 - mse: 0.0368 - mape: 181725.9531 - val_loss: 0.1121 - val_rmse: 0.1908 - val_r2: 0.9977 - val_mae: 0.1121 - val_mse: 0.0364 - val_mape: 188472.3906\n",
      "Epoch 31/100\n",
      "26215/26215 [==============================] - 123s 5ms/step - loss: 0.1113 - rmse: 0.1899 - r2: 0.9977 - mae: 0.1113 - mse: 0.0361 - mape: 182652.4844 - val_loss: 0.1111 - val_rmse: 0.1892 - val_r2: 0.9977 - val_mae: 0.1111 - val_mse: 0.0358 - val_mape: 192132.7188\n",
      "Epoch 32/100\n",
      "26215/26215 [==============================] - 129s 5ms/step - loss: 0.1102 - rmse: 0.1881 - r2: 0.9977 - mae: 0.1102 - mse: 0.0354 - mape: 182442.5625 - val_loss: 0.1100 - val_rmse: 0.1871 - val_r2: 0.9977 - val_mae: 0.1100 - val_mse: 0.0350 - val_mape: 194320.0625\n",
      "Epoch 33/100\n",
      "26215/26215 [==============================] - 125s 5ms/step - loss: 0.1092 - rmse: 0.1864 - r2: 0.9978 - mae: 0.1092 - mse: 0.0347 - mape: 183644.0469 - val_loss: 0.1091 - val_rmse: 0.1855 - val_r2: 0.9978 - val_mae: 0.1091 - val_mse: 0.0344 - val_mape: 190794.0469\n",
      "Epoch 34/100\n",
      "26215/26215 [==============================] - 125s 5ms/step - loss: 0.1082 - rmse: 0.1847 - r2: 0.9978 - mae: 0.1082 - mse: 0.0341 - mape: 183804.6562 - val_loss: 0.1080 - val_rmse: 0.1837 - val_r2: 0.9978 - val_mae: 0.1080 - val_mse: 0.0338 - val_mape: 192454.1250\n",
      "Epoch 35/100\n",
      "26215/26215 [==============================] - 136s 5ms/step - loss: 0.1073 - rmse: 0.1831 - r2: 0.9978 - mae: 0.1073 - mse: 0.0335 - mape: 183690.9375 - val_loss: 0.1070 - val_rmse: 0.1821 - val_r2: 0.9979 - val_mae: 0.1070 - val_mse: 0.0332 - val_mape: 191041.7969\n",
      "Epoch 36/100\n",
      "26215/26215 [==============================] - 134s 5ms/step - loss: 0.1064 - rmse: 0.1816 - r2: 0.9979 - mae: 0.1064 - mse: 0.0330 - mape: 183964.6875 - val_loss: 0.1062 - val_rmse: 0.1807 - val_r2: 0.9979 - val_mae: 0.1062 - val_mse: 0.0326 - val_mape: 188565.0469\n",
      "Epoch 37/100\n",
      "26215/26215 [==============================] - 3522s 134ms/step - loss: 0.1055 - rmse: 0.1801 - r2: 0.9979 - mae: 0.1055 - mse: 0.0324 - mape: 184013.7812 - val_loss: 0.1052 - val_rmse: 0.1794 - val_r2: 0.9979 - val_mae: 0.1052 - val_mse: 0.0322 - val_mape: 191658.9375\n",
      "Epoch 38/100\n",
      "26215/26215 [==============================] - 120s 5ms/step - loss: 0.1046 - rmse: 0.1787 - r2: 0.9979 - mae: 0.1046 - mse: 0.0319 - mape: 183951.0156 - val_loss: 0.1044 - val_rmse: 0.1779 - val_r2: 0.9980 - val_mae: 0.1044 - val_mse: 0.0317 - val_mape: 198015.9531\n",
      "Epoch 39/100\n",
      "26215/26215 [==============================] - 140s 5ms/step - loss: 0.1038 - rmse: 0.1773 - r2: 0.9980 - mae: 0.1038 - mse: 0.0314 - mape: 184421.5000 - val_loss: 0.1036 - val_rmse: 0.1766 - val_r2: 0.9980 - val_mae: 0.1036 - val_mse: 0.0312 - val_mape: 190126.8594\n",
      "Epoch 40/100\n",
      "26215/26215 [==============================] - 168s 6ms/step - loss: 0.1030 - rmse: 0.1760 - r2: 0.9980 - mae: 0.1030 - mse: 0.0310 - mape: 184222.0000 - val_loss: 0.1031 - val_rmse: 0.1752 - val_r2: 0.9980 - val_mae: 0.1031 - val_mse: 0.0307 - val_mape: 197001.5781\n",
      "Epoch 41/100\n",
      "26215/26215 [==============================] - 160s 6ms/step - loss: 0.1023 - rmse: 0.1748 - r2: 0.9980 - mae: 0.1023 - mse: 0.0305 - mape: 184349.8125 - val_loss: 0.1020 - val_rmse: 0.1740 - val_r2: 0.9981 - val_mae: 0.1020 - val_mse: 0.0303 - val_mape: 193262.3906\n",
      "Epoch 42/100\n",
      "26215/26215 [==============================] - 144s 5ms/step - loss: 0.1015 - rmse: 0.1735 - r2: 0.9981 - mae: 0.1015 - mse: 0.0301 - mape: 184084.3438 - val_loss: 0.1013 - val_rmse: 0.1728 - val_r2: 0.9981 - val_mae: 0.1013 - val_mse: 0.0299 - val_mape: 193310.6875\n",
      "Epoch 43/100\n",
      "26215/26215 [==============================] - 146s 6ms/step - loss: 0.1008 - rmse: 0.1724 - r2: 0.9981 - mae: 0.1008 - mse: 0.0297 - mape: 184150.4062 - val_loss: 0.1008 - val_rmse: 0.1719 - val_r2: 0.9981 - val_mae: 0.1008 - val_mse: 0.0296 - val_mape: 192550.7969\n",
      "Epoch 44/100\n",
      "26215/26215 [==============================] - 143s 5ms/step - loss: 0.1001 - rmse: 0.1713 - r2: 0.9981 - mae: 0.1001 - mse: 0.0293 - mape: 184219.9219 - val_loss: 0.1000 - val_rmse: 0.1706 - val_r2: 0.9981 - val_mae: 0.1000 - val_mse: 0.0291 - val_mape: 190915.1406\n",
      "Epoch 45/100\n",
      "26215/26215 [==============================] - 149s 6ms/step - loss: 0.0995 - rmse: 0.1702 - r2: 0.9981 - mae: 0.0995 - mse: 0.0290 - mape: 183669.5625 - val_loss: 0.0994 - val_rmse: 0.1695 - val_r2: 0.9981 - val_mae: 0.0994 - val_mse: 0.0287 - val_mape: 193077.6250\n",
      "Epoch 46/100\n",
      "26215/26215 [==============================] - 142s 5ms/step - loss: 0.0989 - rmse: 0.1692 - r2: 0.9982 - mae: 0.0989 - mse: 0.0286 - mape: 183230.4531 - val_loss: 0.0987 - val_rmse: 0.1686 - val_r2: 0.9982 - val_mae: 0.0987 - val_mse: 0.0284 - val_mape: 191019.8125\n",
      "Epoch 47/100\n",
      "26215/26215 [==============================] - 146s 6ms/step - loss: 0.0982 - rmse: 0.1682 - r2: 0.9982 - mae: 0.0982 - mse: 0.0283 - mape: 182636.7812 - val_loss: 0.0981 - val_rmse: 0.1677 - val_r2: 0.9982 - val_mae: 0.0981 - val_mse: 0.0281 - val_mape: 189813.5469\n",
      "Epoch 48/100\n",
      "26215/26215 [==============================] - 147s 6ms/step - loss: 0.0977 - rmse: 0.1673 - r2: 0.9982 - mae: 0.0977 - mse: 0.0280 - mape: 181554.2812 - val_loss: 0.0975 - val_rmse: 0.1666 - val_r2: 0.9982 - val_mae: 0.0975 - val_mse: 0.0278 - val_mape: 185738.2031\n",
      "Epoch 49/100\n",
      "26215/26215 [==============================] - 153s 6ms/step - loss: 0.0971 - rmse: 0.1663 - r2: 0.9982 - mae: 0.0971 - mse: 0.0277 - mape: 180251.7031 - val_loss: 0.0970 - val_rmse: 0.1658 - val_r2: 0.9982 - val_mae: 0.0970 - val_mse: 0.0275 - val_mape: 189689.2188\n",
      "Epoch 50/100\n",
      "26215/26215 [==============================] - 143s 5ms/step - loss: 0.0965 - rmse: 0.1655 - r2: 0.9982 - mae: 0.0965 - mse: 0.0274 - mape: 179895.5156 - val_loss: 0.0967 - val_rmse: 0.1649 - val_r2: 0.9982 - val_mae: 0.0967 - val_mse: 0.0272 - val_mape: 191107.4844\n",
      "Epoch 51/100\n",
      "26215/26215 [==============================] - 150s 6ms/step - loss: 0.0960 - rmse: 0.1646 - r2: 0.9983 - mae: 0.0960 - mse: 0.0271 - mape: 178684.2812 - val_loss: 0.0959 - val_rmse: 0.1641 - val_r2: 0.9983 - val_mae: 0.0959 - val_mse: 0.0269 - val_mape: 185552.5781\n",
      "Epoch 52/100\n",
      "26215/26215 [==============================] - 152s 6ms/step - loss: 0.0955 - rmse: 0.1638 - r2: 0.9983 - mae: 0.0955 - mse: 0.0268 - mape: 177533.9219 - val_loss: 0.0954 - val_rmse: 0.1634 - val_r2: 0.9983 - val_mae: 0.0954 - val_mse: 0.0267 - val_mape: 183497.0469\n",
      "Epoch 53/100\n",
      "26215/26215 [==============================] - 152s 6ms/step - loss: 0.0950 - rmse: 0.1631 - r2: 0.9983 - mae: 0.0950 - mse: 0.0266 - mape: 176900.3594 - val_loss: 0.0951 - val_rmse: 0.1628 - val_r2: 0.9983 - val_mae: 0.0951 - val_mse: 0.0265 - val_mape: 183279.6094\n",
      "Epoch 54/100\n",
      "26215/26215 [==============================] - 152s 6ms/step - loss: 0.0946 - rmse: 0.1623 - r2: 0.9983 - mae: 0.0946 - mse: 0.0264 - mape: 176013.8594 - val_loss: 0.0947 - val_rmse: 0.1618 - val_r2: 0.9983 - val_mae: 0.0947 - val_mse: 0.0262 - val_mape: 180144.3125\n",
      "Epoch 55/100\n",
      "26215/26215 [==============================] - 151s 6ms/step - loss: 0.0941 - rmse: 0.1616 - r2: 0.9983 - mae: 0.0941 - mse: 0.0261 - mape: 174753.0938 - val_loss: 0.0940 - val_rmse: 0.1611 - val_r2: 0.9983 - val_mae: 0.0940 - val_mse: 0.0260 - val_mape: 184647.1875\n",
      "Epoch 56/100\n",
      "26215/26215 [==============================] - 150s 6ms/step - loss: 0.0937 - rmse: 0.1609 - r2: 0.9983 - mae: 0.0937 - mse: 0.0259 - mape: 174100.3594 - val_loss: 0.0936 - val_rmse: 0.1605 - val_r2: 0.9983 - val_mae: 0.0936 - val_mse: 0.0258 - val_mape: 182755.9688\n",
      "Epoch 57/100\n",
      "26215/26215 [==============================] - 155s 6ms/step - loss: 0.0933 - rmse: 0.1603 - r2: 0.9983 - mae: 0.0933 - mse: 0.0257 - mape: 173251.8594 - val_loss: 0.0933 - val_rmse: 0.1598 - val_r2: 0.9984 - val_mae: 0.0933 - val_mse: 0.0255 - val_mape: 178034.5000\n",
      "Epoch 58/100\n",
      "26215/26215 [==============================] - 144s 5ms/step - loss: 0.0929 - rmse: 0.1596 - r2: 0.9984 - mae: 0.0929 - mse: 0.0255 - mape: 172312.0469 - val_loss: 0.0928 - val_rmse: 0.1592 - val_r2: 0.9984 - val_mae: 0.0928 - val_mse: 0.0253 - val_mape: 179143.4375\n",
      "Epoch 59/100\n"
     ]
    },
    {
     "name": "stdout",
     "output_type": "stream",
     "text": [
      "26215/26215 [==============================] - 157s 6ms/step - loss: 0.0925 - rmse: 0.1590 - r2: 0.9984 - mae: 0.0925 - mse: 0.0253 - mape: 171596.9844 - val_loss: 0.0926 - val_rmse: 0.1587 - val_r2: 0.9984 - val_mae: 0.0926 - val_mse: 0.0252 - val_mape: 175661.2031\n",
      "Epoch 60/100\n",
      "26215/26215 [==============================] - 141s 5ms/step - loss: 0.0921 - rmse: 0.1584 - r2: 0.9984 - mae: 0.0921 - mse: 0.0251 - mape: 170961.0938 - val_loss: 0.0921 - val_rmse: 0.1580 - val_r2: 0.9984 - val_mae: 0.0921 - val_mse: 0.0250 - val_mape: 179577.0781\n",
      "Epoch 61/100\n",
      "26215/26215 [==============================] - 142s 5ms/step - loss: 0.0918 - rmse: 0.1579 - r2: 0.9984 - mae: 0.0918 - mse: 0.0249 - mape: 170362.0625 - val_loss: 0.0917 - val_rmse: 0.1576 - val_r2: 0.9984 - val_mae: 0.0917 - val_mse: 0.0248 - val_mape: 177727.5469\n",
      "Epoch 62/100\n",
      "26215/26215 [==============================] - 167s 6ms/step - loss: 0.0914 - rmse: 0.1573 - r2: 0.9984 - mae: 0.0914 - mse: 0.0247 - mape: 169833.0156 - val_loss: 0.0914 - val_rmse: 0.1568 - val_r2: 0.9984 - val_mae: 0.0914 - val_mse: 0.0246 - val_mape: 176340.4844\n",
      "Epoch 63/100\n",
      "26215/26215 [==============================] - 148s 6ms/step - loss: 0.0911 - rmse: 0.1567 - r2: 0.9984 - mae: 0.0911 - mse: 0.0246 - mape: 169599.9531 - val_loss: 0.0912 - val_rmse: 0.1564 - val_r2: 0.9984 - val_mae: 0.0912 - val_mse: 0.0245 - val_mape: 177084.0781\n",
      "Epoch 64/100\n",
      "26215/26215 [==============================] - 142s 5ms/step - loss: 0.0907 - rmse: 0.1562 - r2: 0.9984 - mae: 0.0907 - mse: 0.0244 - mape: 169113.7188 - val_loss: 0.0909 - val_rmse: 0.1560 - val_r2: 0.9984 - val_mae: 0.0909 - val_mse: 0.0243 - val_mape: 174977.0625\n",
      "Epoch 65/100\n",
      "26215/26215 [==============================] - 128s 5ms/step - loss: 0.0904 - rmse: 0.1557 - r2: 0.9984 - mae: 0.0904 - mse: 0.0242 - mape: 168967.4844 - val_loss: 0.0904 - val_rmse: 0.1554 - val_r2: 0.9984 - val_mae: 0.0904 - val_mse: 0.0242 - val_mape: 176212.1094\n",
      "Epoch 66/100\n",
      "26215/26215 [==============================] - 154s 6ms/step - loss: 0.0901 - rmse: 0.1552 - r2: 0.9985 - mae: 0.0901 - mse: 0.0241 - mape: 168625.1250 - val_loss: 0.0901 - val_rmse: 0.1549 - val_r2: 0.9985 - val_mae: 0.0901 - val_mse: 0.0240 - val_mape: 174553.7031\n",
      "Epoch 67/100\n",
      "26215/26215 [==============================] - 139s 5ms/step - loss: 0.0898 - rmse: 0.1547 - r2: 0.9985 - mae: 0.0898 - mse: 0.0239 - mape: 168394.0625 - val_loss: 0.0898 - val_rmse: 0.1544 - val_r2: 0.9985 - val_mae: 0.0898 - val_mse: 0.0239 - val_mape: 175814.9688\n",
      "Epoch 68/100\n",
      "26215/26215 [==============================] - 153s 6ms/step - loss: 0.0895 - rmse: 0.1543 - r2: 0.9985 - mae: 0.0895 - mse: 0.0238 - mape: 168159.8281 - val_loss: 0.0896 - val_rmse: 0.1540 - val_r2: 0.9985 - val_mae: 0.0896 - val_mse: 0.0237 - val_mape: 175114.7344\n",
      "Epoch 69/100\n",
      "26215/26215 [==============================] - 147s 6ms/step - loss: 0.0892 - rmse: 0.1538 - r2: 0.9985 - mae: 0.0892 - mse: 0.0237 - mape: 168099.6875 - val_loss: 0.0895 - val_rmse: 0.1535 - val_r2: 0.9985 - val_mae: 0.0895 - val_mse: 0.0236 - val_mape: 176284.8438\n",
      "Epoch 70/100\n",
      "26215/26215 [==============================] - 139s 5ms/step - loss: 0.0890 - rmse: 0.1534 - r2: 0.9985 - mae: 0.0890 - mse: 0.0235 - mape: 167746.7188 - val_loss: 0.0890 - val_rmse: 0.1531 - val_r2: 0.9985 - val_mae: 0.0890 - val_mse: 0.0234 - val_mape: 176038.3438\n",
      "Epoch 71/100\n",
      "26215/26215 [==============================] - 146s 6ms/step - loss: 0.0887 - rmse: 0.1529 - r2: 0.9985 - mae: 0.0887 - mse: 0.0234 - mape: 167607.9844 - val_loss: 0.0887 - val_rmse: 0.1526 - val_r2: 0.9985 - val_mae: 0.0887 - val_mse: 0.0233 - val_mape: 175530.4531\n",
      "Epoch 72/100\n",
      "26215/26215 [==============================] - 155s 6ms/step - loss: 0.0884 - rmse: 0.1525 - r2: 0.9985 - mae: 0.0884 - mse: 0.0233 - mape: 167158.2188 - val_loss: 0.0885 - val_rmse: 0.1521 - val_r2: 0.9985 - val_mae: 0.0885 - val_mse: 0.0231 - val_mape: 177003.9531\n",
      "Epoch 73/100\n",
      "26215/26215 [==============================] - 135s 5ms/step - loss: 0.0882 - rmse: 0.1521 - r2: 0.9985 - mae: 0.0882 - mse: 0.0231 - mape: 167043.1250 - val_loss: 0.0883 - val_rmse: 0.1519 - val_r2: 0.9985 - val_mae: 0.0883 - val_mse: 0.0231 - val_mape: 173209.2812\n",
      "Epoch 74/100\n",
      "26215/26215 [==============================] - 143s 5ms/step - loss: 0.0879 - rmse: 0.1517 - r2: 0.9985 - mae: 0.0879 - mse: 0.0230 - mape: 166973.9375 - val_loss: 0.0880 - val_rmse: 0.1514 - val_r2: 0.9985 - val_mae: 0.0880 - val_mse: 0.0229 - val_mape: 174301.1406\n",
      "Epoch 75/100\n",
      "26215/26215 [==============================] - 129s 5ms/step - loss: 0.0877 - rmse: 0.1513 - r2: 0.9985 - mae: 0.0877 - mse: 0.0229 - mape: 166542.3750 - val_loss: 0.0878 - val_rmse: 0.1510 - val_r2: 0.9985 - val_mae: 0.0878 - val_mse: 0.0228 - val_mape: 172003.0000\n",
      "Epoch 76/100\n",
      "26215/26215 [==============================] - 134s 5ms/step - loss: 0.0874 - rmse: 0.1509 - r2: 0.9985 - mae: 0.0874 - mse: 0.0228 - mape: 166215.8750 - val_loss: 0.0877 - val_rmse: 0.1507 - val_r2: 0.9985 - val_mae: 0.0877 - val_mse: 0.0227 - val_mape: 174121.9219\n",
      "Epoch 77/100\n",
      "26215/26215 [==============================] - 136s 5ms/step - loss: 0.0872 - rmse: 0.1505 - r2: 0.9985 - mae: 0.0872 - mse: 0.0227 - mape: 166016.7500 - val_loss: 0.0873 - val_rmse: 0.1503 - val_r2: 0.9985 - val_mae: 0.0873 - val_mse: 0.0226 - val_mape: 174447.5625\n",
      "Epoch 78/100\n",
      "26215/26215 [==============================] - 136s 5ms/step - loss: 0.0870 - rmse: 0.1502 - r2: 0.9986 - mae: 0.0870 - mse: 0.0226 - mape: 165806.1875 - val_loss: 0.0870 - val_rmse: 0.1499 - val_r2: 0.9986 - val_mae: 0.0870 - val_mse: 0.0225 - val_mape: 172973.9531\n",
      "Epoch 79/100\n",
      "26215/26215 [==============================] - 151s 6ms/step - loss: 0.0868 - rmse: 0.1498 - r2: 0.9986 - mae: 0.0868 - mse: 0.0225 - mape: 165877.6094 - val_loss: 0.0868 - val_rmse: 0.1495 - val_r2: 0.9986 - val_mae: 0.0868 - val_mse: 0.0224 - val_mape: 173395.1719\n",
      "Epoch 80/100\n",
      "26215/26215 [==============================] - 143s 5ms/step - loss: 0.0865 - rmse: 0.1495 - r2: 0.9986 - mae: 0.0865 - mse: 0.0223 - mape: 165439.1094 - val_loss: 0.0866 - val_rmse: 0.1491 - val_r2: 0.9986 - val_mae: 0.0866 - val_mse: 0.0222 - val_mape: 173585.5156\n",
      "Epoch 81/100\n",
      "26215/26215 [==============================] - 152s 6ms/step - loss: 0.0863 - rmse: 0.1491 - r2: 0.9986 - mae: 0.0863 - mse: 0.0222 - mape: 165294.1875 - val_loss: 0.0864 - val_rmse: 0.1490 - val_r2: 0.9986 - val_mae: 0.0864 - val_mse: 0.0222 - val_mape: 170551.4062\n",
      "Epoch 82/100\n",
      "26215/26215 [==============================] - 142s 5ms/step - loss: 0.0861 - rmse: 0.1488 - r2: 0.9986 - mae: 0.0861 - mse: 0.0221 - mape: 165045.7344 - val_loss: 0.0862 - val_rmse: 0.1485 - val_r2: 0.9986 - val_mae: 0.0862 - val_mse: 0.0220 - val_mape: 172266.8594\n",
      "Epoch 83/100\n",
      "26215/26215 [==============================] - 145s 6ms/step - loss: 0.0859 - rmse: 0.1485 - r2: 0.9986 - mae: 0.0859 - mse: 0.0220 - mape: 164978.7188 - val_loss: 0.0860 - val_rmse: 0.1481 - val_r2: 0.9986 - val_mae: 0.0860 - val_mse: 0.0219 - val_mape: 170108.5156\n",
      "Epoch 84/100\n",
      "26215/26215 [==============================] - 133s 5ms/step - loss: 0.0857 - rmse: 0.1482 - r2: 0.9986 - mae: 0.0857 - mse: 0.0219 - mape: 164615.6094 - val_loss: 0.0858 - val_rmse: 0.1478 - val_r2: 0.9986 - val_mae: 0.0858 - val_mse: 0.0218 - val_mape: 172149.8281\n",
      "Epoch 85/100\n",
      "26215/26215 [==============================] - 134s 5ms/step - loss: 0.0855 - rmse: 0.1478 - r2: 0.9986 - mae: 0.0855 - mse: 0.0218 - mape: 164632.7812 - val_loss: 0.0857 - val_rmse: 0.1476 - val_r2: 0.9986 - val_mae: 0.0857 - val_mse: 0.0218 - val_mape: 170802.7969\n",
      "Epoch 86/100\n",
      "26215/26215 [==============================] - 127s 5ms/step - loss: 0.0853 - rmse: 0.1475 - r2: 0.9986 - mae: 0.0853 - mse: 0.0218 - mape: 164430.8594 - val_loss: 0.0854 - val_rmse: 0.1472 - val_r2: 0.9986 - val_mae: 0.0854 - val_mse: 0.0217 - val_mape: 170936.7500\n",
      "Epoch 87/100\n",
      "26215/26215 [==============================] - 144s 5ms/step - loss: 0.0851 - rmse: 0.1472 - r2: 0.9986 - mae: 0.0851 - mse: 0.0217 - mape: 164097.7500 - val_loss: 0.0852 - val_rmse: 0.1469 - val_r2: 0.9986 - val_mae: 0.0852 - val_mse: 0.0216 - val_mape: 171609.5000\n",
      "Epoch 88/100\n"
     ]
    },
    {
     "name": "stdout",
     "output_type": "stream",
     "text": [
      "26215/26215 [==============================] - 124s 5ms/step - loss: 0.0849 - rmse: 0.1469 - r2: 0.9986 - mae: 0.0849 - mse: 0.0216 - mape: 163875.8438 - val_loss: 0.0850 - val_rmse: 0.1466 - val_r2: 0.9986 - val_mae: 0.0850 - val_mse: 0.0215 - val_mape: 168997.0156\n",
      "Epoch 89/100\n",
      "26215/26215 [==============================] - 123s 5ms/step - loss: 0.0847 - rmse: 0.1466 - r2: 0.9986 - mae: 0.0847 - mse: 0.0215 - mape: 163481.2969 - val_loss: 0.0848 - val_rmse: 0.1464 - val_r2: 0.9986 - val_mae: 0.0848 - val_mse: 0.0214 - val_mape: 170306.9844\n",
      "Epoch 90/100\n",
      "26215/26215 [==============================] - 139s 5ms/step - loss: 0.0845 - rmse: 0.1463 - r2: 0.9986 - mae: 0.0845 - mse: 0.0214 - mape: 163493.7500 - val_loss: 0.0846 - val_rmse: 0.1461 - val_r2: 0.9986 - val_mae: 0.0846 - val_mse: 0.0214 - val_mape: 168876.8594\n",
      "Epoch 91/100\n",
      "26215/26215 [==============================] - 125s 5ms/step - loss: 0.0843 - rmse: 0.1460 - r2: 0.9986 - mae: 0.0843 - mse: 0.0213 - mape: 163221.7812 - val_loss: 0.0844 - val_rmse: 0.1458 - val_r2: 0.9986 - val_mae: 0.0844 - val_mse: 0.0213 - val_mape: 167670.0000\n",
      "Epoch 92/100\n",
      "26215/26215 [==============================] - 140s 5ms/step - loss: 0.0842 - rmse: 0.1458 - r2: 0.9986 - mae: 0.0842 - mse: 0.0212 - mape: 162880.8125 - val_loss: 0.0843 - val_rmse: 0.1455 - val_r2: 0.9986 - val_mae: 0.0843 - val_mse: 0.0212 - val_mape: 171816.7188\n",
      "Epoch 93/100\n",
      "26215/26215 [==============================] - 149s 6ms/step - loss: 0.0840 - rmse: 0.1455 - r2: 0.9986 - mae: 0.0840 - mse: 0.0212 - mape: 162919.3750 - val_loss: 0.0841 - val_rmse: 0.1452 - val_r2: 0.9986 - val_mae: 0.0841 - val_mse: 0.0211 - val_mape: 169293.4375\n",
      "Epoch 94/100\n",
      "26215/26215 [==============================] - 138s 5ms/step - loss: 0.0838 - rmse: 0.1452 - r2: 0.9986 - mae: 0.0838 - mse: 0.0211 - mape: 162409.2969 - val_loss: 0.0839 - val_rmse: 0.1450 - val_r2: 0.9986 - val_mae: 0.0839 - val_mse: 0.0210 - val_mape: 170617.0312\n",
      "Epoch 95/100\n",
      "26215/26215 [==============================] - 127s 5ms/step - loss: 0.0836 - rmse: 0.1450 - r2: 0.9986 - mae: 0.0836 - mse: 0.0210 - mape: 162540.0469 - val_loss: 0.0837 - val_rmse: 0.1447 - val_r2: 0.9987 - val_mae: 0.0837 - val_mse: 0.0209 - val_mape: 168226.1406\n",
      "Epoch 96/100\n",
      "26215/26215 [==============================] - 135s 5ms/step - loss: 0.0835 - rmse: 0.1447 - r2: 0.9987 - mae: 0.0835 - mse: 0.0209 - mape: 162131.8906 - val_loss: 0.0836 - val_rmse: 0.1444 - val_r2: 0.9987 - val_mae: 0.0836 - val_mse: 0.0209 - val_mape: 168487.7812\n",
      "Epoch 97/100\n",
      "26215/26215 [==============================] - 128s 5ms/step - loss: 0.0833 - rmse: 0.1444 - r2: 0.9987 - mae: 0.0833 - mse: 0.0209 - mape: 162046.4531 - val_loss: 0.0834 - val_rmse: 0.1443 - val_r2: 0.9987 - val_mae: 0.0834 - val_mse: 0.0208 - val_mape: 167545.9062\n",
      "Epoch 98/100\n",
      "26215/26215 [==============================] - 130s 5ms/step - loss: 0.0831 - rmse: 0.1442 - r2: 0.9987 - mae: 0.0831 - mse: 0.0208 - mape: 161616.8125 - val_loss: 0.0835 - val_rmse: 0.1441 - val_r2: 0.9987 - val_mae: 0.0835 - val_mse: 0.0208 - val_mape: 167359.5156\n",
      "Epoch 99/100\n",
      "26215/26215 [==============================] - 140s 5ms/step - loss: 0.0830 - rmse: 0.1439 - r2: 0.9987 - mae: 0.0830 - mse: 0.0207 - mape: 161467.5781 - val_loss: 0.0831 - val_rmse: 0.1437 - val_r2: 0.9987 - val_mae: 0.0831 - val_mse: 0.0206 - val_mape: 167464.5938\n",
      "Epoch 100/100\n",
      "26215/26215 [==============================] - 141s 5ms/step - loss: 0.0828 - rmse: 0.1437 - r2: 0.9987 - mae: 0.0828 - mse: 0.0206 - mape: 161595.0469 - val_loss: 0.0829 - val_rmse: 0.1435 - val_r2: 0.9987 - val_mae: 0.0829 - val_mse: 0.0206 - val_mape: 166248.6562\n",
      "CPU times: total: 2h 13min 4s\n",
      "Wall time: 4h 53min 58s\n"
     ]
    }
   ],
   "source": [
    "%%time\n",
    "tf.random.set_seed(42)\n",
    "\n",
    "model_8 = tf.keras.Sequential([tf.keras.layers.LSTM(30,activation= 'linear',return_sequences=True, input_shape=(3,1)),\n",
    "                               tf.keras.layers.LSTM(20,activation= 'linear'),\n",
    "                               tf.keras.layers.Dense(10,activation='linear'),\n",
    "                               tf.keras.layers.Dense(1,activation='linear')])\n",
    "\n",
    "model_8.compile(loss = tf.keras.losses.mae,\n",
    "                optimizer = tf.keras.optimizers.legacy.Adam(learning_rate=0.001,decay = 0.001),\n",
    "                metrics=[tf.keras.metrics.RootMeanSquaredError(name='rmse'),\n",
    "                         tfa.metrics.RSquare(name='r2'),'mae','mse','mape'])\n",
    "\n",
    "history_8 = model_8.fit(X_train,Y_train,batch_size=32,epochs=100,validation_data=(X_test,Y_test))"
   ]
  },
  {
   "cell_type": "code",
   "execution_count": 39,
   "id": "59eac165",
   "metadata": {},
   "outputs": [
    {
     "data": {
      "image/png": "[encoded data removed]",
      "text/plain": [
       "<Figure size 432x288 with 1 Axes>"
      ]
     },
     "metadata": {
      "needs_background": "light"
     },
     "output_type": "display_data"
    }
   ],
   "source": [
    "plot_his(history_8)"
   ]
  },
  {
   "cell_type": "code",
   "execution_count": 40,
   "id": "8caa0a53",
   "metadata": {},
   "outputs": [
    {
     "name": "stdout",
     "output_type": "stream",
     "text": [
      "6554/6554 [==============================] - 23s 3ms/step\n"
     ]
    }
   ],
   "source": [
    "prediction_8 = model_8.predict(X_test)"
   ]
  },
  {
   "cell_type": "code",
   "execution_count": 41,
   "id": "367bad36",
   "metadata": {},
   "outputs": [
    {
     "name": "stdout",
     "output_type": "stream",
     "text": [
      "6554/6554 [==============================] - 27s 3ms/step - loss: 0.0829 - rmse: 0.1435 - r2: 0.9987 - mae: 0.0829 - mse: 0.0206 - mape: 166248.6562\n"
     ]
    },
    {
     "data": {
      "text/plain": [
       "[0.08292726427316666,\n",
       " 0.14352339506149292,\n",
       " 0.998673677444458,\n",
       " 0.08292726427316666,\n",
       " 0.020598962903022766,\n",
       " 166248.65625]"
      ]
     },
     "execution_count": 41,
     "metadata": {},
     "output_type": "execute_result"
    }
   ],
   "source": [
    "model_8.evaluate(X_test,Y_test)"
   ]
  },
  {
   "cell_type": "code",
   "execution_count": 42,
   "id": "8a8aba4b",
   "metadata": {},
   "outputs": [
    {
     "name": "stdout",
     "output_type": "stream",
     "text": [
      "AIC:  16372.6875\n"
     ]
    }
   ],
   "source": [
    "AIC_value(model_8,prediction_8, Y_test)"
   ]
  },
  {
   "cell_type": "code",
   "execution_count": 43,
   "id": "ceb333db",
   "metadata": {},
   "outputs": [
    {
     "name": "stderr",
     "output_type": "stream",
     "text": [
      "C:\\Users\\91987\\anaconda3\\lib\\site-packages\\keras\\src\\engine\\training.py:3000: UserWarning: You are saving your model as an HDF5 file via `model.save()`. This file format is considered legacy. We recommend using instead the native Keras format, e.g. `model.save('my_model.keras')`.\n",
      "  saving_api.save_model(\n"
     ]
    }
   ],
   "source": [
    "model_8.save('Saved_models/model_8_SOEesti.h5')"
   ]
  },
  {
   "cell_type": "code",
   "execution_count": null,
   "id": "11fde851",
   "metadata": {},
   "outputs": [],
   "source": []
  },
  {
   "cell_type": "markdown",
   "id": "afa5cd69",
   "metadata": {},
   "source": [
    "# CNN"
   ]
  },
  {
   "cell_type": "code",
   "execution_count": 44,
   "id": "36e79ceb",
   "metadata": {},
   "outputs": [
    {
     "name": "stdout",
     "output_type": "stream",
     "text": [
      "Epoch 1/100\n",
      "26215/26215 [==============================] - 74s 3ms/step - loss: 0.2436 - rmse: 0.6707 - r2: 0.9711 - mae: 0.2436 - mse: 0.4499 - mape: 311435.9688 - val_loss: 0.0899 - val_rmse: 0.1431 - val_r2: 0.9987 - val_mae: 0.0899 - val_mse: 0.0205 - val_mape: 84731.3672\n",
      "Epoch 2/100\n",
      "26215/26215 [==============================] - 64s 2ms/step - loss: 0.0899 - rmse: 0.1429 - r2: 0.9987 - mae: 0.0899 - mse: 0.0204 - mape: 84066.2031 - val_loss: 0.0882 - val_rmse: 0.1416 - val_r2: 0.9987 - val_mae: 0.0882 - val_mse: 0.0200 - val_mape: 68743.1094\n",
      "Epoch 3/100\n",
      "26215/26215 [==============================] - 74s 3ms/step - loss: 0.0887 - rmse: 0.1419 - r2: 0.9987 - mae: 0.0887 - mse: 0.0201 - mape: 74230.1328 - val_loss: 0.0877 - val_rmse: 0.1413 - val_r2: 0.9987 - val_mae: 0.0877 - val_mse: 0.0200 - val_mape: 82296.9922\n",
      "Epoch 4/100\n",
      "26215/26215 [==============================] - 77s 3ms/step - loss: 0.0882 - rmse: 0.1417 - r2: 0.9987 - mae: 0.0882 - mse: 0.0201 - mape: 70642.9297 - val_loss: 0.0876 - val_rmse: 0.1417 - val_r2: 0.9987 - val_mae: 0.0876 - val_mse: 0.0201 - val_mape: 73276.9922\n",
      "Epoch 5/100\n",
      "26215/26215 [==============================] - 62s 2ms/step - loss: 0.0880 - rmse: 0.1416 - r2: 0.9987 - mae: 0.0880 - mse: 0.0201 - mape: 68822.6875 - val_loss: 0.0873 - val_rmse: 0.1414 - val_r2: 0.9987 - val_mae: 0.0873 - val_mse: 0.0200 - val_mape: 67596.7578\n",
      "Epoch 6/100\n",
      "26215/26215 [==============================] - 56s 2ms/step - loss: 0.0878 - rmse: 0.1417 - r2: 0.9987 - mae: 0.0878 - mse: 0.0201 - mape: 67253.8047 - val_loss: 0.0884 - val_rmse: 0.1415 - val_r2: 0.9987 - val_mae: 0.0884 - val_mse: 0.0200 - val_mape: 68442.0391\n",
      "Epoch 7/100\n",
      "26215/26215 [==============================] - 58s 2ms/step - loss: 0.0877 - rmse: 0.1418 - r2: 0.9987 - mae: 0.0877 - mse: 0.0201 - mape: 67553.6641 - val_loss: 0.0879 - val_rmse: 0.1408 - val_r2: 0.9987 - val_mae: 0.0879 - val_mse: 0.0198 - val_mape: 70604.4922\n",
      "Epoch 8/100\n",
      "26215/26215 [==============================] - 81s 3ms/step - loss: 0.0876 - rmse: 0.1418 - r2: 0.9987 - mae: 0.0876 - mse: 0.0201 - mape: 66685.5078 - val_loss: 0.0878 - val_rmse: 0.1411 - val_r2: 0.9987 - val_mae: 0.0878 - val_mse: 0.0199 - val_mape: 69293.8047\n",
      "Epoch 9/100\n",
      "26215/26215 [==============================] - 75s 3ms/step - loss: 0.0875 - rmse: 0.1419 - r2: 0.9987 - mae: 0.0875 - mse: 0.0201 - mape: 65759.1328 - val_loss: 0.0873 - val_rmse: 0.1413 - val_r2: 0.9987 - val_mae: 0.0873 - val_mse: 0.0200 - val_mape: 66677.0234\n",
      "Epoch 10/100\n",
      "26215/26215 [==============================] - 75s 3ms/step - loss: 0.0875 - rmse: 0.1419 - r2: 0.9987 - mae: 0.0875 - mse: 0.0201 - mape: 65491.0430 - val_loss: 0.0871 - val_rmse: 0.1417 - val_r2: 0.9987 - val_mae: 0.0871 - val_mse: 0.0201 - val_mape: 64773.4023\n",
      "Epoch 11/100\n",
      "26215/26215 [==============================] - 59s 2ms/step - loss: 0.0874 - rmse: 0.1420 - r2: 0.9987 - mae: 0.0874 - mse: 0.0202 - mape: 65168.3672 - val_loss: 0.0872 - val_rmse: 0.1412 - val_r2: 0.9987 - val_mae: 0.0872 - val_mse: 0.0199 - val_mape: 67156.7891\n",
      "Epoch 12/100\n",
      "26215/26215 [==============================] - 74s 3ms/step - loss: 0.0874 - rmse: 0.1419 - r2: 0.9987 - mae: 0.0874 - mse: 0.0201 - mape: 64603.0547 - val_loss: 0.0880 - val_rmse: 0.1414 - val_r2: 0.9987 - val_mae: 0.0880 - val_mse: 0.0200 - val_mape: 67468.0938\n",
      "Epoch 13/100\n",
      "26215/26215 [==============================] - 60s 2ms/step - loss: 0.0873 - rmse: 0.1418 - r2: 0.9987 - mae: 0.0873 - mse: 0.0201 - mape: 63781.4805 - val_loss: 0.0871 - val_rmse: 0.1413 - val_r2: 0.9987 - val_mae: 0.0871 - val_mse: 0.0200 - val_mape: 65478.9492\n",
      "Epoch 14/100\n",
      "26215/26215 [==============================] - 59s 2ms/step - loss: 0.0873 - rmse: 0.1417 - r2: 0.9987 - mae: 0.0873 - mse: 0.0201 - mape: 63777.1445 - val_loss: 0.0872 - val_rmse: 0.1412 - val_r2: 0.9987 - val_mae: 0.0872 - val_mse: 0.0199 - val_mape: 65641.5312\n",
      "Epoch 15/100\n",
      "26215/26215 [==============================] - 62s 2ms/step - loss: 0.0873 - rmse: 0.1416 - r2: 0.9987 - mae: 0.0873 - mse: 0.0201 - mape: 63610.7578 - val_loss: 0.0876 - val_rmse: 0.1413 - val_r2: 0.9987 - val_mae: 0.0876 - val_mse: 0.0200 - val_mape: 63800.1719\n",
      "Epoch 16/100\n",
      "26215/26215 [==============================] - 79s 3ms/step - loss: 0.0872 - rmse: 0.1416 - r2: 0.9987 - mae: 0.0872 - mse: 0.0201 - mape: 62810.3125 - val_loss: 0.0870 - val_rmse: 0.1416 - val_r2: 0.9987 - val_mae: 0.0870 - val_mse: 0.0201 - val_mape: 62924.5586\n",
      "Epoch 17/100\n",
      "26215/26215 [==============================] - 79s 3ms/step - loss: 0.0872 - rmse: 0.1417 - r2: 0.9987 - mae: 0.0872 - mse: 0.0201 - mape: 62347.6562 - val_loss: 0.0869 - val_rmse: 0.1417 - val_r2: 0.9987 - val_mae: 0.0869 - val_mse: 0.0201 - val_mape: 62478.7109\n",
      "Epoch 18/100\n",
      "26215/26215 [==============================] - 65s 2ms/step - loss: 0.0872 - rmse: 0.1417 - r2: 0.9987 - mae: 0.0872 - mse: 0.0201 - mape: 62278.9922 - val_loss: 0.0871 - val_rmse: 0.1420 - val_r2: 0.9987 - val_mae: 0.0871 - val_mse: 0.0202 - val_mape: 65735.0234\n",
      "Epoch 19/100\n",
      "26215/26215 [==============================] - 74s 3ms/step - loss: 0.0871 - rmse: 0.1419 - r2: 0.9987 - mae: 0.0871 - mse: 0.0201 - mape: 62333.7656 - val_loss: 0.0869 - val_rmse: 0.1417 - val_r2: 0.9987 - val_mae: 0.0869 - val_mse: 0.0201 - val_mape: 62495.5977\n",
      "Epoch 20/100\n",
      "26215/26215 [==============================] - 69s 3ms/step - loss: 0.0871 - rmse: 0.1420 - r2: 0.9987 - mae: 0.0871 - mse: 0.0202 - mape: 61776.9258 - val_loss: 0.0869 - val_rmse: 0.1416 - val_r2: 0.9987 - val_mae: 0.0869 - val_mse: 0.0201 - val_mape: 62221.2500\n",
      "Epoch 21/100\n",
      "26215/26215 [==============================] - 72s 3ms/step - loss: 0.0871 - rmse: 0.1421 - r2: 0.9987 - mae: 0.0871 - mse: 0.0202 - mape: 61335.1602 - val_loss: 0.0872 - val_rmse: 0.1416 - val_r2: 0.9987 - val_mae: 0.0872 - val_mse: 0.0200 - val_mape: 64407.6250\n",
      "Epoch 22/100\n",
      "26215/26215 [==============================] - 59s 2ms/step - loss: 0.0871 - rmse: 0.1424 - r2: 0.9987 - mae: 0.0871 - mse: 0.0203 - mape: 61134.7070 - val_loss: 0.0870 - val_rmse: 0.1423 - val_r2: 0.9987 - val_mae: 0.0870 - val_mse: 0.0203 - val_mape: 61559.0469\n",
      "Epoch 23/100\n",
      "26215/26215 [==============================] - 58s 2ms/step - loss: 0.0870 - rmse: 0.1426 - r2: 0.9987 - mae: 0.0870 - mse: 0.0203 - mape: 60896.8203 - val_loss: 0.0868 - val_rmse: 0.1428 - val_r2: 0.9987 - val_mae: 0.0868 - val_mse: 0.0204 - val_mape: 60917.9844\n",
      "Epoch 24/100\n",
      "26215/26215 [==============================] - 58s 2ms/step - loss: 0.0870 - rmse: 0.1431 - r2: 0.9987 - mae: 0.0870 - mse: 0.0205 - mape: 60730.7422 - val_loss: 0.0867 - val_rmse: 0.1432 - val_r2: 0.9987 - val_mae: 0.0867 - val_mse: 0.0205 - val_mape: 61018.0156\n",
      "Epoch 25/100\n",
      "26215/26215 [==============================] - 62s 2ms/step - loss: 0.0869 - rmse: 0.1434 - r2: 0.9987 - mae: 0.0869 - mse: 0.0206 - mape: 60333.1133 - val_loss: 0.0869 - val_rmse: 0.1436 - val_r2: 0.9987 - val_mae: 0.0869 - val_mse: 0.0206 - val_mape: 69432.3125\n",
      "Epoch 26/100\n",
      "26215/26215 [==============================] - 68s 3ms/step - loss: 0.0869 - rmse: 0.1436 - r2: 0.9987 - mae: 0.0869 - mse: 0.0206 - mape: 60110.9648 - val_loss: 0.0867 - val_rmse: 0.1436 - val_r2: 0.9987 - val_mae: 0.0867 - val_mse: 0.0206 - val_mape: 60763.7930\n",
      "Epoch 27/100\n",
      "26215/26215 [==============================] - 61s 2ms/step - loss: 0.0868 - rmse: 0.1438 - r2: 0.9987 - mae: 0.0868 - mse: 0.0207 - mape: 60138.0586 - val_loss: 0.0867 - val_rmse: 0.1436 - val_r2: 0.9987 - val_mae: 0.0867 - val_mse: 0.0206 - val_mape: 60506.8984\n",
      "Epoch 28/100\n",
      "26215/26215 [==============================] - 59s 2ms/step - loss: 0.0868 - rmse: 0.1438 - r2: 0.9987 - mae: 0.0868 - mse: 0.0207 - mape: 59757.8086 - val_loss: 0.0866 - val_rmse: 0.1436 - val_r2: 0.9987 - val_mae: 0.0866 - val_mse: 0.0206 - val_mape: 64425.7539\n",
      "Epoch 29/100\n",
      "26215/26215 [==============================] - 58s 2ms/step - loss: 0.0868 - rmse: 0.1438 - r2: 0.9987 - mae: 0.0868 - mse: 0.0207 - mape: 59705.4570 - val_loss: 0.0867 - val_rmse: 0.1435 - val_r2: 0.9987 - val_mae: 0.0867 - val_mse: 0.0206 - val_mape: 62956.0938\n",
      "Epoch 30/100\n",
      "26215/26215 [==============================] - 59s 2ms/step - loss: 0.0867 - rmse: 0.1439 - r2: 0.9987 - mae: 0.0867 - mse: 0.0207 - mape: 59978.7188 - val_loss: 0.0866 - val_rmse: 0.1436 - val_r2: 0.9987 - val_mae: 0.0866 - val_mse: 0.0206 - val_mape: 61357.7109\n"
     ]
    },
    {
     "name": "stdout",
     "output_type": "stream",
     "text": [
      "Epoch 31/100\n",
      "26215/26215 [==============================] - 59s 2ms/step - loss: 0.0867 - rmse: 0.1439 - r2: 0.9987 - mae: 0.0867 - mse: 0.0207 - mape: 59690.2266 - val_loss: 0.0866 - val_rmse: 0.1434 - val_r2: 0.9987 - val_mae: 0.0866 - val_mse: 0.0206 - val_mape: 61402.7188\n",
      "Epoch 32/100\n",
      "26215/26215 [==============================] - 58s 2ms/step - loss: 0.0867 - rmse: 0.1439 - r2: 0.9987 - mae: 0.0867 - mse: 0.0207 - mape: 59704.6289 - val_loss: 0.0865 - val_rmse: 0.1436 - val_r2: 0.9987 - val_mae: 0.0865 - val_mse: 0.0206 - val_mape: 60489.3945\n",
      "Epoch 33/100\n",
      "26215/26215 [==============================] - 60s 2ms/step - loss: 0.0867 - rmse: 0.1439 - r2: 0.9987 - mae: 0.0867 - mse: 0.0207 - mape: 59285.7734 - val_loss: 0.0865 - val_rmse: 0.1437 - val_r2: 0.9987 - val_mae: 0.0865 - val_mse: 0.0207 - val_mape: 63254.0352\n",
      "Epoch 34/100\n",
      "26215/26215 [==============================] - 59s 2ms/step - loss: 0.0867 - rmse: 0.1439 - r2: 0.9987 - mae: 0.0867 - mse: 0.0207 - mape: 59296.6211 - val_loss: 0.0866 - val_rmse: 0.1436 - val_r2: 0.9987 - val_mae: 0.0866 - val_mse: 0.0206 - val_mape: 61259.7305\n",
      "Epoch 35/100\n",
      "26215/26215 [==============================] - 61s 2ms/step - loss: 0.0867 - rmse: 0.1439 - r2: 0.9987 - mae: 0.0867 - mse: 0.0207 - mape: 59664.9805 - val_loss: 0.0865 - val_rmse: 0.1437 - val_r2: 0.9987 - val_mae: 0.0865 - val_mse: 0.0206 - val_mape: 62468.8633\n",
      "Epoch 36/100\n",
      "26215/26215 [==============================] - 59s 2ms/step - loss: 0.0866 - rmse: 0.1439 - r2: 0.9987 - mae: 0.0866 - mse: 0.0207 - mape: 59499.3008 - val_loss: 0.0865 - val_rmse: 0.1436 - val_r2: 0.9987 - val_mae: 0.0865 - val_mse: 0.0206 - val_mape: 60474.1641\n",
      "Epoch 37/100\n",
      "26215/26215 [==============================] - 58s 2ms/step - loss: 0.0866 - rmse: 0.1439 - r2: 0.9987 - mae: 0.0866 - mse: 0.0207 - mape: 58943.9258 - val_loss: 0.0867 - val_rmse: 0.1438 - val_r2: 0.9987 - val_mae: 0.0867 - val_mse: 0.0207 - val_mape: 71753.8750\n",
      "Epoch 38/100\n",
      "26215/26215 [==============================] - 59s 2ms/step - loss: 0.0866 - rmse: 0.1439 - r2: 0.9987 - mae: 0.0866 - mse: 0.0207 - mape: 59212.9336 - val_loss: 0.0867 - val_rmse: 0.1436 - val_r2: 0.9987 - val_mae: 0.0867 - val_mse: 0.0206 - val_mape: 61496.8711\n",
      "Epoch 39/100\n",
      "26215/26215 [==============================] - 58s 2ms/step - loss: 0.0866 - rmse: 0.1439 - r2: 0.9987 - mae: 0.0866 - mse: 0.0207 - mape: 59250.8594 - val_loss: 0.0865 - val_rmse: 0.1437 - val_r2: 0.9987 - val_mae: 0.0865 - val_mse: 0.0206 - val_mape: 60847.3594\n",
      "Epoch 40/100\n",
      "26215/26215 [==============================] - 58s 2ms/step - loss: 0.0866 - rmse: 0.1439 - r2: 0.9987 - mae: 0.0866 - mse: 0.0207 - mape: 59166.8594 - val_loss: 0.0865 - val_rmse: 0.1438 - val_r2: 0.9987 - val_mae: 0.0865 - val_mse: 0.0207 - val_mape: 64414.4414\n",
      "Epoch 41/100\n",
      "26215/26215 [==============================] - 59s 2ms/step - loss: 0.0866 - rmse: 0.1439 - r2: 0.9987 - mae: 0.0866 - mse: 0.0207 - mape: 58843.1914 - val_loss: 0.0865 - val_rmse: 0.1439 - val_r2: 0.9987 - val_mae: 0.0865 - val_mse: 0.0207 - val_mape: 63163.8398\n",
      "Epoch 42/100\n",
      "26215/26215 [==============================] - 82s 3ms/step - loss: 0.0866 - rmse: 0.1440 - r2: 0.9987 - mae: 0.0866 - mse: 0.0207 - mape: 58871.5547 - val_loss: 0.0865 - val_rmse: 0.1438 - val_r2: 0.9987 - val_mae: 0.0865 - val_mse: 0.0207 - val_mape: 62545.0547\n",
      "Epoch 43/100\n",
      "26215/26215 [==============================] - 57s 2ms/step - loss: 0.0866 - rmse: 0.1439 - r2: 0.9987 - mae: 0.0866 - mse: 0.0207 - mape: 58881.7812 - val_loss: 0.0865 - val_rmse: 0.1439 - val_r2: 0.9987 - val_mae: 0.0865 - val_mse: 0.0207 - val_mape: 60699.6758\n",
      "Epoch 44/100\n",
      "26215/26215 [==============================] - 64s 2ms/step - loss: 0.0866 - rmse: 0.1440 - r2: 0.9987 - mae: 0.0866 - mse: 0.0207 - mape: 58954.0039 - val_loss: 0.0864 - val_rmse: 0.1438 - val_r2: 0.9987 - val_mae: 0.0864 - val_mse: 0.0207 - val_mape: 60446.5820\n",
      "Epoch 45/100\n",
      "26215/26215 [==============================] - 57s 2ms/step - loss: 0.0866 - rmse: 0.1440 - r2: 0.9987 - mae: 0.0866 - mse: 0.0207 - mape: 59249.2148 - val_loss: 0.0865 - val_rmse: 0.1440 - val_r2: 0.9987 - val_mae: 0.0865 - val_mse: 0.0207 - val_mape: 60797.6211\n",
      "Epoch 46/100\n",
      "26215/26215 [==============================] - 68s 3ms/step - loss: 0.0866 - rmse: 0.1440 - r2: 0.9987 - mae: 0.0866 - mse: 0.0207 - mape: 58945.3008 - val_loss: 0.0864 - val_rmse: 0.1437 - val_r2: 0.9987 - val_mae: 0.0864 - val_mse: 0.0207 - val_mape: 60821.5977\n",
      "Epoch 47/100\n",
      "26215/26215 [==============================] - 53s 2ms/step - loss: 0.0866 - rmse: 0.1441 - r2: 0.9987 - mae: 0.0866 - mse: 0.0208 - mape: 58856.8555 - val_loss: 0.0864 - val_rmse: 0.1439 - val_r2: 0.9987 - val_mae: 0.0864 - val_mse: 0.0207 - val_mape: 60959.4766\n",
      "Epoch 48/100\n",
      "26215/26215 [==============================] - 56s 2ms/step - loss: 0.0866 - rmse: 0.1440 - r2: 0.9987 - mae: 0.0866 - mse: 0.0207 - mape: 58907.6680 - val_loss: 0.0864 - val_rmse: 0.1439 - val_r2: 0.9987 - val_mae: 0.0864 - val_mse: 0.0207 - val_mape: 60525.8633\n",
      "Epoch 49/100\n",
      "26215/26215 [==============================] - 66s 3ms/step - loss: 0.0866 - rmse: 0.1441 - r2: 0.9987 - mae: 0.0866 - mse: 0.0208 - mape: 58955.2578 - val_loss: 0.0865 - val_rmse: 0.1438 - val_r2: 0.9987 - val_mae: 0.0865 - val_mse: 0.0207 - val_mape: 60395.1250\n",
      "Epoch 50/100\n",
      "26215/26215 [==============================] - 65s 2ms/step - loss: 0.0866 - rmse: 0.1441 - r2: 0.9987 - mae: 0.0866 - mse: 0.0208 - mape: 58771.8594 - val_loss: 0.0864 - val_rmse: 0.1439 - val_r2: 0.9987 - val_mae: 0.0864 - val_mse: 0.0207 - val_mape: 60918.1992\n",
      "Epoch 51/100\n",
      "26215/26215 [==============================] - 78s 3ms/step - loss: 0.0866 - rmse: 0.1440 - r2: 0.9987 - mae: 0.0866 - mse: 0.0207 - mape: 58859.3633 - val_loss: 0.0865 - val_rmse: 0.1440 - val_r2: 0.9987 - val_mae: 0.0865 - val_mse: 0.0207 - val_mape: 64064.6953\n",
      "Epoch 52/100\n",
      "26215/26215 [==============================] - 83s 3ms/step - loss: 0.0866 - rmse: 0.1441 - r2: 0.9987 - mae: 0.0866 - mse: 0.0208 - mape: 58717.1133 - val_loss: 0.0865 - val_rmse: 0.1439 - val_r2: 0.9987 - val_mae: 0.0865 - val_mse: 0.0207 - val_mape: 60342.2656\n",
      "Epoch 53/100\n",
      "26215/26215 [==============================] - 71s 3ms/step - loss: 0.0866 - rmse: 0.1441 - r2: 0.9987 - mae: 0.0866 - mse: 0.0208 - mape: 58818.4688 - val_loss: 0.0864 - val_rmse: 0.1439 - val_r2: 0.9987 - val_mae: 0.0864 - val_mse: 0.0207 - val_mape: 60383.8945\n",
      "Epoch 54/100\n",
      "26215/26215 [==============================] - 58s 2ms/step - loss: 0.0866 - rmse: 0.1441 - r2: 0.9987 - mae: 0.0866 - mse: 0.0208 - mape: 58743.5078 - val_loss: 0.0864 - val_rmse: 0.1438 - val_r2: 0.9987 - val_mae: 0.0864 - val_mse: 0.0207 - val_mape: 61885.6641\n",
      "Epoch 55/100\n",
      "26215/26215 [==============================] - 57s 2ms/step - loss: 0.0865 - rmse: 0.1441 - r2: 0.9987 - mae: 0.0865 - mse: 0.0208 - mape: 58569.9805 - val_loss: 0.0865 - val_rmse: 0.1440 - val_r2: 0.9987 - val_mae: 0.0865 - val_mse: 0.0207 - val_mape: 65662.0234\n",
      "Epoch 56/100\n",
      "26215/26215 [==============================] - 59s 2ms/step - loss: 0.0865 - rmse: 0.1441 - r2: 0.9987 - mae: 0.0865 - mse: 0.0208 - mape: 58347.6328 - val_loss: 0.0864 - val_rmse: 0.1439 - val_r2: 0.9987 - val_mae: 0.0864 - val_mse: 0.0207 - val_mape: 60177.3750\n",
      "Epoch 57/100\n",
      "26215/26215 [==============================] - 59s 2ms/step - loss: 0.0865 - rmse: 0.1441 - r2: 0.9987 - mae: 0.0865 - mse: 0.0208 - mape: 58547.2773 - val_loss: 0.0864 - val_rmse: 0.1440 - val_r2: 0.9987 - val_mae: 0.0864 - val_mse: 0.0207 - val_mape: 62736.3281\n",
      "Epoch 58/100\n",
      "26215/26215 [==============================] - 58s 2ms/step - loss: 0.0865 - rmse: 0.1441 - r2: 0.9987 - mae: 0.0865 - mse: 0.0208 - mape: 58520.7500 - val_loss: 0.0864 - val_rmse: 0.1440 - val_r2: 0.9987 - val_mae: 0.0864 - val_mse: 0.0207 - val_mape: 61195.1328\n",
      "Epoch 59/100\n",
      "26215/26215 [==============================] - 58s 2ms/step - loss: 0.0865 - rmse: 0.1441 - r2: 0.9987 - mae: 0.0865 - mse: 0.0208 - mape: 58559.6289 - val_loss: 0.0864 - val_rmse: 0.1440 - val_r2: 0.9987 - val_mae: 0.0864 - val_mse: 0.0207 - val_mape: 60205.8281\n",
      "Epoch 60/100\n",
      "26215/26215 [==============================] - 58s 2ms/step - loss: 0.0865 - rmse: 0.1441 - r2: 0.9987 - mae: 0.0865 - mse: 0.0208 - mape: 58735.0273 - val_loss: 0.0865 - val_rmse: 0.1440 - val_r2: 0.9987 - val_mae: 0.0865 - val_mse: 0.0207 - val_mape: 63321.7070\n"
     ]
    },
    {
     "name": "stdout",
     "output_type": "stream",
     "text": [
      "Epoch 61/100\n",
      "26215/26215 [==============================] - 58s 2ms/step - loss: 0.0865 - rmse: 0.1441 - r2: 0.9987 - mae: 0.0865 - mse: 0.0208 - mape: 58226.2812 - val_loss: 0.0864 - val_rmse: 0.1440 - val_r2: 0.9987 - val_mae: 0.0864 - val_mse: 0.0207 - val_mape: 60293.9102\n",
      "Epoch 62/100\n",
      "26215/26215 [==============================] - 60s 2ms/step - loss: 0.0865 - rmse: 0.1441 - r2: 0.9987 - mae: 0.0865 - mse: 0.0208 - mape: 58420.8359 - val_loss: 0.0864 - val_rmse: 0.1439 - val_r2: 0.9987 - val_mae: 0.0864 - val_mse: 0.0207 - val_mape: 62794.7227\n",
      "Epoch 63/100\n",
      "26215/26215 [==============================] - 59s 2ms/step - loss: 0.0865 - rmse: 0.1441 - r2: 0.9987 - mae: 0.0865 - mse: 0.0208 - mape: 58381.2734 - val_loss: 0.0864 - val_rmse: 0.1440 - val_r2: 0.9987 - val_mae: 0.0864 - val_mse: 0.0207 - val_mape: 60412.4922\n",
      "Epoch 64/100\n",
      "26215/26215 [==============================] - 70s 3ms/step - loss: 0.0865 - rmse: 0.1441 - r2: 0.9987 - mae: 0.0865 - mse: 0.0208 - mape: 58571.3594 - val_loss: 0.0864 - val_rmse: 0.1439 - val_r2: 0.9987 - val_mae: 0.0864 - val_mse: 0.0207 - val_mape: 60713.5195\n",
      "Epoch 65/100\n",
      "26215/26215 [==============================] - 59s 2ms/step - loss: 0.0865 - rmse: 0.1441 - r2: 0.9987 - mae: 0.0865 - mse: 0.0208 - mape: 58489.1875 - val_loss: 0.0864 - val_rmse: 0.1441 - val_r2: 0.9987 - val_mae: 0.0864 - val_mse: 0.0208 - val_mape: 60070.3047\n",
      "Epoch 66/100\n",
      "26215/26215 [==============================] - 58s 2ms/step - loss: 0.0865 - rmse: 0.1441 - r2: 0.9987 - mae: 0.0865 - mse: 0.0208 - mape: 58492.0195 - val_loss: 0.0864 - val_rmse: 0.1440 - val_r2: 0.9987 - val_mae: 0.0864 - val_mse: 0.0207 - val_mape: 63614.5859\n",
      "Epoch 67/100\n",
      "26215/26215 [==============================] - 58s 2ms/step - loss: 0.0865 - rmse: 0.1441 - r2: 0.9987 - mae: 0.0865 - mse: 0.0208 - mape: 58285.3047 - val_loss: 0.0865 - val_rmse: 0.1441 - val_r2: 0.9987 - val_mae: 0.0865 - val_mse: 0.0208 - val_mape: 65120.7031\n",
      "Epoch 68/100\n",
      "26215/26215 [==============================] - 74s 3ms/step - loss: 0.0865 - rmse: 0.1441 - r2: 0.9987 - mae: 0.0865 - mse: 0.0208 - mape: 58288.3594 - val_loss: 0.0865 - val_rmse: 0.1438 - val_r2: 0.9987 - val_mae: 0.0865 - val_mse: 0.0207 - val_mape: 62194.6719\n",
      "Epoch 69/100\n",
      "26215/26215 [==============================] - 61s 2ms/step - loss: 0.0865 - rmse: 0.1441 - r2: 0.9987 - mae: 0.0865 - mse: 0.0208 - mape: 58410.4609 - val_loss: 0.0865 - val_rmse: 0.1442 - val_r2: 0.9987 - val_mae: 0.0865 - val_mse: 0.0208 - val_mape: 65748.2969\n",
      "Epoch 70/100\n",
      "10990/26215 [===========>..................] - ETA: 29s - loss: 0.0865 - rmse: 0.1443 - r2: 0.9987 - mae: 0.0865 - mse: 0.0208 - mape: 53441.6172"
     ]
    },
    {
     "ename": "ResourceExhaustedError",
     "evalue": "Graph execution error:\n\nDetected at node 'gradient_tape/sequential_4/conv1d_1/Conv1D/Conv2DBackpropFilter' defined at (most recent call last):\n    File \"C:\\Users\\91987\\anaconda3\\lib\\runpy.py\", line 197, in _run_module_as_main\n      return _run_code(code, main_globals, None,\n    File \"C:\\Users\\91987\\anaconda3\\lib\\runpy.py\", line 87, in _run_code\n      exec(code, run_globals)\n    File \"C:\\Users\\91987\\anaconda3\\lib\\site-packages\\ipykernel_launcher.py\", line 16, in <module>\n      app.launch_new_instance()\n    File \"C:\\Users\\91987\\anaconda3\\lib\\site-packages\\traitlets\\config\\application.py\", line 846, in launch_instance\n      app.start()\n    File \"C:\\Users\\91987\\anaconda3\\lib\\site-packages\\ipykernel\\kernelapp.py\", line 677, in start\n      self.io_loop.start()\n    File \"C:\\Users\\91987\\anaconda3\\lib\\site-packages\\tornado\\platform\\asyncio.py\", line 199, in start\n      self.asyncio_loop.run_forever()\n    File \"C:\\Users\\91987\\anaconda3\\lib\\asyncio\\base_events.py\", line 601, in run_forever\n      self._run_once()\n    File \"C:\\Users\\91987\\anaconda3\\lib\\asyncio\\base_events.py\", line 1905, in _run_once\n      handle._run()\n    File \"C:\\Users\\91987\\anaconda3\\lib\\asyncio\\events.py\", line 80, in _run\n      self._context.run(self._callback, *self._args)\n    File \"C:\\Users\\91987\\anaconda3\\lib\\site-packages\\ipykernel\\kernelbase.py\", line 471, in dispatch_queue\n      await self.process_one()\n    File \"C:\\Users\\91987\\anaconda3\\lib\\site-packages\\ipykernel\\kernelbase.py\", line 460, in process_one\n      await dispatch(*args)\n    File \"C:\\Users\\91987\\anaconda3\\lib\\site-packages\\ipykernel\\kernelbase.py\", line 367, in dispatch_shell\n      await result\n    File \"C:\\Users\\91987\\anaconda3\\lib\\site-packages\\ipykernel\\kernelbase.py\", line 662, in execute_request\n      reply_content = await reply_content\n    File \"C:\\Users\\91987\\anaconda3\\lib\\site-packages\\ipykernel\\ipkernel.py\", line 360, in do_execute\n      res = shell.run_cell(code, store_history=store_history, silent=silent)\n    File \"C:\\Users\\91987\\anaconda3\\lib\\site-packages\\ipykernel\\zmqshell.py\", line 532, in run_cell\n      return super().run_cell(*args, **kwargs)\n    File \"C:\\Users\\91987\\anaconda3\\lib\\site-packages\\IPython\\core\\interactiveshell.py\", line 2863, in run_cell\n      result = self._run_cell(\n    File \"C:\\Users\\91987\\anaconda3\\lib\\site-packages\\IPython\\core\\interactiveshell.py\", line 2909, in _run_cell\n      return runner(coro)\n    File \"C:\\Users\\91987\\anaconda3\\lib\\site-packages\\IPython\\core\\async_helpers.py\", line 129, in _pseudo_sync_runner\n      coro.send(None)\n    File \"C:\\Users\\91987\\anaconda3\\lib\\site-packages\\IPython\\core\\interactiveshell.py\", line 3106, in run_cell_async\n      has_raised = await self.run_ast_nodes(code_ast.body, cell_name,\n    File \"C:\\Users\\91987\\anaconda3\\lib\\site-packages\\IPython\\core\\interactiveshell.py\", line 3309, in run_ast_nodes\n      if await self.run_code(code, result, async_=asy):\n    File \"C:\\Users\\91987\\anaconda3\\lib\\site-packages\\IPython\\core\\interactiveshell.py\", line 3369, in run_code\n      exec(code_obj, self.user_global_ns, self.user_ns)\n    File \"C:\\Users\\91987\\AppData\\Local\\Temp\\ipykernel_16904\\213894057.py\", line 1, in <cell line: 1>\n      get_ipython().run_cell_magic('time', '', \"model_9 = tf.keras.Sequential([tf.keras.layers.Conv1D(10,2,activation='linear',input_shape=(3,1)),\\n                               tf.keras.layers.Conv1D(10,2,activation='relu'),\\n                               tf.keras.layers.Flatten(),\\n                               tf.keras.layers.Dense(1)])\\n\\nmodel_9.compile(loss = tf.keras.losses.mae,\\n                optimizer = tf.keras.optimizers.legacy.Adam(learning_rate=0.001,decay=0.0001),\\n                metrics=[tf.keras.metrics.RootMeanSquaredError(name='rmse'),\\n                         tfa.metrics.RSquare(name='r2'),'mae','mse','mape'])\\n\\nhistory_9 = model_9.fit(X_train,Y_train,epochs=100,validation_data=(X_test,Y_test),callbacks=callback)\\n\")\n    File \"C:\\Users\\91987\\anaconda3\\lib\\site-packages\\IPython\\core\\interactiveshell.py\", line 2347, in run_cell_magic\n      result = fn(*args, **kwargs)\n    File \"C:\\Users\\91987\\anaconda3\\lib\\site-packages\\IPython\\core\\magics\\execution.py\", line 1316, in time\n      exec(code, glob, local_ns)\n    File \"<timed exec>\", line 11, in <module>\n    File \"C:\\Users\\91987\\anaconda3\\lib\\site-packages\\keras\\src\\utils\\traceback_utils.py\", line 65, in error_handler\n      return fn(*args, **kwargs)\n    File \"C:\\Users\\91987\\anaconda3\\lib\\site-packages\\keras\\src\\engine\\training.py\", line 1742, in fit\n      tmp_logs = self.train_function(iterator)\n    File \"C:\\Users\\91987\\anaconda3\\lib\\site-packages\\keras\\src\\engine\\training.py\", line 1338, in train_function\n      return step_function(self, iterator)\n    File \"C:\\Users\\91987\\anaconda3\\lib\\site-packages\\keras\\src\\engine\\training.py\", line 1322, in step_function\n      outputs = model.distribute_strategy.run(run_step, args=(data,))\n    File \"C:\\Users\\91987\\anaconda3\\lib\\site-packages\\keras\\src\\engine\\training.py\", line 1303, in run_step\n      outputs = model.train_step(data)\n    File \"C:\\Users\\91987\\anaconda3\\lib\\site-packages\\keras\\src\\engine\\training.py\", line 1084, in train_step\n      self.optimizer.minimize(loss, self.trainable_variables, tape=tape)\n    File \"C:\\Users\\91987\\anaconda3\\lib\\site-packages\\keras\\src\\optimizers\\legacy\\optimizer_v2.py\", line 598, in minimize\n      grads_and_vars = self._compute_gradients(\n    File \"C:\\Users\\91987\\anaconda3\\lib\\site-packages\\keras\\src\\optimizers\\legacy\\optimizer_v2.py\", line 656, in _compute_gradients\n      grads_and_vars = self._get_gradients(\n    File \"C:\\Users\\91987\\anaconda3\\lib\\site-packages\\keras\\src\\optimizers\\legacy\\optimizer_v2.py\", line 532, in _get_gradients\n      grads = tape.gradient(loss, var_list, grad_loss)\nNode: 'gradient_tape/sequential_4/conv1d_1/Conv1D/Conv2DBackpropFilter'\nOOM when allocating tensor with shape[34193,1,20] and type float on /job:localhost/replica:0/task:0/device:CPU:0 by allocator cpu\n\t [[{{node gradient_tape/sequential_4/conv1d_1/Conv1D/Conv2DBackpropFilter}}]]\nHint: If you want to see a list of allocated tensors when OOM happens, add report_tensor_allocations_upon_oom to RunOptions for current allocation info. This isn't available when running in Eager mode.\n [Op:__inference_train_function_105345114]",
     "output_type": "error",
     "traceback": [
      "\u001b[1;31m---------------------------------------------------------------------------\u001b[0m",
      "\u001b[1;31mResourceExhaustedError\u001b[0m                    Traceback (most recent call last)",
      "File \u001b[1;32m<timed exec>:11\u001b[0m, in \u001b[0;36m<module>\u001b[1;34m\u001b[0m\n",
      "File \u001b[1;32m~\\anaconda3\\lib\\site-packages\\keras\\src\\utils\\traceback_utils.py:70\u001b[0m, in \u001b[0;36mfilter_traceback.<locals>.error_handler\u001b[1;34m(*args, **kwargs)\u001b[0m\n\u001b[0;32m     67\u001b[0m     filtered_tb \u001b[38;5;241m=\u001b[39m _process_traceback_frames(e\u001b[38;5;241m.\u001b[39m__traceback__)\n\u001b[0;32m     68\u001b[0m     \u001b[38;5;66;03m# To get the full stack trace, call:\u001b[39;00m\n\u001b[0;32m     69\u001b[0m     \u001b[38;5;66;03m# `tf.debugging.disable_traceback_filtering()`\u001b[39;00m\n\u001b[1;32m---> 70\u001b[0m     \u001b[38;5;28;01mraise\u001b[39;00m e\u001b[38;5;241m.\u001b[39mwith_traceback(filtered_tb) \u001b[38;5;28;01mfrom\u001b[39;00m \u001b[38;5;28mNone\u001b[39m\n\u001b[0;32m     71\u001b[0m \u001b[38;5;28;01mfinally\u001b[39;00m:\n\u001b[0;32m     72\u001b[0m     \u001b[38;5;28;01mdel\u001b[39;00m filtered_tb\n",
      "File \u001b[1;32m~\\anaconda3\\lib\\site-packages\\tensorflow\\python\\eager\\execute.py:53\u001b[0m, in \u001b[0;36mquick_execute\u001b[1;34m(op_name, num_outputs, inputs, attrs, ctx, name)\u001b[0m\n\u001b[0;32m     51\u001b[0m \u001b[38;5;28;01mtry\u001b[39;00m:\n\u001b[0;32m     52\u001b[0m   ctx\u001b[38;5;241m.\u001b[39mensure_initialized()\n\u001b[1;32m---> 53\u001b[0m   tensors \u001b[38;5;241m=\u001b[39m pywrap_tfe\u001b[38;5;241m.\u001b[39mTFE_Py_Execute(ctx\u001b[38;5;241m.\u001b[39m_handle, device_name, op_name,\n\u001b[0;32m     54\u001b[0m                                       inputs, attrs, num_outputs)\n\u001b[0;32m     55\u001b[0m \u001b[38;5;28;01mexcept\u001b[39;00m core\u001b[38;5;241m.\u001b[39m_NotOkStatusException \u001b[38;5;28;01mas\u001b[39;00m e:\n\u001b[0;32m     56\u001b[0m   \u001b[38;5;28;01mif\u001b[39;00m name \u001b[38;5;129;01mis\u001b[39;00m \u001b[38;5;129;01mnot\u001b[39;00m \u001b[38;5;28;01mNone\u001b[39;00m:\n",
      "\u001b[1;31mResourceExhaustedError\u001b[0m: Graph execution error:\n\nDetected at node 'gradient_tape/sequential_4/conv1d_1/Conv1D/Conv2DBackpropFilter' defined at (most recent call last):\n    File \"C:\\Users\\91987\\anaconda3\\lib\\runpy.py\", line 197, in _run_module_as_main\n      return _run_code(code, main_globals, None,\n    File \"C:\\Users\\91987\\anaconda3\\lib\\runpy.py\", line 87, in _run_code\n      exec(code, run_globals)\n    File \"C:\\Users\\91987\\anaconda3\\lib\\site-packages\\ipykernel_launcher.py\", line 16, in <module>\n      app.launch_new_instance()\n    File \"C:\\Users\\91987\\anaconda3\\lib\\site-packages\\traitlets\\config\\application.py\", line 846, in launch_instance\n      app.start()\n    File \"C:\\Users\\91987\\anaconda3\\lib\\site-packages\\ipykernel\\kernelapp.py\", line 677, in start\n      self.io_loop.start()\n    File \"C:\\Users\\91987\\anaconda3\\lib\\site-packages\\tornado\\platform\\asyncio.py\", line 199, in start\n      self.asyncio_loop.run_forever()\n    File \"C:\\Users\\91987\\anaconda3\\lib\\asyncio\\base_events.py\", line 601, in run_forever\n      self._run_once()\n    File \"C:\\Users\\91987\\anaconda3\\lib\\asyncio\\base_events.py\", line 1905, in _run_once\n      handle._run()\n    File \"C:\\Users\\91987\\anaconda3\\lib\\asyncio\\events.py\", line 80, in _run\n      self._context.run(self._callback, *self._args)\n    File \"C:\\Users\\91987\\anaconda3\\lib\\site-packages\\ipykernel\\kernelbase.py\", line 471, in dispatch_queue\n      await self.process_one()\n    File \"C:\\Users\\91987\\anaconda3\\lib\\site-packages\\ipykernel\\kernelbase.py\", line 460, in process_one\n      await dispatch(*args)\n    File \"C:\\Users\\91987\\anaconda3\\lib\\site-packages\\ipykernel\\kernelbase.py\", line 367, in dispatch_shell\n      await result\n    File \"C:\\Users\\91987\\anaconda3\\lib\\site-packages\\ipykernel\\kernelbase.py\", line 662, in execute_request\n      reply_content = await reply_content\n    File \"C:\\Users\\91987\\anaconda3\\lib\\site-packages\\ipykernel\\ipkernel.py\", line 360, in do_execute\n      res = shell.run_cell(code, store_history=store_history, silent=silent)\n    File \"C:\\Users\\91987\\anaconda3\\lib\\site-packages\\ipykernel\\zmqshell.py\", line 532, in run_cell\n      return super().run_cell(*args, **kwargs)\n    File \"C:\\Users\\91987\\anaconda3\\lib\\site-packages\\IPython\\core\\interactiveshell.py\", line 2863, in run_cell\n      result = self._run_cell(\n    File \"C:\\Users\\91987\\anaconda3\\lib\\site-packages\\IPython\\core\\interactiveshell.py\", line 2909, in _run_cell\n      return runner(coro)\n    File \"C:\\Users\\91987\\anaconda3\\lib\\site-packages\\IPython\\core\\async_helpers.py\", line 129, in _pseudo_sync_runner\n      coro.send(None)\n    File \"C:\\Users\\91987\\anaconda3\\lib\\site-packages\\IPython\\core\\interactiveshell.py\", line 3106, in run_cell_async\n      has_raised = await self.run_ast_nodes(code_ast.body, cell_name,\n    File \"C:\\Users\\91987\\anaconda3\\lib\\site-packages\\IPython\\core\\interactiveshell.py\", line 3309, in run_ast_nodes\n      if await self.run_code(code, result, async_=asy):\n    File \"C:\\Users\\91987\\anaconda3\\lib\\site-packages\\IPython\\core\\interactiveshell.py\", line 3369, in run_code\n      exec(code_obj, self.user_global_ns, self.user_ns)\n    File \"C:\\Users\\91987\\AppData\\Local\\Temp\\ipykernel_16904\\213894057.py\", line 1, in <cell line: 1>\n      get_ipython().run_cell_magic('time', '', \"model_9 = tf.keras.Sequential([tf.keras.layers.Conv1D(10,2,activation='linear',input_shape=(3,1)),\\n                               tf.keras.layers.Conv1D(10,2,activation='relu'),\\n                               tf.keras.layers.Flatten(),\\n                               tf.keras.layers.Dense(1)])\\n\\nmodel_9.compile(loss = tf.keras.losses.mae,\\n                optimizer = tf.keras.optimizers.legacy.Adam(learning_rate=0.001,decay=0.0001),\\n                metrics=[tf.keras.metrics.RootMeanSquaredError(name='rmse'),\\n                         tfa.metrics.RSquare(name='r2'),'mae','mse','mape'])\\n\\nhistory_9 = model_9.fit(X_train,Y_train,epochs=100,validation_data=(X_test,Y_test),callbacks=callback)\\n\")\n    File \"C:\\Users\\91987\\anaconda3\\lib\\site-packages\\IPython\\core\\interactiveshell.py\", line 2347, in run_cell_magic\n      result = fn(*args, **kwargs)\n    File \"C:\\Users\\91987\\anaconda3\\lib\\site-packages\\IPython\\core\\magics\\execution.py\", line 1316, in time\n      exec(code, glob, local_ns)\n    File \"<timed exec>\", line 11, in <module>\n    File \"C:\\Users\\91987\\anaconda3\\lib\\site-packages\\keras\\src\\utils\\traceback_utils.py\", line 65, in error_handler\n      return fn(*args, **kwargs)\n    File \"C:\\Users\\91987\\anaconda3\\lib\\site-packages\\keras\\src\\engine\\training.py\", line 1742, in fit\n      tmp_logs = self.train_function(iterator)\n    File \"C:\\Users\\91987\\anaconda3\\lib\\site-packages\\keras\\src\\engine\\training.py\", line 1338, in train_function\n      return step_function(self, iterator)\n    File \"C:\\Users\\91987\\anaconda3\\lib\\site-packages\\keras\\src\\engine\\training.py\", line 1322, in step_function\n      outputs = model.distribute_strategy.run(run_step, args=(data,))\n    File \"C:\\Users\\91987\\anaconda3\\lib\\site-packages\\keras\\src\\engine\\training.py\", line 1303, in run_step\n      outputs = model.train_step(data)\n    File \"C:\\Users\\91987\\anaconda3\\lib\\site-packages\\keras\\src\\engine\\training.py\", line 1084, in train_step\n      self.optimizer.minimize(loss, self.trainable_variables, tape=tape)\n    File \"C:\\Users\\91987\\anaconda3\\lib\\site-packages\\keras\\src\\optimizers\\legacy\\optimizer_v2.py\", line 598, in minimize\n      grads_and_vars = self._compute_gradients(\n    File \"C:\\Users\\91987\\anaconda3\\lib\\site-packages\\keras\\src\\optimizers\\legacy\\optimizer_v2.py\", line 656, in _compute_gradients\n      grads_and_vars = self._get_gradients(\n    File \"C:\\Users\\91987\\anaconda3\\lib\\site-packages\\keras\\src\\optimizers\\legacy\\optimizer_v2.py\", line 532, in _get_gradients\n      grads = tape.gradient(loss, var_list, grad_loss)\nNode: 'gradient_tape/sequential_4/conv1d_1/Conv1D/Conv2DBackpropFilter'\nOOM when allocating tensor with shape[34193,1,20] and type float on /job:localhost/replica:0/task:0/device:CPU:0 by allocator cpu\n\t [[{{node gradient_tape/sequential_4/conv1d_1/Conv1D/Conv2DBackpropFilter}}]]\nHint: If you want to see a list of allocated tensors when OOM happens, add report_tensor_allocations_upon_oom to RunOptions for current allocation info. This isn't available when running in Eager mode.\n [Op:__inference_train_function_105345114]"
     ]
    }
   ],
   "source": [
    "%%time\n",
    "model_9 = tf.keras.Sequential([tf.keras.layers.Conv1D(10,2,activation='linear',input_shape=(3,1)),\n",
    "                               tf.keras.layers.Conv1D(10,2,activation='relu'),\n",
    "                               tf.keras.layers.Flatten(),\n",
    "                               tf.keras.layers.Dense(1)])\n",
    "\n",
    "model_9.compile(loss = tf.keras.losses.mae,\n",
    "                optimizer = tf.keras.optimizers.legacy.Adam(learning_rate=0.001,decay=0.0001),\n",
    "                metrics=[tf.keras.metrics.RootMeanSquaredError(name='rmse'),\n",
    "                         tfa.metrics.RSquare(name='r2'),'mae','mse','mape'])\n",
    "\n",
    "history_9 = model_9.fit(X_train,Y_train,epochs=100,validation_data=(X_test,Y_test),callbacks=callback)"
   ]
  },
  {
   "cell_type": "code",
   "execution_count": 45,
   "id": "33928b0d",
   "metadata": {},
   "outputs": [
    {
     "ename": "NameError",
     "evalue": "name 'history_9' is not defined",
     "output_type": "error",
     "traceback": [
      "\u001b[1;31m---------------------------------------------------------------------------\u001b[0m",
      "\u001b[1;31mNameError\u001b[0m                                 Traceback (most recent call last)",
      "Input \u001b[1;32mIn [45]\u001b[0m, in \u001b[0;36m<cell line: 1>\u001b[1;34m()\u001b[0m\n\u001b[1;32m----> 1\u001b[0m plot_his(\u001b[43mhistory_9\u001b[49m)\n",
      "\u001b[1;31mNameError\u001b[0m: name 'history_9' is not defined"
     ]
    }
   ],
   "source": [
    "plot_his(history_9)"
   ]
  },
  {
   "cell_type": "code",
   "execution_count": 46,
   "id": "028b1ad9",
   "metadata": {},
   "outputs": [
    {
     "name": "stdout",
     "output_type": "stream",
     "text": [
      "6554/6554 [==============================] - 15s 2ms/step - loss: 0.0864 - rmse: 0.1438 - r2: 0.9987 - mae: 0.0864 - mse: 0.0207 - mape: 60433.2773\n"
     ]
    },
    {
     "data": {
      "text/plain": [
       "[0.08640669286251068,\n",
       " 0.1438111513853073,\n",
       " 0.998668372631073,\n",
       " 0.08640669286251068,\n",
       " 0.02068164572119713,\n",
       " 60433.27734375]"
      ]
     },
     "execution_count": 46,
     "metadata": {},
     "output_type": "execute_result"
    }
   ],
   "source": [
    "model_9.evaluate(X_test,Y_test)"
   ]
  },
  {
   "cell_type": "code",
   "execution_count": 47,
   "id": "41c7e591",
   "metadata": {},
   "outputs": [
    {
     "name": "stdout",
     "output_type": "stream",
     "text": [
      "6554/6554 [==============================] - 14s 1ms/step\n"
     ]
    }
   ],
   "source": [
    "prediction_9 = model_9.predict(X_test)"
   ]
  },
  {
   "cell_type": "code",
   "execution_count": 48,
   "id": "bc5c0ccc",
   "metadata": {},
   "outputs": [
    {
     "name": "stdout",
     "output_type": "stream",
     "text": [
      "AIC:  592.56055\n"
     ]
    }
   ],
   "source": [
    "AIC_value(model_9,prediction_9,Y_test)"
   ]
  },
  {
   "cell_type": "code",
   "execution_count": 49,
   "id": "caab2b62",
   "metadata": {},
   "outputs": [
    {
     "name": "stderr",
     "output_type": "stream",
     "text": [
      "C:\\Users\\91987\\anaconda3\\lib\\site-packages\\keras\\src\\engine\\training.py:3000: UserWarning: You are saving your model as an HDF5 file via `model.save()`. This file format is considered legacy. We recommend using instead the native Keras format, e.g. `model.save('my_model.keras')`.\n",
      "  saving_api.save_model(\n"
     ]
    }
   ],
   "source": [
    "model_9.save('Saved_models/model_9_SOEesti.h5')"
   ]
  },
  {
   "cell_type": "code",
   "execution_count": null,
   "id": "2cdc0d1b",
   "metadata": {},
   "outputs": [],
   "source": []
  },
  {
   "cell_type": "code",
   "execution_count": 50,
   "id": "6c0faec8",
   "metadata": {},
   "outputs": [
    {
     "name": "stdout",
     "output_type": "stream",
     "text": [
      "Epoch 1/100\n",
      " 5664/26215 [=====>........................] - ETA: 50s - loss: 0.4519 - rmse: 0.8869 - mae: 0.4519 - mse: 0.7866 - mape: 996159.5625"
     ]
    },
    {
     "ename": "ResourceExhaustedError",
     "evalue": "Graph execution error:\n\nDetected at node 'gradient_tape/sequential_5/conv1d_3/Conv1D/Conv2DBackpropInput' defined at (most recent call last):\n    File \"C:\\Users\\91987\\anaconda3\\lib\\runpy.py\", line 197, in _run_module_as_main\n      return _run_code(code, main_globals, None,\n    File \"C:\\Users\\91987\\anaconda3\\lib\\runpy.py\", line 87, in _run_code\n      exec(code, run_globals)\n    File \"C:\\Users\\91987\\anaconda3\\lib\\site-packages\\ipykernel_launcher.py\", line 16, in <module>\n      app.launch_new_instance()\n    File \"C:\\Users\\91987\\anaconda3\\lib\\site-packages\\traitlets\\config\\application.py\", line 846, in launch_instance\n      app.start()\n    File \"C:\\Users\\91987\\anaconda3\\lib\\site-packages\\ipykernel\\kernelapp.py\", line 677, in start\n      self.io_loop.start()\n    File \"C:\\Users\\91987\\anaconda3\\lib\\site-packages\\tornado\\platform\\asyncio.py\", line 199, in start\n      self.asyncio_loop.run_forever()\n    File \"C:\\Users\\91987\\anaconda3\\lib\\asyncio\\base_events.py\", line 601, in run_forever\n      self._run_once()\n    File \"C:\\Users\\91987\\anaconda3\\lib\\asyncio\\base_events.py\", line 1905, in _run_once\n      handle._run()\n    File \"C:\\Users\\91987\\anaconda3\\lib\\asyncio\\events.py\", line 80, in _run\n      self._context.run(self._callback, *self._args)\n    File \"C:\\Users\\91987\\anaconda3\\lib\\site-packages\\ipykernel\\kernelbase.py\", line 471, in dispatch_queue\n      await self.process_one()\n    File \"C:\\Users\\91987\\anaconda3\\lib\\site-packages\\ipykernel\\kernelbase.py\", line 460, in process_one\n      await dispatch(*args)\n    File \"C:\\Users\\91987\\anaconda3\\lib\\site-packages\\ipykernel\\kernelbase.py\", line 367, in dispatch_shell\n      await result\n    File \"C:\\Users\\91987\\anaconda3\\lib\\site-packages\\ipykernel\\kernelbase.py\", line 662, in execute_request\n      reply_content = await reply_content\n    File \"C:\\Users\\91987\\anaconda3\\lib\\site-packages\\ipykernel\\ipkernel.py\", line 360, in do_execute\n      res = shell.run_cell(code, store_history=store_history, silent=silent)\n    File \"C:\\Users\\91987\\anaconda3\\lib\\site-packages\\ipykernel\\zmqshell.py\", line 532, in run_cell\n      return super().run_cell(*args, **kwargs)\n    File \"C:\\Users\\91987\\anaconda3\\lib\\site-packages\\IPython\\core\\interactiveshell.py\", line 2863, in run_cell\n      result = self._run_cell(\n    File \"C:\\Users\\91987\\anaconda3\\lib\\site-packages\\IPython\\core\\interactiveshell.py\", line 2909, in _run_cell\n      return runner(coro)\n    File \"C:\\Users\\91987\\anaconda3\\lib\\site-packages\\IPython\\core\\async_helpers.py\", line 129, in _pseudo_sync_runner\n      coro.send(None)\n    File \"C:\\Users\\91987\\anaconda3\\lib\\site-packages\\IPython\\core\\interactiveshell.py\", line 3106, in run_cell_async\n      has_raised = await self.run_ast_nodes(code_ast.body, cell_name,\n    File \"C:\\Users\\91987\\anaconda3\\lib\\site-packages\\IPython\\core\\interactiveshell.py\", line 3309, in run_ast_nodes\n      if await self.run_code(code, result, async_=asy):\n    File \"C:\\Users\\91987\\anaconda3\\lib\\site-packages\\IPython\\core\\interactiveshell.py\", line 3369, in run_code\n      exec(code_obj, self.user_global_ns, self.user_ns)\n    File \"C:\\Users\\91987\\AppData\\Local\\Temp\\ipykernel_16904\\3178581190.py\", line 1, in <cell line: 1>\n      get_ipython().run_cell_magic('time', '', \"model_10 = tf.keras.Sequential([tf.keras.layers.Conv1D(10,2,activation='linear',input_shape=(3,1)),\\n                               tf.keras.layers.Conv1D(10,2,activation='linear'),\\n                               tf.keras.layers.Flatten(),\\n                               tf.keras.layers.Dense(20),\\n                               tf.keras.layers.Dense(10),\\n                               tf.keras.layers.Dense(1,activation='linear')])\\n\\nmodel_10.compile(loss = tf.keras.losses.mae,\\n                optimizer = tf.keras.optimizers.legacy.Adam(learning_rate=0.001,decay=0.0001),\\n                metrics=[tf.keras.metrics.RootMeanSquaredError(name='rmse'),'mae','mse','mape'])\\n\\nhistory_10 = model_10.fit(X_train,Y_train,epochs=100,validation_data=(X_test,Y_test),callbacks = callback)\\n\")\n    File \"C:\\Users\\91987\\anaconda3\\lib\\site-packages\\IPython\\core\\interactiveshell.py\", line 2347, in run_cell_magic\n      result = fn(*args, **kwargs)\n    File \"C:\\Users\\91987\\anaconda3\\lib\\site-packages\\IPython\\core\\magics\\execution.py\", line 1316, in time\n      exec(code, glob, local_ns)\n    File \"<timed exec>\", line 12, in <module>\n    File \"C:\\Users\\91987\\anaconda3\\lib\\site-packages\\keras\\src\\utils\\traceback_utils.py\", line 65, in error_handler\n      return fn(*args, **kwargs)\n    File \"C:\\Users\\91987\\anaconda3\\lib\\site-packages\\keras\\src\\engine\\training.py\", line 1742, in fit\n      tmp_logs = self.train_function(iterator)\n    File \"C:\\Users\\91987\\anaconda3\\lib\\site-packages\\keras\\src\\engine\\training.py\", line 1338, in train_function\n      return step_function(self, iterator)\n    File \"C:\\Users\\91987\\anaconda3\\lib\\site-packages\\keras\\src\\engine\\training.py\", line 1322, in step_function\n      outputs = model.distribute_strategy.run(run_step, args=(data,))\n    File \"C:\\Users\\91987\\anaconda3\\lib\\site-packages\\keras\\src\\engine\\training.py\", line 1303, in run_step\n      outputs = model.train_step(data)\n    File \"C:\\Users\\91987\\anaconda3\\lib\\site-packages\\keras\\src\\engine\\training.py\", line 1084, in train_step\n      self.optimizer.minimize(loss, self.trainable_variables, tape=tape)\n    File \"C:\\Users\\91987\\anaconda3\\lib\\site-packages\\keras\\src\\optimizers\\legacy\\optimizer_v2.py\", line 598, in minimize\n      grads_and_vars = self._compute_gradients(\n    File \"C:\\Users\\91987\\anaconda3\\lib\\site-packages\\keras\\src\\optimizers\\legacy\\optimizer_v2.py\", line 656, in _compute_gradients\n      grads_and_vars = self._get_gradients(\n    File \"C:\\Users\\91987\\anaconda3\\lib\\site-packages\\keras\\src\\optimizers\\legacy\\optimizer_v2.py\", line 532, in _get_gradients\n      grads = tape.gradient(loss, var_list, grad_loss)\nNode: 'gradient_tape/sequential_5/conv1d_3/Conv1D/Conv2DBackpropInput'\nOOM when allocating tensor with shape[34193,1,20] and type float on /job:localhost/replica:0/task:0/device:CPU:0 by allocator cpu\n\t [[{{node gradient_tape/sequential_5/conv1d_3/Conv1D/Conv2DBackpropInput}}]]\nHint: If you want to see a list of allocated tensors when OOM happens, add report_tensor_allocations_upon_oom to RunOptions for current allocation info. This isn't available when running in Eager mode.\n [Op:__inference_train_function_123635809]",
     "output_type": "error",
     "traceback": [
      "\u001b[1;31m---------------------------------------------------------------------------\u001b[0m",
      "\u001b[1;31mResourceExhaustedError\u001b[0m                    Traceback (most recent call last)",
      "File \u001b[1;32m<timed exec>:12\u001b[0m, in \u001b[0;36m<module>\u001b[1;34m\u001b[0m\n",
      "File \u001b[1;32m~\\anaconda3\\lib\\site-packages\\keras\\src\\utils\\traceback_utils.py:70\u001b[0m, in \u001b[0;36mfilter_traceback.<locals>.error_handler\u001b[1;34m(*args, **kwargs)\u001b[0m\n\u001b[0;32m     67\u001b[0m     filtered_tb \u001b[38;5;241m=\u001b[39m _process_traceback_frames(e\u001b[38;5;241m.\u001b[39m__traceback__)\n\u001b[0;32m     68\u001b[0m     \u001b[38;5;66;03m# To get the full stack trace, call:\u001b[39;00m\n\u001b[0;32m     69\u001b[0m     \u001b[38;5;66;03m# `tf.debugging.disable_traceback_filtering()`\u001b[39;00m\n\u001b[1;32m---> 70\u001b[0m     \u001b[38;5;28;01mraise\u001b[39;00m e\u001b[38;5;241m.\u001b[39mwith_traceback(filtered_tb) \u001b[38;5;28;01mfrom\u001b[39;00m \u001b[38;5;28mNone\u001b[39m\n\u001b[0;32m     71\u001b[0m \u001b[38;5;28;01mfinally\u001b[39;00m:\n\u001b[0;32m     72\u001b[0m     \u001b[38;5;28;01mdel\u001b[39;00m filtered_tb\n",
      "File \u001b[1;32m~\\anaconda3\\lib\\site-packages\\tensorflow\\python\\eager\\execute.py:53\u001b[0m, in \u001b[0;36mquick_execute\u001b[1;34m(op_name, num_outputs, inputs, attrs, ctx, name)\u001b[0m\n\u001b[0;32m     51\u001b[0m \u001b[38;5;28;01mtry\u001b[39;00m:\n\u001b[0;32m     52\u001b[0m   ctx\u001b[38;5;241m.\u001b[39mensure_initialized()\n\u001b[1;32m---> 53\u001b[0m   tensors \u001b[38;5;241m=\u001b[39m pywrap_tfe\u001b[38;5;241m.\u001b[39mTFE_Py_Execute(ctx\u001b[38;5;241m.\u001b[39m_handle, device_name, op_name,\n\u001b[0;32m     54\u001b[0m                                       inputs, attrs, num_outputs)\n\u001b[0;32m     55\u001b[0m \u001b[38;5;28;01mexcept\u001b[39;00m core\u001b[38;5;241m.\u001b[39m_NotOkStatusException \u001b[38;5;28;01mas\u001b[39;00m e:\n\u001b[0;32m     56\u001b[0m   \u001b[38;5;28;01mif\u001b[39;00m name \u001b[38;5;129;01mis\u001b[39;00m \u001b[38;5;129;01mnot\u001b[39;00m \u001b[38;5;28;01mNone\u001b[39;00m:\n",
      "\u001b[1;31mResourceExhaustedError\u001b[0m: Graph execution error:\n\nDetected at node 'gradient_tape/sequential_5/conv1d_3/Conv1D/Conv2DBackpropInput' defined at (most recent call last):\n    File \"C:\\Users\\91987\\anaconda3\\lib\\runpy.py\", line 197, in _run_module_as_main\n      return _run_code(code, main_globals, None,\n    File \"C:\\Users\\91987\\anaconda3\\lib\\runpy.py\", line 87, in _run_code\n      exec(code, run_globals)\n    File \"C:\\Users\\91987\\anaconda3\\lib\\site-packages\\ipykernel_launcher.py\", line 16, in <module>\n      app.launch_new_instance()\n    File \"C:\\Users\\91987\\anaconda3\\lib\\site-packages\\traitlets\\config\\application.py\", line 846, in launch_instance\n      app.start()\n    File \"C:\\Users\\91987\\anaconda3\\lib\\site-packages\\ipykernel\\kernelapp.py\", line 677, in start\n      self.io_loop.start()\n    File \"C:\\Users\\91987\\anaconda3\\lib\\site-packages\\tornado\\platform\\asyncio.py\", line 199, in start\n      self.asyncio_loop.run_forever()\n    File \"C:\\Users\\91987\\anaconda3\\lib\\asyncio\\base_events.py\", line 601, in run_forever\n      self._run_once()\n    File \"C:\\Users\\91987\\anaconda3\\lib\\asyncio\\base_events.py\", line 1905, in _run_once\n      handle._run()\n    File \"C:\\Users\\91987\\anaconda3\\lib\\asyncio\\events.py\", line 80, in _run\n      self._context.run(self._callback, *self._args)\n    File \"C:\\Users\\91987\\anaconda3\\lib\\site-packages\\ipykernel\\kernelbase.py\", line 471, in dispatch_queue\n      await self.process_one()\n    File \"C:\\Users\\91987\\anaconda3\\lib\\site-packages\\ipykernel\\kernelbase.py\", line 460, in process_one\n      await dispatch(*args)\n    File \"C:\\Users\\91987\\anaconda3\\lib\\site-packages\\ipykernel\\kernelbase.py\", line 367, in dispatch_shell\n      await result\n    File \"C:\\Users\\91987\\anaconda3\\lib\\site-packages\\ipykernel\\kernelbase.py\", line 662, in execute_request\n      reply_content = await reply_content\n    File \"C:\\Users\\91987\\anaconda3\\lib\\site-packages\\ipykernel\\ipkernel.py\", line 360, in do_execute\n      res = shell.run_cell(code, store_history=store_history, silent=silent)\n    File \"C:\\Users\\91987\\anaconda3\\lib\\site-packages\\ipykernel\\zmqshell.py\", line 532, in run_cell\n      return super().run_cell(*args, **kwargs)\n    File \"C:\\Users\\91987\\anaconda3\\lib\\site-packages\\IPython\\core\\interactiveshell.py\", line 2863, in run_cell\n      result = self._run_cell(\n    File \"C:\\Users\\91987\\anaconda3\\lib\\site-packages\\IPython\\core\\interactiveshell.py\", line 2909, in _run_cell\n      return runner(coro)\n    File \"C:\\Users\\91987\\anaconda3\\lib\\site-packages\\IPython\\core\\async_helpers.py\", line 129, in _pseudo_sync_runner\n      coro.send(None)\n    File \"C:\\Users\\91987\\anaconda3\\lib\\site-packages\\IPython\\core\\interactiveshell.py\", line 3106, in run_cell_async\n      has_raised = await self.run_ast_nodes(code_ast.body, cell_name,\n    File \"C:\\Users\\91987\\anaconda3\\lib\\site-packages\\IPython\\core\\interactiveshell.py\", line 3309, in run_ast_nodes\n      if await self.run_code(code, result, async_=asy):\n    File \"C:\\Users\\91987\\anaconda3\\lib\\site-packages\\IPython\\core\\interactiveshell.py\", line 3369, in run_code\n      exec(code_obj, self.user_global_ns, self.user_ns)\n    File \"C:\\Users\\91987\\AppData\\Local\\Temp\\ipykernel_16904\\3178581190.py\", line 1, in <cell line: 1>\n      get_ipython().run_cell_magic('time', '', \"model_10 = tf.keras.Sequential([tf.keras.layers.Conv1D(10,2,activation='linear',input_shape=(3,1)),\\n                               tf.keras.layers.Conv1D(10,2,activation='linear'),\\n                               tf.keras.layers.Flatten(),\\n                               tf.keras.layers.Dense(20),\\n                               tf.keras.layers.Dense(10),\\n                               tf.keras.layers.Dense(1,activation='linear')])\\n\\nmodel_10.compile(loss = tf.keras.losses.mae,\\n                optimizer = tf.keras.optimizers.legacy.Adam(learning_rate=0.001,decay=0.0001),\\n                metrics=[tf.keras.metrics.RootMeanSquaredError(name='rmse'),'mae','mse','mape'])\\n\\nhistory_10 = model_10.fit(X_train,Y_train,epochs=100,validation_data=(X_test,Y_test),callbacks = callback)\\n\")\n    File \"C:\\Users\\91987\\anaconda3\\lib\\site-packages\\IPython\\core\\interactiveshell.py\", line 2347, in run_cell_magic\n      result = fn(*args, **kwargs)\n    File \"C:\\Users\\91987\\anaconda3\\lib\\site-packages\\IPython\\core\\magics\\execution.py\", line 1316, in time\n      exec(code, glob, local_ns)\n    File \"<timed exec>\", line 12, in <module>\n    File \"C:\\Users\\91987\\anaconda3\\lib\\site-packages\\keras\\src\\utils\\traceback_utils.py\", line 65, in error_handler\n      return fn(*args, **kwargs)\n    File \"C:\\Users\\91987\\anaconda3\\lib\\site-packages\\keras\\src\\engine\\training.py\", line 1742, in fit\n      tmp_logs = self.train_function(iterator)\n    File \"C:\\Users\\91987\\anaconda3\\lib\\site-packages\\keras\\src\\engine\\training.py\", line 1338, in train_function\n      return step_function(self, iterator)\n    File \"C:\\Users\\91987\\anaconda3\\lib\\site-packages\\keras\\src\\engine\\training.py\", line 1322, in step_function\n      outputs = model.distribute_strategy.run(run_step, args=(data,))\n    File \"C:\\Users\\91987\\anaconda3\\lib\\site-packages\\keras\\src\\engine\\training.py\", line 1303, in run_step\n      outputs = model.train_step(data)\n    File \"C:\\Users\\91987\\anaconda3\\lib\\site-packages\\keras\\src\\engine\\training.py\", line 1084, in train_step\n      self.optimizer.minimize(loss, self.trainable_variables, tape=tape)\n    File \"C:\\Users\\91987\\anaconda3\\lib\\site-packages\\keras\\src\\optimizers\\legacy\\optimizer_v2.py\", line 598, in minimize\n      grads_and_vars = self._compute_gradients(\n    File \"C:\\Users\\91987\\anaconda3\\lib\\site-packages\\keras\\src\\optimizers\\legacy\\optimizer_v2.py\", line 656, in _compute_gradients\n      grads_and_vars = self._get_gradients(\n    File \"C:\\Users\\91987\\anaconda3\\lib\\site-packages\\keras\\src\\optimizers\\legacy\\optimizer_v2.py\", line 532, in _get_gradients\n      grads = tape.gradient(loss, var_list, grad_loss)\nNode: 'gradient_tape/sequential_5/conv1d_3/Conv1D/Conv2DBackpropInput'\nOOM when allocating tensor with shape[34193,1,20] and type float on /job:localhost/replica:0/task:0/device:CPU:0 by allocator cpu\n\t [[{{node gradient_tape/sequential_5/conv1d_3/Conv1D/Conv2DBackpropInput}}]]\nHint: If you want to see a list of allocated tensors when OOM happens, add report_tensor_allocations_upon_oom to RunOptions for current allocation info. This isn't available when running in Eager mode.\n [Op:__inference_train_function_123635809]"
     ]
    }
   ],
   "source": [
    "%%time\n",
    "model_10 = tf.keras.Sequential([tf.keras.layers.Conv1D(10,2,activation='linear',input_shape=(3,1)),\n",
    "                               tf.keras.layers.Conv1D(10,2,activation='linear'),\n",
    "                               tf.keras.layers.Flatten(),\n",
    "                               tf.keras.layers.Dense(20),\n",
    "                               tf.keras.layers.Dense(10),\n",
    "                               tf.keras.layers.Dense(1,activation='linear')])\n",
    "\n",
    "model_10.compile(loss = tf.keras.losses.mae,\n",
    "                optimizer = tf.keras.optimizers.legacy.Adam(learning_rate=0.001,decay=0.0001),\n",
    "                metrics=[tf.keras.metrics.RootMeanSquaredError(name='rmse'),'mae','mse','mape'])\n",
    "\n",
    "history_10 = model_10.fit(X_train,Y_train,epochs=100,validation_data=(X_test,Y_test),callbacks = callback)"
   ]
  },
  {
   "cell_type": "code",
   "execution_count": 51,
   "id": "94ff0528",
   "metadata": {},
   "outputs": [
    {
     "ename": "NameError",
     "evalue": "name 'history_10' is not defined",
     "output_type": "error",
     "traceback": [
      "\u001b[1;31m---------------------------------------------------------------------------\u001b[0m",
      "\u001b[1;31mNameError\u001b[0m                                 Traceback (most recent call last)",
      "Input \u001b[1;32mIn [51]\u001b[0m, in \u001b[0;36m<cell line: 1>\u001b[1;34m()\u001b[0m\n\u001b[1;32m----> 1\u001b[0m plot_his(\u001b[43mhistory_10\u001b[49m)\n",
      "\u001b[1;31mNameError\u001b[0m: name 'history_10' is not defined"
     ]
    }
   ],
   "source": [
    "plot_his(history_10)"
   ]
  },
  {
   "cell_type": "code",
   "execution_count": null,
   "id": "000e601c",
   "metadata": {},
   "outputs": [],
   "source": [
    "model_10.evaluate(X_test,Y_test)"
   ]
  },
  {
   "cell_type": "code",
   "execution_count": null,
   "id": "54949271",
   "metadata": {},
   "outputs": [],
   "source": [
    "prediction_10 = model_10.predict(X_test)"
   ]
  },
  {
   "cell_type": "code",
   "execution_count": null,
   "id": "1e2fd607",
   "metadata": {},
   "outputs": [],
   "source": [
    "AIC_value(model_10,prediction_10,Y_test)"
   ]
  },
  {
   "cell_type": "code",
   "execution_count": null,
   "id": "d5c5d30a",
   "metadata": {},
   "outputs": [],
   "source": [
    "model_10.save('Saved_models/model_10_SOEesti.h5')"
   ]
  },
  {
   "cell_type": "code",
   "execution_count": null,
   "id": "5f9a4bb2",
   "metadata": {},
   "outputs": [],
   "source": []
  },
  {
   "cell_type": "code",
   "execution_count": null,
   "id": "8c4696a4",
   "metadata": {},
   "outputs": [],
   "source": []
  },
  {
   "cell_type": "code",
   "execution_count": null,
   "id": "340540a5",
   "metadata": {},
   "outputs": [],
   "source": [
    "%%time\n",
    "model_11 = tf.keras.Sequential([tf.keras.layers.Conv1D(32,2,activation='linear',input_shape=(3,1)),\n",
    "                               tf.keras.layers.Conv1D(32,2,activation='linear'),\n",
    "                               tf.keras.layers.Flatten(),\n",
    "                               tf.keras.layers.Dense(32,activation=\"linear\"),\n",
    "                               tf.keras.layers.Dense(16,activation=\"relu\"),\n",
    "                               tf.keras.layers.Dense(1,activation ='linear')])\n",
    "\n",
    "model_11.compile(loss = tf.keras.losses.mae,\n",
    "                optimizer = tf.keras.optimizers.legacy.Adam(learning_rate=0.0001,decay=0.001),\n",
    "                metrics=[tf.keras.metrics.RootMeanSquaredError(name='rmse'),'mae','mse','mape'])\n",
    "\n",
    "history_11 = model_11.fit(X_train,Y_train,epochs=100,validation_data=(X_test,Y_test),callbacks = callback)"
   ]
  },
  {
   "cell_type": "code",
   "execution_count": null,
   "id": "38d1f2d8",
   "metadata": {},
   "outputs": [],
   "source": [
    "plot_his(history_11)"
   ]
  },
  {
   "cell_type": "code",
   "execution_count": null,
   "id": "b584c203",
   "metadata": {},
   "outputs": [],
   "source": [
    "model_11.evaluate(X_test,Y_test)"
   ]
  },
  {
   "cell_type": "code",
   "execution_count": null,
   "id": "79c90bab",
   "metadata": {},
   "outputs": [],
   "source": [
    "prediction_11 = model_11.predict(X_test)"
   ]
  },
  {
   "cell_type": "code",
   "execution_count": null,
   "id": "9845e930",
   "metadata": {},
   "outputs": [],
   "source": [
    "AIC_value(model_11,prediction_11,Y_test)"
   ]
  },
  {
   "cell_type": "code",
   "execution_count": null,
   "id": "c76d2e29",
   "metadata": {},
   "outputs": [],
   "source": [
    "model_11.save('Saved_models/model_11_SOEesti.h5')"
   ]
  },
  {
   "cell_type": "code",
   "execution_count": null,
   "id": "4a91b158",
   "metadata": {},
   "outputs": [],
   "source": []
  },
  {
   "cell_type": "code",
   "execution_count": null,
   "id": "20b35f26",
   "metadata": {},
   "outputs": [],
   "source": []
  },
  {
   "cell_type": "code",
   "execution_count": null,
   "id": "e5613ea1",
   "metadata": {},
   "outputs": [],
   "source": [
    "%%time\n",
    "model_12 = tf.keras.Sequential([tf.keras.layers.Conv1D(32,2,activation='linear',input_shape=(3,1)),\n",
    "                               tf.keras.layers.Conv1D(8,2,activation='linear'),\n",
    "                               tf.keras.layers.Flatten(),\n",
    "                               tf.keras.layers.Dense(5),\n",
    "                               tf.keras.layers.Dense(1,activation = 'linear')])\n",
    "\n",
    "model_12.compile(loss = tf.keras.losses.mae,\n",
    "                optimizer = tf.keras.optimizers.legacy.Adam(learning_rate=0.001,decay=0.0001),\n",
    "                metrics=[tf.keras.metrics.RootMeanSquaredError(name='rmse'),'mae','mse','mape'])\n",
    "\n",
    "history_12 = model_12.fit(X_train,Y_train,epochs=100,validation_data=(X_test,Y_test),callbacks = callback)"
   ]
  },
  {
   "cell_type": "code",
   "execution_count": null,
   "id": "521aa0c0",
   "metadata": {},
   "outputs": [],
   "source": [
    "plot_his(history_12)"
   ]
  },
  {
   "cell_type": "code",
   "execution_count": null,
   "id": "19553201",
   "metadata": {},
   "outputs": [],
   "source": [
    "model_12.evaluate(X_test,Y_test)"
   ]
  },
  {
   "cell_type": "code",
   "execution_count": null,
   "id": "726e708b",
   "metadata": {},
   "outputs": [],
   "source": [
    "prediction_12 = model_12.predict(X_test)"
   ]
  },
  {
   "cell_type": "code",
   "execution_count": null,
   "id": "493d9128",
   "metadata": {},
   "outputs": [],
   "source": [
    "AIC_value(model_11,prediction_11,Y_test)"
   ]
  },
  {
   "cell_type": "code",
   "execution_count": null,
   "id": "092d154b",
   "metadata": {},
   "outputs": [],
   "source": [
    "model_12.save('Saved_models/model_12_SOEesti.h5')"
   ]
  },
  {
   "cell_type": "code",
   "execution_count": null,
   "id": "31d7d8a6",
   "metadata": {},
   "outputs": [],
   "source": []
  },
  {
   "cell_type": "code",
   "execution_count": null,
   "id": "3e8d676b",
   "metadata": {},
   "outputs": [],
   "source": []
  },
  {
   "cell_type": "code",
   "execution_count": null,
   "id": "1d25b6b4",
   "metadata": {},
   "outputs": [],
   "source": []
  },
  {
   "cell_type": "code",
   "execution_count": null,
   "id": "22b591f8",
   "metadata": {},
   "outputs": [],
   "source": []
  },
  {
   "cell_type": "code",
   "execution_count": null,
   "id": "147ba444",
   "metadata": {},
   "outputs": [],
   "source": []
  },
  {
   "cell_type": "code",
   "execution_count": null,
   "id": "a287a86b",
   "metadata": {},
   "outputs": [],
   "source": []
  },
  {
   "cell_type": "code",
   "execution_count": null,
   "id": "9e04163c",
   "metadata": {},
   "outputs": [],
   "source": []
  }
 ],
 "metadata": {
  "kernelspec": {
   "display_name": "Python 3 (ipykernel)",
   "language": "python",
   "name": "python3"
  },
  "language_info": {
   "codemirror_mode": {
    "name": "ipython",
    "version": 3
   },
   "file_extension": ".py",
   "mimetype": "text/x-python",
   "name": "python",
   "nbconvert_exporter": "python",
   "pygments_lexer": "ipython3",
   "version": "3.9.12"
  }
 },
 "nbformat": 4,
 "nbformat_minor": 5
}
